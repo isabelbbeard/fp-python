{
 "cells": [
  {
   "cell_type": "code",
   "execution_count": 57,
   "metadata": {},
   "outputs": [],
   "source": [
    "import pandas as pd\n",
    "from RBO import *\n",
    "import numpy as np"
   ]
  },
  {
   "cell_type": "code",
   "execution_count": 58,
   "metadata": {},
   "outputs": [],
   "source": [
    "df = pd.read_csv('data_sim/recommender_products.csv', encoding = \"ISO-8859-1\", index_col=0)"
   ]
  },
  {
   "cell_type": "code",
   "execution_count": 59,
   "metadata": {},
   "outputs": [
    {
     "data": {
      "text/html": [
       "<div>\n",
       "<table border=\"1\" class=\"dataframe\">\n",
       "  <thead>\n",
       "    <tr style=\"text-align: right;\">\n",
       "      <th></th>\n",
       "      <th>id</th>\n",
       "      <th>ingList</th>\n",
       "      <th>ing#List</th>\n",
       "      <th>product</th>\n",
       "      <th>brand</th>\n",
       "      <th>price</th>\n",
       "      <th>rating</th>\n",
       "      <th>ratingsCount</th>\n",
       "      <th>cat_Acne&amp;BlemishTreatments</th>\n",
       "      <th>cat_Ampoules</th>\n",
       "      <th>...</th>\n",
       "      <th>note_Anti-Aging</th>\n",
       "      <th>note_Brightening</th>\n",
       "      <th>note_ContainsAlcohol</th>\n",
       "      <th>note_ContainsParaben</th>\n",
       "      <th>note_ContainsSulfate</th>\n",
       "      <th>note_ParabenFree</th>\n",
       "      <th>note_PromotesWoundHealing</th>\n",
       "      <th>note_SulfateFree</th>\n",
       "      <th>note_UVProtection</th>\n",
       "      <th>ingCount</th>\n",
       "    </tr>\n",
       "  </thead>\n",
       "  <tbody>\n",
       "    <tr>\n",
       "      <th>0</th>\n",
       "      <td>0</td>\n",
       "      <td>['Water', 'Hydrogenated Polyisobutene', 'Butyl...</td>\n",
       "      <td>[0, 1, 2, 3, 4, 5, 6, 7, 8, 9, 10, 11, 12, 13,...</td>\n",
       "      <td>Naturally Gentle Eye Makeup Remover</td>\n",
       "      <td>Clinique</td>\n",
       "      <td>20.00</td>\n",
       "      <td>5.0</td>\n",
       "      <td>16</td>\n",
       "      <td>0</td>\n",
       "      <td>0</td>\n",
       "      <td>...</td>\n",
       "      <td>0</td>\n",
       "      <td>0</td>\n",
       "      <td>0</td>\n",
       "      <td>1</td>\n",
       "      <td>0</td>\n",
       "      <td>0</td>\n",
       "      <td>0</td>\n",
       "      <td>1</td>\n",
       "      <td>0</td>\n",
       "      <td>22</td>\n",
       "    </tr>\n",
       "    <tr>\n",
       "      <th>1</th>\n",
       "      <td>2</td>\n",
       "      <td>['Water', 'Glycerin', 'Cetearyl Alcohol', 'Pet...</td>\n",
       "      <td>[0, 23, 46, 47, 48, 49, 50, 51, 52, 53, 54, 55...</td>\n",
       "      <td>Foot Cream Norwegian Formula</td>\n",
       "      <td>Neutrogena</td>\n",
       "      <td>23.82</td>\n",
       "      <td>4.9</td>\n",
       "      <td>84</td>\n",
       "      <td>0</td>\n",
       "      <td>0</td>\n",
       "      <td>...</td>\n",
       "      <td>0</td>\n",
       "      <td>1</td>\n",
       "      <td>0</td>\n",
       "      <td>1</td>\n",
       "      <td>0</td>\n",
       "      <td>0</td>\n",
       "      <td>1</td>\n",
       "      <td>1</td>\n",
       "      <td>0</td>\n",
       "      <td>20</td>\n",
       "    </tr>\n",
       "    <tr>\n",
       "      <th>2</th>\n",
       "      <td>3</td>\n",
       "      <td>['Water', 'Glycereth-26', 'Alcohol', 'Butylene...</td>\n",
       "      <td>[0, 62, 63, 2, 64, 65, 66, 67, 68, 69, 70, 71,...</td>\n",
       "      <td>Essential Power Skin Refiner_Moisture</td>\n",
       "      <td>Laneige</td>\n",
       "      <td>28.20</td>\n",
       "      <td>5.0</td>\n",
       "      <td>12</td>\n",
       "      <td>0</td>\n",
       "      <td>0</td>\n",
       "      <td>...</td>\n",
       "      <td>0</td>\n",
       "      <td>1</td>\n",
       "      <td>1</td>\n",
       "      <td>0</td>\n",
       "      <td>0</td>\n",
       "      <td>1</td>\n",
       "      <td>1</td>\n",
       "      <td>1</td>\n",
       "      <td>0</td>\n",
       "      <td>38</td>\n",
       "    </tr>\n",
       "  </tbody>\n",
       "</table>\n",
       "<p>3 rows × 47 columns</p>\n",
       "</div>"
      ],
      "text/plain": [
       "   id                                            ingList  \\\n",
       "0   0  ['Water', 'Hydrogenated Polyisobutene', 'Butyl...   \n",
       "1   2  ['Water', 'Glycerin', 'Cetearyl Alcohol', 'Pet...   \n",
       "2   3  ['Water', 'Glycereth-26', 'Alcohol', 'Butylene...   \n",
       "\n",
       "                                            ing#List  \\\n",
       "0  [0, 1, 2, 3, 4, 5, 6, 7, 8, 9, 10, 11, 12, 13,...   \n",
       "1  [0, 23, 46, 47, 48, 49, 50, 51, 52, 53, 54, 55...   \n",
       "2  [0, 62, 63, 2, 64, 65, 66, 67, 68, 69, 70, 71,...   \n",
       "\n",
       "                                 product       brand  price  rating  \\\n",
       "0    Naturally Gentle Eye Makeup Remover    Clinique  20.00     5.0   \n",
       "1           Foot Cream Norwegian Formula  Neutrogena  23.82     4.9   \n",
       "2  Essential Power Skin Refiner_Moisture     Laneige  28.20     5.0   \n",
       "\n",
       "   ratingsCount  cat_Acne&BlemishTreatments  cat_Ampoules    ...     \\\n",
       "0            16                           0             0    ...      \n",
       "1            84                           0             0    ...      \n",
       "2            12                           0             0    ...      \n",
       "\n",
       "   note_Anti-Aging  note_Brightening  note_ContainsAlcohol  \\\n",
       "0                0                 0                     0   \n",
       "1                0                 1                     0   \n",
       "2                0                 1                     1   \n",
       "\n",
       "   note_ContainsParaben  note_ContainsSulfate  note_ParabenFree  \\\n",
       "0                     1                     0                 0   \n",
       "1                     1                     0                 0   \n",
       "2                     0                     0                 1   \n",
       "\n",
       "   note_PromotesWoundHealing  note_SulfateFree  note_UVProtection  ingCount  \n",
       "0                          0                 1                  0        22  \n",
       "1                          1                 1                  0        20  \n",
       "2                          1                 1                  0        38  \n",
       "\n",
       "[3 rows x 47 columns]"
      ]
     },
     "execution_count": 59,
     "metadata": {},
     "output_type": "execute_result"
    }
   ],
   "source": [
    "##trim so we can more quickly see what's happening\n",
    "df = df.head(1000)\n",
    "df.head(3)"
   ]
  },
  {
   "cell_type": "code",
   "execution_count": null,
   "metadata": {},
   "outputs": [],
   "source": [
    "%%time\n",
    "## Takes 19 sec for all\n",
    "#Define a TF-IDF Vectorizer Object\n",
    "tfidf = TfidfVectorizer(stop_words=[0])\n",
    "\n",
    "#Construct the required TF-IDF matrix by fitting and transforming the data\n",
    "tfidf_matrix = tfidf.fit_transform(products_and_ingredients['ing#List'])\n",
    "\n",
    "## Use tfidf to caluclate cosine similarity\n",
    "cosine_sim = linear_kernel(tfidf_matrix, tfidf_matrix)\n",
    "cosine_sim.shape"
   ]
  },
  {
   "cell_type": "code",
   "execution_count": 112,
   "metadata": {},
   "outputs": [
    {
     "data": {
      "text/html": [
       "<div>\n",
       "<table border=\"1\" class=\"dataframe\">\n",
       "  <thead>\n",
       "    <tr style=\"text-align: right;\">\n",
       "      <th></th>\n",
       "      <th>product</th>\n",
       "      <th>ingList</th>\n",
       "    </tr>\n",
       "  </thead>\n",
       "  <tbody>\n",
       "    <tr>\n",
       "      <th>891</th>\n",
       "      <td>CLINICAL Ultra-Rich Moisturizer</td>\n",
       "      <td>['Water', 'Butyrospermum Parkii (Shea) Butter'...</td>\n",
       "    </tr>\n",
       "    <tr>\n",
       "      <th>285</th>\n",
       "      <td>Neutrogena Visibly Clear 2 in 1 Wash and Mask</td>\n",
       "      <td>['Water', 'Glycerin', 'Kaolin', 'Bentonite', '...</td>\n",
       "    </tr>\n",
       "    <tr>\n",
       "      <th>246</th>\n",
       "      <td>Liquid Facial Cleansing Formula, Fragrance-Free</td>\n",
       "      <td>['Water', 'Glycerin', 'Oleic Acid(Emollient, F...</td>\n",
       "    </tr>\n",
       "    <tr>\n",
       "      <th>453</th>\n",
       "      <td>Moisturizing Cream Mask</td>\n",
       "      <td>['Water', 'Glycerin', 'Isononyl Isononanoate',...</td>\n",
       "    </tr>\n",
       "    <tr>\n",
       "      <th>382</th>\n",
       "      <td>Antiredness Soothing Care</td>\n",
       "      <td>['Water', 'Glycerin', 'Panthenol', 'PEG-50 She...</td>\n",
       "    </tr>\n",
       "    <tr>\n",
       "      <th>452</th>\n",
       "      <td>Atoderm Nutritive Cream</td>\n",
       "      <td>['Water', 'Glycerin', 'Huile Minerale', 'Butyr...</td>\n",
       "    </tr>\n",
       "    <tr>\n",
       "      <th>572</th>\n",
       "      <td>Regenerist Micro-Sculpting Cream Moisturizer S...</td>\n",
       "      <td>['Water', 'Glycerin', 'Niacinamide', 'Tapioca ...</td>\n",
       "    </tr>\n",
       "    <tr>\n",
       "      <th>701</th>\n",
       "      <td>Peach Sake Toner</td>\n",
       "      <td>['Water', 'Alcohol', 'Butylene Glycol', 'Hexyl...</td>\n",
       "    </tr>\n",
       "    <tr>\n",
       "      <th>855</th>\n",
       "      <td>Dramatically Different Moisturizing Lotion+ wi...</td>\n",
       "      <td>['Water', 'Mineral Oil', 'Glycerin', 'Petrolat...</td>\n",
       "    </tr>\n",
       "    <tr>\n",
       "      <th>579</th>\n",
       "      <td>Canada Fresh Foaming Cleanser</td>\n",
       "      <td>['Water', 'Glycerin', 'Lauryl Glucoside', 'Dec...</td>\n",
       "    </tr>\n",
       "  </tbody>\n",
       "</table>\n",
       "</div>"
      ],
      "text/plain": [
       "                                               product  \\\n",
       "891                    CLINICAL Ultra-Rich Moisturizer   \n",
       "285      Neutrogena Visibly Clear 2 in 1 Wash and Mask   \n",
       "246    Liquid Facial Cleansing Formula, Fragrance-Free   \n",
       "453                            Moisturizing Cream Mask   \n",
       "382                          Antiredness Soothing Care   \n",
       "452                            Atoderm Nutritive Cream   \n",
       "572  Regenerist Micro-Sculpting Cream Moisturizer S...   \n",
       "701                                   Peach Sake Toner   \n",
       "855  Dramatically Different Moisturizing Lotion+ wi...   \n",
       "579                      Canada Fresh Foaming Cleanser   \n",
       "\n",
       "                                               ingList  \n",
       "891  ['Water', 'Butyrospermum Parkii (Shea) Butter'...  \n",
       "285  ['Water', 'Glycerin', 'Kaolin', 'Bentonite', '...  \n",
       "246  ['Water', 'Glycerin', 'Oleic Acid(Emollient, F...  \n",
       "453  ['Water', 'Glycerin', 'Isononyl Isononanoate',...  \n",
       "382  ['Water', 'Glycerin', 'Panthenol', 'PEG-50 She...  \n",
       "452  ['Water', 'Glycerin', 'Huile Minerale', 'Butyr...  \n",
       "572  ['Water', 'Glycerin', 'Niacinamide', 'Tapioca ...  \n",
       "701  ['Water', 'Alcohol', 'Butylene Glycol', 'Hexyl...  \n",
       "855  ['Water', 'Mineral Oil', 'Glycerin', 'Petrolat...  \n",
       "579  ['Water', 'Glycerin', 'Lauryl Glucoside', 'Dec...  "
      ]
     },
     "execution_count": 112,
     "metadata": {},
     "output_type": "execute_result"
    }
   ],
   "source": [
    "sim_measure = average_overlap\n",
    "get_recommendations(df,'Foot Cream Norwegian Formula', sim_measure)"
   ]
  },
  {
   "cell_type": "code",
   "execution_count": 111,
   "metadata": {},
   "outputs": [],
   "source": [
    "def get_recommendations(df, product, sim_measure):\n",
    "    indices = pd.Series(df.index, index=df['product']).drop_duplicates()\n",
    "    idx = indices[product]\n",
    "\n",
    "    itemLookup = df.iloc[idx]['ing#List']\n",
    "    items = df['ing#List']\n",
    "    sim = [average_overlap(itemLookup,i) for i in items] ##change method here\n",
    "\n",
    "    sim_scores = list(enumerate(sim))\n",
    "\n",
    "    # Sort the products based on the similarity scores\n",
    "    sim_scores = sorted(sim_scores, key=lambda x: x[1], reverse=True)\n",
    "\n",
    "    # Get the scores of the 10 most similar products\n",
    "    sim_scores = sim_scores[1:11]\n",
    "\n",
    "    # Get the product indices\n",
    "    product_indices = [i[0] for i in sim_scores]\n",
    "\n",
    "    return(df[['product', 'ingList']].iloc[product_indices])"
   ]
  },
  {
   "cell_type": "code",
   "execution_count": 94,
   "metadata": {},
   "outputs": [
    {
     "data": {
      "text/plain": [
       "0.7713598632594629"
      ]
     },
     "execution_count": 94,
     "metadata": {},
     "output_type": "execute_result"
    }
   ],
   "source": [
    "average_overlap(itemLookup, itemLookup2)"
   ]
  },
  {
   "cell_type": "code",
   "execution_count": 95,
   "metadata": {},
   "outputs": [
    {
     "data": {
      "text/plain": [
       "[(236, 0.45666666666666667),\n",
       " (405, 0.45666666666666667),\n",
       " (900, 0.45666666666666667),\n",
       " (880, 0.3346505346505346),\n",
       " (174, 0.33190476190476187),\n",
       " (829, 0.3290538437597261),\n",
       " (866, 0.32587869930580926),\n",
       " (653, 0.3192099279494237),\n",
       " (826, 0.31854716583576453),\n",
       " (637, 0.3165461406534288)]"
      ]
     },
     "execution_count": 95,
     "metadata": {},
     "output_type": "execute_result"
    }
   ],
   "source": [
    "sim_scores"
   ]
  },
  {
   "cell_type": "code",
   "execution_count": 86,
   "metadata": {},
   "outputs": [
    {
     "name": "stdout",
     "output_type": "stream",
     "text": [
      "Wall time: 10.7 s\n"
     ]
    }
   ],
   "source": [
    "%%time\n",
    "\n",
    "indices = pd.Series(df.index, index=df['product']).drop_duplicates()\n",
    "idx = indices['Foot Cream Norwegian Formula']\n",
    "\n",
    "itemLookup = df.iloc[idx]['ing#List']\n",
    "items = df['ing#List']\n",
    "sim = [average_overlap(item,i) for i in items] ##change method here\n",
    "#sim_scores = np.asarray(AO)"
   ]
  },
  {
   "cell_type": "code",
   "execution_count": 78,
   "metadata": {},
   "outputs": [
    {
     "data": {
      "text/plain": [
       "[0.070169364581036453,\n",
       " 0.070164991723711351,\n",
       " 0.070130384950724572,\n",
       " 0.069965360026651893,\n",
       " 0.069899410046423943]"
      ]
     },
     "execution_count": 78,
     "metadata": {},
     "output_type": "execute_result"
    }
   ],
   "source": [
    "sim_scores = sorted(sim_scores, key=lambda x: x, reverse=True)\n",
    "sim_scores = sim_scores[1:11]\n",
    "#>>> sorted(student_tuples, key=itemgetter(2), reverse=True)\n",
    "product_indices = [i for i in sim_scores]\n",
    "product_indices"
   ]
  },
  {
   "cell_type": "code",
   "execution_count": 63,
   "metadata": {},
   "outputs": [],
   "source": [
    "\n",
    "# Sort the products based on the similarity scores\n",
    "sim_scores = sorted(sim_scores, key=lambda x: x[1], reverse=True)\n",
    "\n",
    "# Get the scores of the 10 most similar products\n",
    "sim_scores = sim_scores[1:11]"
   ]
  },
  {
   "cell_type": "code",
   "execution_count": null,
   "metadata": {},
   "outputs": [],
   "source": [
    "sim_scores = list(enumerate(df[idx]))"
   ]
  },
  {
   "cell_type": "code",
   "execution_count": null,
   "metadata": {},
   "outputs": [],
   "source": []
  },
  {
   "cell_type": "code",
   "execution_count": 29,
   "metadata": {},
   "outputs": [
    {
     "name": "stdout",
     "output_type": "stream",
     "text": [
      "Wall time: 6.64 s\n"
     ]
    }
   ],
   "source": [
    "%%time\n",
    "\n",
    "item = list1\n",
    "items = df['ing#List']\n",
    "AO = [average_overlap(item,i) for i in items]\n",
    "AO_sim = np.asarray(AO)\n",
    "\n",
    "\n",
    "indices = pd.Series(df.index, index=df['product']).drop_duplicates()\n",
    "idx = indices[product]\n",
    "\n",
    "# Sort the products based on the similarity scores\n",
    "sim_scores = sorted(AO_sim, key=lambda x: x[1], reverse=True)\n",
    "\n",
    "# Get the scores of the 10 most similar products\n",
    "sim_scores = sim_scores[1:11]\n",
    "\n",
    "# Get the product indices\n",
    "product_indices = [i[0] for i in AO_sim]\n",
    "\n",
    "# Return the top 10 most similar products and their ingredients\n",
    "return df[['product', 'ingList']].iloc[product_indices]"
   ]
  },
  {
   "cell_type": "code",
   "execution_count": 31,
   "metadata": {},
   "outputs": [
    {
     "ename": "TypeError",
     "evalue": "'numpy.float64' object is not iterable",
     "output_type": "error",
     "traceback": [
      "\u001b[0;31m---------------------------------------------------------------------------\u001b[0m",
      "\u001b[0;31mTypeError\u001b[0m                                 Traceback (most recent call last)",
      "\u001b[0;32m<ipython-input-31-4ab771c9bfd1>\u001b[0m in \u001b[0;36m<module>\u001b[0;34m()\u001b[0m\n\u001b[1;32m      1\u001b[0m \u001b[0msim_score\u001b[0m \u001b[1;33m=\u001b[0m \u001b[0mAO_sim\u001b[0m\u001b[1;33m\u001b[0m\u001b[0m\n\u001b[0;32m----> 2\u001b[0;31m \u001b[0mget_recommendations\u001b[0m\u001b[1;33m(\u001b[0m\u001b[0mdf\u001b[0m\u001b[1;33m,\u001b[0m\u001b[1;34m'Foot Cream Norwegian Formula'\u001b[0m\u001b[1;33m,\u001b[0m \u001b[0msim_score\u001b[0m\u001b[1;33m)\u001b[0m\u001b[1;33m\u001b[0m\u001b[0m\n\u001b[0m",
      "\u001b[0;32m<ipython-input-28-5fcf6bd02275>\u001b[0m in \u001b[0;36mget_recommendations\u001b[0;34m(df, product, sim_matrix, column)\u001b[0m\n\u001b[1;32m      8\u001b[0m \u001b[1;33m\u001b[0m\u001b[0m\n\u001b[1;32m      9\u001b[0m     \u001b[1;31m# Get the pairwsie similarity scores of all products with that product\u001b[0m\u001b[1;33m\u001b[0m\u001b[1;33m\u001b[0m\u001b[0m\n\u001b[0;32m---> 10\u001b[0;31m     \u001b[0msim_scores\u001b[0m \u001b[1;33m=\u001b[0m \u001b[0mlist\u001b[0m\u001b[1;33m(\u001b[0m\u001b[0menumerate\u001b[0m\u001b[1;33m(\u001b[0m\u001b[0msim_matrix\u001b[0m\u001b[1;33m[\u001b[0m\u001b[0midx\u001b[0m\u001b[1;33m]\u001b[0m\u001b[1;33m)\u001b[0m\u001b[1;33m)\u001b[0m\u001b[1;33m\u001b[0m\u001b[0m\n\u001b[0m\u001b[1;32m     11\u001b[0m \u001b[1;33m\u001b[0m\u001b[0m\n\u001b[1;32m     12\u001b[0m     \u001b[1;31m# Sort the products based on the similarity scores\u001b[0m\u001b[1;33m\u001b[0m\u001b[1;33m\u001b[0m\u001b[0m\n",
      "\u001b[0;31mTypeError\u001b[0m: 'numpy.float64' object is not iterable"
     ]
    }
   ],
   "source": [
    "sim_score = AO_sim\n",
    "get_recommendations(df,'Foot Cream Norwegian Formula', sim_score)"
   ]
  },
  {
   "cell_type": "code",
   "execution_count": null,
   "metadata": {},
   "outputs": [],
   "source": []
  }
 ],
 "metadata": {
  "kernelspec": {
   "display_name": "Python 3",
   "language": "python",
   "name": "python3"
  },
  "language_info": {
   "codemirror_mode": {
    "name": "ipython",
    "version": 3
   },
   "file_extension": ".py",
   "mimetype": "text/x-python",
   "name": "python",
   "nbconvert_exporter": "python",
   "pygments_lexer": "ipython3",
   "version": "3.6.0"
  }
 },
 "nbformat": 4,
 "nbformat_minor": 2
}
