{
 "cells": [
  {
   "cell_type": "code",
   "execution_count": 91,
   "metadata": {},
   "outputs": [],
   "source": [
    "import pandas as pd\n",
    "import numpy as np\n",
    "\n",
    "from RBO import *\n",
    "from getRecommendations import *\n",
    "from dataPrep import *"
   ]
  },
  {
   "cell_type": "markdown",
   "metadata": {},
   "source": [
    "# Read csvs"
   ]
  },
  {
   "cell_type": "markdown",
   "metadata": {},
   "source": [
    "These are the csv's we cleaned up and combined in step 01. "
   ]
  },
  {
   "cell_type": "code",
   "execution_count": 92,
   "metadata": {},
   "outputs": [
    {
     "name": "stdout",
     "output_type": "stream",
     "text": [
      "Number of products:  15945\n",
      "Number of unique ingredients:  6899\n",
      "Number of total ingredients:  446618\n"
     ]
    }
   ],
   "source": [
    "ings = pd.read_csv('data/ings.csv', encoding = \"ISO-8859-1\", index_col=0)\n",
    "#prods = prods.drop_duplicates(subset = 'product')\n",
    "prods = pd.read_csv('data/prods.csv', encoding = \"ISO-8859-1\", index_col=0)\n",
    "#prods = prods.drop_duplicates(subset = 'product')\n",
    "prod_ing = pd.read_csv('data/prod_ing.csv', encoding = \"ISO-8859-1\", index_col=0)\n",
    "prod_ing = prod_ing.drop(['diff'], axis = 1)\n",
    "#prod_ing = prod_ing.sort_values(['id', 'order'])\n",
    "\n",
    "print('Number of products: ', len(prods))\n",
    "print('Number of unique ingredients: ', len(ings))\n",
    "print('Number of total ingredients: ', len(prod_ing))"
   ]
  },
  {
   "cell_type": "code",
   "execution_count": 93,
   "metadata": {},
   "outputs": [],
   "source": [
    "df = dataPrep(ings, prods, prod_ing)\n",
    "#df.to_csv('recommendations/recommender_products.csv')"
   ]
  },
  {
   "cell_type": "code",
   "execution_count": 94,
   "metadata": {},
   "outputs": [
    {
     "name": "stdout",
     "output_type": "stream",
     "text": [
      "Number of products:  15848\n"
     ]
    }
   ],
   "source": [
    "df = df[df['ingCount'] > 2]  \n",
    "df_cos = df\n",
    "print('Number of products: ', len(df))"
   ]
  },
  {
   "cell_type": "code",
   "execution_count": 95,
   "metadata": {},
   "outputs": [],
   "source": [
    "def remove_values_from_list(the_list, val):\n",
    "   return [value for value in the_list if value != val]\n",
    "\n",
    "#remove water\n",
    "df['ing#List'] = [remove_values_from_list(i,0) for i in df['ing#List']]"
   ]
  },
  {
   "cell_type": "code",
   "execution_count": 96,
   "metadata": {},
   "outputs": [
    {
     "data": {
      "text/html": [
       "<div>\n",
       "<table border=\"1\" class=\"dataframe\">\n",
       "  <thead>\n",
       "    <tr style=\"text-align: right;\">\n",
       "      <th></th>\n",
       "      <th>ingList</th>\n",
       "      <th>ing#List</th>\n",
       "      <th>product</th>\n",
       "      <th>brand</th>\n",
       "      <th>price</th>\n",
       "      <th>rating</th>\n",
       "      <th>ratingsCount</th>\n",
       "      <th>cat_Acne&amp;BlemishTreatments</th>\n",
       "      <th>cat_Ampoules</th>\n",
       "      <th>cat_BodySkincare</th>\n",
       "      <th>...</th>\n",
       "      <th>note_Brightening</th>\n",
       "      <th>note_ContainsAlcohol</th>\n",
       "      <th>note_ContainsParaben</th>\n",
       "      <th>note_ContainsSulfate</th>\n",
       "      <th>note_ParabenFree</th>\n",
       "      <th>note_PromotesWoundHealing</th>\n",
       "      <th>note_SulfateFree</th>\n",
       "      <th>note_UVProtection</th>\n",
       "      <th>ingCount</th>\n",
       "      <th>id2</th>\n",
       "    </tr>\n",
       "  </thead>\n",
       "  <tbody>\n",
       "    <tr>\n",
       "      <th>13316</th>\n",
       "      <td>[Water, Propylene Glycol, nan]</td>\n",
       "      <td>[120, 4954]</td>\n",
       "      <td>Replenishing Cream</td>\n",
       "      <td>Dr. Sebagh</td>\n",
       "      <td>NaN</td>\n",
       "      <td>0.0</td>\n",
       "      <td>0</td>\n",
       "      <td>0</td>\n",
       "      <td>0</td>\n",
       "      <td>0</td>\n",
       "      <td>...</td>\n",
       "      <td>0</td>\n",
       "      <td>0</td>\n",
       "      <td>1</td>\n",
       "      <td>0</td>\n",
       "      <td>0</td>\n",
       "      <td>0</td>\n",
       "      <td>1</td>\n",
       "      <td>0</td>\n",
       "      <td>3</td>\n",
       "      <td>16271</td>\n",
       "    </tr>\n",
       "    <tr>\n",
       "      <th>5634</th>\n",
       "      <td>[Rosa Canina (Rosehip) Seed Oil, Mentha Piperi...</td>\n",
       "      <td>[1968, 1561, 3648]</td>\n",
       "      <td>Lip Balm Trio</td>\n",
       "      <td>Rosebud Perfume Co.</td>\n",
       "      <td>NaN</td>\n",
       "      <td>0.0</td>\n",
       "      <td>0</td>\n",
       "      <td>0</td>\n",
       "      <td>0</td>\n",
       "      <td>0</td>\n",
       "      <td>...</td>\n",
       "      <td>0</td>\n",
       "      <td>0</td>\n",
       "      <td>0</td>\n",
       "      <td>0</td>\n",
       "      <td>1</td>\n",
       "      <td>1</td>\n",
       "      <td>1</td>\n",
       "      <td>0</td>\n",
       "      <td>3</td>\n",
       "      <td>6308</td>\n",
       "    </tr>\n",
       "    <tr>\n",
       "      <th>7430</th>\n",
       "      <td>[Petrolatum, Aloe Barbadensis Leaf Extract, Fl...</td>\n",
       "      <td>[24, 317, 793]</td>\n",
       "      <td>Lip Moisturizer Tin Aloe</td>\n",
       "      <td>Vaseline</td>\n",
       "      <td>NaN</td>\n",
       "      <td>0.0</td>\n",
       "      <td>0</td>\n",
       "      <td>0</td>\n",
       "      <td>0</td>\n",
       "      <td>0</td>\n",
       "      <td>...</td>\n",
       "      <td>0</td>\n",
       "      <td>0</td>\n",
       "      <td>0</td>\n",
       "      <td>0</td>\n",
       "      <td>1</td>\n",
       "      <td>0</td>\n",
       "      <td>1</td>\n",
       "      <td>0</td>\n",
       "      <td>3</td>\n",
       "      <td>8381</td>\n",
       "    </tr>\n",
       "  </tbody>\n",
       "</table>\n",
       "<p>3 rows × 47 columns</p>\n",
       "</div>"
      ],
      "text/plain": [
       "                                                 ingList            ing#List  \\\n",
       "13316                     [Water, Propylene Glycol, nan]         [120, 4954]   \n",
       "5634   [Rosa Canina (Rosehip) Seed Oil, Mentha Piperi...  [1968, 1561, 3648]   \n",
       "7430   [Petrolatum, Aloe Barbadensis Leaf Extract, Fl...      [24, 317, 793]   \n",
       "\n",
       "                        product                brand  price  rating  \\\n",
       "13316        Replenishing Cream           Dr. Sebagh    NaN     0.0   \n",
       "5634              Lip Balm Trio  Rosebud Perfume Co.    NaN     0.0   \n",
       "7430   Lip Moisturizer Tin Aloe             Vaseline    NaN     0.0   \n",
       "\n",
       "       ratingsCount  cat_Acne&BlemishTreatments  cat_Ampoules  \\\n",
       "13316             0                           0             0   \n",
       "5634              0                           0             0   \n",
       "7430              0                           0             0   \n",
       "\n",
       "       cat_BodySkincare  ...    note_Brightening  note_ContainsAlcohol  \\\n",
       "13316                 0  ...                   0                     0   \n",
       "5634                  0  ...                   0                     0   \n",
       "7430                  0  ...                   0                     0   \n",
       "\n",
       "       note_ContainsParaben  note_ContainsSulfate  note_ParabenFree  \\\n",
       "13316                     1                     0                 0   \n",
       "5634                      0                     0                 1   \n",
       "7430                      0                     0                 1   \n",
       "\n",
       "       note_PromotesWoundHealing  note_SulfateFree  note_UVProtection  \\\n",
       "13316                          0                 1                  0   \n",
       "5634                           1                 1                  0   \n",
       "7430                           0                 1                  0   \n",
       "\n",
       "       ingCount    id2  \n",
       "13316         3  16271  \n",
       "5634          3   6308  \n",
       "7430          3   8381  \n",
       "\n",
       "[3 rows x 47 columns]"
      ]
     },
     "execution_count": 96,
     "metadata": {},
     "output_type": "execute_result"
    }
   ],
   "source": [
    "df.sort_values(by='ingCount', ascending=True).head(3)"
   ]
  },
  {
   "cell_type": "markdown",
   "metadata": {},
   "source": [
    "# GET RECOMMENDATIONS\n"
   ]
  },
  {
   "cell_type": "code",
   "execution_count": 97,
   "metadata": {},
   "outputs": [
    {
     "name": "stdout",
     "output_type": "stream",
     "text": [
      "['Water', 'Ethoxydiglycol', 'Ascorbic Acid (Vitamin C', 'Propylene Glycol', 'Glycerin', 'Laureth-23', 'Tocopherol (Vitamin E', 'Phenoxyethanol', 'Triethanolamine', 'Ferulic Acid', 'Panthenol', 'Sodium Hyaluronate']\n"
     ]
    }
   ],
   "source": [
    "#id: 1961\n",
    "product ='C E Ferulic Serum'\n",
    "ingTest = df[df['product'].str.match(product)]\n",
    "ingTest = ingTest['ingList']\n",
    "print(*ingTest, sep='\\n')"
   ]
  },
  {
   "cell_type": "markdown",
   "metadata": {},
   "source": [
    "## Cosine similarity"
   ]
  },
  {
   "cell_type": "markdown",
   "metadata": {},
   "source": [
    "Reference [here](https://www.datacamp.com/community/tutorials/recommender-systems-python)"
   ]
  },
  {
   "cell_type": "code",
   "execution_count": 100,
   "metadata": {},
   "outputs": [
    {
     "name": "stdout",
     "output_type": "stream",
     "text": [
      "Wall time: 17.1 s\n"
     ]
    }
   ],
   "source": [
    "%%time\n",
    "\n",
    "recommended = get_COS_recommendations(df_cos,product)\n",
    "topTen = pd.DataFrame(recommended)\n",
    "commonItems(product, topTen, df_cos)\n",
    "recommended.to_csv('recommendations/COS.csv')"
   ]
  },
  {
   "cell_type": "code",
   "execution_count": 101,
   "metadata": {},
   "outputs": [
    {
     "data": {
      "text/html": [
       "<div>\n",
       "<table border=\"1\" class=\"dataframe\">\n",
       "  <thead>\n",
       "    <tr style=\"text-align: right;\">\n",
       "      <th></th>\n",
       "      <th>product</th>\n",
       "      <th>ingList</th>\n",
       "      <th>commonIng</th>\n",
       "    </tr>\n",
       "  </thead>\n",
       "  <tbody>\n",
       "    <tr>\n",
       "      <th>4437</th>\n",
       "      <td>Eau Fraiche Douceur</td>\n",
       "      <td>[Water, Hexylene Glycol, Glycerin, Poloxamer 1...</td>\n",
       "      <td>3</td>\n",
       "    </tr>\n",
       "    <tr>\n",
       "      <th>10285</th>\n",
       "      <td>Eau Frache Douceur Micellar Cleansing Water Fa...</td>\n",
       "      <td>[Water, Hexylene Glycol, Glycerin, Poloxamer 1...</td>\n",
       "      <td>3</td>\n",
       "    </tr>\n",
       "    <tr>\n",
       "      <th>744</th>\n",
       "      <td>Micellar Water Cleansing Solution</td>\n",
       "      <td>[Water, Hexylene Glycol, Poloxamer 184, Glycer...</td>\n",
       "      <td>2</td>\n",
       "    </tr>\n",
       "    <tr>\n",
       "      <th>15664</th>\n",
       "      <td>Micellar Water 3 In 1 (Moisturizing)</td>\n",
       "      <td>[Water, Hexylene Glycol, Glycerin, Rosa Gallic...</td>\n",
       "      <td>3</td>\n",
       "    </tr>\n",
       "    <tr>\n",
       "      <th>1370</th>\n",
       "      <td>Purete Thermale 3-In-1 One Step Micellar Water</td>\n",
       "      <td>[Water, Hexylene Glycol, Glycerin, Poloxamer 1...</td>\n",
       "      <td>3</td>\n",
       "    </tr>\n",
       "    <tr>\n",
       "      <th>7186</th>\n",
       "      <td>Purete Thermale 3 in 1 Micellar Solution</td>\n",
       "      <td>[Water, Hexylene Glycol, Glycerin, Poloxamer 1...</td>\n",
       "      <td>3</td>\n",
       "    </tr>\n",
       "    <tr>\n",
       "      <th>788</th>\n",
       "      <td>Micellar Cleansing Water Complete Cleanser Nor...</td>\n",
       "      <td>[Water, Hexylene Glycol, Glycerin, Poloxamer 1...</td>\n",
       "      <td>2</td>\n",
       "    </tr>\n",
       "    <tr>\n",
       "      <th>1975</th>\n",
       "      <td>Nutritioniste SkinActive Micellar Cleansing Wa...</td>\n",
       "      <td>[Water, Hexylene Glycol, Glycerin, Disodium Co...</td>\n",
       "      <td>2</td>\n",
       "    </tr>\n",
       "    <tr>\n",
       "      <th>693</th>\n",
       "      <td>Micellar Cleansing Water Complete Cleanser Nor...</td>\n",
       "      <td>[Water, Hexylene Glycol, Poloxamer 184, Disodi...</td>\n",
       "      <td>1</td>\n",
       "    </tr>\n",
       "    <tr>\n",
       "      <th>2204</th>\n",
       "      <td>Pure Active Micellar Water Oily Skin</td>\n",
       "      <td>[Water, Hexylene Glycol, Disodium Cocoamphodia...</td>\n",
       "      <td>1</td>\n",
       "    </tr>\n",
       "  </tbody>\n",
       "</table>\n",
       "</div>"
      ],
      "text/plain": [
       "                                                 product  \\\n",
       "4437                                 Eau Fraiche Douceur   \n",
       "10285  Eau Frache Douceur Micellar Cleansing Water Fa...   \n",
       "744                    Micellar Water Cleansing Solution   \n",
       "15664               Micellar Water 3 In 1 (Moisturizing)   \n",
       "1370      Purete Thermale 3-In-1 One Step Micellar Water   \n",
       "7186            Purete Thermale 3 in 1 Micellar Solution   \n",
       "788    Micellar Cleansing Water Complete Cleanser Nor...   \n",
       "1975   Nutritioniste SkinActive Micellar Cleansing Wa...   \n",
       "693    Micellar Cleansing Water Complete Cleanser Nor...   \n",
       "2204                Pure Active Micellar Water Oily Skin   \n",
       "\n",
       "                                                 ingList  commonIng  \n",
       "4437   [Water, Hexylene Glycol, Glycerin, Poloxamer 1...          3  \n",
       "10285  [Water, Hexylene Glycol, Glycerin, Poloxamer 1...          3  \n",
       "744    [Water, Hexylene Glycol, Poloxamer 184, Glycer...          2  \n",
       "15664  [Water, Hexylene Glycol, Glycerin, Rosa Gallic...          3  \n",
       "1370   [Water, Hexylene Glycol, Glycerin, Poloxamer 1...          3  \n",
       "7186   [Water, Hexylene Glycol, Glycerin, Poloxamer 1...          3  \n",
       "788    [Water, Hexylene Glycol, Glycerin, Poloxamer 1...          2  \n",
       "1975   [Water, Hexylene Glycol, Glycerin, Disodium Co...          2  \n",
       "693    [Water, Hexylene Glycol, Poloxamer 184, Disodi...          1  \n",
       "2204   [Water, Hexylene Glycol, Disodium Cocoamphodia...          1  "
      ]
     },
     "execution_count": 101,
     "metadata": {},
     "output_type": "execute_result"
    }
   ],
   "source": [
    "topTen"
   ]
  },
  {
   "cell_type": "markdown",
   "metadata": {},
   "source": [
    "## Average Overlap"
   ]
  },
  {
   "cell_type": "code",
   "execution_count": 76,
   "metadata": {},
   "outputs": [],
   "source": [
    "#df['ing#List'] = [ast.literal_eval(i) for i in df['ing#List']]\n",
    "indices = pd.Series(df.index, index=df['product']).drop_duplicates()\n",
    "idx = indices[product]\n",
    "\n",
    "itemLookup = df.loc[idx]['ing#List']\n",
    "items = df['ing#List']\n",
    "sim = [average_overlap(itemLookup,i) for i in items] ##change method here\n",
    "sim_scores = list(enumerate(sim))\n",
    "\n",
    "# Sort the products based on the similarity scores\n",
    "sim_scores = sorted(sim_scores, key=lambda x: x[1], reverse=True)\n",
    "\n",
    "# Get the scores of the 10 most similar products\n",
    "sim_scores = sim_scores[1:11]\n",
    "\n",
    "# Get the product indices\n",
    "product_indices = [i[0] for i in sim_scores]\n",
    "\n",
    "recommended = df[['product', 'brand','ingList']].iloc[product_indices]\n",
    "\n",
    "topTen = pd.DataFrame(recommended)\n",
    "commonItems(product, topTen, df)\n",
    "recommended.to_csv('recommendations/AO.csv')"
   ]
  },
  {
   "cell_type": "code",
   "execution_count": null,
   "metadata": {},
   "outputs": [],
   "source": []
  },
  {
   "cell_type": "code",
   "execution_count": 77,
   "metadata": {},
   "outputs": [
    {
     "data": {
      "text/html": [
       "<div>\n",
       "<table border=\"1\" class=\"dataframe\">\n",
       "  <thead>\n",
       "    <tr style=\"text-align: right;\">\n",
       "      <th></th>\n",
       "      <th>product</th>\n",
       "      <th>brand</th>\n",
       "      <th>ingList</th>\n",
       "      <th>commonIng</th>\n",
       "    </tr>\n",
       "  </thead>\n",
       "  <tbody>\n",
       "    <tr>\n",
       "      <th>13443</th>\n",
       "      <td>Ultimate Antioxidant C Boost Serum</td>\n",
       "      <td>Youth Corridor</td>\n",
       "      <td>[Water, Ethoxydiglycol, Ascorbic Acid (Vitamin...</td>\n",
       "      <td>11</td>\n",
       "    </tr>\n",
       "    <tr>\n",
       "      <th>449</th>\n",
       "      <td>20% Vitamin C + E Ferulic Acid Serum</td>\n",
       "      <td>Timeless</td>\n",
       "      <td>[Water, Ethoxydiglycol, Ascorbic Acid (Vitamin...</td>\n",
       "      <td>8</td>\n",
       "    </tr>\n",
       "    <tr>\n",
       "      <th>2218</th>\n",
       "      <td>C-Firma Day Serum</td>\n",
       "      <td>Drunk Elephant</td>\n",
       "      <td>[Water, Ethoxydiglycol, Ascorbic Acid (Vitamin...</td>\n",
       "      <td>9</td>\n",
       "    </tr>\n",
       "    <tr>\n",
       "      <th>11015</th>\n",
       "      <td>Vitamin C Infusion</td>\n",
       "      <td>Pulsaderm</td>\n",
       "      <td>[Water, Ethoxydiglycol, Ascorbic Acid (Vitamin...</td>\n",
       "      <td>10</td>\n",
       "    </tr>\n",
       "    <tr>\n",
       "      <th>3552</th>\n",
       "      <td>Superskin Moisturiser</td>\n",
       "      <td>Liz Earle Naturally Active Skin Care</td>\n",
       "      <td>[Water, Vaccinium Macrocarpon (Cranberry) Seed...</td>\n",
       "      <td>4</td>\n",
       "    </tr>\n",
       "    <tr>\n",
       "      <th>8659</th>\n",
       "      <td>TMR</td>\n",
       "      <td>Vivier</td>\n",
       "      <td>[Ethoxydiglycol, Propylene Glycol, Water, Acet...</td>\n",
       "      <td>3</td>\n",
       "    </tr>\n",
       "    <tr>\n",
       "      <th>11806</th>\n",
       "      <td>Everlasting Anti-Aging Essence</td>\n",
       "      <td>Zephyrine</td>\n",
       "      <td>[Water, Disodium EDTA, Allantoin, Carbomer, Tr...</td>\n",
       "      <td>4</td>\n",
       "    </tr>\n",
       "    <tr>\n",
       "      <th>12500</th>\n",
       "      <td>Royalty Renewing Day Cream</td>\n",
       "      <td>Younique</td>\n",
       "      <td>[Water, Cyclopentasiloxane, Glycerin, Polymeth...</td>\n",
       "      <td>3</td>\n",
       "    </tr>\n",
       "    <tr>\n",
       "      <th>5266</th>\n",
       "      <td>Alpha Beta Glow Pad</td>\n",
       "      <td>Dr. Dennis Gross Skincare</td>\n",
       "      <td>[Water, Ethoxydiglycol, Dihydroxyacetone, Glyc...</td>\n",
       "      <td>5</td>\n",
       "    </tr>\n",
       "    <tr>\n",
       "      <th>8482</th>\n",
       "      <td>Brightening Elixir</td>\n",
       "      <td>Goldfaden MD</td>\n",
       "      <td>[Water, Ethoxydiglycol, Ascorbic Acid (Vitamin...</td>\n",
       "      <td>8</td>\n",
       "    </tr>\n",
       "  </tbody>\n",
       "</table>\n",
       "</div>"
      ],
      "text/plain": [
       "                                    product  \\\n",
       "13443    Ultimate Antioxidant C Boost Serum   \n",
       "449    20% Vitamin C + E Ferulic Acid Serum   \n",
       "2218                      C-Firma Day Serum   \n",
       "11015                    Vitamin C Infusion   \n",
       "3552                  Superskin Moisturiser   \n",
       "8659                                    TMR   \n",
       "11806        Everlasting Anti-Aging Essence   \n",
       "12500            Royalty Renewing Day Cream   \n",
       "5266                    Alpha Beta Glow Pad   \n",
       "8482                     Brightening Elixir   \n",
       "\n",
       "                                      brand  \\\n",
       "13443                        Youth Corridor   \n",
       "449                                Timeless   \n",
       "2218                         Drunk Elephant   \n",
       "11015                             Pulsaderm   \n",
       "3552   Liz Earle Naturally Active Skin Care   \n",
       "8659                                 Vivier   \n",
       "11806                             Zephyrine   \n",
       "12500                              Younique   \n",
       "5266              Dr. Dennis Gross Skincare   \n",
       "8482                           Goldfaden MD   \n",
       "\n",
       "                                                 ingList  commonIng  \n",
       "13443  [Water, Ethoxydiglycol, Ascorbic Acid (Vitamin...         11  \n",
       "449    [Water, Ethoxydiglycol, Ascorbic Acid (Vitamin...          8  \n",
       "2218   [Water, Ethoxydiglycol, Ascorbic Acid (Vitamin...          9  \n",
       "11015  [Water, Ethoxydiglycol, Ascorbic Acid (Vitamin...         10  \n",
       "3552   [Water, Vaccinium Macrocarpon (Cranberry) Seed...          4  \n",
       "8659   [Ethoxydiglycol, Propylene Glycol, Water, Acet...          3  \n",
       "11806  [Water, Disodium EDTA, Allantoin, Carbomer, Tr...          4  \n",
       "12500  [Water, Cyclopentasiloxane, Glycerin, Polymeth...          3  \n",
       "5266   [Water, Ethoxydiglycol, Dihydroxyacetone, Glyc...          5  \n",
       "8482   [Water, Ethoxydiglycol, Ascorbic Acid (Vitamin...          8  "
      ]
     },
     "execution_count": 77,
     "metadata": {},
     "output_type": "execute_result"
    }
   ],
   "source": [
    "topTen"
   ]
  },
  {
   "cell_type": "markdown",
   "metadata": {},
   "source": [
    "## RBO similarity measure\n",
    "\n",
    "Based on code found [here](https://github.com/dlukes/rbo/blob/master/rbo.py)"
   ]
  },
  {
   "cell_type": "code",
   "execution_count": 71,
   "metadata": {},
   "outputs": [],
   "source": [
    "#%%time\n",
    "\n",
    "recommended = get_RBO_recommendations(df, product, rbo_min)\n",
    "topTen = pd.DataFrame(recommended)\n",
    "commonItems(product, topTen, df)\n",
    "recommended.to_csv('recommendations/RBO.csv')"
   ]
  },
  {
   "cell_type": "code",
   "execution_count": 72,
   "metadata": {},
   "outputs": [
    {
     "data": {
      "text/html": [
       "<div>\n",
       "<table border=\"1\" class=\"dataframe\">\n",
       "  <thead>\n",
       "    <tr style=\"text-align: right;\">\n",
       "      <th></th>\n",
       "      <th>product</th>\n",
       "      <th>ingList</th>\n",
       "      <th>commonIng</th>\n",
       "    </tr>\n",
       "  </thead>\n",
       "  <tbody>\n",
       "    <tr>\n",
       "      <th>13443</th>\n",
       "      <td>Ultimate Antioxidant C Boost Serum</td>\n",
       "      <td>[Water, Ethoxydiglycol, Ascorbic Acid (Vitamin...</td>\n",
       "      <td>11</td>\n",
       "    </tr>\n",
       "    <tr>\n",
       "      <th>449</th>\n",
       "      <td>20% Vitamin C + E Ferulic Acid Serum</td>\n",
       "      <td>[Water, Ethoxydiglycol, Ascorbic Acid (Vitamin...</td>\n",
       "      <td>8</td>\n",
       "    </tr>\n",
       "    <tr>\n",
       "      <th>2218</th>\n",
       "      <td>C-Firma Day Serum</td>\n",
       "      <td>[Water, Ethoxydiglycol, Ascorbic Acid (Vitamin...</td>\n",
       "      <td>9</td>\n",
       "    </tr>\n",
       "    <tr>\n",
       "      <th>8482</th>\n",
       "      <td>Brightening Elixir</td>\n",
       "      <td>[Water, Ethoxydiglycol, Ascorbic Acid (Vitamin...</td>\n",
       "      <td>8</td>\n",
       "    </tr>\n",
       "    <tr>\n",
       "      <th>8097</th>\n",
       "      <td>C Perfect Vitamin C Serum</td>\n",
       "      <td>[Water, Ethoxydiglycol, Ascorbic Acid (Vitamin...</td>\n",
       "      <td>8</td>\n",
       "    </tr>\n",
       "    <tr>\n",
       "      <th>11355</th>\n",
       "      <td>Vitamin C Superactive Serum</td>\n",
       "      <td>[Ethoxydiglycol, Water, Ascorbic Acid (Vitamin...</td>\n",
       "      <td>4</td>\n",
       "    </tr>\n",
       "    <tr>\n",
       "      <th>11015</th>\n",
       "      <td>Vitamin C Infusion</td>\n",
       "      <td>[Water, Ethoxydiglycol, Ascorbic Acid (Vitamin...</td>\n",
       "      <td>10</td>\n",
       "    </tr>\n",
       "    <tr>\n",
       "      <th>8660</th>\n",
       "      <td>Radiance Serum</td>\n",
       "      <td>[Ethoxydiglycol, Propylene Glycol, Water, Asco...</td>\n",
       "      <td>4</td>\n",
       "    </tr>\n",
       "    <tr>\n",
       "      <th>5266</th>\n",
       "      <td>Alpha Beta Glow Pad</td>\n",
       "      <td>[Water, Ethoxydiglycol, Dihydroxyacetone, Glyc...</td>\n",
       "      <td>5</td>\n",
       "    </tr>\n",
       "    <tr>\n",
       "      <th>4264</th>\n",
       "      <td>Sunless Tan Body Tanning Towelettes</td>\n",
       "      <td>[Water, Ethoxydiglycol, Dihydroxyacetone, Buty...</td>\n",
       "      <td>4</td>\n",
       "    </tr>\n",
       "  </tbody>\n",
       "</table>\n",
       "</div>"
      ],
      "text/plain": [
       "                                    product  \\\n",
       "13443    Ultimate Antioxidant C Boost Serum   \n",
       "449    20% Vitamin C + E Ferulic Acid Serum   \n",
       "2218                      C-Firma Day Serum   \n",
       "8482                     Brightening Elixir   \n",
       "8097              C Perfect Vitamin C Serum   \n",
       "11355           Vitamin C Superactive Serum   \n",
       "11015                    Vitamin C Infusion   \n",
       "8660                         Radiance Serum   \n",
       "5266                    Alpha Beta Glow Pad   \n",
       "4264    Sunless Tan Body Tanning Towelettes   \n",
       "\n",
       "                                                 ingList  commonIng  \n",
       "13443  [Water, Ethoxydiglycol, Ascorbic Acid (Vitamin...         11  \n",
       "449    [Water, Ethoxydiglycol, Ascorbic Acid (Vitamin...          8  \n",
       "2218   [Water, Ethoxydiglycol, Ascorbic Acid (Vitamin...          9  \n",
       "8482   [Water, Ethoxydiglycol, Ascorbic Acid (Vitamin...          8  \n",
       "8097   [Water, Ethoxydiglycol, Ascorbic Acid (Vitamin...          8  \n",
       "11355  [Ethoxydiglycol, Water, Ascorbic Acid (Vitamin...          4  \n",
       "11015  [Water, Ethoxydiglycol, Ascorbic Acid (Vitamin...         10  \n",
       "8660   [Ethoxydiglycol, Propylene Glycol, Water, Asco...          4  \n",
       "5266   [Water, Ethoxydiglycol, Dihydroxyacetone, Glyc...          5  \n",
       "4264   [Water, Ethoxydiglycol, Dihydroxyacetone, Buty...          4  "
      ]
     },
     "execution_count": 72,
     "metadata": {},
     "output_type": "execute_result"
    }
   ],
   "source": [
    "topTen"
   ]
  },
  {
   "cell_type": "code",
   "execution_count": null,
   "metadata": {},
   "outputs": [],
   "source": []
  },
  {
   "cell_type": "code",
   "execution_count": null,
   "metadata": {},
   "outputs": [],
   "source": []
  }
 ],
 "metadata": {
  "kernelspec": {
   "display_name": "Python 3",
   "language": "python",
   "name": "python3"
  },
  "language_info": {
   "codemirror_mode": {
    "name": "ipython",
    "version": 3
   },
   "file_extension": ".py",
   "mimetype": "text/x-python",
   "name": "python",
   "nbconvert_exporter": "python",
   "pygments_lexer": "ipython3",
   "version": "3.6.0"
  }
 },
 "nbformat": 4,
 "nbformat_minor": 2
}
