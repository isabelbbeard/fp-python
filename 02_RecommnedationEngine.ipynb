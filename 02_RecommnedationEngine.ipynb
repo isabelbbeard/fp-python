{
 "cells": [
  {
   "cell_type": "code",
   "execution_count": 205,
   "metadata": {},
   "outputs": [],
   "source": [
    "import pandas as pd\n",
    "import numpy as np\n",
    "import seaborn as sns\n",
    "import matplotlib.pyplot as plt\n",
    "%matplotlib inline\n",
    "\n",
    "from math import pi\n",
    "\n",
    "from bokeh.io import show, output_file\n",
    "from bokeh.layouts import row\n",
    "from bokeh.plotting import figure, show\n",
    "from bokeh.models import ColumnDataSource"
   ]
  },
  {
   "cell_type": "markdown",
   "metadata": {},
   "source": [
    "# Read csvs"
   ]
  },
  {
   "cell_type": "markdown",
   "metadata": {},
   "source": [
    "These are the csv's we cleaned up and combined in step 01. "
   ]
  },
  {
   "cell_type": "code",
   "execution_count": 206,
   "metadata": {},
   "outputs": [
    {
     "name": "stdout",
     "output_type": "stream",
     "text": [
      "Number of products:  15945\n",
      "Number of unique ingredients:  7325\n",
      "Number of total ingredients:  545617\n"
     ]
    }
   ],
   "source": [
    "ings = pd.read_csv('data/ings.csv', encoding = \"ISO-8859-1\", index_col=0)\n",
    "#prods = prods.drop_duplicates(subset = 'product')\n",
    "prods = pd.read_csv('data/prods.csv', encoding = \"ISO-8859-1\", index_col=0)\n",
    "#prods = prods.drop_duplicates(subset = 'product')\n",
    "prod_ing = pd.read_csv('data/prod_ing.csv', encoding = \"ISO-8859-1\", index_col=0)\n",
    "prod_ing = prod_ing.drop(['diff'], axis = 1)\n",
    "prod_ing = prod_ing.sort_values(['id', 'order'])\n",
    "\n",
    "print('Number of products: ', len(prods))\n",
    "print('Number of unique ingredients: ', len(ings))\n",
    "print('Number of total ingredients: ', len(prod_ing))"
   ]
  },
  {
   "cell_type": "code",
   "execution_count": null,
   "metadata": {},
   "outputs": [],
   "source": []
  },
  {
   "cell_type": "markdown",
   "metadata": {},
   "source": [
    "### Ings\n",
    "Ings df is just a database of unique ingredients and their harmful score, function and notes."
   ]
  },
  {
   "cell_type": "code",
   "execution_count": 207,
   "metadata": {},
   "outputs": [
    {
     "name": "stdout",
     "output_type": "stream",
     "text": [
      "Number of unique ingredients:  7324\n"
     ]
    },
    {
     "data": {
      "text/html": [
       "<div>\n",
       "<table border=\"1\" class=\"dataframe\">\n",
       "  <thead>\n",
       "    <tr style=\"text-align: right;\">\n",
       "      <th></th>\n",
       "      <th>id</th>\n",
       "      <th>ingredient</th>\n",
       "      <th>ewg</th>\n",
       "      <th>cir</th>\n",
       "      <th>func_Abrasive</th>\n",
       "      <th>func_Antimicrobial</th>\n",
       "      <th>func_Antioxidant</th>\n",
       "      <th>func_Antistatic Agent</th>\n",
       "      <th>func_Astringent</th>\n",
       "      <th>func_Binding</th>\n",
       "      <th>...</th>\n",
       "      <th>notes_Comedogenic Rating (3)</th>\n",
       "      <th>notes_Comedogenic Rating (4)</th>\n",
       "      <th>notes_Comedogenic Rating (5)</th>\n",
       "      <th>notes_Good for Dry Skin</th>\n",
       "      <th>notes_Good for Oily Skin</th>\n",
       "      <th>notes_Good for Sensitive Skin</th>\n",
       "      <th>notes_Paraben</th>\n",
       "      <th>notes_Promotes Wound Healing</th>\n",
       "      <th>notes_Sulfate</th>\n",
       "      <th>notes_UV Protection</th>\n",
       "    </tr>\n",
       "  </thead>\n",
       "  <tbody>\n",
       "    <tr>\n",
       "      <th>0</th>\n",
       "      <td>0</td>\n",
       "      <td>Water</td>\n",
       "      <td>1</td>\n",
       "      <td>NaN</td>\n",
       "      <td>0</td>\n",
       "      <td>0</td>\n",
       "      <td>0</td>\n",
       "      <td>0</td>\n",
       "      <td>0</td>\n",
       "      <td>0</td>\n",
       "      <td>...</td>\n",
       "      <td>0</td>\n",
       "      <td>0</td>\n",
       "      <td>0</td>\n",
       "      <td>0</td>\n",
       "      <td>0</td>\n",
       "      <td>0</td>\n",
       "      <td>0</td>\n",
       "      <td>0</td>\n",
       "      <td>0</td>\n",
       "      <td>0</td>\n",
       "    </tr>\n",
       "    <tr>\n",
       "      <th>1</th>\n",
       "      <td>0</td>\n",
       "      <td>Hydrogenated Polyisobutene</td>\n",
       "      <td>1</td>\n",
       "      <td>A</td>\n",
       "      <td>0</td>\n",
       "      <td>0</td>\n",
       "      <td>0</td>\n",
       "      <td>0</td>\n",
       "      <td>0</td>\n",
       "      <td>0</td>\n",
       "      <td>...</td>\n",
       "      <td>0</td>\n",
       "      <td>0</td>\n",
       "      <td>0</td>\n",
       "      <td>0</td>\n",
       "      <td>0</td>\n",
       "      <td>0</td>\n",
       "      <td>0</td>\n",
       "      <td>0</td>\n",
       "      <td>0</td>\n",
       "      <td>0</td>\n",
       "    </tr>\n",
       "    <tr>\n",
       "      <th>2</th>\n",
       "      <td>0</td>\n",
       "      <td>Butylene Glycol</td>\n",
       "      <td>1</td>\n",
       "      <td>A</td>\n",
       "      <td>0</td>\n",
       "      <td>0</td>\n",
       "      <td>0</td>\n",
       "      <td>0</td>\n",
       "      <td>0</td>\n",
       "      <td>0</td>\n",
       "      <td>...</td>\n",
       "      <td>0</td>\n",
       "      <td>0</td>\n",
       "      <td>0</td>\n",
       "      <td>1</td>\n",
       "      <td>0</td>\n",
       "      <td>0</td>\n",
       "      <td>0</td>\n",
       "      <td>0</td>\n",
       "      <td>0</td>\n",
       "      <td>0</td>\n",
       "    </tr>\n",
       "    <tr>\n",
       "      <th>3</th>\n",
       "      <td>0</td>\n",
       "      <td>Sesamum Indicum (Sesame) Seed Oil</td>\n",
       "      <td>1</td>\n",
       "      <td>A</td>\n",
       "      <td>0</td>\n",
       "      <td>0</td>\n",
       "      <td>0</td>\n",
       "      <td>0</td>\n",
       "      <td>0</td>\n",
       "      <td>0</td>\n",
       "      <td>...</td>\n",
       "      <td>1</td>\n",
       "      <td>0</td>\n",
       "      <td>0</td>\n",
       "      <td>0</td>\n",
       "      <td>0</td>\n",
       "      <td>0</td>\n",
       "      <td>0</td>\n",
       "      <td>0</td>\n",
       "      <td>0</td>\n",
       "      <td>0</td>\n",
       "    </tr>\n",
       "    <tr>\n",
       "      <th>4</th>\n",
       "      <td>0</td>\n",
       "      <td>Ammonium Acryloyldimethyltaurate/VP Copolymer</td>\n",
       "      <td>1</td>\n",
       "      <td>NaN</td>\n",
       "      <td>0</td>\n",
       "      <td>0</td>\n",
       "      <td>0</td>\n",
       "      <td>0</td>\n",
       "      <td>0</td>\n",
       "      <td>0</td>\n",
       "      <td>...</td>\n",
       "      <td>0</td>\n",
       "      <td>0</td>\n",
       "      <td>0</td>\n",
       "      <td>0</td>\n",
       "      <td>0</td>\n",
       "      <td>0</td>\n",
       "      <td>0</td>\n",
       "      <td>0</td>\n",
       "      <td>0</td>\n",
       "      <td>0</td>\n",
       "    </tr>\n",
       "  </tbody>\n",
       "</table>\n",
       "<p>5 rows × 51 columns</p>\n",
       "</div>"
      ],
      "text/plain": [
       "   id                                     ingredient ewg  cir  func_Abrasive  \\\n",
       "0   0                                          Water   1  NaN              0   \n",
       "1   0                     Hydrogenated Polyisobutene   1    A              0   \n",
       "2   0                                Butylene Glycol   1    A              0   \n",
       "3   0              Sesamum Indicum (Sesame) Seed Oil   1    A              0   \n",
       "4   0  Ammonium Acryloyldimethyltaurate/VP Copolymer   1  NaN              0   \n",
       "\n",
       "   func_Antimicrobial  func_Antioxidant  func_Antistatic Agent  \\\n",
       "0                   0                 0                      0   \n",
       "1                   0                 0                      0   \n",
       "2                   0                 0                      0   \n",
       "3                   0                 0                      0   \n",
       "4                   0                 0                      0   \n",
       "\n",
       "   func_Astringent  func_Binding         ...           \\\n",
       "0                0             0         ...            \n",
       "1                0             0         ...            \n",
       "2                0             0         ...            \n",
       "3                0             0         ...            \n",
       "4                0             0         ...            \n",
       "\n",
       "   notes_Comedogenic Rating (3)  notes_Comedogenic Rating (4)  \\\n",
       "0                             0                             0   \n",
       "1                             0                             0   \n",
       "2                             0                             0   \n",
       "3                             1                             0   \n",
       "4                             0                             0   \n",
       "\n",
       "   notes_Comedogenic Rating (5)  notes_Good for Dry Skin  \\\n",
       "0                             0                        0   \n",
       "1                             0                        0   \n",
       "2                             0                        1   \n",
       "3                             0                        0   \n",
       "4                             0                        0   \n",
       "\n",
       "   notes_Good for Oily Skin  notes_Good for Sensitive Skin  notes_Paraben  \\\n",
       "0                         0                              0              0   \n",
       "1                         0                              0              0   \n",
       "2                         0                              0              0   \n",
       "3                         0                              0              0   \n",
       "4                         0                              0              0   \n",
       "\n",
       "   notes_Promotes Wound Healing  notes_Sulfate  notes_UV Protection  \n",
       "0                             0              0                    0  \n",
       "1                             0              0                    0  \n",
       "2                             0              0                    0  \n",
       "3                             0              0                    0  \n",
       "4                             0              0                    0  \n",
       "\n",
       "[5 rows x 51 columns]"
      ]
     },
     "execution_count": 207,
     "metadata": {},
     "output_type": "execute_result"
    }
   ],
   "source": [
    "#caught a rogue ingredient\n",
    "ings['ingredient'] = ings['ingredient'].replace('Stearic Acid(Masking, Fragrance, Emulsion Stabilising, Emulsifying, Sufactant, Refatting, Surfactantsurfactant-Cleansing Agent Is Included As A Function For The Soap Form Of Stearic Acid.', 'Stearic Acid')\n",
    "ings = ings.drop_duplicates(subset = 'ingredient')\n",
    "print('Number of unique ingredients: ', len(ings))\n",
    "ings.head()"
   ]
  },
  {
   "cell_type": "code",
   "execution_count": 208,
   "metadata": {},
   "outputs": [],
   "source": [
    "ing_uniqueID = ings.loc[:,['ingredient']].reset_index()\n",
    "ing_uniqueID = ing_uniqueID.drop(['index'], axis = 1)\n",
    "ing_uniqueID['uniqueID'] = ing_uniqueID.index\n",
    "#ing_uniqueID"
   ]
  },
  {
   "cell_type": "markdown",
   "metadata": {},
   "source": [
    "### Prods\n",
    "Prods df is a database of all the products with various information including brand, price and rating"
   ]
  },
  {
   "cell_type": "code",
   "execution_count": 209,
   "metadata": {},
   "outputs": [
    {
     "data": {
      "text/html": [
       "<div>\n",
       "<table border=\"1\" class=\"dataframe\">\n",
       "  <thead>\n",
       "    <tr style=\"text-align: right;\">\n",
       "      <th></th>\n",
       "      <th>id</th>\n",
       "      <th>product</th>\n",
       "      <th>brand</th>\n",
       "      <th>price</th>\n",
       "      <th>rating</th>\n",
       "      <th>ratingsCount</th>\n",
       "      <th>cat_Acne&amp;BlemishTreatments</th>\n",
       "      <th>cat_Ampoules</th>\n",
       "      <th>cat_BodySkincare</th>\n",
       "      <th>cat_Cleansers</th>\n",
       "      <th>...</th>\n",
       "      <th>note_AlcoholFree</th>\n",
       "      <th>note_Anti-Aging</th>\n",
       "      <th>note_Brightening</th>\n",
       "      <th>note_ContainsAlcohol</th>\n",
       "      <th>note_ContainsParaben</th>\n",
       "      <th>note_ContainsSulfate</th>\n",
       "      <th>note_ParabenFree</th>\n",
       "      <th>note_PromotesWoundHealing</th>\n",
       "      <th>note_SulfateFree</th>\n",
       "      <th>note_UVProtection</th>\n",
       "    </tr>\n",
       "  </thead>\n",
       "  <tbody>\n",
       "    <tr>\n",
       "      <th>0</th>\n",
       "      <td>0</td>\n",
       "      <td>Naturally Gentle Eye Makeup Remover</td>\n",
       "      <td>Clinique</td>\n",
       "      <td>20.00</td>\n",
       "      <td>5.0</td>\n",
       "      <td>16</td>\n",
       "      <td>0</td>\n",
       "      <td>0</td>\n",
       "      <td>0</td>\n",
       "      <td>0</td>\n",
       "      <td>...</td>\n",
       "      <td>1</td>\n",
       "      <td>0</td>\n",
       "      <td>0</td>\n",
       "      <td>0</td>\n",
       "      <td>1</td>\n",
       "      <td>0</td>\n",
       "      <td>0</td>\n",
       "      <td>0</td>\n",
       "      <td>1</td>\n",
       "      <td>0</td>\n",
       "    </tr>\n",
       "    <tr>\n",
       "      <th>2</th>\n",
       "      <td>2</td>\n",
       "      <td>Foot Cream Norwegian Formula</td>\n",
       "      <td>Neutrogena</td>\n",
       "      <td>23.82</td>\n",
       "      <td>4.9</td>\n",
       "      <td>84</td>\n",
       "      <td>0</td>\n",
       "      <td>0</td>\n",
       "      <td>0</td>\n",
       "      <td>0</td>\n",
       "      <td>...</td>\n",
       "      <td>1</td>\n",
       "      <td>0</td>\n",
       "      <td>1</td>\n",
       "      <td>0</td>\n",
       "      <td>1</td>\n",
       "      <td>0</td>\n",
       "      <td>0</td>\n",
       "      <td>1</td>\n",
       "      <td>1</td>\n",
       "      <td>0</td>\n",
       "    </tr>\n",
       "    <tr>\n",
       "      <th>3</th>\n",
       "      <td>3</td>\n",
       "      <td>Essential Power Skin Refiner_Moisture</td>\n",
       "      <td>Laneige</td>\n",
       "      <td>28.20</td>\n",
       "      <td>5.0</td>\n",
       "      <td>12</td>\n",
       "      <td>0</td>\n",
       "      <td>0</td>\n",
       "      <td>0</td>\n",
       "      <td>0</td>\n",
       "      <td>...</td>\n",
       "      <td>0</td>\n",
       "      <td>0</td>\n",
       "      <td>1</td>\n",
       "      <td>1</td>\n",
       "      <td>0</td>\n",
       "      <td>0</td>\n",
       "      <td>1</td>\n",
       "      <td>1</td>\n",
       "      <td>1</td>\n",
       "      <td>0</td>\n",
       "    </tr>\n",
       "  </tbody>\n",
       "</table>\n",
       "<p>3 rows × 44 columns</p>\n",
       "</div>"
      ],
      "text/plain": [
       "   id                                product       brand  price  rating  \\\n",
       "0   0    Naturally Gentle Eye Makeup Remover    Clinique  20.00     5.0   \n",
       "2   2           Foot Cream Norwegian Formula  Neutrogena  23.82     4.9   \n",
       "3   3  Essential Power Skin Refiner_Moisture     Laneige  28.20     5.0   \n",
       "\n",
       "   ratingsCount  cat_Acne&BlemishTreatments  cat_Ampoules  cat_BodySkincare  \\\n",
       "0            16                           0             0                 0   \n",
       "2            84                           0             0                 0   \n",
       "3            12                           0             0                 0   \n",
       "\n",
       "   cat_Cleansers        ...          note_AlcoholFree  note_Anti-Aging  \\\n",
       "0              0        ...                         1                0   \n",
       "2              0        ...                         1                0   \n",
       "3              0        ...                         0                0   \n",
       "\n",
       "   note_Brightening  note_ContainsAlcohol  note_ContainsParaben  \\\n",
       "0                 0                     0                     1   \n",
       "2                 1                     0                     1   \n",
       "3                 1                     1                     0   \n",
       "\n",
       "   note_ContainsSulfate  note_ParabenFree  note_PromotesWoundHealing  \\\n",
       "0                     0                 0                          0   \n",
       "2                     0                 0                          1   \n",
       "3                     0                 1                          1   \n",
       "\n",
       "   note_SulfateFree  note_UVProtection  \n",
       "0                 1                  0  \n",
       "2                 1                  0  \n",
       "3                 1                  0  \n",
       "\n",
       "[3 rows x 44 columns]"
      ]
     },
     "execution_count": 209,
     "metadata": {},
     "output_type": "execute_result"
    }
   ],
   "source": [
    "prods.head(3)"
   ]
  },
  {
   "cell_type": "markdown",
   "metadata": {},
   "source": [
    "### Prod_ing\n",
    "Prod ing is a database that essentiall links prods and ings. it contains the product id, ingredient and ingredient order."
   ]
  },
  {
   "cell_type": "code",
   "execution_count": 210,
   "metadata": {},
   "outputs": [
    {
     "data": {
      "text/html": [
       "<div>\n",
       "<table border=\"1\" class=\"dataframe\">\n",
       "  <thead>\n",
       "    <tr style=\"text-align: right;\">\n",
       "      <th></th>\n",
       "      <th>id</th>\n",
       "      <th>ingredient</th>\n",
       "      <th>order</th>\n",
       "    </tr>\n",
       "  </thead>\n",
       "  <tbody>\n",
       "    <tr>\n",
       "      <th>0</th>\n",
       "      <td>0</td>\n",
       "      <td>Water</td>\n",
       "      <td>1</td>\n",
       "    </tr>\n",
       "    <tr>\n",
       "      <th>1</th>\n",
       "      <td>0</td>\n",
       "      <td>Hydrogenated Polyisobutene</td>\n",
       "      <td>2</td>\n",
       "    </tr>\n",
       "    <tr>\n",
       "      <th>2</th>\n",
       "      <td>0</td>\n",
       "      <td>Butylene Glycol</td>\n",
       "      <td>3</td>\n",
       "    </tr>\n",
       "  </tbody>\n",
       "</table>\n",
       "</div>"
      ],
      "text/plain": [
       "   id                  ingredient  order\n",
       "0   0                       Water      1\n",
       "1   0  Hydrogenated Polyisobutene      2\n",
       "2   0             Butylene Glycol      3"
      ]
     },
     "execution_count": 210,
     "metadata": {},
     "output_type": "execute_result"
    }
   ],
   "source": [
    "prod_ing.head(3)"
   ]
  },
  {
   "cell_type": "markdown",
   "metadata": {},
   "source": [
    "### Add a column that is a unique ingredient identifier"
   ]
  },
  {
   "cell_type": "code",
   "execution_count": 211,
   "metadata": {},
   "outputs": [
    {
     "data": {
      "text/html": [
       "<div>\n",
       "<table border=\"1\" class=\"dataframe\">\n",
       "  <thead>\n",
       "    <tr style=\"text-align: right;\">\n",
       "      <th></th>\n",
       "      <th>id</th>\n",
       "      <th>ingredient</th>\n",
       "      <th>order</th>\n",
       "      <th>uniqueID</th>\n",
       "    </tr>\n",
       "  </thead>\n",
       "  <tbody>\n",
       "    <tr>\n",
       "      <th>0</th>\n",
       "      <td>0</td>\n",
       "      <td>Water</td>\n",
       "      <td>1</td>\n",
       "      <td>0</td>\n",
       "    </tr>\n",
       "    <tr>\n",
       "      <th>15954</th>\n",
       "      <td>0</td>\n",
       "      <td>Hydrogenated Polyisobutene</td>\n",
       "      <td>2</td>\n",
       "      <td>1</td>\n",
       "    </tr>\n",
       "    <tr>\n",
       "      <th>16617</th>\n",
       "      <td>0</td>\n",
       "      <td>Butylene Glycol</td>\n",
       "      <td>3</td>\n",
       "      <td>2</td>\n",
       "    </tr>\n",
       "    <tr>\n",
       "      <th>24563</th>\n",
       "      <td>0</td>\n",
       "      <td>Sesamum Indicum (Sesame) Seed Oil</td>\n",
       "      <td>4</td>\n",
       "      <td>3</td>\n",
       "    </tr>\n",
       "    <tr>\n",
       "      <th>24889</th>\n",
       "      <td>0</td>\n",
       "      <td>Ammonium Acryloyldimethyltaurate/VP Copolymer</td>\n",
       "      <td>5</td>\n",
       "      <td>4</td>\n",
       "    </tr>\n",
       "  </tbody>\n",
       "</table>\n",
       "</div>"
      ],
      "text/plain": [
       "       id                                     ingredient  order  uniqueID\n",
       "0       0                                          Water      1         0\n",
       "15954   0                     Hydrogenated Polyisobutene      2         1\n",
       "16617   0                                Butylene Glycol      3         2\n",
       "24563   0              Sesamum Indicum (Sesame) Seed Oil      4         3\n",
       "24889   0  Ammonium Acryloyldimethyltaurate/VP Copolymer      5         4"
      ]
     },
     "execution_count": 211,
     "metadata": {},
     "output_type": "execute_result"
    }
   ],
   "source": [
    "#id is product id\n",
    "#uniqueID is ingredient ID\n",
    "prod_ing = pd.merge(prod_ing, ing_uniqueID, on='ingredient')\n",
    "prod_ing = prod_ing.sort_values(['id', 'order'])\n",
    "prod_ing.head()"
   ]
  },
  {
   "cell_type": "code",
   "execution_count": 213,
   "metadata": {},
   "outputs": [],
   "source": [
    "#reset index and drop\n",
    "prod_ing = prod_ing.reset_index(drop=True)"
   ]
  },
  {
   "cell_type": "markdown",
   "metadata": {},
   "source": [
    "## Reformatting Prod_ing\n",
    "Instead of having each ingredient in it's own row, we want to create a list of ingredients for each product while retaining the order."
   ]
  },
  {
   "cell_type": "code",
   "execution_count": 215,
   "metadata": {},
   "outputs": [
    {
     "data": {
      "text/plain": [
       "id\n",
       "0        [Water, Hydrogenated Polyisobutene, Butylene G...\n",
       "1        [Mineral Oil, Glycerin, PEG-12, Cyclopentasilo...\n",
       "2        [Water, Glycerin, Cetearyl Alcohol, Petrolatum...\n",
       "3        [Water, Glycereth-26, Alcohol, Butylene Glycol...\n",
       "4        [Petrolatum, Glycerin, Cocamidopropyl Betaine,...\n",
       "5        [Water, Butylene Glycol, Glycerin, Disodium Su...\n",
       "6        [Mineral Oil, Avena Sativa (Oat) Kernel Flour,...\n",
       "7        [Sodium Palm Kernelate, Water, Sodium Borate, ...\n",
       "8        [Water, Hamamelis Virginiana (Witch Hazel) Wat...\n",
       "9        [Water, Caprylic/Capric Triglyceride, Glycerin...\n",
       "10       [Water, Glycerin, Sodium Laureth Sulfate, PEG-...\n",
       "11       [Water, Tri-C14-15 Alkyl Citrate, Cyclohexasil...\n",
       "12       [Water, Butylene Glycol, Propylene Glycol, Dip...\n",
       "13       [Sodium Palm Kernelate, Water, Petrolatum, Gly...\n",
       "14       [Water, Chamaecyparis Obtusa Water, Glycerin, ...\n",
       "15       [Snail Secretion Filtrate, Water, Butylene Gly...\n",
       "16       [Water, Bentonite, Glycerin, Magnesium Aluminu...\n",
       "17       [Ethylhexyl Salicylate, Benzophenone-3, Water,...\n",
       "18       [Ethylhexyl Salicylate, Water, Dimethicone, Bu...\n",
       "19       [Ethylhexyl Salicylate, Water, Dimethicone, Bu...\n",
       "20       [Water, Hydrogenated Polyisobutene, Butylene G...\n",
       "21       [Mineral Oil, Glycerin, PEG-12, Cyclopentasilo...\n",
       "22       [Water, Glycerin, Cetearyl Alcohol, Petrolatum...\n",
       "23       [Water, Glycereth-26, Alcohol, Butylene Glycol...\n",
       "24       [Petrolatum, Glycerin, Cocamidopropyl Betaine,...\n",
       "25       [Water, Butylene Glycol, Glycerin, Disodium Su...\n",
       "26       [Mineral Oil, Avena Sativa (Oat) Kernel Flour,...\n",
       "27       [Sodium Palm Kernelate, Water, Sodium Borate, ...\n",
       "28       [Water, Hamamelis Virginiana (Witch Hazel) Wat...\n",
       "29       [Water, Caprylic/Capric Triglyceride, Glycerin...\n",
       "                               ...                        \n",
       "19897    [Cocos Nucifera (Coconut) Fruit Juice, Glucose...\n",
       "19898    [Water, Paraffin, Glutathione, Glycerin, Polyg...\n",
       "19899    [Butylene Glycol, Glycerin, Sea Water, Xanthan...\n",
       "19900    [Water, Butylene Glycol, Propylene Glycol, Dip...\n",
       "19901    [Water, Butylene Glycol, Glycerin, PEG-20, Met...\n",
       "19902    [Water, Glycerin, Oleic Acid(Emollient, Fragra...\n",
       "19903    [Water, Homosalate, Dibutyl Adipate, Propanedi...\n",
       "19904    [Dimethicone, Caprylic/Capric Triglyceride, Ce...\n",
       "19905    [Cinoxate, Ethylhexyl Salicylate, Benzophenone...\n",
       "19906    [Water, Acrylates Copolymer, Iron Oxides, Meth...\n",
       "19907    [Talc, Perlite, Titanium Dioxide, Zea Mays (Co...\n",
       "19908    [Water, Butylene Glycol, Dipropylene Glycol, 1...\n",
       "19909    [Water, Dipropylene Glycol, Alcohol Denat., Bu...\n",
       "19910    [Water, Titanium Dioxide, Phenyl Trimethicone,...\n",
       "19911    [Water, Butylene Glycol, Alcohol, Glycerin, Pe...\n",
       "19912    [Water, Glycerin, Cetearyl Alcohol, Sodium Cet...\n",
       "19913    [Benzophenone-3, Homosalate, Ethylhexyl Salicy...\n",
       "19914    [Water, Glycerin, Poly C10-30 Alkyl Acrylate, ...\n",
       "19915    [Water, Glycerin, Dipropylene Glycol, PEG-60 H...\n",
       "19916    [Water, Cocamidopropyl Betaine, Disodium Cocoa...\n",
       "19917    [Zinc Oxide, Ethylhexyl Methoxycinnamate, Octo...\n",
       "19918    [Water, Cyclomethicone, Alcohol Denat., Diprop...\n",
       "19919    [Sodium Acetylated Hyaluronate, Sodium Hyaluro...\n",
       "19920    [Water, Ascorbic Acid (Vitamin C, Alcohol, Nia...\n",
       "19921    [Water, Glycerin, Alcohol, Butylene Glycol, Me...\n",
       "19922    [Water, Dimethicone, Glycerin, Palmitic Acid(E...\n",
       "19923    [Water, Dipropylene Glycol, Caprylic/Capric Tr...\n",
       "19924    [Water, Polyvinyl Alcohol, Ethanolamine, 1,2-H...\n",
       "19925    [Ricinus Communis (Castor) Seed Oil, Lanolin, ...\n",
       "19926    [Water, Ascorbic Acid (Vitamin C, Glycerin, Di...\n",
       "Name: ingredient, dtype: object"
      ]
     },
     "execution_count": 215,
     "metadata": {},
     "output_type": "execute_result"
    }
   ],
   "source": [
    "prod_ing.groupby('id')['ingredient'].apply(list)"
   ]
  },
  {
   "cell_type": "code",
   "execution_count": 216,
   "metadata": {},
   "outputs": [
    {
     "data": {
      "text/plain": [
       "id\n",
       "0    [Water, Hydrogenated Polyisobutene, Butylene G...\n",
       "1    [Mineral Oil, Glycerin, PEG-12, Cyclopentasilo...\n",
       "2    [Water, Glycerin, Cetearyl Alcohol, Petrolatum...\n",
       "3    [Water, Glycereth-26, Alcohol, Butylene Glycol...\n",
       "4    [Petrolatum, Glycerin, Cocamidopropyl Betaine,...\n",
       "Name: ingredient, dtype: object"
      ]
     },
     "execution_count": 216,
     "metadata": {},
     "output_type": "execute_result"
    }
   ],
   "source": [
    "#cleanup of a rogue ingredient here as well\n",
    "prod_ing['ingredient'] = prod_ing['ingredient'].replace('Stearic Acid(Masking, Fragrance, Emulsion Stabilising, Emulsifying, Sufactant, Refatting, Surfactantsurfactant-Cleansing Agent Is Included As A Function For The Soap Form Of Stearic Acid.', 'Stearic Acid')\n",
    "\n",
    "##group and create list\n",
    "prod_ing_lists = prod_ing.groupby('id')['ingredient'].apply(list)\n",
    "prod_ing_ID_lists = prod_ing.groupby('id')['uniqueID'].apply(list)\n",
    "\n",
    "##convert back to dataframe and reset index\n",
    "prod_ing_df = prod_ing_lists.to_frame().reset_index()\n",
    "prod_ing_ID_df = prod_ing_ID_lists.to_frame().reset_index()\n",
    "##check to make sure unique id's are still in tact (id shouldn't be exactly == to index)\n",
    "prod_ing_lists.head()"
   ]
  },
  {
   "cell_type": "code",
   "execution_count": 217,
   "metadata": {},
   "outputs": [
    {
     "data": {
      "text/html": [
       "<div>\n",
       "<table border=\"1\" class=\"dataframe\">\n",
       "  <thead>\n",
       "    <tr style=\"text-align: right;\">\n",
       "      <th></th>\n",
       "      <th>id</th>\n",
       "      <th>ingredient</th>\n",
       "    </tr>\n",
       "  </thead>\n",
       "  <tbody>\n",
       "    <tr>\n",
       "      <th>19858</th>\n",
       "      <td>19922</td>\n",
       "      <td>[Water, Dimethicone, Glycerin, Palmitic Acid(E...</td>\n",
       "    </tr>\n",
       "    <tr>\n",
       "      <th>19859</th>\n",
       "      <td>19923</td>\n",
       "      <td>[Water, Dipropylene Glycol, Caprylic/Capric Tr...</td>\n",
       "    </tr>\n",
       "    <tr>\n",
       "      <th>19860</th>\n",
       "      <td>19924</td>\n",
       "      <td>[Water, Polyvinyl Alcohol, Ethanolamine, 1,2-H...</td>\n",
       "    </tr>\n",
       "    <tr>\n",
       "      <th>19861</th>\n",
       "      <td>19925</td>\n",
       "      <td>[Ricinus Communis (Castor) Seed Oil, Lanolin, ...</td>\n",
       "    </tr>\n",
       "    <tr>\n",
       "      <th>19862</th>\n",
       "      <td>19926</td>\n",
       "      <td>[Water, Ascorbic Acid (Vitamin C, Glycerin, Di...</td>\n",
       "    </tr>\n",
       "  </tbody>\n",
       "</table>\n",
       "</div>"
      ],
      "text/plain": [
       "          id                                         ingredient\n",
       "19858  19922  [Water, Dimethicone, Glycerin, Palmitic Acid(E...\n",
       "19859  19923  [Water, Dipropylene Glycol, Caprylic/Capric Tr...\n",
       "19860  19924  [Water, Polyvinyl Alcohol, Ethanolamine, 1,2-H...\n",
       "19861  19925  [Ricinus Communis (Castor) Seed Oil, Lanolin, ...\n",
       "19862  19926  [Water, Ascorbic Acid (Vitamin C, Glycerin, Di..."
      ]
     },
     "execution_count": 217,
     "metadata": {},
     "output_type": "execute_result"
    }
   ],
   "source": [
    "prod_ing_df.tail()"
   ]
  },
  {
   "cell_type": "code",
   "execution_count": 218,
   "metadata": {},
   "outputs": [
    {
     "data": {
      "text/html": [
       "<div>\n",
       "<table border=\"1\" class=\"dataframe\">\n",
       "  <thead>\n",
       "    <tr style=\"text-align: right;\">\n",
       "      <th></th>\n",
       "      <th>id</th>\n",
       "      <th>ingList</th>\n",
       "      <th>ing#List</th>\n",
       "    </tr>\n",
       "  </thead>\n",
       "  <tbody>\n",
       "    <tr>\n",
       "      <th>0</th>\n",
       "      <td>0</td>\n",
       "      <td>[Water, Hydrogenated Polyisobutene, Butylene G...</td>\n",
       "      <td>[0, 1, 2, 3, 4, 5, 6, 7, 8, 9, 10, 11, 12, 13,...</td>\n",
       "    </tr>\n",
       "    <tr>\n",
       "      <th>1</th>\n",
       "      <td>1</td>\n",
       "      <td>[Mineral Oil, Glycerin, PEG-12, Cyclopentasilo...</td>\n",
       "      <td>[22, 23, 24, 25, 26, 27, 28, 29, 30, 31, 32, 3...</td>\n",
       "    </tr>\n",
       "    <tr>\n",
       "      <th>2</th>\n",
       "      <td>2</td>\n",
       "      <td>[Water, Glycerin, Cetearyl Alcohol, Petrolatum...</td>\n",
       "      <td>[0, 23, 46, 47, 48, 49, 50, 51, 52, 53, 54, 55...</td>\n",
       "    </tr>\n",
       "    <tr>\n",
       "      <th>3</th>\n",
       "      <td>3</td>\n",
       "      <td>[Water, Glycereth-26, Alcohol, Butylene Glycol...</td>\n",
       "      <td>[0, 62, 63, 2, 64, 65, 66, 67, 68, 69, 70, 71,...</td>\n",
       "    </tr>\n",
       "    <tr>\n",
       "      <th>4</th>\n",
       "      <td>4</td>\n",
       "      <td>[Petrolatum, Glycerin, Cocamidopropyl Betaine,...</td>\n",
       "      <td>[47, 23, 92, 93, 94, 2, 95, 96, 97, 98, 99, 16...</td>\n",
       "    </tr>\n",
       "  </tbody>\n",
       "</table>\n",
       "</div>"
      ],
      "text/plain": [
       "   id                                            ingList  \\\n",
       "0   0  [Water, Hydrogenated Polyisobutene, Butylene G...   \n",
       "1   1  [Mineral Oil, Glycerin, PEG-12, Cyclopentasilo...   \n",
       "2   2  [Water, Glycerin, Cetearyl Alcohol, Petrolatum...   \n",
       "3   3  [Water, Glycereth-26, Alcohol, Butylene Glycol...   \n",
       "4   4  [Petrolatum, Glycerin, Cocamidopropyl Betaine,...   \n",
       "\n",
       "                                            ing#List  \n",
       "0  [0, 1, 2, 3, 4, 5, 6, 7, 8, 9, 10, 11, 12, 13,...  \n",
       "1  [22, 23, 24, 25, 26, 27, 28, 29, 30, 31, 32, 3...  \n",
       "2  [0, 23, 46, 47, 48, 49, 50, 51, 52, 53, 54, 55...  \n",
       "3  [0, 62, 63, 2, 64, 65, 66, 67, 68, 69, 70, 71,...  \n",
       "4  [47, 23, 92, 93, 94, 2, 95, 96, 97, 98, 99, 16...  "
      ]
     },
     "execution_count": 218,
     "metadata": {},
     "output_type": "execute_result"
    }
   ],
   "source": [
    "prod_ing_lists = pd.merge(prod_ing_df, prod_ing_ID_df, on='id')\n",
    "prod_ing_lists = prod_ing_lists.rename(columns = {'ingredient': 'ingList', 'uniqueID': 'ing#List' })\n",
    "prod_ing_lists.head()"
   ]
  },
  {
   "cell_type": "markdown",
   "metadata": {},
   "source": [
    "## Merge prod_ings and prods\n",
    "We can now use the list to merge back with the products."
   ]
  },
  {
   "cell_type": "code",
   "execution_count": 219,
   "metadata": {},
   "outputs": [
    {
     "data": {
      "text/plain": [
       "15945"
      ]
     },
     "execution_count": 219,
     "metadata": {},
     "output_type": "execute_result"
    }
   ],
   "source": [
    "products_and_ingredients= pd.merge(prod_ing_lists, prods, on='id')\n",
    "products_and_ingredients.tail(3)\n",
    "len(products_and_ingredients)"
   ]
  },
  {
   "cell_type": "markdown",
   "metadata": {},
   "source": [
    "### Add column for number of ingredients"
   ]
  },
  {
   "cell_type": "code",
   "execution_count": 220,
   "metadata": {},
   "outputs": [
    {
     "data": {
      "text/html": [
       "<div>\n",
       "<table border=\"1\" class=\"dataframe\">\n",
       "  <thead>\n",
       "    <tr style=\"text-align: right;\">\n",
       "      <th></th>\n",
       "      <th>id</th>\n",
       "      <th>ingList</th>\n",
       "      <th>ing#List</th>\n",
       "      <th>product</th>\n",
       "      <th>brand</th>\n",
       "      <th>price</th>\n",
       "      <th>rating</th>\n",
       "      <th>ratingsCount</th>\n",
       "      <th>cat_Acne&amp;BlemishTreatments</th>\n",
       "      <th>cat_Ampoules</th>\n",
       "      <th>...</th>\n",
       "      <th>note_Anti-Aging</th>\n",
       "      <th>note_Brightening</th>\n",
       "      <th>note_ContainsAlcohol</th>\n",
       "      <th>note_ContainsParaben</th>\n",
       "      <th>note_ContainsSulfate</th>\n",
       "      <th>note_ParabenFree</th>\n",
       "      <th>note_PromotesWoundHealing</th>\n",
       "      <th>note_SulfateFree</th>\n",
       "      <th>note_UVProtection</th>\n",
       "      <th>ingCount</th>\n",
       "    </tr>\n",
       "  </thead>\n",
       "  <tbody>\n",
       "    <tr>\n",
       "      <th>0</th>\n",
       "      <td>0</td>\n",
       "      <td>[Water, Hydrogenated Polyisobutene, Butylene G...</td>\n",
       "      <td>[0, 1, 2, 3, 4, 5, 6, 7, 8, 9, 10, 11, 12, 13,...</td>\n",
       "      <td>Naturally Gentle Eye Makeup Remover</td>\n",
       "      <td>Clinique</td>\n",
       "      <td>20.00</td>\n",
       "      <td>5.0</td>\n",
       "      <td>16</td>\n",
       "      <td>0</td>\n",
       "      <td>0</td>\n",
       "      <td>...</td>\n",
       "      <td>0</td>\n",
       "      <td>0</td>\n",
       "      <td>0</td>\n",
       "      <td>1</td>\n",
       "      <td>0</td>\n",
       "      <td>0</td>\n",
       "      <td>0</td>\n",
       "      <td>1</td>\n",
       "      <td>0</td>\n",
       "      <td>22</td>\n",
       "    </tr>\n",
       "    <tr>\n",
       "      <th>1</th>\n",
       "      <td>2</td>\n",
       "      <td>[Water, Glycerin, Cetearyl Alcohol, Petrolatum...</td>\n",
       "      <td>[0, 23, 46, 47, 48, 49, 50, 51, 52, 53, 54, 55...</td>\n",
       "      <td>Foot Cream Norwegian Formula</td>\n",
       "      <td>Neutrogena</td>\n",
       "      <td>23.82</td>\n",
       "      <td>4.9</td>\n",
       "      <td>84</td>\n",
       "      <td>0</td>\n",
       "      <td>0</td>\n",
       "      <td>...</td>\n",
       "      <td>0</td>\n",
       "      <td>1</td>\n",
       "      <td>0</td>\n",
       "      <td>1</td>\n",
       "      <td>0</td>\n",
       "      <td>0</td>\n",
       "      <td>1</td>\n",
       "      <td>1</td>\n",
       "      <td>0</td>\n",
       "      <td>20</td>\n",
       "    </tr>\n",
       "    <tr>\n",
       "      <th>2</th>\n",
       "      <td>3</td>\n",
       "      <td>[Water, Glycereth-26, Alcohol, Butylene Glycol...</td>\n",
       "      <td>[0, 62, 63, 2, 64, 65, 66, 67, 68, 69, 70, 71,...</td>\n",
       "      <td>Essential Power Skin Refiner_Moisture</td>\n",
       "      <td>Laneige</td>\n",
       "      <td>28.20</td>\n",
       "      <td>5.0</td>\n",
       "      <td>12</td>\n",
       "      <td>0</td>\n",
       "      <td>0</td>\n",
       "      <td>...</td>\n",
       "      <td>0</td>\n",
       "      <td>1</td>\n",
       "      <td>1</td>\n",
       "      <td>0</td>\n",
       "      <td>0</td>\n",
       "      <td>1</td>\n",
       "      <td>1</td>\n",
       "      <td>1</td>\n",
       "      <td>0</td>\n",
       "      <td>38</td>\n",
       "    </tr>\n",
       "  </tbody>\n",
       "</table>\n",
       "<p>3 rows × 47 columns</p>\n",
       "</div>"
      ],
      "text/plain": [
       "   id                                            ingList  \\\n",
       "0   0  [Water, Hydrogenated Polyisobutene, Butylene G...   \n",
       "1   2  [Water, Glycerin, Cetearyl Alcohol, Petrolatum...   \n",
       "2   3  [Water, Glycereth-26, Alcohol, Butylene Glycol...   \n",
       "\n",
       "                                            ing#List  \\\n",
       "0  [0, 1, 2, 3, 4, 5, 6, 7, 8, 9, 10, 11, 12, 13,...   \n",
       "1  [0, 23, 46, 47, 48, 49, 50, 51, 52, 53, 54, 55...   \n",
       "2  [0, 62, 63, 2, 64, 65, 66, 67, 68, 69, 70, 71,...   \n",
       "\n",
       "                                 product       brand  price  rating  \\\n",
       "0    Naturally Gentle Eye Makeup Remover    Clinique  20.00     5.0   \n",
       "1           Foot Cream Norwegian Formula  Neutrogena  23.82     4.9   \n",
       "2  Essential Power Skin Refiner_Moisture     Laneige  28.20     5.0   \n",
       "\n",
       "   ratingsCount  cat_Acne&BlemishTreatments  cat_Ampoules    ...     \\\n",
       "0            16                           0             0    ...      \n",
       "1            84                           0             0    ...      \n",
       "2            12                           0             0    ...      \n",
       "\n",
       "   note_Anti-Aging  note_Brightening  note_ContainsAlcohol  \\\n",
       "0                0                 0                     0   \n",
       "1                0                 1                     0   \n",
       "2                0                 1                     1   \n",
       "\n",
       "   note_ContainsParaben  note_ContainsSulfate  note_ParabenFree  \\\n",
       "0                     1                     0                 0   \n",
       "1                     1                     0                 0   \n",
       "2                     0                     0                 1   \n",
       "\n",
       "   note_PromotesWoundHealing  note_SulfateFree  note_UVProtection  ingCount  \n",
       "0                          0                 1                  0        22  \n",
       "1                          1                 1                  0        20  \n",
       "2                          1                 1                  0        38  \n",
       "\n",
       "[3 rows x 47 columns]"
      ]
     },
     "execution_count": 220,
     "metadata": {},
     "output_type": "execute_result"
    }
   ],
   "source": [
    "products_and_ingredients['ingCount'] = products_and_ingredients['ingList'].apply(lambda x: len(x))\n",
    "products_and_ingredients.head(3)"
   ]
  },
  {
   "cell_type": "code",
   "execution_count": 222,
   "metadata": {},
   "outputs": [
    {
     "data": {
      "text/plain": [
       "15945"
      ]
     },
     "execution_count": 222,
     "metadata": {},
     "output_type": "execute_result"
    }
   ],
   "source": [
    "products_and_ingredients['ing#List'] = products_and_ingredients['ing#List'].apply(lambda x: str(x))\n",
    "products_and_ingredients['ing#List'] = products_and_ingredients['ing#List'].str.replace(',', '')\n",
    "products_and_ingredients['ing#List'] = products_and_ingredients['ing#List'].str.replace('[', '')\n",
    "products_and_ingredients['ing#List'] = products_and_ingredients['ing#List'].str.replace(']', '')\n",
    "products_and_ingredients = products_and_ingredients.drop_duplicates(subset = 'product')\n",
    "\n",
    "products_and_ingredients.head()\n",
    "len(products_and_ingredients)"
   ]
  },
  {
   "cell_type": "markdown",
   "metadata": {},
   "source": [
    "# Recommendation engine\n",
    "Based on the one detailed [here](https://www.datacamp.com/community/tutorials/recommender-systems-python)"
   ]
  },
  {
   "cell_type": "code",
   "execution_count": 223,
   "metadata": {},
   "outputs": [
    {
     "data": {
      "text/plain": [
       "(15945, 6888)"
      ]
     },
     "execution_count": 223,
     "metadata": {},
     "output_type": "execute_result"
    }
   ],
   "source": [
    "#Import TfIdfVectorizer from scikit-learn\n",
    "#Convert a collection of raw documents to a matrix of TF-IDF features.\n",
    "from sklearn.feature_extraction.text import TfidfVectorizer\n",
    "\n",
    "#Define a TF-IDF Vectorizer Object\n",
    "tfidf = TfidfVectorizer()\n",
    "tfidf = TfidfVectorizer(stop_words=['Water'])\n",
    "\n",
    "#Construct the required TF-IDF matrix by fitting and transforming the data\n",
    "tfidf_matrix = tfidf.fit_transform(products_and_ingredients['ing#List'])\n",
    "\n",
    "#Output the shape of tfidf_matrix\n",
    "tfidf_matrix.shape"
   ]
  },
  {
   "cell_type": "code",
   "execution_count": null,
   "metadata": {},
   "outputs": [],
   "source": []
  },
  {
   "cell_type": "code",
   "execution_count": 269,
   "metadata": {},
   "outputs": [
    {
     "data": {
      "text/plain": [
       "<15945x6888 sparse matrix of type '<class 'numpy.float64'>'\n",
       "\twith 421665 stored elements in Compressed Sparse Row format>"
      ]
     },
     "execution_count": 269,
     "metadata": {},
     "output_type": "execute_result"
    }
   ],
   "source": [
    "tfidf_matrix"
   ]
  },
  {
   "cell_type": "markdown",
   "metadata": {},
   "source": [
    "#### Create a cosine similarity matrix "
   ]
  },
  {
   "cell_type": "code",
   "execution_count": 263,
   "metadata": {},
   "outputs": [
    {
     "data": {
      "text/plain": [
       "(15945, 15945)"
      ]
     },
     "execution_count": 263,
     "metadata": {},
     "output_type": "execute_result"
    }
   ],
   "source": [
    "# Import linear_kernel\n",
    "from sklearn.metrics.pairwise import linear_kernel\n",
    "\n",
    "# Compute the cosine similarity matrix\n",
    "cosine_sim = linear_kernel(tfidf_matrix, tfidf_matrix)\n",
    "cosine_sim.shape"
   ]
  },
  {
   "cell_type": "code",
   "execution_count": 265,
   "metadata": {},
   "outputs": [],
   "source": [
    "#Creaet an index of all products\n",
    "indices = pd.Series(products_and_ingredients.index, index=products_and_ingredients['product']).drop_duplicates()"
   ]
  },
  {
   "cell_type": "code",
   "execution_count": 227,
   "metadata": {},
   "outputs": [],
   "source": [
    "# Function that takes in movie title as input and outputs most similar movies\n",
    "def get_recommendations(product, cosine_sim=cosine_sim):\n",
    "    # Get the index of the movie that matches the title\n",
    "    idx = indices[product]\n",
    "\n",
    "    # Get the pairwsie similarity scores of all movies with that movie\n",
    "    sim_scores = list(enumerate(cosine_sim[idx]))\n",
    "\n",
    "    # Sort the movies based on the similarity scores\n",
    "    sim_scores = sorted(sim_scores, key=lambda x: x[1], reverse=True)\n",
    "\n",
    "    # Get the scores of the 10 most similar movies\n",
    "    sim_scores = sim_scores[1:11]\n",
    "\n",
    "    # Get the movie indices\n",
    "    product_indices = [i[0] for i in sim_scores]\n",
    "\n",
    "    # Return the top 10 most similar movies\n",
    "    return products_and_ingredients[['product', 'ingList']].iloc[product_indices]"
   ]
  },
  {
   "cell_type": "code",
   "execution_count": 228,
   "metadata": {},
   "outputs": [
    {
     "data": {
      "text/html": [
       "<div>\n",
       "<table border=\"1\" class=\"dataframe\">\n",
       "  <thead>\n",
       "    <tr style=\"text-align: right;\">\n",
       "      <th></th>\n",
       "      <th>product</th>\n",
       "      <th>ingList</th>\n",
       "    </tr>\n",
       "  </thead>\n",
       "  <tbody>\n",
       "    <tr>\n",
       "      <th>5406</th>\n",
       "      <td>Daily Serum</td>\n",
       "      <td>[Water, Butylene Glycol, Glycerin, Propylene G...</td>\n",
       "    </tr>\n",
       "    <tr>\n",
       "      <th>5726</th>\n",
       "      <td>Environmental Rescue Mask</td>\n",
       "      <td>[Water, Butylene Glycol, Glycerin, Propylene G...</td>\n",
       "    </tr>\n",
       "    <tr>\n",
       "      <th>7770</th>\n",
       "      <td>Gesichtswasser Soft &amp; Clear</td>\n",
       "      <td>[Water, Alcohol Denat., Glycerin, Polyglyceryl...</td>\n",
       "    </tr>\n",
       "    <tr>\n",
       "      <th>14288</th>\n",
       "      <td>Private Formula Day Cream Moisturiser</td>\n",
       "      <td>[Water, Dimethicone, Prunus Armeniaca (Apricot...</td>\n",
       "    </tr>\n",
       "    <tr>\n",
       "      <th>9356</th>\n",
       "      <td>Ultra-Gentle Facial Moisturizer (Oil Free)</td>\n",
       "      <td>[Water, Glycerin, Ethylhexyl Palmitate, Dimeth...</td>\n",
       "    </tr>\n",
       "    <tr>\n",
       "      <th>1142</th>\n",
       "      <td>Moisture Oil-Free for Sensitive Skin (Canadian...</td>\n",
       "      <td>[Water, Glycerin, Ethylhexyl Palmitate, Dimeth...</td>\n",
       "    </tr>\n",
       "    <tr>\n",
       "      <th>1148</th>\n",
       "      <td>Oil-Free Moisture, for Sensitive Skin</td>\n",
       "      <td>[Water, Glycerin, Ethylhexyl Palmitate, Dimeth...</td>\n",
       "    </tr>\n",
       "    <tr>\n",
       "      <th>7352</th>\n",
       "      <td>Oil-Free Moisturizing Facial Lotion</td>\n",
       "      <td>[Water, Glycerin, Ethylhexyl Palmitate, Dimeth...</td>\n",
       "    </tr>\n",
       "    <tr>\n",
       "      <th>4966</th>\n",
       "      <td>Dual Treatment Moisture Lotion with SPF 15</td>\n",
       "      <td>[Cinoxate, Ethylhexyl Salicylate, Water, Octyl...</td>\n",
       "    </tr>\n",
       "    <tr>\n",
       "      <th>1227</th>\n",
       "      <td>Oil-Free Moisture Sensitive Skin Ultra-Gentle ...</td>\n",
       "      <td>[Water, Glycerin, Ethylhexyl Palmitate, Dimeth...</td>\n",
       "    </tr>\n",
       "  </tbody>\n",
       "</table>\n",
       "</div>"
      ],
      "text/plain": [
       "                                                 product  \\\n",
       "5406                                         Daily Serum   \n",
       "5726                           Environmental Rescue Mask   \n",
       "7770                         Gesichtswasser Soft & Clear   \n",
       "14288              Private Formula Day Cream Moisturiser   \n",
       "9356          Ultra-Gentle Facial Moisturizer (Oil Free)   \n",
       "1142   Moisture Oil-Free for Sensitive Skin (Canadian...   \n",
       "1148               Oil-Free Moisture, for Sensitive Skin   \n",
       "7352                 Oil-Free Moisturizing Facial Lotion   \n",
       "4966          Dual Treatment Moisture Lotion with SPF 15   \n",
       "1227   Oil-Free Moisture Sensitive Skin Ultra-Gentle ...   \n",
       "\n",
       "                                                 ingList  \n",
       "5406   [Water, Butylene Glycol, Glycerin, Propylene G...  \n",
       "5726   [Water, Butylene Glycol, Glycerin, Propylene G...  \n",
       "7770   [Water, Alcohol Denat., Glycerin, Polyglyceryl...  \n",
       "14288  [Water, Dimethicone, Prunus Armeniaca (Apricot...  \n",
       "9356   [Water, Glycerin, Ethylhexyl Palmitate, Dimeth...  \n",
       "1142   [Water, Glycerin, Ethylhexyl Palmitate, Dimeth...  \n",
       "1148   [Water, Glycerin, Ethylhexyl Palmitate, Dimeth...  \n",
       "7352   [Water, Glycerin, Ethylhexyl Palmitate, Dimeth...  \n",
       "4966   [Cinoxate, Ethylhexyl Salicylate, Water, Octyl...  \n",
       "1227   [Water, Glycerin, Ethylhexyl Palmitate, Dimeth...  "
      ]
     },
     "execution_count": 228,
     "metadata": {},
     "output_type": "execute_result"
    }
   ],
   "source": [
    "get_recommendations('Foot Cream Norwegian Formula')"
   ]
  },
  {
   "cell_type": "code",
   "execution_count": 229,
   "metadata": {},
   "outputs": [
    {
     "name": "stdout",
     "output_type": "stream",
     "text": [
      "['Water', 'Glycerin', 'Cetearyl Alcohol', 'Petrolatum', 'Cyclomethicone', 'Panthenol', 'Dimethicone', 'Keratin Amino Acids', 'Menthol', 'Allantoin', 'Dilauryl Thiodipropionate', 'Alpha-Bisabolol', 'Tocopheryl Linoleate', 'Sodium Cetearyl Sulfate', 'Sodium Sulfate', 'Methylparaben', 'Propylparaben', 'Diazolidinyl Urea', 'Sodium Chloride', 'Fragrance']\n"
     ]
    }
   ],
   "source": [
    "ingTest = products_and_ingredients[products_and_ingredients['product'].str.match('Foot Cream Norwegian Formula')]\n",
    "ingTest = ingTest['ingList']\n",
    "print(*ingTest, sep='\\n')"
   ]
  },
  {
   "cell_type": "markdown",
   "metadata": {},
   "source": [
    "### RBO similarity measure\n",
    "\n",
    "Based on code found [here](https://github.com/dlukes/rbo/blob/master/rbo.py)"
   ]
  },
  {
   "cell_type": "code",
   "execution_count": 272,
   "metadata": {},
   "outputs": [
    {
     "data": {
      "text/plain": [
       "15945"
      ]
     },
     "execution_count": 272,
     "metadata": {},
     "output_type": "execute_result"
    }
   ],
   "source": [
    "#Comute the rbo similarity matrix\n",
    "len(products_and_ingredients)"
   ]
  },
  {
   "cell_type": "code",
   "execution_count": 231,
   "metadata": {},
   "outputs": [],
   "source": [
    "def rbo(list1, list2, p):\n",
    "    \"\"\"Complete RBO analysis (lower bound, residual, point estimate).\n",
    "    ``list`` arguments should be already correctly sorted iterables and each\n",
    "    item should either be an atomic value or a set of values tied for that\n",
    "    rank. ``p`` is the probability of looking for overlap at rank k + 1 after\n",
    "    having examined rank k.\n",
    "    \"\"\"\n",
    "    if not 0 <= p <= 1:\n",
    "        raise ValueError(\"The ``p`` parameter must be between 0 and 1.\")\n",
    "    args = (list1, list2, p)\n",
    "    return dict(min=rbo_min(*args), res=rbo_res(*args), ext=rbo_ext(*args))"
   ]
  },
  {
   "cell_type": "code",
   "execution_count": 337,
   "metadata": {},
   "outputs": [],
   "source": [
    "list1 = products_and_ingredients[products_and_ingredients['product'].str.match('Foot Cream Norwegian Formula')]\n",
    "list1 = list(list1['ingList'])\n",
    "list1 = list1[0]\n",
    "\n",
    "list2 = products_and_ingredients[products_and_ingredients['product'].str.match('Dual Treatment Moisture Lotion with SPF 15')]\n",
    "list2 = list(list2['ingList'])\n",
    "list2 = list2[0]\n"
   ]
  },
  {
   "cell_type": "code",
   "execution_count": 341,
   "metadata": {},
   "outputs": [
    {
     "data": {
      "text/plain": [
       "1.0"
      ]
     },
     "execution_count": 341,
     "metadata": {},
     "output_type": "execute_result"
    }
   ],
   "source": [
    "average_overlap(list1, list2)"
   ]
  },
  {
   "cell_type": "code",
   "execution_count": 320,
   "metadata": {},
   "outputs": [
    {
     "data": {
      "text/plain": [
       "['Sodium Palm Kernelate',\n",
       " 'Water',\n",
       " 'Petrolatum',\n",
       " 'Glycerin',\n",
       " 'Sodium Chloride',\n",
       " 'Trisodium HEDTA',\n",
       " 'Titanium Dioxide',\n",
       " 'Iron Oxides',\n",
       " 'Yellow 5 Lake']"
      ]
     },
     "execution_count": 320,
     "metadata": {},
     "output_type": "execute_result"
    }
   ],
   "source": [
    "products_and_ingredients.iloc[10,1]"
   ]
  },
  {
   "cell_type": "code",
   "execution_count": 340,
   "metadata": {},
   "outputs": [],
   "source": [
    "list1 = products_and_ingredients.iloc[0,1]\n",
    "list2 = products_and_ingredients.iloc[0,1]"
   ]
  },
  {
   "cell_type": "code",
   "execution_count": null,
   "metadata": {},
   "outputs": [],
   "source": []
  },
  {
   "cell_type": "code",
   "execution_count": 333,
   "metadata": {},
   "outputs": [
    {
     "name": "stdout",
     "output_type": "stream",
     "text": [
      "column:  0\n"
     ]
    },
    {
     "ename": "TypeError",
     "evalue": "'float' object is not callable",
     "output_type": "error",
     "traceback": [
      "\u001b[0;31m---------------------------------------------------------------------------\u001b[0m",
      "\u001b[0;31mTypeError\u001b[0m                                 Traceback (most recent call last)",
      "\u001b[0;32m<ipython-input-333-f09ed87959db>\u001b[0m in \u001b[0;36m<module>\u001b[0;34m()\u001b[0m\n\u001b[1;32m     11\u001b[0m         \u001b[1;32melse\u001b[0m\u001b[1;33m:\u001b[0m\u001b[1;33m\u001b[0m\u001b[0m\n\u001b[1;32m     12\u001b[0m             \u001b[0mlist2\u001b[0m \u001b[1;33m=\u001b[0m \u001b[0mproducts_and_ingredients\u001b[0m\u001b[1;33m.\u001b[0m\u001b[0miloc\u001b[0m\u001b[1;33m[\u001b[0m\u001b[0mj\u001b[0m\u001b[1;33m,\u001b[0m\u001b[1;36m1\u001b[0m\u001b[1;33m]\u001b[0m\u001b[1;33m\u001b[0m\u001b[0m\n\u001b[0;32m---> 13\u001b[0;31m             \u001b[0mrbo_ext\u001b[0m \u001b[1;33m=\u001b[0m \u001b[0mrbo\u001b[0m\u001b[1;33m(\u001b[0m\u001b[0mlist1\u001b[0m\u001b[1;33m,\u001b[0m \u001b[0mlist2\u001b[0m\u001b[1;33m,\u001b[0m \u001b[1;36m0.9\u001b[0m\u001b[1;33m)\u001b[0m\u001b[1;33m\u001b[0m\u001b[0m\n\u001b[0m\u001b[1;32m     14\u001b[0m             \u001b[0mrbo_ext\u001b[0m \u001b[1;33m=\u001b[0m \u001b[0mrbo_ext\u001b[0m\u001b[1;33m[\u001b[0m\u001b[1;34m'ext'\u001b[0m\u001b[1;33m]\u001b[0m\u001b[1;33m\u001b[0m\u001b[0m\n\u001b[1;32m     15\u001b[0m             \u001b[0mrbo_ext_sim\u001b[0m\u001b[1;33m.\u001b[0m\u001b[0miloc\u001b[0m\u001b[1;33m[\u001b[0m\u001b[0mi\u001b[0m\u001b[1;33m,\u001b[0m\u001b[0mj\u001b[0m\u001b[1;33m]\u001b[0m \u001b[1;33m=\u001b[0m \u001b[0mrbo_ext\u001b[0m\u001b[1;33m\u001b[0m\u001b[0m\n",
      "\u001b[0;32m<ipython-input-332-ed17aebc3fc8>\u001b[0m in \u001b[0;36mrbo\u001b[0;34m(list1, list2, p)\u001b[0m\n\u001b[1;32m    189\u001b[0m         \u001b[1;32mraise\u001b[0m \u001b[0mValueError\u001b[0m\u001b[1;33m(\u001b[0m\u001b[1;34m\"The ``p`` parameter must be between 0 and 1.\"\u001b[0m\u001b[1;33m)\u001b[0m\u001b[1;33m\u001b[0m\u001b[0m\n\u001b[1;32m    190\u001b[0m     \u001b[0margs\u001b[0m \u001b[1;33m=\u001b[0m \u001b[1;33m(\u001b[0m\u001b[0mlist1\u001b[0m\u001b[1;33m,\u001b[0m \u001b[0mlist2\u001b[0m\u001b[1;33m,\u001b[0m \u001b[0mp\u001b[0m\u001b[1;33m)\u001b[0m\u001b[1;33m\u001b[0m\u001b[0m\n\u001b[0;32m--> 191\u001b[0;31m     \u001b[1;32mreturn\u001b[0m \u001b[0mdict\u001b[0m\u001b[1;33m(\u001b[0m\u001b[0mmin\u001b[0m\u001b[1;33m=\u001b[0m\u001b[0mrbo_min\u001b[0m\u001b[1;33m(\u001b[0m\u001b[1;33m*\u001b[0m\u001b[0margs\u001b[0m\u001b[1;33m)\u001b[0m\u001b[1;33m,\u001b[0m \u001b[0mres\u001b[0m\u001b[1;33m=\u001b[0m\u001b[0mrbo_res\u001b[0m\u001b[1;33m(\u001b[0m\u001b[1;33m*\u001b[0m\u001b[0margs\u001b[0m\u001b[1;33m)\u001b[0m\u001b[1;33m,\u001b[0m \u001b[0mext\u001b[0m\u001b[1;33m=\u001b[0m\u001b[0mrbo_ext\u001b[0m\u001b[1;33m(\u001b[0m\u001b[1;33m*\u001b[0m\u001b[0margs\u001b[0m\u001b[1;33m)\u001b[0m\u001b[1;33m)\u001b[0m\u001b[1;33m\u001b[0m\u001b[0m\n\u001b[0m\u001b[1;32m    192\u001b[0m \u001b[1;33m\u001b[0m\u001b[0m\n\u001b[1;32m    193\u001b[0m \u001b[1;33m\u001b[0m\u001b[0m\n",
      "\u001b[0;31mTypeError\u001b[0m: 'float' object is not callable"
     ]
    }
   ],
   "source": [
    "items = len(products_and_ingredients) ##change to len(products_ing_list) to generate full dataframe\n",
    "rbo_ext_sim = np.zeros((items,items))\n",
    "rbo_ext_sim = pd.DataFrame(rbo_ext_sim)\n",
    "\n",
    "for i in range(0, items):\n",
    "    list1 = products_and_ingredients.iloc[i,1]\n",
    "    print(\"column: \", i)\n",
    "    for j in range(0, items):\n",
    "        if j == i:\n",
    "            rbo_ext_sim.iloc[i,j] = 1.00\n",
    "        else:\n",
    "            list2 = products_and_ingredients.iloc[j,1]\n",
    "            rbo_ext = rbo(list1, list2, 0.9)\n",
    "            rbo_ext = rbo_ext['ext']\n",
    "            rbo_ext_sim.iloc[i,j] = rbo_ext"
   ]
  },
  {
   "cell_type": "code",
   "execution_count": 334,
   "metadata": {},
   "outputs": [
    {
     "ename": "TypeError",
     "evalue": "'float' object is not callable",
     "output_type": "error",
     "traceback": [
      "\u001b[0;31m---------------------------------------------------------------------------\u001b[0m",
      "\u001b[0;31mTypeError\u001b[0m                                 Traceback (most recent call last)",
      "\u001b[0;32m<ipython-input-334-e001c88971c3>\u001b[0m in \u001b[0;36m<module>\u001b[0;34m()\u001b[0m\n\u001b[0;32m----> 1\u001b[0;31m \u001b[0mrbo_ext\u001b[0m \u001b[1;33m=\u001b[0m \u001b[0mrbo\u001b[0m\u001b[1;33m(\u001b[0m\u001b[0mlist1\u001b[0m\u001b[1;33m,\u001b[0m \u001b[0mlist2\u001b[0m\u001b[1;33m,\u001b[0m \u001b[1;36m0.9\u001b[0m\u001b[1;33m)\u001b[0m\u001b[1;33m\u001b[0m\u001b[0m\n\u001b[0m\u001b[1;32m      2\u001b[0m \u001b[0mrbo_ext\u001b[0m \u001b[1;33m=\u001b[0m \u001b[0mrbo_ext\u001b[0m\u001b[1;33m[\u001b[0m\u001b[1;34m'ext'\u001b[0m\u001b[1;33m]\u001b[0m\u001b[1;33m\u001b[0m\u001b[0m\n\u001b[1;32m      3\u001b[0m \u001b[0mrbo_ext\u001b[0m\u001b[1;33m\u001b[0m\u001b[0m\n",
      "\u001b[0;32m<ipython-input-332-ed17aebc3fc8>\u001b[0m in \u001b[0;36mrbo\u001b[0;34m(list1, list2, p)\u001b[0m\n\u001b[1;32m    189\u001b[0m         \u001b[1;32mraise\u001b[0m \u001b[0mValueError\u001b[0m\u001b[1;33m(\u001b[0m\u001b[1;34m\"The ``p`` parameter must be between 0 and 1.\"\u001b[0m\u001b[1;33m)\u001b[0m\u001b[1;33m\u001b[0m\u001b[0m\n\u001b[1;32m    190\u001b[0m     \u001b[0margs\u001b[0m \u001b[1;33m=\u001b[0m \u001b[1;33m(\u001b[0m\u001b[0mlist1\u001b[0m\u001b[1;33m,\u001b[0m \u001b[0mlist2\u001b[0m\u001b[1;33m,\u001b[0m \u001b[0mp\u001b[0m\u001b[1;33m)\u001b[0m\u001b[1;33m\u001b[0m\u001b[0m\n\u001b[0;32m--> 191\u001b[0;31m     \u001b[1;32mreturn\u001b[0m \u001b[0mdict\u001b[0m\u001b[1;33m(\u001b[0m\u001b[0mmin\u001b[0m\u001b[1;33m=\u001b[0m\u001b[0mrbo_min\u001b[0m\u001b[1;33m(\u001b[0m\u001b[1;33m*\u001b[0m\u001b[0margs\u001b[0m\u001b[1;33m)\u001b[0m\u001b[1;33m,\u001b[0m \u001b[0mres\u001b[0m\u001b[1;33m=\u001b[0m\u001b[0mrbo_res\u001b[0m\u001b[1;33m(\u001b[0m\u001b[1;33m*\u001b[0m\u001b[0margs\u001b[0m\u001b[1;33m)\u001b[0m\u001b[1;33m,\u001b[0m \u001b[0mext\u001b[0m\u001b[1;33m=\u001b[0m\u001b[0mrbo_ext\u001b[0m\u001b[1;33m(\u001b[0m\u001b[1;33m*\u001b[0m\u001b[0margs\u001b[0m\u001b[1;33m)\u001b[0m\u001b[1;33m)\u001b[0m\u001b[1;33m\u001b[0m\u001b[0m\n\u001b[0m\u001b[1;32m    192\u001b[0m \u001b[1;33m\u001b[0m\u001b[0m\n\u001b[1;32m    193\u001b[0m \u001b[1;33m\u001b[0m\u001b[0m\n",
      "\u001b[0;31mTypeError\u001b[0m: 'float' object is not callable"
     ]
    }
   ],
   "source": [
    "rbo_ext = rbo(list1, list2, 0.9)\n",
    "rbo_ext = rbo_ext['ext']\n",
    "rbo_ext"
   ]
  },
  {
   "cell_type": "code",
   "execution_count": 307,
   "metadata": {},
   "outputs": [
    {
     "data": {
      "text/plain": [
       "{'ext': 0.2923571478196387,\n",
       " 'min': 0.26541744409298035,\n",
       " 'res': 0.07678869216762815}"
      ]
     },
     "execution_count": 307,
     "metadata": {},
     "output_type": "execute_result"
    }
   ],
   "source": [
    "rbo(list1, list2, 0.9)"
   ]
  },
  {
   "cell_type": "code",
   "execution_count": 335,
   "metadata": {},
   "outputs": [
    {
     "data": {
      "text/plain": [
       "0.275634137143777"
      ]
     },
     "execution_count": 335,
     "metadata": {},
     "output_type": "execute_result"
    }
   ],
   "source": [
    "average_overlap(list1, list2)"
   ]
  },
  {
   "cell_type": "code",
   "execution_count": 332,
   "metadata": {},
   "outputs": [],
   "source": [
    "#!/usr/bin/env python3\n",
    "\n",
    "\"\"\"Rank-biased overlap, a ragged sorted list similarity measure.\n",
    "See http://doi.acm.org/10.1145/1852102.1852106 for details. All functions\n",
    "directly taken from the paper are named so that they can be clearly\n",
    "cross-identified.\n",
    "The definition of overlap has been modified to account for ties. Without this,\n",
    "results for lists with tied items were being inflated. The modification itself\n",
    "is not mentioned in the paper but seems to be reasonable, see function\n",
    "``overlap()``. Places in the code which diverge from the spec in the paper\n",
    "because of this are highlighted with comments.\n",
    "\"\"\"\n",
    "\n",
    "import math\n",
    "from bisect import bisect_left\n",
    "\n",
    "\n",
    "def _numtest(floatn):\n",
    "    return \"{:.3f}\".format(floatn)\n",
    "\n",
    "\n",
    "def set_at_depth(lst, depth):\n",
    "    ans = set()\n",
    "    for v in lst[:depth]:\n",
    "        if isinstance(v, set):\n",
    "            ans.update(v)\n",
    "        else:\n",
    "            ans.add(v)\n",
    "    return ans\n",
    "\n",
    "\n",
    "def raw_overlap(list1, list2, depth):\n",
    "    \"\"\"Overlap as defined in the article.\n",
    "    \"\"\"\n",
    "    set1, set2 = set_at_depth(list1, depth), set_at_depth(list2, depth)\n",
    "    return len(set1.intersection(set2)), len(set1), len(set2)\n",
    "\n",
    "\n",
    "def overlap(list1, list2, depth):\n",
    "    \"\"\"Overlap which accounts for possible ties.\n",
    "    This isn't mentioned in the paper but should be used in the ``rbo*()``\n",
    "    functions below, otherwise overlap at a given depth might be > depth which\n",
    "    inflates the result.\n",
    "    There are no guidelines in the paper as to what's a good way to calculate\n",
    "    this, but a good guess is agreement scaled by the minimum between the\n",
    "    requested depth and the lengths of the considered lists (overlap shouldn't\n",
    "    be larger than the number of ranks in the shorter list, otherwise results\n",
    "    are conspicuously wrong when the lists are of unequal lengths -- rbo_ext is\n",
    "    not between rbo_min and rbo_min + rbo_res.\n",
    "    >>> overlap(\"abcd\", \"abcd\", 3)\n",
    "    3.0\n",
    "    >>> overlap(\"abcd\", \"abcd\", 5)\n",
    "    4.0\n",
    "    >>> overlap([\"a\", {\"b\", \"c\"}, \"d\"], [\"a\", {\"b\", \"c\"}, \"d\"], 2)\n",
    "    2.0\n",
    "    >>> overlap([\"a\", {\"b\", \"c\"}, \"d\"], [\"a\", {\"b\", \"c\"}, \"d\"], 3)\n",
    "    3.0\n",
    "    \"\"\"\n",
    "    return agreement(list1, list2, depth) * min(depth, len(list1), len(list2))\n",
    "    # NOTE: comment the preceding and uncomment the following line if you want\n",
    "    # to stick to the algorithm as defined by the paper\n",
    "    # return raw_overlap(list1, list2, depth)[0]\n",
    "\n",
    "\n",
    "def agreement(list1, list2, depth):\n",
    "    \"\"\"Proportion of shared values between two sorted lists at given depth.\n",
    "    >>> _numtest(agreement(\"abcde\", \"abdcf\", 1))\n",
    "    '1.000'\n",
    "    >>> _numtest(agreement(\"abcde\", \"abdcf\", 3))\n",
    "    '0.667'\n",
    "    >>> _numtest(agreement(\"abcde\", \"abdcf\", 4))\n",
    "    '1.000'\n",
    "    >>> _numtest(agreement(\"abcde\", \"abdcf\", 5))\n",
    "    '0.800'\n",
    "    >>> _numtest(agreement([{1, 2}, 3], [1, {2, 3}], 1))\n",
    "    '0.667'\n",
    "    >>> _numtest(agreement([{1, 2}, 3], [1, {2, 3}], 2))\n",
    "    '1.000'\n",
    "    \"\"\"\n",
    "    len_intersection, len_set1, len_set2 = raw_overlap(list1, list2, depth)\n",
    "    return 2 * len_intersection / (len_set1 + len_set2)\n",
    "\n",
    "\n",
    "def cumulative_agreement(list1, list2, depth):\n",
    "    return (agreement(list1, list2, d) for d in range(1, depth + 1))\n",
    "\n",
    "\n",
    "def average_overlap(list1, list2, depth=None):\n",
    "    \"\"\"Calculate average overlap between ``list1`` and ``list2``.\n",
    "    >>> _numtest(average_overlap(\"abcdefg\", \"zcavwxy\", 1))\n",
    "    '0.000'\n",
    "    >>> _numtest(average_overlap(\"abcdefg\", \"zcavwxy\", 2))\n",
    "    '0.000'\n",
    "    >>> _numtest(average_overlap(\"abcdefg\", \"zcavwxy\", 3))\n",
    "    '0.222'\n",
    "    >>> _numtest(average_overlap(\"abcdefg\", \"zcavwxy\", 4))\n",
    "    '0.292'\n",
    "    >>> _numtest(average_overlap(\"abcdefg\", \"zcavwxy\", 5))\n",
    "    '0.313'\n",
    "    >>> _numtest(average_overlap(\"abcdefg\", \"zcavwxy\", 6))\n",
    "    '0.317'\n",
    "    >>> _numtest(average_overlap(\"abcdefg\", \"zcavwxy\", 7))\n",
    "    '0.312'\n",
    "    \"\"\"\n",
    "    depth = min(len(list1), len(list2)) if depth is None else depth\n",
    "    return sum(cumulative_agreement(list1, list2, depth)) / depth\n",
    "\n",
    "\n",
    "def rbo_at_k(list1, list2, p, depth=None):\n",
    "    # ``p**d`` here instead of ``p**(d - 1)`` because enumerate starts at\n",
    "    # 0\n",
    "    depth = min(len(list1), len(list2)) if depth is None else depth\n",
    "    d_a = enumerate(cumulative_agreement(list1, list2, depth))\n",
    "    return (1 - p) * sum(p**d * a for (d, a) in d_a)\n",
    "\n",
    "\n",
    "def rbo_min(list1, list2, p, depth=None):\n",
    "    \"\"\"Tight lower bound on RBO.\n",
    "    See equation (11) in paper.\n",
    "    >>> _numtest(rbo_min(\"abcdefg\", \"abcdefg\", .9))\n",
    "    '0.767'\n",
    "    >>> _numtest(rbo_min(\"abcdefgh\", \"abcdefg\", .9))\n",
    "    '0.767'\n",
    "    \"\"\"\n",
    "    depth = min(len(list1), len(list2)) if depth is None else depth\n",
    "    x_k = overlap(list1, list2, depth)\n",
    "    log_term = x_k * math.log(1 - p)\n",
    "    sum_term = sum(p**d / d * (overlap(list1, list2, d) - x_k)\n",
    "                   for d in range(1, depth + 1))\n",
    "    return (1 - p) / p * (sum_term - log_term)\n",
    "\n",
    "\n",
    "def rbo_res(list1, list2, p):\n",
    "    \"\"\"Upper bound on residual overlap beyond evaluated depth.\n",
    "    See equation (30) in paper.\n",
    "    NOTE: The doctests weren't verified but seem plausible. In particular, for\n",
    "    identical lists, ``rbo_min()`` and ``rbo_res()`` should add up to 1, which\n",
    "    is the case.\n",
    "    >>> _numtest(rbo_res(\"abcdefg\", \"abcdefg\", .9))\n",
    "    '0.233'\n",
    "    >>> _numtest(rbo_res(\"abcdefg\", \"abcdefghijklmnopqrstuvwxyz\", .9))\n",
    "    '0.239'\n",
    "    \"\"\"\n",
    "    S, L = sorted((list1, list2), key=len)\n",
    "    s, l = len(S), len(L)\n",
    "    x_l = overlap(list1, list2, l)\n",
    "    # since overlap(...) can be fractional in the general case of ties and f\n",
    "    # must be an integer → math.ceil()\n",
    "    f = math.ceil(l + s - x_l)\n",
    "    # upper bound of range() is non-inclusive, therefore + 1 is needed\n",
    "    term1 = s * sum(p**d / d for d in range(s + 1, f + 1))\n",
    "    term2 = l * sum(p**d / d for d in range(l + 1, f + 1))\n",
    "    term3 = x_l * (math.log(1 / (1 - p)) - sum(p**d / d for d in range(1, f + 1)))\n",
    "    return p**s + p**l - p**f - (1 - p) / p * (term1 + term2 + term3)\n",
    "\n",
    "\n",
    "def rbo_ext(list1, list2, p):\n",
    "    \"\"\"RBO point estimate based on extrapolating observed overlap.\n",
    "    See equation (32) in paper.\n",
    "    NOTE: The doctests weren't verified but seem plausible.\n",
    "    >>> _numtest(rbo_ext(\"abcdefg\", \"abcdefg\", .9))\n",
    "    '1.000'\n",
    "    >>> _numtest(rbo_ext(\"abcdefg\", \"bacdefg\", .9))\n",
    "    '0.900'\n",
    "    \"\"\"\n",
    "    S, L = sorted((list1, list2), key=len)\n",
    "    s, l = len(S), len(L)\n",
    "    x_l = overlap(list1, list2, l)\n",
    "    x_s = overlap(list1, list2, s)\n",
    "    # the paper says overlap(..., d) / d, but it should be replaced by\n",
    "    # agreement(..., d) defined as per equation (28) so that ties are handled\n",
    "    # properly (otherwise values > 1 will be returned)\n",
    "    # sum1 = sum(p**d * overlap(list1, list2, d)[0] / d for d in range(1, l + 1))\n",
    "    sum1 = sum(p**d * agreement(list1, list2, d) for d in range(1, l + 1))\n",
    "    sum2 = sum(p**d * x_s * (d - s) / s / d for d in range(s + 1, l + 1))\n",
    "    term1 = (1 - p) / p * (sum1 + sum2)\n",
    "    term2 = p**l * ((x_l - x_s) / l + x_s / s)\n",
    "    return term1 + term2\n",
    "\n",
    "\n",
    "def rbo(list1, list2, p):\n",
    "    \"\"\"Complete RBO analysis (lower bound, residual, point estimate).\n",
    "    ``list`` arguments should be already correctly sorted iterables and each\n",
    "    item should either be an atomic value or a set of values tied for that\n",
    "    rank. ``p`` is the probability of looking for overlap at rank k + 1 after\n",
    "    having examined rank k.\n",
    "    \"\"\"\n",
    "    if not 0 <= p <= 1:\n",
    "        raise ValueError(\"The ``p`` parameter must be between 0 and 1.\")\n",
    "    args = (list1, list2, p)\n",
    "    return dict(min=rbo_min(*args), res=rbo_res(*args), ext=rbo_ext(*args))\n",
    "\n",
    "\n",
    "def sort_dict(dct):\n",
    "    scores = []\n",
    "    items = []\n",
    "    # items should be unique, scores don't have to\n",
    "    for item, score in dct.items():\n",
    "        # sort in descending order, i.e. according to ``-score``\n",
    "        score = -score\n",
    "        i = bisect_left(scores, score)\n",
    "        if i == len(scores):\n",
    "            scores.append(score)\n",
    "            items.append(item)\n",
    "        elif scores[i] == score:\n",
    "            existing_item = items[i]\n",
    "            if isinstance(existing_item, set):\n",
    "                existing_item.add(item)\n",
    "            else:\n",
    "                items[i] = {existing_item, item}\n",
    "        else:\n",
    "            scores.insert(i, score)\n",
    "            items.insert(i, item)\n",
    "    return items\n",
    "\n",
    "\n",
    "def rbo_dict(dict1, dict2, p):\n",
    "    \"\"\"Wrapper around ``rbo()`` for dict input.\n",
    "    Each dict maps items to be sorted to the score according to which they\n",
    "    should be sorted.\n",
    "    \"\"\"\n",
    "    list1, list2 = sort_dict(dict1), sort_dict(dict2)\n",
    "    return rbo(list1, list2, p)\n",
    "\n",
    "\n",
    "if __name__ in (\"__main__\", \"__console__\"):\n",
    "    import doctest\n",
    "    doctest.testmod()"
   ]
  },
  {
   "cell_type": "code",
   "execution_count": null,
   "metadata": {},
   "outputs": [],
   "source": []
  }
 ],
 "metadata": {
  "kernelspec": {
   "display_name": "Python 3",
   "language": "python",
   "name": "python3"
  },
  "language_info": {
   "codemirror_mode": {
    "name": "ipython",
    "version": 3
   },
   "file_extension": ".py",
   "mimetype": "text/x-python",
   "name": "python",
   "nbconvert_exporter": "python",
   "pygments_lexer": "ipython3",
   "version": "3.6.0"
  }
 },
 "nbformat": 4,
 "nbformat_minor": 2
}
