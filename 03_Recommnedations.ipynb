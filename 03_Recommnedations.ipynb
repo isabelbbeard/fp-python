{
 "cells": [
  {
   "cell_type": "code",
   "execution_count": 110,
   "metadata": {},
   "outputs": [],
   "source": [
    "import pickle\n",
    "import pandas as pd\n",
    "import ast\n",
    "from RBO import *\n",
    "from getRecommendations import *"
   ]
  },
  {
   "cell_type": "markdown",
   "metadata": {},
   "source": [
    "## Load product CSV"
   ]
  },
  {
   "cell_type": "code",
   "execution_count": 104,
   "metadata": {},
   "outputs": [
    {
     "data": {
      "text/html": [
       "<div>\n",
       "<table border=\"1\" class=\"dataframe\">\n",
       "  <thead>\n",
       "    <tr style=\"text-align: right;\">\n",
       "      <th></th>\n",
       "      <th>id</th>\n",
       "      <th>ingList</th>\n",
       "      <th>ing#List</th>\n",
       "      <th>product</th>\n",
       "      <th>brand</th>\n",
       "      <th>price</th>\n",
       "      <th>rating</th>\n",
       "      <th>ratingsCount</th>\n",
       "      <th>cat_Acne&amp;BlemishTreatments</th>\n",
       "      <th>cat_Ampoules</th>\n",
       "      <th>...</th>\n",
       "      <th>note_Anti-Aging</th>\n",
       "      <th>note_Brightening</th>\n",
       "      <th>note_ContainsAlcohol</th>\n",
       "      <th>note_ContainsParaben</th>\n",
       "      <th>note_ContainsSulfate</th>\n",
       "      <th>note_ParabenFree</th>\n",
       "      <th>note_PromotesWoundHealing</th>\n",
       "      <th>note_SulfateFree</th>\n",
       "      <th>note_UVProtection</th>\n",
       "      <th>ingCount</th>\n",
       "    </tr>\n",
       "  </thead>\n",
       "  <tbody>\n",
       "    <tr>\n",
       "      <th>0</th>\n",
       "      <td>0</td>\n",
       "      <td>['Water', 'Hydrogenated Polyisobutene', 'Butyl...</td>\n",
       "      <td>[0, 1, 2, 3, 4, 5, 6, 7, 8, 9, 10, 11, 12, 13,...</td>\n",
       "      <td>Naturally Gentle Eye Makeup Remover</td>\n",
       "      <td>Clinique</td>\n",
       "      <td>20.00</td>\n",
       "      <td>5.0</td>\n",
       "      <td>16</td>\n",
       "      <td>0</td>\n",
       "      <td>0</td>\n",
       "      <td>...</td>\n",
       "      <td>0</td>\n",
       "      <td>0</td>\n",
       "      <td>0</td>\n",
       "      <td>1</td>\n",
       "      <td>0</td>\n",
       "      <td>0</td>\n",
       "      <td>0</td>\n",
       "      <td>1</td>\n",
       "      <td>0</td>\n",
       "      <td>22</td>\n",
       "    </tr>\n",
       "    <tr>\n",
       "      <th>1</th>\n",
       "      <td>2</td>\n",
       "      <td>['Water', 'Glycerin', 'Cetearyl Alcohol', 'Pet...</td>\n",
       "      <td>[0, 23, 46, 47, 48, 49, 50, 51, 52, 53, 54, 55...</td>\n",
       "      <td>Foot Cream Norwegian Formula</td>\n",
       "      <td>Neutrogena</td>\n",
       "      <td>23.82</td>\n",
       "      <td>4.9</td>\n",
       "      <td>84</td>\n",
       "      <td>0</td>\n",
       "      <td>0</td>\n",
       "      <td>...</td>\n",
       "      <td>0</td>\n",
       "      <td>1</td>\n",
       "      <td>0</td>\n",
       "      <td>1</td>\n",
       "      <td>0</td>\n",
       "      <td>0</td>\n",
       "      <td>1</td>\n",
       "      <td>1</td>\n",
       "      <td>0</td>\n",
       "      <td>20</td>\n",
       "    </tr>\n",
       "    <tr>\n",
       "      <th>2</th>\n",
       "      <td>3</td>\n",
       "      <td>['Water', 'Glycereth-26', 'Alcohol', 'Butylene...</td>\n",
       "      <td>[0, 62, 63, 2, 64, 65, 66, 67, 68, 69, 70, 71,...</td>\n",
       "      <td>Essential Power Skin Refiner_Moisture</td>\n",
       "      <td>Laneige</td>\n",
       "      <td>28.20</td>\n",
       "      <td>5.0</td>\n",
       "      <td>12</td>\n",
       "      <td>0</td>\n",
       "      <td>0</td>\n",
       "      <td>...</td>\n",
       "      <td>0</td>\n",
       "      <td>1</td>\n",
       "      <td>1</td>\n",
       "      <td>0</td>\n",
       "      <td>0</td>\n",
       "      <td>1</td>\n",
       "      <td>1</td>\n",
       "      <td>1</td>\n",
       "      <td>0</td>\n",
       "      <td>38</td>\n",
       "    </tr>\n",
       "  </tbody>\n",
       "</table>\n",
       "<p>3 rows × 47 columns</p>\n",
       "</div>"
      ],
      "text/plain": [
       "   id                                            ingList  \\\n",
       "0   0  ['Water', 'Hydrogenated Polyisobutene', 'Butyl...   \n",
       "1   2  ['Water', 'Glycerin', 'Cetearyl Alcohol', 'Pet...   \n",
       "2   3  ['Water', 'Glycereth-26', 'Alcohol', 'Butylene...   \n",
       "\n",
       "                                            ing#List  \\\n",
       "0  [0, 1, 2, 3, 4, 5, 6, 7, 8, 9, 10, 11, 12, 13,...   \n",
       "1  [0, 23, 46, 47, 48, 49, 50, 51, 52, 53, 54, 55...   \n",
       "2  [0, 62, 63, 2, 64, 65, 66, 67, 68, 69, 70, 71,...   \n",
       "\n",
       "                                 product       brand  price  rating  \\\n",
       "0    Naturally Gentle Eye Makeup Remover    Clinique  20.00     5.0   \n",
       "1           Foot Cream Norwegian Formula  Neutrogena  23.82     4.9   \n",
       "2  Essential Power Skin Refiner_Moisture     Laneige  28.20     5.0   \n",
       "\n",
       "   ratingsCount  cat_Acne&BlemishTreatments  cat_Ampoules    ...     \\\n",
       "0            16                           0             0    ...      \n",
       "1            84                           0             0    ...      \n",
       "2            12                           0             0    ...      \n",
       "\n",
       "   note_Anti-Aging  note_Brightening  note_ContainsAlcohol  \\\n",
       "0                0                 0                     0   \n",
       "1                0                 1                     0   \n",
       "2                0                 1                     1   \n",
       "\n",
       "   note_ContainsParaben  note_ContainsSulfate  note_ParabenFree  \\\n",
       "0                     1                     0                 0   \n",
       "1                     1                     0                 0   \n",
       "2                     0                     0                 1   \n",
       "\n",
       "   note_PromotesWoundHealing  note_SulfateFree  note_UVProtection  ingCount  \n",
       "0                          0                 1                  0        22  \n",
       "1                          1                 1                  0        20  \n",
       "2                          1                 1                  0        38  \n",
       "\n",
       "[3 rows x 47 columns]"
      ]
     },
     "execution_count": 104,
     "metadata": {},
     "output_type": "execute_result"
    }
   ],
   "source": [
    "df = pd.read_csv('recommendations/recommender_products.csv', encoding = \"ISO-8859-1\", index_col=0)\n",
    "df.head(3)"
   ]
  },
  {
   "cell_type": "markdown",
   "metadata": {},
   "source": [
    "# GET RECOMMENDATIONS"
   ]
  },
  {
   "cell_type": "code",
   "execution_count": 105,
   "metadata": {},
   "outputs": [
    {
     "name": "stdout",
     "output_type": "stream",
     "text": [
      "['Water', 'Glycerin', 'Dimethicone', 'Petrolatum', 'Tridecyl Stearate', 'Tridecyl Trimellitate', 'Polyglyceryl-10 Pentastearate', 'Behenyl Alcohol', 'Dipentaerythrityl Hexacaprylate/Hexacaprate', 'Cucumis Sativus (Cucumber) Fruit Extract', 'Hordeum Vulgare Extract', 'Sodium Stearoyl Lactylate', 'Caprylyl Glycol', 'Propylene Glycol Dicaprate', 'Helianthus Annuus (Sunflower) Seedcake', 'PEG-100 Stearate', 'Sodium Hyaluronate', 'Cetyl Alcohol', 'Butylene Glycol', 'Tromethamine', 'Carbomer', 'Phenoxyethanol', 'CI 19140', 'CI 15985', 'CI 17200']\n"
     ]
    }
   ],
   "source": [
    "product ='Dramatically Different Moisturizing Cream'\n",
    "ingTest = df[df['product'].str.match(product)]\n",
    "ingTest = ingTest['ingList']\n",
    "print(*ingTest, sep='\\n')"
   ]
  },
  {
   "cell_type": "markdown",
   "metadata": {},
   "source": [
    "## Cosine similarity"
   ]
  },
  {
   "cell_type": "code",
   "execution_count": 107,
   "metadata": {},
   "outputs": [
    {
     "name": "stdout",
     "output_type": "stream",
     "text": [
      "Wall time: 10.9 s\n"
     ]
    }
   ],
   "source": [
    "%%time\n",
    "\n",
    "recommended = get_COS_recommendations(df,product)\n",
    "topTen = pd.DataFrame(recommended)\n",
    "commonItems(product, topTen, df)\n",
    "recommended.to_csv('recommendations/COS.csv')"
   ]
  },
  {
   "cell_type": "code",
   "execution_count": 108,
   "metadata": {},
   "outputs": [
    {
     "data": {
      "text/html": [
       "<div>\n",
       "<table border=\"1\" class=\"dataframe\">\n",
       "  <thead>\n",
       "    <tr style=\"text-align: right;\">\n",
       "      <th></th>\n",
       "      <th>product</th>\n",
       "      <th>ingList</th>\n",
       "      <th>ing#List</th>\n",
       "      <th>commonIng</th>\n",
       "    </tr>\n",
       "  </thead>\n",
       "  <tbody>\n",
       "    <tr>\n",
       "      <th>1156</th>\n",
       "      <td>Broad Spectrum SPF 21 Moisturizer</td>\n",
       "      <td>[Cinoxate, Ethylhexyl Salicylate, Benzophenone...</td>\n",
       "      <td>[333, 274, 275, 1199, 0, 2, 50, 765, 46, 102, ...</td>\n",
       "      <td>15</td>\n",
       "    </tr>\n",
       "    <tr>\n",
       "      <th>12448</th>\n",
       "      <td>Post-Workout Mattifying Moisturizer</td>\n",
       "      <td>[Water, Isododecane, Butylene Glycol, Polyprop...</td>\n",
       "      <td>[0, 1387, 2, 593, 50, 85, 23, 304, 284, 140, 4...</td>\n",
       "      <td>14</td>\n",
       "    </tr>\n",
       "    <tr>\n",
       "      <th>855</th>\n",
       "      <td>Dramatically Different Moisturizing Lotion+ wi...</td>\n",
       "      <td>[Water, Mineral Oil, Glycerin, Petrolatum, Gly...</td>\n",
       "      <td>[0, 22, 23, 47, 26, 3, 298, 869, 538, 322, 140...</td>\n",
       "      <td>10</td>\n",
       "    </tr>\n",
       "    <tr>\n",
       "      <th>5289</th>\n",
       "      <td>Line Refiner</td>\n",
       "      <td>[Water, Caprylic/Capric Triglyceride, Tridecyl...</td>\n",
       "      <td>[0, 148, 931, 930, 178, 169, 1007, 233, 296, 2...</td>\n",
       "      <td>8</td>\n",
       "    </tr>\n",
       "    <tr>\n",
       "      <th>10167</th>\n",
       "      <td>Anti-Age Firming Cream</td>\n",
       "      <td>[Water, Soluble Collagen, Caprylic/Capric Trig...</td>\n",
       "      <td>[0, 219, 148, 169, 23, 361, 1069, 930, 931, 50...</td>\n",
       "      <td>12</td>\n",
       "    </tr>\n",
       "    <tr>\n",
       "      <th>8336</th>\n",
       "      <td>Clear Bloom</td>\n",
       "      <td>[Cetyl Ethylhexanoate, Tridecyl Stearate, Trid...</td>\n",
       "      <td>[428, 930, 931, 908, 932, 238, 178, 696, 2, 37...</td>\n",
       "      <td>5</td>\n",
       "    </tr>\n",
       "    <tr>\n",
       "      <th>1450</th>\n",
       "      <td>Redness Solutions Soothing Cleanser</td>\n",
       "      <td>[Water, Squalane, Glycerin, Butylene Glycol, P...</td>\n",
       "      <td>[0, 326, 23, 2, 88, 4, 140, 322, 151, 557, 152...</td>\n",
       "      <td>10</td>\n",
       "    </tr>\n",
       "    <tr>\n",
       "      <th>243</th>\n",
       "      <td>Anti-Age Moisturizer</td>\n",
       "      <td>[Water, Squalane, Glycerin, Isostearyl Neopent...</td>\n",
       "      <td>[0, 326, 23, 965, 237, 2, 632, 233, 50, 494, 2...</td>\n",
       "      <td>13</td>\n",
       "    </tr>\n",
       "    <tr>\n",
       "      <th>15462</th>\n",
       "      <td>Liquid Facial Soap Extra Mild</td>\n",
       "      <td>[Water, Caprylic/Capric Triglyceride, Glycerin...</td>\n",
       "      <td>[0, 148, 23, 149, 2, 88, 140, 322, 674, 50, 10...</td>\n",
       "      <td>11</td>\n",
       "    </tr>\n",
       "    <tr>\n",
       "      <th>892</th>\n",
       "      <td>Oil Control Mattifying Moisturizer</td>\n",
       "      <td>[Water, Dimethicone, Isododecane, Butylene Gly...</td>\n",
       "      <td>[0, 50, 1387, 2, 85, 23, 526, 471, 284, 1052, ...</td>\n",
       "      <td>12</td>\n",
       "    </tr>\n",
       "  </tbody>\n",
       "</table>\n",
       "</div>"
      ],
      "text/plain": [
       "                                                 product  \\\n",
       "1156                   Broad Spectrum SPF 21 Moisturizer   \n",
       "12448                Post-Workout Mattifying Moisturizer   \n",
       "855    Dramatically Different Moisturizing Lotion+ wi...   \n",
       "5289                                        Line Refiner   \n",
       "10167                             Anti-Age Firming Cream   \n",
       "8336                                         Clear Bloom   \n",
       "1450                 Redness Solutions Soothing Cleanser   \n",
       "243                                 Anti-Age Moisturizer   \n",
       "15462                      Liquid Facial Soap Extra Mild   \n",
       "892                   Oil Control Mattifying Moisturizer   \n",
       "\n",
       "                                                 ingList  \\\n",
       "1156   [Cinoxate, Ethylhexyl Salicylate, Benzophenone...   \n",
       "12448  [Water, Isododecane, Butylene Glycol, Polyprop...   \n",
       "855    [Water, Mineral Oil, Glycerin, Petrolatum, Gly...   \n",
       "5289   [Water, Caprylic/Capric Triglyceride, Tridecyl...   \n",
       "10167  [Water, Soluble Collagen, Caprylic/Capric Trig...   \n",
       "8336   [Cetyl Ethylhexanoate, Tridecyl Stearate, Trid...   \n",
       "1450   [Water, Squalane, Glycerin, Butylene Glycol, P...   \n",
       "243    [Water, Squalane, Glycerin, Isostearyl Neopent...   \n",
       "15462  [Water, Caprylic/Capric Triglyceride, Glycerin...   \n",
       "892    [Water, Dimethicone, Isododecane, Butylene Gly...   \n",
       "\n",
       "                                                ing#List  commonIng  \n",
       "1156   [333, 274, 275, 1199, 0, 2, 50, 765, 46, 102, ...         15  \n",
       "12448  [0, 1387, 2, 593, 50, 85, 23, 304, 284, 140, 4...         14  \n",
       "855    [0, 22, 23, 47, 26, 3, 298, 869, 538, 322, 140...         10  \n",
       "5289   [0, 148, 931, 930, 178, 169, 1007, 233, 296, 2...          8  \n",
       "10167  [0, 219, 148, 169, 23, 361, 1069, 930, 931, 50...         12  \n",
       "8336   [428, 930, 931, 908, 932, 238, 178, 696, 2, 37...          5  \n",
       "1450   [0, 326, 23, 2, 88, 4, 140, 322, 151, 557, 152...         10  \n",
       "243    [0, 326, 23, 965, 237, 2, 632, 233, 50, 494, 2...         13  \n",
       "15462  [0, 148, 23, 149, 2, 88, 140, 322, 674, 50, 10...         11  \n",
       "892    [0, 50, 1387, 2, 85, 23, 526, 471, 284, 1052, ...         12  "
      ]
     },
     "execution_count": 108,
     "metadata": {},
     "output_type": "execute_result"
    }
   ],
   "source": [
    "topTen"
   ]
  },
  {
   "cell_type": "markdown",
   "metadata": {},
   "source": [
    "## Average Overlap"
   ]
  },
  {
   "cell_type": "code",
   "execution_count": 111,
   "metadata": {},
   "outputs": [
    {
     "ename": "NameError",
     "evalue": "name 'ast' is not defined",
     "output_type": "error",
     "traceback": [
      "\u001b[0;31m---------------------------------------------------------------------------\u001b[0m",
      "\u001b[0;31mNameError\u001b[0m                                 Traceback (most recent call last)",
      "\u001b[0;32m<ipython-input-111-ba360b8875fa>\u001b[0m in \u001b[0;36m<module>\u001b[0;34m()\u001b[0m\n\u001b[0;32m----> 1\u001b[0;31m \u001b[0mget_ipython\u001b[0m\u001b[1;33m(\u001b[0m\u001b[1;33m)\u001b[0m\u001b[1;33m.\u001b[0m\u001b[0mrun_cell_magic\u001b[0m\u001b[1;33m(\u001b[0m\u001b[1;34m'time'\u001b[0m\u001b[1;33m,\u001b[0m \u001b[1;34m''\u001b[0m\u001b[1;33m,\u001b[0m \u001b[1;34m\"\\nrecommended = get_A0_recommendations(df,product)\\ntopTen = pd.DataFrame(recommended)\\ncommonItems(product, topTen, df)\\nrecommended.to_csv('recommendations/AO.csv')\"\u001b[0m\u001b[1;33m)\u001b[0m\u001b[1;33m\u001b[0m\u001b[0m\n\u001b[0m",
      "\u001b[0;32mc:\\users\\isabelbeard\\anaconda3\\lib\\site-packages\\IPython\\core\\interactiveshell.py\u001b[0m in \u001b[0;36mrun_cell_magic\u001b[0;34m(self, magic_name, line, cell)\u001b[0m\n\u001b[1;32m   2113\u001b[0m             \u001b[0mmagic_arg_s\u001b[0m \u001b[1;33m=\u001b[0m \u001b[0mself\u001b[0m\u001b[1;33m.\u001b[0m\u001b[0mvar_expand\u001b[0m\u001b[1;33m(\u001b[0m\u001b[0mline\u001b[0m\u001b[1;33m,\u001b[0m \u001b[0mstack_depth\u001b[0m\u001b[1;33m)\u001b[0m\u001b[1;33m\u001b[0m\u001b[0m\n\u001b[1;32m   2114\u001b[0m             \u001b[1;32mwith\u001b[0m \u001b[0mself\u001b[0m\u001b[1;33m.\u001b[0m\u001b[0mbuiltin_trap\u001b[0m\u001b[1;33m:\u001b[0m\u001b[1;33m\u001b[0m\u001b[0m\n\u001b[0;32m-> 2115\u001b[0;31m                 \u001b[0mresult\u001b[0m \u001b[1;33m=\u001b[0m \u001b[0mfn\u001b[0m\u001b[1;33m(\u001b[0m\u001b[0mmagic_arg_s\u001b[0m\u001b[1;33m,\u001b[0m \u001b[0mcell\u001b[0m\u001b[1;33m)\u001b[0m\u001b[1;33m\u001b[0m\u001b[0m\n\u001b[0m\u001b[1;32m   2116\u001b[0m             \u001b[1;32mreturn\u001b[0m \u001b[0mresult\u001b[0m\u001b[1;33m\u001b[0m\u001b[0m\n\u001b[1;32m   2117\u001b[0m \u001b[1;33m\u001b[0m\u001b[0m\n",
      "\u001b[0;32m<decorator-gen-60>\u001b[0m in \u001b[0;36mtime\u001b[0;34m(self, line, cell, local_ns)\u001b[0m\n",
      "\u001b[0;32mc:\\users\\isabelbeard\\anaconda3\\lib\\site-packages\\IPython\\core\\magic.py\u001b[0m in \u001b[0;36m<lambda>\u001b[0;34m(f, *a, **k)\u001b[0m\n\u001b[1;32m    186\u001b[0m     \u001b[1;31m# but it's overkill for just that one bit of state.\u001b[0m\u001b[1;33m\u001b[0m\u001b[1;33m\u001b[0m\u001b[0m\n\u001b[1;32m    187\u001b[0m     \u001b[1;32mdef\u001b[0m \u001b[0mmagic_deco\u001b[0m\u001b[1;33m(\u001b[0m\u001b[0marg\u001b[0m\u001b[1;33m)\u001b[0m\u001b[1;33m:\u001b[0m\u001b[1;33m\u001b[0m\u001b[0m\n\u001b[0;32m--> 188\u001b[0;31m         \u001b[0mcall\u001b[0m \u001b[1;33m=\u001b[0m \u001b[1;32mlambda\u001b[0m \u001b[0mf\u001b[0m\u001b[1;33m,\u001b[0m \u001b[1;33m*\u001b[0m\u001b[0ma\u001b[0m\u001b[1;33m,\u001b[0m \u001b[1;33m**\u001b[0m\u001b[0mk\u001b[0m\u001b[1;33m:\u001b[0m \u001b[0mf\u001b[0m\u001b[1;33m(\u001b[0m\u001b[1;33m*\u001b[0m\u001b[0ma\u001b[0m\u001b[1;33m,\u001b[0m \u001b[1;33m**\u001b[0m\u001b[0mk\u001b[0m\u001b[1;33m)\u001b[0m\u001b[1;33m\u001b[0m\u001b[0m\n\u001b[0m\u001b[1;32m    189\u001b[0m \u001b[1;33m\u001b[0m\u001b[0m\n\u001b[1;32m    190\u001b[0m         \u001b[1;32mif\u001b[0m \u001b[0mcallable\u001b[0m\u001b[1;33m(\u001b[0m\u001b[0marg\u001b[0m\u001b[1;33m)\u001b[0m\u001b[1;33m:\u001b[0m\u001b[1;33m\u001b[0m\u001b[0m\n",
      "\u001b[0;32mc:\\users\\isabelbeard\\anaconda3\\lib\\site-packages\\IPython\\core\\magics\\execution.py\u001b[0m in \u001b[0;36mtime\u001b[0;34m(self, line, cell, local_ns)\u001b[0m\n\u001b[1;32m   1178\u001b[0m         \u001b[1;32melse\u001b[0m\u001b[1;33m:\u001b[0m\u001b[1;33m\u001b[0m\u001b[0m\n\u001b[1;32m   1179\u001b[0m             \u001b[0mst\u001b[0m \u001b[1;33m=\u001b[0m \u001b[0mclock2\u001b[0m\u001b[1;33m(\u001b[0m\u001b[1;33m)\u001b[0m\u001b[1;33m\u001b[0m\u001b[0m\n\u001b[0;32m-> 1180\u001b[0;31m             \u001b[0mexec\u001b[0m\u001b[1;33m(\u001b[0m\u001b[0mcode\u001b[0m\u001b[1;33m,\u001b[0m \u001b[0mglob\u001b[0m\u001b[1;33m,\u001b[0m \u001b[0mlocal_ns\u001b[0m\u001b[1;33m)\u001b[0m\u001b[1;33m\u001b[0m\u001b[0m\n\u001b[0m\u001b[1;32m   1181\u001b[0m             \u001b[0mend\u001b[0m \u001b[1;33m=\u001b[0m \u001b[0mclock2\u001b[0m\u001b[1;33m(\u001b[0m\u001b[1;33m)\u001b[0m\u001b[1;33m\u001b[0m\u001b[0m\n\u001b[1;32m   1182\u001b[0m             \u001b[0mout\u001b[0m \u001b[1;33m=\u001b[0m \u001b[1;32mNone\u001b[0m\u001b[1;33m\u001b[0m\u001b[0m\n",
      "\u001b[0;32m<timed exec>\u001b[0m in \u001b[0;36m<module>\u001b[0;34m()\u001b[0m\n",
      "\u001b[0;32mC:\\Users\\IsabelBeard\\Google Drive\\My documents\\Data Science MSc\\Final Project\\fp-python\\getRecommendations.py\u001b[0m in \u001b[0;36mget_A0_recommendations\u001b[0;34m(df, product)\u001b[0m\n\u001b[1;32m     32\u001b[0m \u001b[1;33m\u001b[0m\u001b[0m\n\u001b[1;32m     33\u001b[0m \u001b[1;33m\u001b[0m\u001b[0m\n\u001b[0;32m---> 34\u001b[0;31m \u001b[1;32mdef\u001b[0m \u001b[0mget_A0_recommendations\u001b[0m\u001b[1;33m(\u001b[0m\u001b[0mdf\u001b[0m\u001b[1;33m,\u001b[0m \u001b[0mproduct\u001b[0m\u001b[1;33m)\u001b[0m\u001b[1;33m:\u001b[0m\u001b[1;33m\u001b[0m\u001b[0m\n\u001b[0m\u001b[1;32m     35\u001b[0m     \u001b[0mdf\u001b[0m\u001b[1;33m[\u001b[0m\u001b[1;34m'ing#List'\u001b[0m\u001b[1;33m]\u001b[0m \u001b[1;33m=\u001b[0m \u001b[1;33m[\u001b[0m\u001b[0mast\u001b[0m\u001b[1;33m.\u001b[0m\u001b[0mliteral_eval\u001b[0m\u001b[1;33m(\u001b[0m\u001b[0mi\u001b[0m\u001b[1;33m)\u001b[0m \u001b[1;32mfor\u001b[0m \u001b[0mi\u001b[0m \u001b[1;32min\u001b[0m \u001b[0mdf\u001b[0m\u001b[1;33m[\u001b[0m\u001b[1;34m'ing#List'\u001b[0m\u001b[1;33m]\u001b[0m\u001b[1;33m]\u001b[0m\u001b[1;33m\u001b[0m\u001b[0m\n\u001b[1;32m     36\u001b[0m     \u001b[0mindices\u001b[0m \u001b[1;33m=\u001b[0m \u001b[0mpd\u001b[0m\u001b[1;33m.\u001b[0m\u001b[0mSeries\u001b[0m\u001b[1;33m(\u001b[0m\u001b[0mdf\u001b[0m\u001b[1;33m.\u001b[0m\u001b[0mindex\u001b[0m\u001b[1;33m,\u001b[0m \u001b[0mindex\u001b[0m\u001b[1;33m=\u001b[0m\u001b[0mdf\u001b[0m\u001b[1;33m[\u001b[0m\u001b[1;34m'product'\u001b[0m\u001b[1;33m]\u001b[0m\u001b[1;33m)\u001b[0m\u001b[1;33m.\u001b[0m\u001b[0mdrop_duplicates\u001b[0m\u001b[1;33m(\u001b[0m\u001b[1;33m)\u001b[0m\u001b[1;33m\u001b[0m\u001b[0m\n",
      "\u001b[0;32mC:\\Users\\IsabelBeard\\Google Drive\\My documents\\Data Science MSc\\Final Project\\fp-python\\getRecommendations.py\u001b[0m in \u001b[0;36m<listcomp>\u001b[0;34m(.0)\u001b[0m\n\u001b[1;32m     32\u001b[0m \u001b[1;33m\u001b[0m\u001b[0m\n\u001b[1;32m     33\u001b[0m \u001b[1;33m\u001b[0m\u001b[0m\n\u001b[0;32m---> 34\u001b[0;31m \u001b[1;32mdef\u001b[0m \u001b[0mget_A0_recommendations\u001b[0m\u001b[1;33m(\u001b[0m\u001b[0mdf\u001b[0m\u001b[1;33m,\u001b[0m \u001b[0mproduct\u001b[0m\u001b[1;33m)\u001b[0m\u001b[1;33m:\u001b[0m\u001b[1;33m\u001b[0m\u001b[0m\n\u001b[0m\u001b[1;32m     35\u001b[0m     \u001b[0mdf\u001b[0m\u001b[1;33m[\u001b[0m\u001b[1;34m'ing#List'\u001b[0m\u001b[1;33m]\u001b[0m \u001b[1;33m=\u001b[0m \u001b[1;33m[\u001b[0m\u001b[0mast\u001b[0m\u001b[1;33m.\u001b[0m\u001b[0mliteral_eval\u001b[0m\u001b[1;33m(\u001b[0m\u001b[0mi\u001b[0m\u001b[1;33m)\u001b[0m \u001b[1;32mfor\u001b[0m \u001b[0mi\u001b[0m \u001b[1;32min\u001b[0m \u001b[0mdf\u001b[0m\u001b[1;33m[\u001b[0m\u001b[1;34m'ing#List'\u001b[0m\u001b[1;33m]\u001b[0m\u001b[1;33m]\u001b[0m\u001b[1;33m\u001b[0m\u001b[0m\n\u001b[1;32m     36\u001b[0m     \u001b[0mindices\u001b[0m \u001b[1;33m=\u001b[0m \u001b[0mpd\u001b[0m\u001b[1;33m.\u001b[0m\u001b[0mSeries\u001b[0m\u001b[1;33m(\u001b[0m\u001b[0mdf\u001b[0m\u001b[1;33m.\u001b[0m\u001b[0mindex\u001b[0m\u001b[1;33m,\u001b[0m \u001b[0mindex\u001b[0m\u001b[1;33m=\u001b[0m\u001b[0mdf\u001b[0m\u001b[1;33m[\u001b[0m\u001b[1;34m'product'\u001b[0m\u001b[1;33m]\u001b[0m\u001b[1;33m)\u001b[0m\u001b[1;33m.\u001b[0m\u001b[0mdrop_duplicates\u001b[0m\u001b[1;33m(\u001b[0m\u001b[1;33m)\u001b[0m\u001b[1;33m\u001b[0m\u001b[0m\n",
      "\u001b[0;31mNameError\u001b[0m: name 'ast' is not defined"
     ]
    }
   ],
   "source": [
    "%%time\n",
    "\n",
    "recommended = get_A0_recommendations(df,product)\n",
    "topTen = pd.DataFrame(recommended)\n",
    "commonItems(product, topTen, df)\n",
    "recommended.to_csv('recommendations/AO.csv')"
   ]
  },
  {
   "cell_type": "code",
   "execution_count": null,
   "metadata": {},
   "outputs": [],
   "source": [
    "topTen"
   ]
  },
  {
   "cell_type": "markdown",
   "metadata": {},
   "source": [
    "## RBO similarity measure\n",
    "\n",
    "Based on code found [here](https://github.com/dlukes/rbo/blob/master/rbo.py)"
   ]
  },
  {
   "cell_type": "code",
   "execution_count": 15,
   "metadata": {},
   "outputs": [
    {
     "name": "stdout",
     "output_type": "stream",
     "text": [
      "                                             product  \\\n",
      "13960          Anti-Blemish Solutions Cleansing Foam   \n",
      "14697                    Anti-hangover soothing mask   \n",
      "15216             Time Revolution Vitality Eye Cream   \n",
      "5987        Intensive Care Healing Serum Deep Repair   \n",
      "6140    Intensive Care Healing Serum Advanced Relief   \n",
      "2524                     RESIST Anti-Aging Eye Cream   \n",
      "1916                        Lala Retro Whipped Cream   \n",
      "5936   Intensive Care Healing Serum Radiance Restore   \n",
      "6296          Coconut & Hibiscus Facial Wash & Scrub   \n",
      "5040             Blemishes No More Oil-Free Hydrator   \n",
      "\n",
      "                                                 ingList  \n",
      "13960  ['Water', 'Glycerin', 'Butylene Glycol', 'Sodi...  \n",
      "14697  ['Water', 'Glycerin', 'Butylene Glycol', '1,2-...  \n",
      "15216  ['Water', 'Glycerin', 'Cyclopentasiloxane', 'H...  \n",
      "5987   ['Water', 'Glycerin', 'Dimethicone', 'Isopropy...  \n",
      "6140   ['Water', 'Glycerin', 'Dimethicone', 'Isopropy...  \n",
      "2524   ['Water', 'Butyrospermum Parkii (Shea) Butter'...  \n",
      "1916   ['Water', 'Glycerin', 'Isopropyl Isostearate',...  \n",
      "5936   ['Water', 'Glycerin', 'Dimethicone', 'Isopropy...  \n",
      "6296   ['Water', 'Kaolin', 'Bentonite', 'Cocos Nucife...  \n",
      "5040   ['Water', 'Glycerin', 'Silanediol Salicylate',...  \n",
      "Wall time: 48.7 s\n"
     ]
    }
   ],
   "source": [
    "%%time\n",
    "\n",
    "recommended = get_RBO_recommendations(df,product,rbo_min)\n",
    "recommended.to_csv('recommendations/RBO_min.csv')\n",
    "print(recommended)"
   ]
  },
  {
   "cell_type": "code",
   "execution_count": 16,
   "metadata": {},
   "outputs": [
    {
     "name": "stdout",
     "output_type": "stream",
     "text": [
      "                                             product  \\\n",
      "3237                                 Acerola Extract   \n",
      "6146                         Citrus Ginger Argan Oil   \n",
      "10852                           Fish Collagen Powder   \n",
      "6018                               Coconut Argan Oil   \n",
      "10833                                         Profix   \n",
      "5647                      Cucumber De-Tox Water Mist   \n",
      "9964    Brightening Facial Tonic With Organic Orange   \n",
      "2645             Rosaclear Metronidazole Topical Gel   \n",
      "9927                              Hibiscus Face Mask   \n",
      "3682   Michael Todd SPF 18 Tinted Lip Protector Trio   \n",
      "\n",
      "                                                 ingList  \n",
      "3237   ['Water', 'Butylene Glycol', 'Malpighia Glabra...  \n",
      "6146   ['Argania Spinosa (Argan) Oil', 'Citrus limon ...  \n",
      "10852  ['Hydrolyzed Collagen', 'Dextrin', 'Glucose', ...  \n",
      "6018   ['Argania Spinosa (Argan) Oil', 'Cocos Nucifer...  \n",
      "10833  ['Water', 'Carbomer', 'Tocopherol (Vitamin E',...  \n",
      "5647   ['Water', 'Butylene Glycol', 'Polysorbate 80',...  \n",
      "9964   ['Water', 'Citrus Sinensis (Sweet Orange', 'Ci...  \n",
      "2645   ['Imidazole', 'Methylparaben', 'Disodium EDTA'...  \n",
      "9927   ['Oryza Sativa (Rice) Powder', 'Hibiscus Sabda...  \n",
      "3682   ['Mentha Piperita (Peppermint) Oil', 'Tocopher...  \n",
      "Wall time: 1min 49s\n"
     ]
    }
   ],
   "source": [
    "%%time\n",
    "\n",
    "recommended = get_RBO_recommendations(df,product,rbo_ext)\n",
    "recommended.to_csv('recommendations/RBO_ext.csv')\n",
    "print(recommended)"
   ]
  },
  {
   "cell_type": "code",
   "execution_count": 58,
   "metadata": {},
   "outputs": [
    {
     "data": {
      "text/plain": [
       "['Sodium Palm Kernelate',\n",
       " 'Water',\n",
       " 'Petrolatum',\n",
       " 'Glycerin',\n",
       " 'Sodium Chloride',\n",
       " 'Trisodium HEDTA',\n",
       " 'Titanium Dioxide',\n",
       " 'Iron Oxides',\n",
       " 'Yellow 5 Lake']"
      ]
     },
     "execution_count": 58,
     "metadata": {},
     "output_type": "execute_result"
    }
   ],
   "source": [
    "import ast\n",
    "ast.literal_eval(list1)"
   ]
  },
  {
   "cell_type": "code",
   "execution_count": 55,
   "metadata": {},
   "outputs": [
    {
     "data": {
      "text/plain": [
       "\"['Sodium Palm Kernelate', 'Water', 'Petrolatum', 'Glycerin', 'Sodium Chloride', 'Trisodium HEDTA', 'Titanium Dioxide', 'Iron Oxides', 'Yellow 5 Lake']\""
      ]
     },
     "execution_count": 55,
     "metadata": {},
     "output_type": "execute_result"
    }
   ],
   "source": [
    "list1"
   ]
  },
  {
   "cell_type": "code",
   "execution_count": 72,
   "metadata": {},
   "outputs": [],
   "source": [
    "list1 = ast.literal_eval(df.loc[14697]['ingList'])\n",
    "list2 = ast.literal_eval(df.loc[13960]['ingList'])\n",
    "list3 = set(list1)&set(list2)"
   ]
  },
  {
   "cell_type": "code",
   "execution_count": 76,
   "metadata": {},
   "outputs": [
    {
     "data": {
      "text/plain": [
       "3"
      ]
     },
     "execution_count": 76,
     "metadata": {},
     "output_type": "execute_result"
    }
   ],
   "source": [
    "len(list3)"
   ]
  },
  {
   "cell_type": "code",
   "execution_count": 100,
   "metadata": {},
   "outputs": [],
   "source": []
  },
  {
   "cell_type": "code",
   "execution_count": 101,
   "metadata": {},
   "outputs": [],
   "source": [
    "commonItems(product, topTen, df)\n"
   ]
  },
  {
   "cell_type": "code",
   "execution_count": 103,
   "metadata": {},
   "outputs": [
    {
     "data": {
      "text/html": [
       "<div>\n",
       "<table border=\"1\" class=\"dataframe\">\n",
       "  <thead>\n",
       "    <tr style=\"text-align: right;\">\n",
       "      <th></th>\n",
       "      <th>product</th>\n",
       "      <th>ingList</th>\n",
       "      <th>ing#List</th>\n",
       "      <th>commonIng</th>\n",
       "    </tr>\n",
       "  </thead>\n",
       "  <tbody>\n",
       "    <tr>\n",
       "      <th>1156</th>\n",
       "      <td>Broad Spectrum SPF 21 Moisturizer</td>\n",
       "      <td>[Cinoxate, Ethylhexyl Salicylate, Benzophenone...</td>\n",
       "      <td>[333, 274, 275, 1199, 0, 2, 50, 765, 46, 102, ...</td>\n",
       "      <td>15</td>\n",
       "    </tr>\n",
       "    <tr>\n",
       "      <th>12448</th>\n",
       "      <td>Post-Workout Mattifying Moisturizer</td>\n",
       "      <td>[Water, Isododecane, Butylene Glycol, Polyprop...</td>\n",
       "      <td>[0, 1387, 2, 593, 50, 85, 23, 304, 284, 140, 4...</td>\n",
       "      <td>14</td>\n",
       "    </tr>\n",
       "    <tr>\n",
       "      <th>855</th>\n",
       "      <td>Dramatically Different Moisturizing Lotion+ wi...</td>\n",
       "      <td>[Water, Mineral Oil, Glycerin, Petrolatum, Gly...</td>\n",
       "      <td>[0, 22, 23, 47, 26, 3, 298, 869, 538, 322, 140...</td>\n",
       "      <td>10</td>\n",
       "    </tr>\n",
       "    <tr>\n",
       "      <th>5289</th>\n",
       "      <td>Line Refiner</td>\n",
       "      <td>[Water, Caprylic/Capric Triglyceride, Tridecyl...</td>\n",
       "      <td>[0, 148, 931, 930, 178, 169, 1007, 233, 296, 2...</td>\n",
       "      <td>8</td>\n",
       "    </tr>\n",
       "    <tr>\n",
       "      <th>10167</th>\n",
       "      <td>Anti-Age Firming Cream</td>\n",
       "      <td>[Water, Soluble Collagen, Caprylic/Capric Trig...</td>\n",
       "      <td>[0, 219, 148, 169, 23, 361, 1069, 930, 931, 50...</td>\n",
       "      <td>12</td>\n",
       "    </tr>\n",
       "    <tr>\n",
       "      <th>8336</th>\n",
       "      <td>Clear Bloom</td>\n",
       "      <td>[Cetyl Ethylhexanoate, Tridecyl Stearate, Trid...</td>\n",
       "      <td>[428, 930, 931, 908, 932, 238, 178, 696, 2, 37...</td>\n",
       "      <td>5</td>\n",
       "    </tr>\n",
       "    <tr>\n",
       "      <th>1450</th>\n",
       "      <td>Redness Solutions Soothing Cleanser</td>\n",
       "      <td>[Water, Squalane, Glycerin, Butylene Glycol, P...</td>\n",
       "      <td>[0, 326, 23, 2, 88, 4, 140, 322, 151, 557, 152...</td>\n",
       "      <td>10</td>\n",
       "    </tr>\n",
       "    <tr>\n",
       "      <th>243</th>\n",
       "      <td>Anti-Age Moisturizer</td>\n",
       "      <td>[Water, Squalane, Glycerin, Isostearyl Neopent...</td>\n",
       "      <td>[0, 326, 23, 965, 237, 2, 632, 233, 50, 494, 2...</td>\n",
       "      <td>13</td>\n",
       "    </tr>\n",
       "    <tr>\n",
       "      <th>15462</th>\n",
       "      <td>Liquid Facial Soap Extra Mild</td>\n",
       "      <td>[Water, Caprylic/Capric Triglyceride, Glycerin...</td>\n",
       "      <td>[0, 148, 23, 149, 2, 88, 140, 322, 674, 50, 10...</td>\n",
       "      <td>11</td>\n",
       "    </tr>\n",
       "    <tr>\n",
       "      <th>892</th>\n",
       "      <td>Oil Control Mattifying Moisturizer</td>\n",
       "      <td>[Water, Dimethicone, Isododecane, Butylene Gly...</td>\n",
       "      <td>[0, 50, 1387, 2, 85, 23, 526, 471, 284, 1052, ...</td>\n",
       "      <td>12</td>\n",
       "    </tr>\n",
       "  </tbody>\n",
       "</table>\n",
       "</div>"
      ],
      "text/plain": [
       "                                                 product  \\\n",
       "1156                   Broad Spectrum SPF 21 Moisturizer   \n",
       "12448                Post-Workout Mattifying Moisturizer   \n",
       "855    Dramatically Different Moisturizing Lotion+ wi...   \n",
       "5289                                        Line Refiner   \n",
       "10167                             Anti-Age Firming Cream   \n",
       "8336                                         Clear Bloom   \n",
       "1450                 Redness Solutions Soothing Cleanser   \n",
       "243                                 Anti-Age Moisturizer   \n",
       "15462                      Liquid Facial Soap Extra Mild   \n",
       "892                   Oil Control Mattifying Moisturizer   \n",
       "\n",
       "                                                 ingList  \\\n",
       "1156   [Cinoxate, Ethylhexyl Salicylate, Benzophenone...   \n",
       "12448  [Water, Isododecane, Butylene Glycol, Polyprop...   \n",
       "855    [Water, Mineral Oil, Glycerin, Petrolatum, Gly...   \n",
       "5289   [Water, Caprylic/Capric Triglyceride, Tridecyl...   \n",
       "10167  [Water, Soluble Collagen, Caprylic/Capric Trig...   \n",
       "8336   [Cetyl Ethylhexanoate, Tridecyl Stearate, Trid...   \n",
       "1450   [Water, Squalane, Glycerin, Butylene Glycol, P...   \n",
       "243    [Water, Squalane, Glycerin, Isostearyl Neopent...   \n",
       "15462  [Water, Caprylic/Capric Triglyceride, Glycerin...   \n",
       "892    [Water, Dimethicone, Isododecane, Butylene Gly...   \n",
       "\n",
       "                                                ing#List  commonIng  \n",
       "1156   [333, 274, 275, 1199, 0, 2, 50, 765, 46, 102, ...         15  \n",
       "12448  [0, 1387, 2, 593, 50, 85, 23, 304, 284, 140, 4...         14  \n",
       "855    [0, 22, 23, 47, 26, 3, 298, 869, 538, 322, 140...         10  \n",
       "5289   [0, 148, 931, 930, 178, 169, 1007, 233, 296, 2...          8  \n",
       "10167  [0, 219, 148, 169, 23, 361, 1069, 930, 931, 50...         12  \n",
       "8336   [428, 930, 931, 908, 932, 238, 178, 696, 2, 37...          5  \n",
       "1450   [0, 326, 23, 2, 88, 4, 140, 322, 151, 557, 152...         10  \n",
       "243    [0, 326, 23, 965, 237, 2, 632, 233, 50, 494, 2...         13  \n",
       "15462  [0, 148, 23, 149, 2, 88, 140, 322, 674, 50, 10...         11  \n",
       "892    [0, 50, 1387, 2, 85, 23, 526, 471, 284, 1052, ...         12  "
      ]
     },
     "execution_count": 103,
     "metadata": {},
     "output_type": "execute_result"
    }
   ],
   "source": [
    "topTen"
   ]
  },
  {
   "cell_type": "code",
   "execution_count": null,
   "metadata": {},
   "outputs": [],
   "source": []
  }
 ],
 "metadata": {
  "kernelspec": {
   "display_name": "Python 3",
   "language": "python",
   "name": "python3"
  },
  "language_info": {
   "codemirror_mode": {
    "name": "ipython",
    "version": 3
   },
   "file_extension": ".py",
   "mimetype": "text/x-python",
   "name": "python",
   "nbconvert_exporter": "python",
   "pygments_lexer": "ipython3",
   "version": "3.6.0"
  }
 },
 "nbformat": 4,
 "nbformat_minor": 2
}
