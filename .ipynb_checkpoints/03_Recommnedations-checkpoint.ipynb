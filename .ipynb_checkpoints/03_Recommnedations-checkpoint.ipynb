{
 "cells": [
  {
   "cell_type": "code",
   "execution_count": 68,
   "metadata": {},
   "outputs": [],
   "source": [
    "import pickle\n",
    "import pandas as pd\n",
    "from RBO import *\n",
    "from getRecommendations import *"
   ]
  },
  {
   "cell_type": "markdown",
   "metadata": {},
   "source": [
    "## Load product CSV"
   ]
  },
  {
   "cell_type": "code",
   "execution_count": 69,
   "metadata": {},
   "outputs": [
    {
     "data": {
      "text/html": [
       "<div>\n",
       "<table border=\"1\" class=\"dataframe\">\n",
       "  <thead>\n",
       "    <tr style=\"text-align: right;\">\n",
       "      <th></th>\n",
       "      <th>id</th>\n",
       "      <th>ingList</th>\n",
       "      <th>ing#List</th>\n",
       "      <th>product</th>\n",
       "      <th>brand</th>\n",
       "      <th>price</th>\n",
       "      <th>rating</th>\n",
       "      <th>ratingsCount</th>\n",
       "      <th>cat_Acne&amp;BlemishTreatments</th>\n",
       "      <th>cat_Ampoules</th>\n",
       "      <th>...</th>\n",
       "      <th>note_Anti-Aging</th>\n",
       "      <th>note_Brightening</th>\n",
       "      <th>note_ContainsAlcohol</th>\n",
       "      <th>note_ContainsParaben</th>\n",
       "      <th>note_ContainsSulfate</th>\n",
       "      <th>note_ParabenFree</th>\n",
       "      <th>note_PromotesWoundHealing</th>\n",
       "      <th>note_SulfateFree</th>\n",
       "      <th>note_UVProtection</th>\n",
       "      <th>ingCount</th>\n",
       "    </tr>\n",
       "  </thead>\n",
       "  <tbody>\n",
       "    <tr>\n",
       "      <th>0</th>\n",
       "      <td>0</td>\n",
       "      <td>['Water', 'Hydrogenated Polyisobutene', 'Butyl...</td>\n",
       "      <td>[0, 1, 2, 3, 4, 5, 6, 7, 8, 9, 10, 11, 12, 13,...</td>\n",
       "      <td>Naturally Gentle Eye Makeup Remover</td>\n",
       "      <td>Clinique</td>\n",
       "      <td>20.00</td>\n",
       "      <td>5.0</td>\n",
       "      <td>16</td>\n",
       "      <td>0</td>\n",
       "      <td>0</td>\n",
       "      <td>...</td>\n",
       "      <td>0</td>\n",
       "      <td>0</td>\n",
       "      <td>0</td>\n",
       "      <td>1</td>\n",
       "      <td>0</td>\n",
       "      <td>0</td>\n",
       "      <td>0</td>\n",
       "      <td>1</td>\n",
       "      <td>0</td>\n",
       "      <td>22</td>\n",
       "    </tr>\n",
       "    <tr>\n",
       "      <th>1</th>\n",
       "      <td>2</td>\n",
       "      <td>['Water', 'Glycerin', 'Cetearyl Alcohol', 'Pet...</td>\n",
       "      <td>[0, 23, 46, 47, 48, 49, 50, 51, 52, 53, 54, 55...</td>\n",
       "      <td>Foot Cream Norwegian Formula</td>\n",
       "      <td>Neutrogena</td>\n",
       "      <td>23.82</td>\n",
       "      <td>4.9</td>\n",
       "      <td>84</td>\n",
       "      <td>0</td>\n",
       "      <td>0</td>\n",
       "      <td>...</td>\n",
       "      <td>0</td>\n",
       "      <td>1</td>\n",
       "      <td>0</td>\n",
       "      <td>1</td>\n",
       "      <td>0</td>\n",
       "      <td>0</td>\n",
       "      <td>1</td>\n",
       "      <td>1</td>\n",
       "      <td>0</td>\n",
       "      <td>20</td>\n",
       "    </tr>\n",
       "    <tr>\n",
       "      <th>2</th>\n",
       "      <td>3</td>\n",
       "      <td>['Water', 'Glycereth-26', 'Alcohol', 'Butylene...</td>\n",
       "      <td>[0, 62, 63, 2, 64, 65, 66, 67, 68, 69, 70, 71,...</td>\n",
       "      <td>Essential Power Skin Refiner_Moisture</td>\n",
       "      <td>Laneige</td>\n",
       "      <td>28.20</td>\n",
       "      <td>5.0</td>\n",
       "      <td>12</td>\n",
       "      <td>0</td>\n",
       "      <td>0</td>\n",
       "      <td>...</td>\n",
       "      <td>0</td>\n",
       "      <td>1</td>\n",
       "      <td>1</td>\n",
       "      <td>0</td>\n",
       "      <td>0</td>\n",
       "      <td>1</td>\n",
       "      <td>1</td>\n",
       "      <td>1</td>\n",
       "      <td>0</td>\n",
       "      <td>38</td>\n",
       "    </tr>\n",
       "  </tbody>\n",
       "</table>\n",
       "<p>3 rows × 47 columns</p>\n",
       "</div>"
      ],
      "text/plain": [
       "   id                                            ingList  \\\n",
       "0   0  ['Water', 'Hydrogenated Polyisobutene', 'Butyl...   \n",
       "1   2  ['Water', 'Glycerin', 'Cetearyl Alcohol', 'Pet...   \n",
       "2   3  ['Water', 'Glycereth-26', 'Alcohol', 'Butylene...   \n",
       "\n",
       "                                            ing#List  \\\n",
       "0  [0, 1, 2, 3, 4, 5, 6, 7, 8, 9, 10, 11, 12, 13,...   \n",
       "1  [0, 23, 46, 47, 48, 49, 50, 51, 52, 53, 54, 55...   \n",
       "2  [0, 62, 63, 2, 64, 65, 66, 67, 68, 69, 70, 71,...   \n",
       "\n",
       "                                 product       brand  price  rating  \\\n",
       "0    Naturally Gentle Eye Makeup Remover    Clinique  20.00     5.0   \n",
       "1           Foot Cream Norwegian Formula  Neutrogena  23.82     4.9   \n",
       "2  Essential Power Skin Refiner_Moisture     Laneige  28.20     5.0   \n",
       "\n",
       "   ratingsCount  cat_Acne&BlemishTreatments  cat_Ampoules    ...     \\\n",
       "0            16                           0             0    ...      \n",
       "1            84                           0             0    ...      \n",
       "2            12                           0             0    ...      \n",
       "\n",
       "   note_Anti-Aging  note_Brightening  note_ContainsAlcohol  \\\n",
       "0                0                 0                     0   \n",
       "1                0                 1                     0   \n",
       "2                0                 1                     1   \n",
       "\n",
       "   note_ContainsParaben  note_ContainsSulfate  note_ParabenFree  \\\n",
       "0                     1                     0                 0   \n",
       "1                     1                     0                 0   \n",
       "2                     0                     0                 1   \n",
       "\n",
       "   note_PromotesWoundHealing  note_SulfateFree  note_UVProtection  ingCount  \n",
       "0                          0                 1                  0        22  \n",
       "1                          1                 1                  0        20  \n",
       "2                          1                 1                  0        38  \n",
       "\n",
       "[3 rows x 47 columns]"
      ]
     },
     "execution_count": 69,
     "metadata": {},
     "output_type": "execute_result"
    }
   ],
   "source": [
    "df = pd.read_csv('recommendations/recommender_products.csv', encoding = \"ISO-8859-1\", index_col=0)\n",
    "df.head(3)"
   ]
  },
  {
   "cell_type": "markdown",
   "metadata": {},
   "source": [
    "# GET RECOMMENDATIONS"
   ]
  },
  {
   "cell_type": "code",
   "execution_count": 70,
   "metadata": {},
   "outputs": [
    {
     "name": "stdout",
     "output_type": "stream",
     "text": [
      "['Water', 'Glycerin', 'Dimethicone', 'Petrolatum', 'Tridecyl Stearate', 'Tridecyl Trimellitate', 'Polyglyceryl-10 Pentastearate', 'Behenyl Alcohol', 'Dipentaerythrityl Hexacaprylate/Hexacaprate', 'Cucumis Sativus (Cucumber) Fruit Extract', 'Hordeum Vulgare Extract', 'Sodium Stearoyl Lactylate', 'Caprylyl Glycol', 'Propylene Glycol Dicaprate', 'Helianthus Annuus (Sunflower) Seedcake', 'PEG-100 Stearate', 'Sodium Hyaluronate', 'Cetyl Alcohol', 'Butylene Glycol', 'Tromethamine', 'Carbomer', 'Phenoxyethanol', 'CI 19140', 'CI 15985', 'CI 17200']\n"
     ]
    }
   ],
   "source": [
    "product ='Dramatically Different Moisturizing Cream'\n",
    "ingTest = df[df['product'].str.match(product)]\n",
    "ingTest = ingTest['ingList']\n",
    "print(*ingTest, sep='\\n')"
   ]
  },
  {
   "cell_type": "code",
   "execution_count": null,
   "metadata": {},
   "outputs": [],
   "source": []
  },
  {
   "cell_type": "markdown",
   "metadata": {},
   "source": [
    "## Cosine similarity"
   ]
  },
  {
   "cell_type": "code",
   "execution_count": 71,
   "metadata": {},
   "outputs": [
    {
     "name": "stdout",
     "output_type": "stream",
     "text": [
      "                                                 product  \\\n",
      "1156                   Broad Spectrum SPF 21 Moisturizer   \n",
      "12448                Post-Workout Mattifying Moisturizer   \n",
      "855    Dramatically Different Moisturizing Lotion+ wi...   \n",
      "5289                                        Line Refiner   \n",
      "10167                             Anti-Age Firming Cream   \n",
      "8336                                         Clear Bloom   \n",
      "1450                 Redness Solutions Soothing Cleanser   \n",
      "243                                 Anti-Age Moisturizer   \n",
      "15462                      Liquid Facial Soap Extra Mild   \n",
      "892                   Oil Control Mattifying Moisturizer   \n",
      "\n",
      "                                                 ingList  \n",
      "1156   ['Cinoxate', 'Ethylhexyl Salicylate', 'Benzoph...  \n",
      "12448  ['Water', 'Isododecane', 'Butylene Glycol', 'P...  \n",
      "855    ['Water', 'Mineral Oil', 'Glycerin', 'Petrolat...  \n",
      "5289   ['Water', 'Caprylic/Capric Triglyceride', 'Tri...  \n",
      "10167  ['Water', 'Soluble Collagen', 'Caprylic/Capric...  \n",
      "8336   ['Cetyl Ethylhexanoate', 'Tridecyl Stearate', ...  \n",
      "1450   ['Water', 'Squalane', 'Glycerin', 'Butylene Gl...  \n",
      "243    ['Water', 'Squalane', 'Glycerin', 'Isostearyl ...  \n",
      "15462  ['Water', 'Caprylic/Capric Triglyceride', 'Gly...  \n",
      "892    ['Water', 'Dimethicone', 'Isododecane', 'Butyl...  \n",
      "Wall time: 10.3 s\n"
     ]
    }
   ],
   "source": [
    "%%time\n",
    "\n",
    "recommended = get_COS_recommendations(df,product)\n",
    "recommended.to_csv('recommendations/COS.csv')\n",
    "topTen = pd.DataFrame(recommended)\n"
   ]
  },
  {
   "cell_type": "code",
   "execution_count": 72,
   "metadata": {},
   "outputs": [
    {
     "data": {
      "text/html": [
       "<div>\n",
       "<table border=\"1\" class=\"dataframe\">\n",
       "  <thead>\n",
       "    <tr style=\"text-align: right;\">\n",
       "      <th></th>\n",
       "      <th>product</th>\n",
       "      <th>ingList</th>\n",
       "      <th>commonIng</th>\n",
       "    </tr>\n",
       "  </thead>\n",
       "  <tbody>\n",
       "    <tr>\n",
       "      <th>1156</th>\n",
       "      <td>Broad Spectrum SPF 21 Moisturizer</td>\n",
       "      <td>['Cinoxate', 'Ethylhexyl Salicylate', 'Benzoph...</td>\n",
       "      <td>0</td>\n",
       "    </tr>\n",
       "    <tr>\n",
       "      <th>12448</th>\n",
       "      <td>Post-Workout Mattifying Moisturizer</td>\n",
       "      <td>['Water', 'Isododecane', 'Butylene Glycol', 'P...</td>\n",
       "      <td>0</td>\n",
       "    </tr>\n",
       "    <tr>\n",
       "      <th>855</th>\n",
       "      <td>Dramatically Different Moisturizing Lotion+ wi...</td>\n",
       "      <td>['Water', 'Mineral Oil', 'Glycerin', 'Petrolat...</td>\n",
       "      <td>0</td>\n",
       "    </tr>\n",
       "    <tr>\n",
       "      <th>5289</th>\n",
       "      <td>Line Refiner</td>\n",
       "      <td>['Water', 'Caprylic/Capric Triglyceride', 'Tri...</td>\n",
       "      <td>0</td>\n",
       "    </tr>\n",
       "    <tr>\n",
       "      <th>10167</th>\n",
       "      <td>Anti-Age Firming Cream</td>\n",
       "      <td>['Water', 'Soluble Collagen', 'Caprylic/Capric...</td>\n",
       "      <td>0</td>\n",
       "    </tr>\n",
       "    <tr>\n",
       "      <th>8336</th>\n",
       "      <td>Clear Bloom</td>\n",
       "      <td>['Cetyl Ethylhexanoate', 'Tridecyl Stearate', ...</td>\n",
       "      <td>0</td>\n",
       "    </tr>\n",
       "    <tr>\n",
       "      <th>1450</th>\n",
       "      <td>Redness Solutions Soothing Cleanser</td>\n",
       "      <td>['Water', 'Squalane', 'Glycerin', 'Butylene Gl...</td>\n",
       "      <td>0</td>\n",
       "    </tr>\n",
       "    <tr>\n",
       "      <th>243</th>\n",
       "      <td>Anti-Age Moisturizer</td>\n",
       "      <td>['Water', 'Squalane', 'Glycerin', 'Isostearyl ...</td>\n",
       "      <td>0</td>\n",
       "    </tr>\n",
       "    <tr>\n",
       "      <th>15462</th>\n",
       "      <td>Liquid Facial Soap Extra Mild</td>\n",
       "      <td>['Water', 'Caprylic/Capric Triglyceride', 'Gly...</td>\n",
       "      <td>0</td>\n",
       "    </tr>\n",
       "    <tr>\n",
       "      <th>892</th>\n",
       "      <td>Oil Control Mattifying Moisturizer</td>\n",
       "      <td>['Water', 'Dimethicone', 'Isododecane', 'Butyl...</td>\n",
       "      <td>0</td>\n",
       "    </tr>\n",
       "  </tbody>\n",
       "</table>\n",
       "</div>"
      ],
      "text/plain": [
       "                                                 product  \\\n",
       "1156                   Broad Spectrum SPF 21 Moisturizer   \n",
       "12448                Post-Workout Mattifying Moisturizer   \n",
       "855    Dramatically Different Moisturizing Lotion+ wi...   \n",
       "5289                                        Line Refiner   \n",
       "10167                             Anti-Age Firming Cream   \n",
       "8336                                         Clear Bloom   \n",
       "1450                 Redness Solutions Soothing Cleanser   \n",
       "243                                 Anti-Age Moisturizer   \n",
       "15462                      Liquid Facial Soap Extra Mild   \n",
       "892                   Oil Control Mattifying Moisturizer   \n",
       "\n",
       "                                                 ingList  commonIng  \n",
       "1156   ['Cinoxate', 'Ethylhexyl Salicylate', 'Benzoph...          0  \n",
       "12448  ['Water', 'Isododecane', 'Butylene Glycol', 'P...          0  \n",
       "855    ['Water', 'Mineral Oil', 'Glycerin', 'Petrolat...          0  \n",
       "5289   ['Water', 'Caprylic/Capric Triglyceride', 'Tri...          0  \n",
       "10167  ['Water', 'Soluble Collagen', 'Caprylic/Capric...          0  \n",
       "8336   ['Cetyl Ethylhexanoate', 'Tridecyl Stearate', ...          0  \n",
       "1450   ['Water', 'Squalane', 'Glycerin', 'Butylene Gl...          0  \n",
       "243    ['Water', 'Squalane', 'Glycerin', 'Isostearyl ...          0  \n",
       "15462  ['Water', 'Caprylic/Capric Triglyceride', 'Gly...          0  \n",
       "892    ['Water', 'Dimethicone', 'Isododecane', 'Butyl...          0  "
      ]
     },
     "execution_count": 72,
     "metadata": {},
     "output_type": "execute_result"
    }
   ],
   "source": [
    "topTen['commonIng'] = 0\n",
    "topTen"
   ]
  },
  {
   "cell_type": "markdown",
   "metadata": {},
   "source": [
    "## Average Overlap"
   ]
  },
  {
   "cell_type": "code",
   "execution_count": 56,
   "metadata": {},
   "outputs": [
    {
     "name": "stdout",
     "output_type": "stream",
     "text": [
      "Wall time: 46.1 s\n"
     ]
    }
   ],
   "source": [
    "%%time\n",
    "\n",
    "recommended = get_A0_recommendations(df,product)\n",
    "recommended.to_csv('recommendations/AO.csv')\n",
    "topTen = pd.DataFrame(recommended)\n",
    "print(topTen)"
   ]
  },
  {
   "cell_type": "code",
   "execution_count": 58,
   "metadata": {},
   "outputs": [
    {
     "data": {
      "text/html": [
       "<div>\n",
       "<table border=\"1\" class=\"dataframe\">\n",
       "  <thead>\n",
       "    <tr style=\"text-align: right;\">\n",
       "      <th></th>\n",
       "      <th>product</th>\n",
       "      <th>ingList</th>\n",
       "      <th>commonIng</th>\n",
       "    </tr>\n",
       "  </thead>\n",
       "  <tbody>\n",
       "    <tr>\n",
       "      <th>13960</th>\n",
       "      <td>Anti-Blemish Solutions Cleansing Foam</td>\n",
       "      <td>['Water', 'Glycerin', 'Butylene Glycol', 'Sodi...</td>\n",
       "      <td>0</td>\n",
       "    </tr>\n",
       "    <tr>\n",
       "      <th>14697</th>\n",
       "      <td>Anti-hangover soothing mask</td>\n",
       "      <td>['Water', 'Glycerin', 'Butylene Glycol', '1,2-...</td>\n",
       "      <td>0</td>\n",
       "    </tr>\n",
       "    <tr>\n",
       "      <th>5876</th>\n",
       "      <td>Age-Defying+ Face Sheet Mask</td>\n",
       "      <td>['Water', 'Calendula Officinalis Flower Extrac...</td>\n",
       "      <td>0</td>\n",
       "    </tr>\n",
       "    <tr>\n",
       "      <th>3937</th>\n",
       "      <td>Botanical Effects Freshen 2</td>\n",
       "      <td>['Water', 'Butylene Glycol', 'PEG-32', 'Glycer...</td>\n",
       "      <td>0</td>\n",
       "    </tr>\n",
       "    <tr>\n",
       "      <th>1214</th>\n",
       "      <td>Sake Brewing Skin Care Lotion</td>\n",
       "      <td>['Water', 'Butylene Glycol', 'Rice Ferment Fil...</td>\n",
       "      <td>0</td>\n",
       "    </tr>\n",
       "    <tr>\n",
       "      <th>5987</th>\n",
       "      <td>Intensive Care Healing Serum Deep Repair</td>\n",
       "      <td>['Water', 'Glycerin', 'Dimethicone', 'Isopropy...</td>\n",
       "      <td>0</td>\n",
       "    </tr>\n",
       "    <tr>\n",
       "      <th>6140</th>\n",
       "      <td>Intensive Care Healing Serum Advanced Relief</td>\n",
       "      <td>['Water', 'Glycerin', 'Dimethicone', 'Isopropy...</td>\n",
       "      <td>0</td>\n",
       "    </tr>\n",
       "    <tr>\n",
       "      <th>14325</th>\n",
       "      <td>Micro Essence Infusion Mask</td>\n",
       "      <td>['Water', 'Butylene Glycol', 'Dimethicone', 'S...</td>\n",
       "      <td>0</td>\n",
       "    </tr>\n",
       "    <tr>\n",
       "      <th>3379</th>\n",
       "      <td>Daily Moisture Original Lotion for Dry Skin</td>\n",
       "      <td>['Water', 'Glycerin', 'Distearyldimonium Chlor...</td>\n",
       "      <td>0</td>\n",
       "    </tr>\n",
       "    <tr>\n",
       "      <th>13190</th>\n",
       "      <td>Celestial Black Diamond Contour Gel</td>\n",
       "      <td>['Water', 'Glycerin', 'Butylene Glycol', 'Carb...</td>\n",
       "      <td>0</td>\n",
       "    </tr>\n",
       "  </tbody>\n",
       "</table>\n",
       "</div>"
      ],
      "text/plain": [
       "                                            product  \\\n",
       "13960         Anti-Blemish Solutions Cleansing Foam   \n",
       "14697                   Anti-hangover soothing mask   \n",
       "5876                   Age-Defying+ Face Sheet Mask   \n",
       "3937                    Botanical Effects Freshen 2   \n",
       "1214                  Sake Brewing Skin Care Lotion   \n",
       "5987       Intensive Care Healing Serum Deep Repair   \n",
       "6140   Intensive Care Healing Serum Advanced Relief   \n",
       "14325                   Micro Essence Infusion Mask   \n",
       "3379    Daily Moisture Original Lotion for Dry Skin   \n",
       "13190           Celestial Black Diamond Contour Gel   \n",
       "\n",
       "                                                 ingList  commonIng  \n",
       "13960  ['Water', 'Glycerin', 'Butylene Glycol', 'Sodi...          0  \n",
       "14697  ['Water', 'Glycerin', 'Butylene Glycol', '1,2-...          0  \n",
       "5876   ['Water', 'Calendula Officinalis Flower Extrac...          0  \n",
       "3937   ['Water', 'Butylene Glycol', 'PEG-32', 'Glycer...          0  \n",
       "1214   ['Water', 'Butylene Glycol', 'Rice Ferment Fil...          0  \n",
       "5987   ['Water', 'Glycerin', 'Dimethicone', 'Isopropy...          0  \n",
       "6140   ['Water', 'Glycerin', 'Dimethicone', 'Isopropy...          0  \n",
       "14325  ['Water', 'Butylene Glycol', 'Dimethicone', 'S...          0  \n",
       "3379   ['Water', 'Glycerin', 'Distearyldimonium Chlor...          0  \n",
       "13190  ['Water', 'Glycerin', 'Butylene Glycol', 'Carb...          0  "
      ]
     },
     "execution_count": 58,
     "metadata": {},
     "output_type": "execute_result"
    }
   ],
   "source": [
    "topTen['commonIng'] = 0\n",
    "topTen"
   ]
  },
  {
   "cell_type": "code",
   "execution_count": null,
   "metadata": {},
   "outputs": [],
   "source": []
  },
  {
   "cell_type": "markdown",
   "metadata": {},
   "source": [
    "## RBO similarity measure\n",
    "\n",
    "Based on code found [here](https://github.com/dlukes/rbo/blob/master/rbo.py)"
   ]
  },
  {
   "cell_type": "code",
   "execution_count": 15,
   "metadata": {},
   "outputs": [
    {
     "name": "stdout",
     "output_type": "stream",
     "text": [
      "                                             product  \\\n",
      "13960          Anti-Blemish Solutions Cleansing Foam   \n",
      "14697                    Anti-hangover soothing mask   \n",
      "15216             Time Revolution Vitality Eye Cream   \n",
      "5987        Intensive Care Healing Serum Deep Repair   \n",
      "6140    Intensive Care Healing Serum Advanced Relief   \n",
      "2524                     RESIST Anti-Aging Eye Cream   \n",
      "1916                        Lala Retro Whipped Cream   \n",
      "5936   Intensive Care Healing Serum Radiance Restore   \n",
      "6296          Coconut & Hibiscus Facial Wash & Scrub   \n",
      "5040             Blemishes No More Oil-Free Hydrator   \n",
      "\n",
      "                                                 ingList  \n",
      "13960  ['Water', 'Glycerin', 'Butylene Glycol', 'Sodi...  \n",
      "14697  ['Water', 'Glycerin', 'Butylene Glycol', '1,2-...  \n",
      "15216  ['Water', 'Glycerin', 'Cyclopentasiloxane', 'H...  \n",
      "5987   ['Water', 'Glycerin', 'Dimethicone', 'Isopropy...  \n",
      "6140   ['Water', 'Glycerin', 'Dimethicone', 'Isopropy...  \n",
      "2524   ['Water', 'Butyrospermum Parkii (Shea) Butter'...  \n",
      "1916   ['Water', 'Glycerin', 'Isopropyl Isostearate',...  \n",
      "5936   ['Water', 'Glycerin', 'Dimethicone', 'Isopropy...  \n",
      "6296   ['Water', 'Kaolin', 'Bentonite', 'Cocos Nucife...  \n",
      "5040   ['Water', 'Glycerin', 'Silanediol Salicylate',...  \n",
      "Wall time: 48.7 s\n"
     ]
    }
   ],
   "source": [
    "%%time\n",
    "\n",
    "recommended = get_RBO_recommendations(df,product,rbo_min)\n",
    "recommended.to_csv('recommendations/RBO_min.csv')\n",
    "print(recommended)"
   ]
  },
  {
   "cell_type": "code",
   "execution_count": 16,
   "metadata": {},
   "outputs": [
    {
     "name": "stdout",
     "output_type": "stream",
     "text": [
      "                                             product  \\\n",
      "3237                                 Acerola Extract   \n",
      "6146                         Citrus Ginger Argan Oil   \n",
      "10852                           Fish Collagen Powder   \n",
      "6018                               Coconut Argan Oil   \n",
      "10833                                         Profix   \n",
      "5647                      Cucumber De-Tox Water Mist   \n",
      "9964    Brightening Facial Tonic With Organic Orange   \n",
      "2645             Rosaclear Metronidazole Topical Gel   \n",
      "9927                              Hibiscus Face Mask   \n",
      "3682   Michael Todd SPF 18 Tinted Lip Protector Trio   \n",
      "\n",
      "                                                 ingList  \n",
      "3237   ['Water', 'Butylene Glycol', 'Malpighia Glabra...  \n",
      "6146   ['Argania Spinosa (Argan) Oil', 'Citrus limon ...  \n",
      "10852  ['Hydrolyzed Collagen', 'Dextrin', 'Glucose', ...  \n",
      "6018   ['Argania Spinosa (Argan) Oil', 'Cocos Nucifer...  \n",
      "10833  ['Water', 'Carbomer', 'Tocopherol (Vitamin E',...  \n",
      "5647   ['Water', 'Butylene Glycol', 'Polysorbate 80',...  \n",
      "9964   ['Water', 'Citrus Sinensis (Sweet Orange', 'Ci...  \n",
      "2645   ['Imidazole', 'Methylparaben', 'Disodium EDTA'...  \n",
      "9927   ['Oryza Sativa (Rice) Powder', 'Hibiscus Sabda...  \n",
      "3682   ['Mentha Piperita (Peppermint) Oil', 'Tocopher...  \n",
      "Wall time: 1min 49s\n"
     ]
    }
   ],
   "source": [
    "%%time\n",
    "\n",
    "recommended = get_RBO_recommendations(df,product,rbo_ext)\n",
    "recommended.to_csv('recommendations/RBO_ext.csv')\n",
    "print(recommended)"
   ]
  },
  {
   "cell_type": "code",
   "execution_count": null,
   "metadata": {},
   "outputs": [],
   "source": []
  },
  {
   "cell_type": "code",
   "execution_count": null,
   "metadata": {},
   "outputs": [],
   "source": [
    "topTen = pd.DataFrame(recommended)"
   ]
  },
  {
   "cell_type": "code",
   "execution_count": 67,
   "metadata": {},
   "outputs": [
    {
     "data": {
      "text/plain": [
       "79"
      ]
     },
     "execution_count": 67,
     "metadata": {},
     "output_type": "execute_result"
    }
   ],
   "source": [
    "topTen['commonIng'] = [ast.literal_eval(i) for i in topTen['ingList']]\n",
    "itemLookup = df.loc[1]['ing#List']\n",
    "len(itemLookup)\n"
   ]
  },
  {
   "cell_type": "code",
   "execution_count": 65,
   "metadata": {},
   "outputs": [
    {
     "data": {
      "text/plain": [
       "25"
      ]
     },
     "execution_count": 65,
     "metadata": {},
     "output_type": "execute_result"
    }
   ],
   "source": [
    "idx = indices[product]\n",
    "itemLookup = df.loc[idx]['ing#List']\n",
    "itemLookup = ast.literal_eval(itemLookup)\n",
    "len(itemLookup)\n",
    "\n"
   ]
  },
  {
   "cell_type": "code",
   "execution_count": 39,
   "metadata": {},
   "outputs": [
    {
     "data": {
      "text/plain": [
       "9"
      ]
     },
     "execution_count": 39,
     "metadata": {},
     "output_type": "execute_result"
    }
   ],
   "source": [
    "itemLookup2 = df.loc[10]['ing#List']\n",
    "itemLookup2 = ast.literal_eval(itemLookup2)\n",
    "len(itemLookup2)"
   ]
  },
  {
   "cell_type": "code",
   "execution_count": 41,
   "metadata": {},
   "outputs": [
    {
     "data": {
      "text/plain": [
       "3"
      ]
     },
     "execution_count": 41,
     "metadata": {},
     "output_type": "execute_result"
    }
   ],
   "source": [
    "number_of_duplicates(itemLookup, itemLookup2)"
   ]
  },
  {
   "cell_type": "code",
   "execution_count": 20,
   "metadata": {},
   "outputs": [],
   "source": [
    "from collections import Counter\n",
    "\n",
    "def number_of_duplicates(list_a, list_b):\n",
    "    count_a = Counter(list_a)\n",
    "    count_b = Counter(list_b)\n",
    "\n",
    "    common_keys = set(count_a.keys()).intersection(count_b.keys())\n",
    "    return sum(min(count_a[key], count_b[key]) for key in common_keys)"
   ]
  },
  {
   "cell_type": "code",
   "execution_count": null,
   "metadata": {},
   "outputs": [],
   "source": [
    "topTen['commonIng'] = "
   ]
  }
 ],
 "metadata": {
  "kernelspec": {
   "display_name": "Python 3",
   "language": "python",
   "name": "python3"
  },
  "language_info": {
   "codemirror_mode": {
    "name": "ipython",
    "version": 3
   },
   "file_extension": ".py",
   "mimetype": "text/x-python",
   "name": "python",
   "nbconvert_exporter": "python",
   "pygments_lexer": "ipython3",
   "version": "3.6.0"
  }
 },
 "nbformat": 4,
 "nbformat_minor": 2
}
