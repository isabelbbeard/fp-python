{
 "cells": [
  {
   "cell_type": "code",
   "execution_count": 1,
   "metadata": {},
   "outputs": [],
   "source": [
    "import pickle\n",
    "import pandas as pd\n",
    "from getRecommendations import *"
   ]
  },
  {
   "cell_type": "markdown",
   "metadata": {},
   "source": [
    "## Load product CSV"
   ]
  },
  {
   "cell_type": "code",
   "execution_count": 2,
   "metadata": {},
   "outputs": [],
   "source": [
    "df = pd.read_csv('data_sim/recommender_products.csv', encoding = \"ISO-8859-1\", index_col=0)"
   ]
  },
  {
   "cell_type": "markdown",
   "metadata": {},
   "source": [
    "# GET RECOMMENDATIONS"
   ]
  },
  {
   "cell_type": "code",
   "execution_count": 7,
   "metadata": {},
   "outputs": [
    {
     "name": "stdout",
     "output_type": "stream",
     "text": [
      "['Water', 'Glycerin', 'Dimethicone', 'Petrolatum', 'Tridecyl Stearate', 'Tridecyl Trimellitate', 'Polyglyceryl-10 Pentastearate', 'Behenyl Alcohol', 'Dipentaerythrityl Hexacaprylate/Hexacaprate', 'Cucumis Sativus (Cucumber) Fruit Extract', 'Hordeum Vulgare Extract', 'Sodium Stearoyl Lactylate', 'Caprylyl Glycol', 'Propylene Glycol Dicaprate', 'Helianthus Annuus (Sunflower) Seedcake', 'PEG-100 Stearate', 'Sodium Hyaluronate', 'Cetyl Alcohol', 'Butylene Glycol', 'Tromethamine', 'Carbomer', 'Phenoxyethanol', 'CI 19140', 'CI 15985', 'CI 17200']\n"
     ]
    }
   ],
   "source": [
    "product ='Dramatically Different Moisturizing Cream'\n",
    "ingTest = df[df['product'].str.match(product)]\n",
    "ingTest = ingTest['ingList']\n",
    "print(*ingTest, sep='\\n')"
   ]
  },
  {
   "cell_type": "code",
   "execution_count": null,
   "metadata": {},
   "outputs": [],
   "source": []
  },
  {
   "cell_type": "markdown",
   "metadata": {},
   "source": [
    "## Cosine similarity"
   ]
  },
  {
   "cell_type": "code",
   "execution_count": 5,
   "metadata": {},
   "outputs": [
    {
     "name": "stdout",
     "output_type": "stream",
     "text": [
      "Wall time: 17.2 s\n"
     ]
    },
    {
     "data": {
      "text/html": [
       "<div>\n",
       "<table border=\"1\" class=\"dataframe\">\n",
       "  <thead>\n",
       "    <tr style=\"text-align: right;\">\n",
       "      <th></th>\n",
       "      <th>product</th>\n",
       "      <th>ingList</th>\n",
       "    </tr>\n",
       "  </thead>\n",
       "  <tbody>\n",
       "    <tr>\n",
       "      <th>1156</th>\n",
       "      <td>Broad Spectrum SPF 21 Moisturizer</td>\n",
       "      <td>['Cinoxate', 'Ethylhexyl Salicylate', 'Benzoph...</td>\n",
       "    </tr>\n",
       "    <tr>\n",
       "      <th>12448</th>\n",
       "      <td>Post-Workout Mattifying Moisturizer</td>\n",
       "      <td>['Water', 'Isododecane', 'Butylene Glycol', 'P...</td>\n",
       "    </tr>\n",
       "    <tr>\n",
       "      <th>855</th>\n",
       "      <td>Dramatically Different Moisturizing Lotion+ wi...</td>\n",
       "      <td>['Water', 'Mineral Oil', 'Glycerin', 'Petrolat...</td>\n",
       "    </tr>\n",
       "    <tr>\n",
       "      <th>5289</th>\n",
       "      <td>Line Refiner</td>\n",
       "      <td>['Water', 'Caprylic/Capric Triglyceride', 'Tri...</td>\n",
       "    </tr>\n",
       "    <tr>\n",
       "      <th>10167</th>\n",
       "      <td>Anti-Age Firming Cream</td>\n",
       "      <td>['Water', 'Soluble Collagen', 'Caprylic/Capric...</td>\n",
       "    </tr>\n",
       "    <tr>\n",
       "      <th>8336</th>\n",
       "      <td>Clear Bloom</td>\n",
       "      <td>['Cetyl Ethylhexanoate', 'Tridecyl Stearate', ...</td>\n",
       "    </tr>\n",
       "    <tr>\n",
       "      <th>1450</th>\n",
       "      <td>Redness Solutions Soothing Cleanser</td>\n",
       "      <td>['Water', 'Squalane', 'Glycerin', 'Butylene Gl...</td>\n",
       "    </tr>\n",
       "    <tr>\n",
       "      <th>243</th>\n",
       "      <td>Anti-Age Moisturizer</td>\n",
       "      <td>['Water', 'Squalane', 'Glycerin', 'Isostearyl ...</td>\n",
       "    </tr>\n",
       "    <tr>\n",
       "      <th>15462</th>\n",
       "      <td>Liquid Facial Soap Extra Mild</td>\n",
       "      <td>['Water', 'Caprylic/Capric Triglyceride', 'Gly...</td>\n",
       "    </tr>\n",
       "    <tr>\n",
       "      <th>892</th>\n",
       "      <td>Oil Control Mattifying Moisturizer</td>\n",
       "      <td>['Water', 'Dimethicone', 'Isododecane', 'Butyl...</td>\n",
       "    </tr>\n",
       "  </tbody>\n",
       "</table>\n",
       "</div>"
      ],
      "text/plain": [
       "                                                 product  \\\n",
       "1156                   Broad Spectrum SPF 21 Moisturizer   \n",
       "12448                Post-Workout Mattifying Moisturizer   \n",
       "855    Dramatically Different Moisturizing Lotion+ wi...   \n",
       "5289                                        Line Refiner   \n",
       "10167                             Anti-Age Firming Cream   \n",
       "8336                                         Clear Bloom   \n",
       "1450                 Redness Solutions Soothing Cleanser   \n",
       "243                                 Anti-Age Moisturizer   \n",
       "15462                      Liquid Facial Soap Extra Mild   \n",
       "892                   Oil Control Mattifying Moisturizer   \n",
       "\n",
       "                                                 ingList  \n",
       "1156   ['Cinoxate', 'Ethylhexyl Salicylate', 'Benzoph...  \n",
       "12448  ['Water', 'Isododecane', 'Butylene Glycol', 'P...  \n",
       "855    ['Water', 'Mineral Oil', 'Glycerin', 'Petrolat...  \n",
       "5289   ['Water', 'Caprylic/Capric Triglyceride', 'Tri...  \n",
       "10167  ['Water', 'Soluble Collagen', 'Caprylic/Capric...  \n",
       "8336   ['Cetyl Ethylhexanoate', 'Tridecyl Stearate', ...  \n",
       "1450   ['Water', 'Squalane', 'Glycerin', 'Butylene Gl...  \n",
       "243    ['Water', 'Squalane', 'Glycerin', 'Isostearyl ...  \n",
       "15462  ['Water', 'Caprylic/Capric Triglyceride', 'Gly...  \n",
       "892    ['Water', 'Dimethicone', 'Isododecane', 'Butyl...  "
      ]
     },
     "execution_count": 5,
     "metadata": {},
     "output_type": "execute_result"
    }
   ],
   "source": [
    "%%time\n",
    "\n",
    "get_COS_recommendations(df,product)"
   ]
  },
  {
   "cell_type": "markdown",
   "metadata": {},
   "source": [
    "## Average Overlap"
   ]
  },
  {
   "cell_type": "code",
   "execution_count": null,
   "metadata": {},
   "outputs": [],
   "source": [
    "%%time\n",
    "\n",
    "get_A0_recommendations(df, product)"
   ]
  },
  {
   "cell_type": "markdown",
   "metadata": {},
   "source": [
    "## RBO"
   ]
  },
  {
   "cell_type": "code",
   "execution_count": null,
   "metadata": {},
   "outputs": [],
   "source": [
    "%%time\n",
    "\n",
    "get_RBO_recommendations(df, product)"
   ]
  }
 ],
 "metadata": {
  "kernelspec": {
   "display_name": "Python 3",
   "language": "python",
   "name": "python3"
  },
  "language_info": {
   "codemirror_mode": {
    "name": "ipython",
    "version": 3
   },
   "file_extension": ".py",
   "mimetype": "text/x-python",
   "name": "python",
   "nbconvert_exporter": "python",
   "pygments_lexer": "ipython3",
   "version": "3.6.0"
  }
 },
 "nbformat": 4,
 "nbformat_minor": 2
}
