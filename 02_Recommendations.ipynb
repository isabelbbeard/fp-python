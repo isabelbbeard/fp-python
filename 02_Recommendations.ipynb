{
 "cells": [
  {
   "cell_type": "code",
   "execution_count": 285,
   "metadata": {},
   "outputs": [],
   "source": [
    "import pandas as pd\n",
    "import numpy as np\n",
    "\n",
    "from RBO import *\n",
    "from getRecommendations import *\n",
    "from dataPrep import *\n",
    "from sklearn.metrics import *\n",
    "from scipy.stats import linregress\n",
    "\n",
    "from sklearn.metrics.pairwise import *"
   ]
  },
  {
   "cell_type": "markdown",
   "metadata": {},
   "source": [
    "# Read csvs"
   ]
  },
  {
   "cell_type": "markdown",
   "metadata": {},
   "source": [
    "These are the csv's we cleaned up and combined in step 01. "
   ]
  },
  {
   "cell_type": "code",
   "execution_count": 286,
   "metadata": {},
   "outputs": [
    {
     "name": "stdout",
     "output_type": "stream",
     "text": [
      "Number of products df:  15945\n",
      "Number of products: df2 15945\n",
      "Number of unique ingredients:  6899\n",
      "Number of total ingredients:  446618\n",
      "Wall time: 20.8 s\n"
     ]
    }
   ],
   "source": [
    "%%time\n",
    "ings = pd.read_csv('data/ings.csv', encoding = \"ISO-8859-1\", index_col=0)\n",
    "#prods = prods.drop_duplicates(subset = 'product')\n",
    "prods = pd.read_csv('data/prods.csv', encoding = \"ISO-8859-1\", index_col=0)\n",
    "#prods = prods.drop_duplicates(subset = 'product')\n",
    "prod_ing = pd.read_csv('data/prod_ing.csv', encoding = \"ISO-8859-1\", index_col=0)\n",
    "prod_ing = prod_ing.drop(['diff'], axis = 1)\n",
    "#prod_ing = prod_ing.sort_values(['id', 'order'])\n",
    "\n",
    "##Long dataframes\n",
    "df2_A = pd.read_csv('data/prodIng_Wide_01.csv', index_col=0)\n",
    "df2_B = pd.read_csv('data/prodIng_Wide_01.csv', index_col=0)\n",
    "df2_C = pd.read_csv('data/prodIng_Wide_01.csv', index_col=0)\n",
    "frames = [df2_A, df2_B, df2_C]\n",
    "df3 = pd.concat(frames)\n",
    "\n",
    "print('Number of products df: ', len(prods))\n",
    "print('Number of products: df2', len(df3))\n",
    "print('Number of unique ingredients: ', len(ings))\n",
    "print('Number of total ingredients: ', len(prod_ing))"
   ]
  },
  {
   "cell_type": "code",
   "execution_count": 287,
   "metadata": {},
   "outputs": [],
   "source": [
    "##create function for removing water (or other ingredients) from ingredient listings\n",
    "def  remove_values_from_list (the_list, val):\n",
    "   return [value for value in the_list if value != val]\n",
    "\n",
    "df = dataPrep(ings, prods, prod_ing)\n",
    "#df.to_csv('recommendations/recommender_products.csv')"
   ]
  },
  {
   "cell_type": "code",
   "execution_count": 295,
   "metadata": {},
   "outputs": [],
   "source": [
    "df2 = df2.T"
   ]
  },
  {
   "cell_type": "code",
   "execution_count": 228,
   "metadata": {},
   "outputs": [],
   "source": [
    "#df = df[df['ingCount'] > 1]  \n",
    "#df_cos = df\n",
    "#print('Number of products: ', len(df))"
   ]
  },
  {
   "cell_type": "markdown",
   "metadata": {},
   "source": [
    "# GET RECOMMENDATIONS\n"
   ]
  },
  {
   "cell_type": "code",
   "execution_count": 252,
   "metadata": {},
   "outputs": [
    {
     "name": "stdout",
     "output_type": "stream",
     "text": [
      "Product: Glow Tonic\n",
      "Number of ingredients: 24\n",
      "Ingredients ['Water', 'Aloe Barbadensis Leaf Juice', 'Hamamelis Virginiana (Witch Hazel) Leaf Extract', 'Aesculus Hippocastanum (Horse Chestnut) Seed Extract', 'Glycolic Acid', 'Ammonium Glycolate', 'Glycerin', 'Butylene Glycol', 'Hexylene Glycol', 'Fructose', 'Glucose', 'Sucrose', 'Urea', 'Dextrin', 'Alanine', 'Glutamic Acid', 'Aspartic Acid', 'Hexyl Nicotinate', 'Panax Ginseng Root Extract', 'Phenoxyethanol', 'Sodium Benzoate', 'Biotin', 'Polysorbate 20', 'Fragrance']\n"
     ]
    }
   ],
   "source": [
    "prodid =  1778    \n",
    "product ='Glow Tonic'\n",
    "\n",
    "##get indices of all products\n",
    "indices = pd.Series(df.index, index=df['product']).drop_duplicates()\n",
    "##find index of specified product\n",
    "idx = indices[product]\n",
    "\n",
    "print('Product:', df.iloc[prodid]['product'])\n",
    "print('Number of ingredients:', df.iloc[prodid]['ingCount'])\n",
    "print('Ingredients', df.iloc[prodid]['ingList'])"
   ]
  },
  {
   "cell_type": "markdown",
   "metadata": {},
   "source": [
    "#### Find product id with name"
   ]
  },
  {
   "cell_type": "code",
   "execution_count": 276,
   "metadata": {},
   "outputs": [
    {
     "name": "stdout",
     "output_type": "stream",
     "text": [
      "Product: Natural Radiant Glycolic Tonic\n",
      "Brand: Superdrug\n",
      "Id: 9290\n",
      "Number of ingredients: 29\n",
      "Ingredients ['Water', 'Glycolic Acid', 'Butylene Glycol', 'Glycerin', 'Polysorbate 20', 'Sodium Hydroxide', 'Betaine', 'Phenoxyethanol', 'Fragrance', 'Allantoin', 'Hamamelis Virginiana (Witch Hazel) Water', 'Ethylhexylglycerin', 'Vaccinium Myrtillus Fruit Extract', 'Saccharum Officinarum Ferment Extract', 'Actinidia Chinensis (Kiwi) Fruit Extract', 'Morus Nigra Leaf Extract', 'Nelumbium Speciosum Flower Extract', 'Citrus Aurantium Dulcis (Orange) Fruit Extract', 'Citrus Limon (Lemon) Fruit Extract', 'Potassium Sorbate', 'Sodium Benzoate', 'Sapindus Mukurossi Fruit Extract', 'Acer Saccharum (Sugar Maple) Extract', 'Caesalpinia Spinosa Gum', 'Linalool', 'Citronellol', 'Geraniol', 'Coumarin', 'Eugenol']\n"
     ]
    }
   ],
   "source": [
    "product_find = 'Natural Radiant Glycolic Tonic'\n",
    "row = df[df['product'].str.match(product_find)]\n",
    "idReturn = row.index.item()\n",
    "\n",
    "print('Product:', df.iloc[idReturn]['product'])\n",
    "print('Brand:', df.iloc[idReturn]['brand'])\n",
    "print('Id:', idReturn)\n",
    "print('Number of ingredients:', df.iloc[idReturn]['ingCount'])\n",
    "print('Ingredients', df.iloc[idReturn]['ingList'])"
   ]
  },
  {
   "cell_type": "markdown",
   "metadata": {},
   "source": [
    "## Cosine similarity"
   ]
  },
  {
   "cell_type": "markdown",
   "metadata": {},
   "source": [
    "Reference [here](https://www.datacamp.com/community/tutorials/recommender-systems-python)"
   ]
  },
  {
   "cell_type": "markdown",
   "metadata": {},
   "source": [
    "### Create dataframe of top ten similar products"
   ]
  },
  {
   "cell_type": "code",
   "execution_count": 277,
   "metadata": {},
   "outputs": [
    {
     "name": "stdout",
     "output_type": "stream",
     "text": [
      "Wall time: 44.2 s\n"
     ]
    }
   ],
   "source": [
    "%%time\n",
    "column = 'product'\n",
    "# Get the index of the product that matches the product name\n",
    "df['ing#List'] = df['ing#List'].astype(str)\n",
    "tfidf = TfidfVectorizer(binary = True, stop_words = None)\n",
    "tfidf_matrix = tfidf.fit_transform(df['ing#List'])\n",
    "cosine_sim = cosine_similarity(tfidf_matrix, tfidf_matrix)\n",
    "\n",
    "indices = pd.Series(df.index, index=df[column]).drop_duplicates()\n",
    "idx = indices[product]\n",
    "\n",
    "# Get the pairwsie similarity scores of all products with that product\n",
    "sim_scores_all = list(enumerate(cosine_sim[idx]))\n",
    "\n",
    "# Sort the products based on the similarity scores\n",
    "sim_scores_sorted = sorted(sim_scores_all, key=lambda x: x[1], reverse=True)\n",
    "\n",
    "# Get the scores of the 10 most similar products\n",
    "sim_scores_ten = sim_scores_sorted[1:11]\n",
    "\n",
    "# Get the product indices\n",
    "product_indices = [i[0] for i in sim_scores_ten]\n",
    "\n",
    "# Return the top 10 most similar products and their ingredients\n",
    "#return df[['product', 'brand','ingList']].iloc[product_indices]\n",
    "\n",
    "recommended = df[['product', 'brand','ingList']].iloc[product_indices]"
   ]
  },
  {
   "cell_type": "markdown",
   "metadata": {},
   "source": [
    "### Show top ten"
   ]
  },
  {
   "cell_type": "code",
   "execution_count": 278,
   "metadata": {},
   "outputs": [
    {
     "data": {
      "text/html": [
       "<div>\n",
       "<table border=\"1\" class=\"dataframe\">\n",
       "  <thead>\n",
       "    <tr style=\"text-align: right;\">\n",
       "      <th></th>\n",
       "      <th>index</th>\n",
       "      <th>product</th>\n",
       "      <th>brand</th>\n",
       "      <th>ingList</th>\n",
       "      <th>commonIng</th>\n",
       "    </tr>\n",
       "  </thead>\n",
       "  <tbody>\n",
       "    <tr>\n",
       "      <th>0</th>\n",
       "      <td>14768</td>\n",
       "      <td>Glow Tonic To-Go Pads</td>\n",
       "      <td>Pixi</td>\n",
       "      <td>[Water, Glycolic Acid, Butylene Glycol, Glycer...</td>\n",
       "      <td>20</td>\n",
       "    </tr>\n",
       "    <tr>\n",
       "      <th>1</th>\n",
       "      <td>8032</td>\n",
       "      <td>Revitalising Ginseng Toner With Glycolic Acid 5%</td>\n",
       "      <td>Bravura London</td>\n",
       "      <td>[Water, Aloe Barbadensis (Aloe Vera) Gel, Hama...</td>\n",
       "      <td>17</td>\n",
       "    </tr>\n",
       "    <tr>\n",
       "      <th>2</th>\n",
       "      <td>13600</td>\n",
       "      <td>Tensage Eye Contour Cream</td>\n",
       "      <td>Biopelle</td>\n",
       "      <td>[Water, Snail Secretion Filtrate, C12-20 Acid ...</td>\n",
       "      <td>14</td>\n",
       "    </tr>\n",
       "    <tr>\n",
       "      <th>3</th>\n",
       "      <td>3350</td>\n",
       "      <td>Juniper Oil-Free Face Moisturizer</td>\n",
       "      <td>TheBalm</td>\n",
       "      <td>[Water, Ethylhexyl Methoxycinnamate, Butylene ...</td>\n",
       "      <td>14</td>\n",
       "    </tr>\n",
       "    <tr>\n",
       "      <th>4</th>\n",
       "      <td>812</td>\n",
       "      <td>Glycolic Acid 7% Toning Solution</td>\n",
       "      <td>The Ordinary</td>\n",
       "      <td>[Water, Glycolic Acid, Rosa Damascena Flower W...</td>\n",
       "      <td>16</td>\n",
       "    </tr>\n",
       "    <tr>\n",
       "      <th>5</th>\n",
       "      <td>9098</td>\n",
       "      <td>Tensage Radiance Eye Cream</td>\n",
       "      <td>Biobelle</td>\n",
       "      <td>[Water, Snail Secretion Filtrate, C12-20 Acid ...</td>\n",
       "      <td>14</td>\n",
       "    </tr>\n",
       "    <tr>\n",
       "      <th>6</th>\n",
       "      <td>2866</td>\n",
       "      <td>Ultra Facial Oil-Free Lotion</td>\n",
       "      <td>Kiehl's</td>\n",
       "      <td>[Water, Glycerin, Alcohol Denat., Isononyl Iso...</td>\n",
       "      <td>13</td>\n",
       "    </tr>\n",
       "    <tr>\n",
       "      <th>7</th>\n",
       "      <td>10534</td>\n",
       "      <td>Rehydrating Toning Essence</td>\n",
       "      <td>Su-Man Skincare</td>\n",
       "      <td>[Water, Rosa Centifolia Flower Water, Hyaluron...</td>\n",
       "      <td>13</td>\n",
       "    </tr>\n",
       "    <tr>\n",
       "      <th>8</th>\n",
       "      <td>2962</td>\n",
       "      <td>Cellular 3-Minute Peel</td>\n",
       "      <td>La Prairie</td>\n",
       "      <td>[Water, Hydroxyethyl Acrylate/Sodium Acryloyld...</td>\n",
       "      <td>15</td>\n",
       "    </tr>\n",
       "    <tr>\n",
       "      <th>9</th>\n",
       "      <td>1760</td>\n",
       "      <td>Skin Hydrating Masque</td>\n",
       "      <td>Dermalogica</td>\n",
       "      <td>[Water, Glycerin, Butylene Glycol, Squalane, D...</td>\n",
       "      <td>14</td>\n",
       "    </tr>\n",
       "  </tbody>\n",
       "</table>\n",
       "</div>"
      ],
      "text/plain": [
       "   index                                           product            brand  \\\n",
       "0  14768                             Glow Tonic To-Go Pads             Pixi   \n",
       "1   8032  Revitalising Ginseng Toner With Glycolic Acid 5%   Bravura London   \n",
       "2  13600                         Tensage Eye Contour Cream         Biopelle   \n",
       "3   3350                 Juniper Oil-Free Face Moisturizer          TheBalm   \n",
       "4    812                  Glycolic Acid 7% Toning Solution     The Ordinary   \n",
       "5   9098                        Tensage Radiance Eye Cream         Biobelle   \n",
       "6   2866                      Ultra Facial Oil-Free Lotion          Kiehl's   \n",
       "7  10534                        Rehydrating Toning Essence  Su-Man Skincare   \n",
       "8   2962                            Cellular 3-Minute Peel       La Prairie   \n",
       "9   1760                             Skin Hydrating Masque      Dermalogica   \n",
       "\n",
       "                                             ingList  commonIng  \n",
       "0  [Water, Glycolic Acid, Butylene Glycol, Glycer...         20  \n",
       "1  [Water, Aloe Barbadensis (Aloe Vera) Gel, Hama...         17  \n",
       "2  [Water, Snail Secretion Filtrate, C12-20 Acid ...         14  \n",
       "3  [Water, Ethylhexyl Methoxycinnamate, Butylene ...         14  \n",
       "4  [Water, Glycolic Acid, Rosa Damascena Flower W...         16  \n",
       "5  [Water, Snail Secretion Filtrate, C12-20 Acid ...         14  \n",
       "6  [Water, Glycerin, Alcohol Denat., Isononyl Iso...         13  \n",
       "7  [Water, Rosa Centifolia Flower Water, Hyaluron...         13  \n",
       "8  [Water, Hydroxyethyl Acrylate/Sodium Acryloyld...         15  \n",
       "9  [Water, Glycerin, Butylene Glycol, Squalane, D...         14  "
      ]
     },
     "execution_count": 278,
     "metadata": {},
     "output_type": "execute_result"
    }
   ],
   "source": [
    "topTen = pd.DataFrame(recommended)\n",
    "commonItems(product, topTen, df)\n",
    "#recommended.to_csv('recommendations/COS.csv')\n",
    "topTen.reset_index()"
   ]
  },
  {
   "cell_type": "markdown",
   "metadata": {},
   "source": [
    "### Find specific product similarity"
   ]
  },
  {
   "cell_type": "code",
   "execution_count": 281,
   "metadata": {},
   "outputs": [
    {
     "name": "stdout",
     "output_type": "stream",
     "text": [
      "Cosine Similarity\n",
      "---------------------------------------------------------------\n",
      "Product: Natural Radiant Glycolic Tonic\n",
      "Similarity score: 0.0779679324651\n",
      "Rank: 814\n",
      "Number of Ingredients 29\n",
      "Number of Common Ingredients 8\n"
     ]
    }
   ],
   "source": [
    "prod_search_id = 9290\n",
    "sims = [v for i, v in enumerate(sim_scores_all) if v[0] == prod_search_id]\n",
    "\n",
    "sim_df = pd.DataFrame(sim_scores_all, columns=['index', 'score']).sort_values(['score'], ascending = False).reset_index().drop(['level_0'], axis = 1)\n",
    "index_return = sim_df[sim_df['index'] == prod_search_id].index.item() \n",
    "\n",
    "list1 = df.loc[idx]['ingList']\n",
    "list2 = df.loc[prod_search_id]['ingList']\n",
    "\n",
    "print('Cosine Similarity')\n",
    "print('---------------------------------------------------------------')\n",
    "print('Product:', df.iloc[prod_search_id]['product'])\n",
    "print('Similarity score:', sims[0][1])\n",
    "print('Rank:', index_return)\n",
    "print('Number of Ingredients', df.iloc[prod_search_id]['ingCount'])\n",
    "print('Number of Common Ingredients', len(set(list1)&set(list2)))\n",
    "#print('Ingredients', df.iloc[prod_search_id]['ingList'])"
   ]
  },
  {
   "cell_type": "markdown",
   "metadata": {},
   "source": [
    "## RBO similarity measure\n",
    "\n",
    "Based on code found [here](https://github.com/dlukes/rbo/blob/master/rbo.py)"
   ]
  },
  {
   "cell_type": "markdown",
   "metadata": {},
   "source": [
    "### Create dataframe of top ten similar products"
   ]
  },
  {
   "cell_type": "code",
   "execution_count": 289,
   "metadata": {},
   "outputs": [
    {
     "name": "stdout",
     "output_type": "stream",
     "text": [
      "Wall time: 3.67 s\n"
     ]
    }
   ],
   "source": [
    "%%time\n",
    "\n",
    "##Set the rbo we want to use\n",
    "rbo = rbo_min\n",
    "\n",
    "itemLookup = df.loc[idx]['ing#List']\n",
    "items = df['ing#List']\n",
    "sim = [rbo(itemLookup,i, .9) for i in items] ##change method here\n",
    "\n",
    "sim_scores_all = list(enumerate(sim))\n",
    "\n",
    "# Sort the products based on the similarity scores\n",
    "sim_scores_sorted = sorted(sim_scores_all, key=lambda x: x[1], reverse=True)\n",
    "\n",
    "# Get the scores of the 10 most similar products\n",
    "sim_scores_ten = sim_scores_sorted[1:11]\n",
    "\n",
    "# Get the product indices\n",
    "product_indices = [i[0] for i in sim_scores_ten]\n",
    "\n",
    "recommended = df[['product', 'brand','ingList']].iloc[product_indices]"
   ]
  },
  {
   "cell_type": "markdown",
   "metadata": {},
   "source": [
    "### Show top ten"
   ]
  },
  {
   "cell_type": "code",
   "execution_count": 290,
   "metadata": {},
   "outputs": [
    {
     "data": {
      "text/html": [
       "<div>\n",
       "<table border=\"1\" class=\"dataframe\">\n",
       "  <thead>\n",
       "    <tr style=\"text-align: right;\">\n",
       "      <th></th>\n",
       "      <th>index</th>\n",
       "      <th>product</th>\n",
       "      <th>brand</th>\n",
       "      <th>ingList</th>\n",
       "      <th>commonIng</th>\n",
       "    </tr>\n",
       "  </thead>\n",
       "  <tbody>\n",
       "    <tr>\n",
       "      <th>0</th>\n",
       "      <td>14768</td>\n",
       "      <td>Glow Tonic To-Go Pads</td>\n",
       "      <td>Pixi</td>\n",
       "      <td>[Water, Glycolic Acid, Butylene Glycol, Glycer...</td>\n",
       "      <td>20</td>\n",
       "    </tr>\n",
       "    <tr>\n",
       "      <th>1</th>\n",
       "      <td>3743</td>\n",
       "      <td>Geranium Face Toner</td>\n",
       "      <td>TheBalm</td>\n",
       "      <td>[Water, Aloe Barbadensis Leaf Juice, Glycolic ...</td>\n",
       "      <td>8</td>\n",
       "    </tr>\n",
       "    <tr>\n",
       "      <th>2</th>\n",
       "      <td>3707</td>\n",
       "      <td>Alcohol-Free Face Toner</td>\n",
       "      <td>TheBalm</td>\n",
       "      <td>[Water, Hamamelis Virginiana (Witch Hazel) Lea...</td>\n",
       "      <td>9</td>\n",
       "    </tr>\n",
       "    <tr>\n",
       "      <th>3</th>\n",
       "      <td>8285</td>\n",
       "      <td>Clear Skin Hydrator Gel</td>\n",
       "      <td>Alpha-H</td>\n",
       "      <td>[Water, Hamamelis Virginiana (Witch Hazel) Lea...</td>\n",
       "      <td>6</td>\n",
       "    </tr>\n",
       "    <tr>\n",
       "      <th>4</th>\n",
       "      <td>694</td>\n",
       "      <td>Seaweed Cleansing Lotion</td>\n",
       "      <td>Mario Badescu</td>\n",
       "      <td>[Water, Aloe Barbadensis Leaf Juice, Propylene...</td>\n",
       "      <td>7</td>\n",
       "    </tr>\n",
       "    <tr>\n",
       "      <th>5</th>\n",
       "      <td>7541</td>\n",
       "      <td>Sensitive Facial Cleansing Towelettes with Cot...</td>\n",
       "      <td>Burt's Bees</td>\n",
       "      <td>[Water, Aloe Barbadensis Leaf Juice, Glycerin,...</td>\n",
       "      <td>8</td>\n",
       "    </tr>\n",
       "    <tr>\n",
       "      <th>6</th>\n",
       "      <td>1372</td>\n",
       "      <td>Facial Radiance Pads</td>\n",
       "      <td>First Aid Beauty</td>\n",
       "      <td>[Water, Aloe Barbadensis Leaf Juice, Glycerin,...</td>\n",
       "      <td>5</td>\n",
       "    </tr>\n",
       "    <tr>\n",
       "      <th>7</th>\n",
       "      <td>11875</td>\n",
       "      <td>Orchid Flower Aqua UV Sun Gel</td>\n",
       "      <td>The Orchid Skin</td>\n",
       "      <td>[Water, Aloe Barbadensis Leaf Juice, Glycerin,...</td>\n",
       "      <td>6</td>\n",
       "    </tr>\n",
       "    <tr>\n",
       "      <th>8</th>\n",
       "      <td>10629</td>\n",
       "      <td>Green Cover Sunscreen SPF50+ PA+++</td>\n",
       "      <td>Cosmo Monster</td>\n",
       "      <td>[Water, Aloe Barbadensis Leaf Juice, Glycerin,...</td>\n",
       "      <td>5</td>\n",
       "    </tr>\n",
       "    <tr>\n",
       "      <th>9</th>\n",
       "      <td>6271</td>\n",
       "      <td>Sensitive Facial Cleansing Towelettes</td>\n",
       "      <td>Burt's Bees</td>\n",
       "      <td>[Water, Aloe Barbadensis Leaf Juice, Glycerin,...</td>\n",
       "      <td>8</td>\n",
       "    </tr>\n",
       "  </tbody>\n",
       "</table>\n",
       "</div>"
      ],
      "text/plain": [
       "   index                                            product             brand  \\\n",
       "0  14768                              Glow Tonic To-Go Pads              Pixi   \n",
       "1   3743                                Geranium Face Toner           TheBalm   \n",
       "2   3707                            Alcohol-Free Face Toner           TheBalm   \n",
       "3   8285                            Clear Skin Hydrator Gel           Alpha-H   \n",
       "4    694                           Seaweed Cleansing Lotion     Mario Badescu   \n",
       "5   7541  Sensitive Facial Cleansing Towelettes with Cot...       Burt's Bees   \n",
       "6   1372                               Facial Radiance Pads  First Aid Beauty   \n",
       "7  11875                      Orchid Flower Aqua UV Sun Gel   The Orchid Skin   \n",
       "8  10629                 Green Cover Sunscreen SPF50+ PA+++     Cosmo Monster   \n",
       "9   6271              Sensitive Facial Cleansing Towelettes       Burt's Bees   \n",
       "\n",
       "                                             ingList  commonIng  \n",
       "0  [Water, Glycolic Acid, Butylene Glycol, Glycer...         20  \n",
       "1  [Water, Aloe Barbadensis Leaf Juice, Glycolic ...          8  \n",
       "2  [Water, Hamamelis Virginiana (Witch Hazel) Lea...          9  \n",
       "3  [Water, Hamamelis Virginiana (Witch Hazel) Lea...          6  \n",
       "4  [Water, Aloe Barbadensis Leaf Juice, Propylene...          7  \n",
       "5  [Water, Aloe Barbadensis Leaf Juice, Glycerin,...          8  \n",
       "6  [Water, Aloe Barbadensis Leaf Juice, Glycerin,...          5  \n",
       "7  [Water, Aloe Barbadensis Leaf Juice, Glycerin,...          6  \n",
       "8  [Water, Aloe Barbadensis Leaf Juice, Glycerin,...          5  \n",
       "9  [Water, Aloe Barbadensis Leaf Juice, Glycerin,...          8  "
      ]
     },
     "execution_count": 290,
     "metadata": {},
     "output_type": "execute_result"
    }
   ],
   "source": [
    "topTen = pd.DataFrame(recommended)\n",
    "commonItems(product, topTen, df)\n",
    "#recommended.to_csv('recommendations/RBO.csv')\n",
    "topTen.reset_index()"
   ]
  },
  {
   "cell_type": "markdown",
   "metadata": {},
   "source": [
    "### Find specific product similarity"
   ]
  },
  {
   "cell_type": "code",
   "execution_count": 291,
   "metadata": {},
   "outputs": [
    {
     "name": "stdout",
     "output_type": "stream",
     "text": [
      "RBO Similarity\n",
      "---------------------------------------------------------------\n",
      "Product: Natural Radiant Glycolic Tonic\n",
      "Similarity score: 0.41470974925680304\n",
      "Rank: 185\n",
      "Number of Ingredients 29\n",
      "Number of Common Ingredients 8\n"
     ]
    }
   ],
   "source": [
    "prod_search_id = 9290\n",
    "sims = [v for i, v in enumerate(sim_scores_all) if v[0] == prod_search_id]\n",
    "\n",
    "sim_df = pd.DataFrame(sim_scores_all, columns=['index', 'score']).sort_values(['score'], ascending = False).reset_index().drop(['level_0'], axis = 1)\n",
    "index_return = sim_df[sim_df['index'] == prod_search_id].index.item() \n",
    "\n",
    "list1 = df.loc[idx]['ingList']\n",
    "list2 = df.loc[prod_search_id]['ingList']\n",
    "\n",
    "print('RBO Similarity')\n",
    "print('---------------------------------------------------------------')\n",
    "print('Product:', df.iloc[prod_search_id]['product'])\n",
    "print('Similarity score:', sims[0][1])\n",
    "print('Rank:', index_return)\n",
    "print('Number of Ingredients', df.iloc[prod_search_id]['ingCount'])\n",
    "print('Number of Common Ingredients', len(set(list1)&set(list2)))\n",
    "#print('Ingredients', df.iloc[prod_search_id]['ingList'])"
   ]
  },
  {
   "cell_type": "markdown",
   "metadata": {},
   "source": [
    "## R value\n",
    "Reference [here](https://docs.scipy.org/doc/scipy-0.14.0/reference/generated/scipy.stats.linregress.html)"
   ]
  },
  {
   "cell_type": "code",
   "execution_count": 296,
   "metadata": {},
   "outputs": [
    {
     "name": "stdout",
     "output_type": "stream",
     "text": [
      "Wall time: 47.1 s\n"
     ]
    }
   ],
   "source": [
    "%%time\n",
    "#get linregress similarity and return r-value\n",
    "sim = [linregress(df2[idx], df2[i])[2] for i in df2]\n",
    "\n",
    "##collect all similarity scores (r_val)\n",
    "sim_scores_all = list(enumerate(sim))\n",
    "\n",
    "# Sort the products based on the similarity scores\n",
    "sim_scores_sorted = sorted(sim_scores_all, key=lambda x: x[1], reverse=True)\n",
    "#df['scores'] = [sim_scores[i][1] for i in sim_scores]\n",
    "\n",
    "# Get the scores of the 10 most similar products\n",
    "sim_scores_ten = sim_scores_sorted[1:11]\n",
    "\n",
    "# Get the product indices\n",
    "product_indices = [i[0] for i in sim_scores_ten]\n",
    "\n",
    "recommended = df[['product', 'brand','ingList']].iloc[product_indices]"
   ]
  },
  {
   "cell_type": "markdown",
   "metadata": {},
   "source": [
    "### Return top ten"
   ]
  },
  {
   "cell_type": "code",
   "execution_count": 297,
   "metadata": {},
   "outputs": [
    {
     "data": {
      "text/html": [
       "<div>\n",
       "<table border=\"1\" class=\"dataframe\">\n",
       "  <thead>\n",
       "    <tr style=\"text-align: right;\">\n",
       "      <th></th>\n",
       "      <th>index</th>\n",
       "      <th>product</th>\n",
       "      <th>brand</th>\n",
       "      <th>ingList</th>\n",
       "      <th>commonIng</th>\n",
       "    </tr>\n",
       "  </thead>\n",
       "  <tbody>\n",
       "    <tr>\n",
       "      <th>0</th>\n",
       "      <td>8032</td>\n",
       "      <td>Revitalising Ginseng Toner With Glycolic Acid 5%</td>\n",
       "      <td>Bravura London</td>\n",
       "      <td>[Water, Aloe Barbadensis (Aloe Vera) Gel, Hama...</td>\n",
       "      <td>17</td>\n",
       "    </tr>\n",
       "    <tr>\n",
       "      <th>1</th>\n",
       "      <td>14768</td>\n",
       "      <td>Glow Tonic To-Go Pads</td>\n",
       "      <td>Pixi</td>\n",
       "      <td>[Water, Glycolic Acid, Butylene Glycol, Glycer...</td>\n",
       "      <td>20</td>\n",
       "    </tr>\n",
       "    <tr>\n",
       "      <th>2</th>\n",
       "      <td>13600</td>\n",
       "      <td>Tensage Eye Contour Cream</td>\n",
       "      <td>Biopelle</td>\n",
       "      <td>[Water, Snail Secretion Filtrate, C12-20 Acid ...</td>\n",
       "      <td>14</td>\n",
       "    </tr>\n",
       "    <tr>\n",
       "      <th>3</th>\n",
       "      <td>10534</td>\n",
       "      <td>Rehydrating Toning Essence</td>\n",
       "      <td>Su-Man Skincare</td>\n",
       "      <td>[Water, Rosa Centifolia Flower Water, Hyaluron...</td>\n",
       "      <td>13</td>\n",
       "    </tr>\n",
       "    <tr>\n",
       "      <th>4</th>\n",
       "      <td>812</td>\n",
       "      <td>Glycolic Acid 7% Toning Solution</td>\n",
       "      <td>The Ordinary</td>\n",
       "      <td>[Water, Glycolic Acid, Rosa Damascena Flower W...</td>\n",
       "      <td>16</td>\n",
       "    </tr>\n",
       "    <tr>\n",
       "      <th>5</th>\n",
       "      <td>2962</td>\n",
       "      <td>Cellular 3-Minute Peel</td>\n",
       "      <td>La Prairie</td>\n",
       "      <td>[Water, Hydroxyethyl Acrylate/Sodium Acryloyld...</td>\n",
       "      <td>15</td>\n",
       "    </tr>\n",
       "    <tr>\n",
       "      <th>6</th>\n",
       "      <td>3350</td>\n",
       "      <td>Juniper Oil-Free Face Moisturizer</td>\n",
       "      <td>TheBalm</td>\n",
       "      <td>[Water, Ethylhexyl Methoxycinnamate, Butylene ...</td>\n",
       "      <td>14</td>\n",
       "    </tr>\n",
       "    <tr>\n",
       "      <th>7</th>\n",
       "      <td>1760</td>\n",
       "      <td>Skin Hydrating Masque</td>\n",
       "      <td>Dermalogica</td>\n",
       "      <td>[Water, Glycerin, Butylene Glycol, Squalane, D...</td>\n",
       "      <td>14</td>\n",
       "    </tr>\n",
       "    <tr>\n",
       "      <th>8</th>\n",
       "      <td>9098</td>\n",
       "      <td>Tensage Radiance Eye Cream</td>\n",
       "      <td>Biobelle</td>\n",
       "      <td>[Water, Snail Secretion Filtrate, C12-20 Acid ...</td>\n",
       "      <td>14</td>\n",
       "    </tr>\n",
       "    <tr>\n",
       "      <th>9</th>\n",
       "      <td>2866</td>\n",
       "      <td>Ultra Facial Oil-Free Lotion</td>\n",
       "      <td>Kiehl's</td>\n",
       "      <td>[Water, Glycerin, Alcohol Denat., Isononyl Iso...</td>\n",
       "      <td>13</td>\n",
       "    </tr>\n",
       "  </tbody>\n",
       "</table>\n",
       "</div>"
      ],
      "text/plain": [
       "   index                                           product            brand  \\\n",
       "0   8032  Revitalising Ginseng Toner With Glycolic Acid 5%   Bravura London   \n",
       "1  14768                             Glow Tonic To-Go Pads             Pixi   \n",
       "2  13600                         Tensage Eye Contour Cream         Biopelle   \n",
       "3  10534                        Rehydrating Toning Essence  Su-Man Skincare   \n",
       "4    812                  Glycolic Acid 7% Toning Solution     The Ordinary   \n",
       "5   2962                            Cellular 3-Minute Peel       La Prairie   \n",
       "6   3350                 Juniper Oil-Free Face Moisturizer          TheBalm   \n",
       "7   1760                             Skin Hydrating Masque      Dermalogica   \n",
       "8   9098                        Tensage Radiance Eye Cream         Biobelle   \n",
       "9   2866                      Ultra Facial Oil-Free Lotion          Kiehl's   \n",
       "\n",
       "                                             ingList  commonIng  \n",
       "0  [Water, Aloe Barbadensis (Aloe Vera) Gel, Hama...         17  \n",
       "1  [Water, Glycolic Acid, Butylene Glycol, Glycer...         20  \n",
       "2  [Water, Snail Secretion Filtrate, C12-20 Acid ...         14  \n",
       "3  [Water, Rosa Centifolia Flower Water, Hyaluron...         13  \n",
       "4  [Water, Glycolic Acid, Rosa Damascena Flower W...         16  \n",
       "5  [Water, Hydroxyethyl Acrylate/Sodium Acryloyld...         15  \n",
       "6  [Water, Ethylhexyl Methoxycinnamate, Butylene ...         14  \n",
       "7  [Water, Glycerin, Butylene Glycol, Squalane, D...         14  \n",
       "8  [Water, Snail Secretion Filtrate, C12-20 Acid ...         14  \n",
       "9  [Water, Glycerin, Alcohol Denat., Isononyl Iso...         13  "
      ]
     },
     "execution_count": 297,
     "metadata": {},
     "output_type": "execute_result"
    }
   ],
   "source": [
    "topTen = pd.DataFrame(recommended)\n",
    "commonItems(product, topTen, df)\n",
    "#recommended.to_csv('recommendations/RBO.csv')\n",
    "topTen.reset_index()"
   ]
  },
  {
   "cell_type": "markdown",
   "metadata": {},
   "source": [
    "### Find specific product similarity"
   ]
  },
  {
   "cell_type": "code",
   "execution_count": 298,
   "metadata": {},
   "outputs": [
    {
     "name": "stdout",
     "output_type": "stream",
     "text": [
      "RVal Similarity\n",
      "---------------------------------------------------------------\n",
      "Product: Natural Radiant Glycolic Tonic\n",
      "Similarity score: 0.30085400643\n",
      "Rank: 88\n",
      "Number of Ingredients 29\n",
      "Number of Common Ingredients 8\n"
     ]
    }
   ],
   "source": [
    "prod_search_id = 9290\n",
    "sims = [v for i, v in enumerate(sim_scores_all) if v[0] == prod_search_id]\n",
    "\n",
    "sim_df = pd.DataFrame(sim_scores_all, columns=['index', 'score']).sort_values(['score'], ascending = False).reset_index().drop(['level_0'], axis = 1)\n",
    "index_return = sim_df[sim_df['index'] == prod_search_id].index.item() \n",
    "\n",
    "list1 = df.loc[idx]['ingList']\n",
    "list2 = df.loc[prod_search_id]['ingList']\n",
    "\n",
    "print('RVal Similarity')\n",
    "print('---------------------------------------------------------------')\n",
    "print('Product:', df.iloc[prod_search_id]['product'])\n",
    "print('Similarity score:', sims[0][1])\n",
    "print('Rank:', index_return)\n",
    "print('Number of Ingredients', df.iloc[prod_search_id]['ingCount'])\n",
    "print('Number of Common Ingredients', len(set(list1)&set(list2)))\n",
    "#print('Ingredients', df.iloc[prod_search_id]['ingList'])"
   ]
  },
  {
   "cell_type": "code",
   "execution_count": null,
   "metadata": {},
   "outputs": [],
   "source": []
  }
 ],
 "metadata": {
  "kernelspec": {
   "display_name": "Python 3",
   "language": "python",
   "name": "python3"
  },
  "language_info": {
   "codemirror_mode": {
    "name": "ipython",
    "version": 3
   },
   "file_extension": ".py",
   "mimetype": "text/x-python",
   "name": "python",
   "nbconvert_exporter": "python",
   "pygments_lexer": "ipython3",
   "version": "3.6.0"
  }
 },
 "nbformat": 4,
 "nbformat_minor": 2
}
