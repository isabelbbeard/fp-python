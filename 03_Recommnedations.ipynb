{
 "cells": [
  {
   "cell_type": "code",
   "execution_count": 5,
   "metadata": {},
   "outputs": [],
   "source": [
    "import pickle\n",
    "import pandas as pd\n",
    "from getRecommendations import *"
   ]
  },
  {
   "cell_type": "markdown",
   "metadata": {},
   "source": [
    "## Load product CSV"
   ]
  },
  {
   "cell_type": "code",
   "execution_count": 6,
   "metadata": {},
   "outputs": [],
   "source": [
    "df = pd.read_csv('data_sim/recommender_products.csv', encoding = \"ISO-8859-1\", index_col=0)"
   ]
  },
  {
   "cell_type": "markdown",
   "metadata": {},
   "source": [
    "## Load similarity matrices"
   ]
  },
  {
   "cell_type": "code",
   "execution_count": 7,
   "metadata": {},
   "outputs": [],
   "source": [
    "cosine_sim = pickle.load(open(\"data_sim/cosine_sim.p\", \"rb\" ) )\n",
    "AO_sim = pickle.load(open(\"data_sim/AO_sim.p\", \"rb\" ) )\n",
    "#RBO_sim = pickle.load(open(\"data_sim/RBO_sim.p\", \"rb\" ) )\n",
    "#RBO_ext_sim = pickle.load(open(\"data_sim/RBO_ext_sim.p\", \"rb\" ) )"
   ]
  },
  {
   "cell_type": "code",
   "execution_count": 8,
   "metadata": {},
   "outputs": [],
   "source": [
    "df = pd.DataFrame(cosine_sim)\n",
    "df.to_csv(\"data_sim/cosine_sim.csv\")"
   ]
  },
  {
   "cell_type": "markdown",
   "metadata": {},
   "source": [
    "# GET RECOMMENDATIONS"
   ]
  },
  {
   "cell_type": "code",
   "execution_count": 4,
   "metadata": {},
   "outputs": [
    {
     "data": {
      "text/html": [
       "<div>\n",
       "<table border=\"1\" class=\"dataframe\">\n",
       "  <thead>\n",
       "    <tr style=\"text-align: right;\">\n",
       "      <th></th>\n",
       "      <th>product</th>\n",
       "      <th>ingList</th>\n",
       "    </tr>\n",
       "  </thead>\n",
       "  <tbody>\n",
       "    <tr>\n",
       "      <th>4080</th>\n",
       "      <td>Émulsion Lactèe Demaquillante (Purifying Milk ...</td>\n",
       "      <td>['Water', 'Paraffin', 'Glyceryl Stearate', 'Tr...</td>\n",
       "    </tr>\n",
       "    <tr>\n",
       "      <th>4889</th>\n",
       "      <td>Expert Sensitive Gentle Eye Makeup Removal Lotion</td>\n",
       "      <td>['Mineral Oil', 'Isopropyl Palmitate', 'Cocos ...</td>\n",
       "    </tr>\n",
       "    <tr>\n",
       "      <th>8690</th>\n",
       "      <td>Hyluaronic Acid Vitamin C Serum</td>\n",
       "      <td>['Water', 'Magnesium Ascorbyl Phosphate', 'Alo...</td>\n",
       "    </tr>\n",
       "    <tr>\n",
       "      <th>12744</th>\n",
       "      <td>Organic Lavender Mint Witch Hazel Astringent</td>\n",
       "      <td>['Water', 'Alcohol Denat.', 'Vegetable Glyceri...</td>\n",
       "    </tr>\n",
       "    <tr>\n",
       "      <th>135</th>\n",
       "      <td>Alcohol-Free Unscented Witch Hazel Toner</td>\n",
       "      <td>['Water', 'Aloe Barbadensis Leaf', 'Vegetable ...</td>\n",
       "    </tr>\n",
       "    <tr>\n",
       "      <th>10841</th>\n",
       "      <td>Pore Refining Facial Toner</td>\n",
       "      <td>['Water', 'Aloe Barbadensis Leaf', 'Polysorbat...</td>\n",
       "    </tr>\n",
       "    <tr>\n",
       "      <th>13890</th>\n",
       "      <td>Sávee Face serum Vitamin C</td>\n",
       "      <td>['Water', 'Glycerin', 'Yeast Extract', 'Carbom...</td>\n",
       "    </tr>\n",
       "    <tr>\n",
       "      <th>12316</th>\n",
       "      <td>Pure Hydration Hyaluronic Serum</td>\n",
       "      <td>['Water', 'Glycerin', 'Propylene Glycol', 'Hya...</td>\n",
       "    </tr>\n",
       "    <tr>\n",
       "      <th>3406</th>\n",
       "      <td>Michael Todd Organic Aloe Nourishing Healing Oil</td>\n",
       "      <td>['Glycine', 'Euterpe Oleracea Pulp Powder', 'A...</td>\n",
       "    </tr>\n",
       "    <tr>\n",
       "      <th>5066</th>\n",
       "      <td>Repair C Plus Copper and Zinc Vitamin Concentr...</td>\n",
       "      <td>['Ascorbic Acid (Vitamin C', 'Citric Acid', 'A...</td>\n",
       "    </tr>\n",
       "  </tbody>\n",
       "</table>\n",
       "</div>"
      ],
      "text/plain": [
       "                                                 product  \\\n",
       "4080   Émulsion Lactèe Demaquillante (Purifying Milk ...   \n",
       "4889   Expert Sensitive Gentle Eye Makeup Removal Lotion   \n",
       "8690                     Hyluaronic Acid Vitamin C Serum   \n",
       "12744       Organic Lavender Mint Witch Hazel Astringent   \n",
       "135             Alcohol-Free Unscented Witch Hazel Toner   \n",
       "10841                         Pore Refining Facial Toner   \n",
       "13890                         Sávee Face serum Vitamin C   \n",
       "12316                    Pure Hydration Hyaluronic Serum   \n",
       "3406    Michael Todd Organic Aloe Nourishing Healing Oil   \n",
       "5066   Repair C Plus Copper and Zinc Vitamin Concentr...   \n",
       "\n",
       "                                                 ingList  \n",
       "4080   ['Water', 'Paraffin', 'Glyceryl Stearate', 'Tr...  \n",
       "4889   ['Mineral Oil', 'Isopropyl Palmitate', 'Cocos ...  \n",
       "8690   ['Water', 'Magnesium Ascorbyl Phosphate', 'Alo...  \n",
       "12744  ['Water', 'Alcohol Denat.', 'Vegetable Glyceri...  \n",
       "135    ['Water', 'Aloe Barbadensis Leaf', 'Vegetable ...  \n",
       "10841  ['Water', 'Aloe Barbadensis Leaf', 'Polysorbat...  \n",
       "13890  ['Water', 'Glycerin', 'Yeast Extract', 'Carbom...  \n",
       "12316  ['Water', 'Glycerin', 'Propylene Glycol', 'Hya...  \n",
       "3406   ['Glycine', 'Euterpe Oleracea Pulp Powder', 'A...  \n",
       "5066   ['Ascorbic Acid (Vitamin C', 'Citric Acid', 'A...  "
      ]
     },
     "execution_count": 4,
     "metadata": {},
     "output_type": "execute_result"
    }
   ],
   "source": [
    "## substitutde for different sim scores\n",
    "sim_score = cosine_sim\n",
    "get_COS_recommendations(df,'Lait-Creme Concentre', sim_score)"
   ]
  },
  {
   "cell_type": "markdown",
   "metadata": {},
   "source": [
    "### Use to view specific ingredient lists"
   ]
  },
  {
   "cell_type": "code",
   "execution_count": null,
   "metadata": {},
   "outputs": [],
   "source": [
    "ingTest = products_and_ingredients[products_and_ingredients['product'].str.match('Lait-Creme Concentre')]\n",
    "ingTest = ingTest['ingList']\n",
    "print(*ingTest, sep='\\n')"
   ]
  },
  {
   "cell_type": "code",
   "execution_count": null,
   "metadata": {},
   "outputs": [],
   "source": []
  }
 ],
 "metadata": {
  "kernelspec": {
   "display_name": "Python 3",
   "language": "python",
   "name": "python3"
  },
  "language_info": {
   "codemirror_mode": {
    "name": "ipython",
    "version": 3
   },
   "file_extension": ".py",
   "mimetype": "text/x-python",
   "name": "python",
   "nbconvert_exporter": "python",
   "pygments_lexer": "ipython3",
   "version": "3.6.0"
  }
 },
 "nbformat": 4,
 "nbformat_minor": 2
}
