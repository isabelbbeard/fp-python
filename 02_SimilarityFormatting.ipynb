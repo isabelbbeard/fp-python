{
 "cells": [
  {
   "cell_type": "code",
   "execution_count": 1,
   "metadata": {},
   "outputs": [],
   "source": [
    "import pandas as pd\n",
    "import numpy as np\n",
    "\n",
    "from RBO import *\n",
    "from getRecommendations import *"
   ]
  },
  {
   "cell_type": "markdown",
   "metadata": {},
   "source": [
    "# Read csvs"
   ]
  },
  {
   "cell_type": "markdown",
   "metadata": {},
   "source": [
    "These are the csv's we cleaned up and combined in step 01. "
   ]
  },
  {
   "cell_type": "code",
   "execution_count": 2,
   "metadata": {},
   "outputs": [
    {
     "name": "stdout",
     "output_type": "stream",
     "text": [
      "Number of products:  15945\n",
      "Number of unique ingredients:  7325\n",
      "Number of total ingredients:  545617\n"
     ]
    }
   ],
   "source": [
    "ings = pd.read_csv('data/ings.csv', encoding = \"ISO-8859-1\", index_col=0)\n",
    "#prods = prods.drop_duplicates(subset = 'product')\n",
    "prods = pd.read_csv('data/prods.csv', encoding = \"ISO-8859-1\", index_col=0)\n",
    "#prods = prods.drop_duplicates(subset = 'product')\n",
    "prod_ing = pd.read_csv('data/prod_ing.csv', encoding = \"ISO-8859-1\", index_col=0)\n",
    "prod_ing = prod_ing.drop(['diff'], axis = 1)\n",
    "prod_ing = prod_ing.sort_values(['id', 'order'])\n",
    "\n",
    "print('Number of products: ', len(prods))\n",
    "print('Number of unique ingredients: ', len(ings))\n",
    "print('Number of total ingredients: ', len(prod_ing))"
   ]
  },
  {
   "cell_type": "markdown",
   "metadata": {},
   "source": [
    "### Ings\n",
    "Ings df is just a database of unique ingredients and their harmful score, function and notes."
   ]
  },
  {
   "cell_type": "code",
   "execution_count": 3,
   "metadata": {},
   "outputs": [
    {
     "name": "stdout",
     "output_type": "stream",
     "text": [
      "Number of unique ingredients:  7324\n"
     ]
    },
    {
     "data": {
      "text/html": [
       "<div>\n",
       "<table border=\"1\" class=\"dataframe\">\n",
       "  <thead>\n",
       "    <tr style=\"text-align: right;\">\n",
       "      <th></th>\n",
       "      <th>id</th>\n",
       "      <th>ingredient</th>\n",
       "      <th>ewg</th>\n",
       "      <th>cir</th>\n",
       "      <th>func_Abrasive</th>\n",
       "      <th>func_Antimicrobial</th>\n",
       "      <th>func_Antioxidant</th>\n",
       "      <th>func_Antistatic Agent</th>\n",
       "      <th>func_Astringent</th>\n",
       "      <th>func_Binding</th>\n",
       "      <th>...</th>\n",
       "      <th>notes_Comedogenic Rating (3)</th>\n",
       "      <th>notes_Comedogenic Rating (4)</th>\n",
       "      <th>notes_Comedogenic Rating (5)</th>\n",
       "      <th>notes_Good for Dry Skin</th>\n",
       "      <th>notes_Good for Oily Skin</th>\n",
       "      <th>notes_Good for Sensitive Skin</th>\n",
       "      <th>notes_Paraben</th>\n",
       "      <th>notes_Promotes Wound Healing</th>\n",
       "      <th>notes_Sulfate</th>\n",
       "      <th>notes_UV Protection</th>\n",
       "    </tr>\n",
       "  </thead>\n",
       "  <tbody>\n",
       "    <tr>\n",
       "      <th>0</th>\n",
       "      <td>0</td>\n",
       "      <td>Water</td>\n",
       "      <td>1</td>\n",
       "      <td>NaN</td>\n",
       "      <td>0</td>\n",
       "      <td>0</td>\n",
       "      <td>0</td>\n",
       "      <td>0</td>\n",
       "      <td>0</td>\n",
       "      <td>0</td>\n",
       "      <td>...</td>\n",
       "      <td>0</td>\n",
       "      <td>0</td>\n",
       "      <td>0</td>\n",
       "      <td>0</td>\n",
       "      <td>0</td>\n",
       "      <td>0</td>\n",
       "      <td>0</td>\n",
       "      <td>0</td>\n",
       "      <td>0</td>\n",
       "      <td>0</td>\n",
       "    </tr>\n",
       "    <tr>\n",
       "      <th>1</th>\n",
       "      <td>0</td>\n",
       "      <td>Hydrogenated Polyisobutene</td>\n",
       "      <td>1</td>\n",
       "      <td>A</td>\n",
       "      <td>0</td>\n",
       "      <td>0</td>\n",
       "      <td>0</td>\n",
       "      <td>0</td>\n",
       "      <td>0</td>\n",
       "      <td>0</td>\n",
       "      <td>...</td>\n",
       "      <td>0</td>\n",
       "      <td>0</td>\n",
       "      <td>0</td>\n",
       "      <td>0</td>\n",
       "      <td>0</td>\n",
       "      <td>0</td>\n",
       "      <td>0</td>\n",
       "      <td>0</td>\n",
       "      <td>0</td>\n",
       "      <td>0</td>\n",
       "    </tr>\n",
       "    <tr>\n",
       "      <th>2</th>\n",
       "      <td>0</td>\n",
       "      <td>Butylene Glycol</td>\n",
       "      <td>1</td>\n",
       "      <td>A</td>\n",
       "      <td>0</td>\n",
       "      <td>0</td>\n",
       "      <td>0</td>\n",
       "      <td>0</td>\n",
       "      <td>0</td>\n",
       "      <td>0</td>\n",
       "      <td>...</td>\n",
       "      <td>0</td>\n",
       "      <td>0</td>\n",
       "      <td>0</td>\n",
       "      <td>1</td>\n",
       "      <td>0</td>\n",
       "      <td>0</td>\n",
       "      <td>0</td>\n",
       "      <td>0</td>\n",
       "      <td>0</td>\n",
       "      <td>0</td>\n",
       "    </tr>\n",
       "    <tr>\n",
       "      <th>3</th>\n",
       "      <td>0</td>\n",
       "      <td>Sesamum Indicum (Sesame) Seed Oil</td>\n",
       "      <td>1</td>\n",
       "      <td>A</td>\n",
       "      <td>0</td>\n",
       "      <td>0</td>\n",
       "      <td>0</td>\n",
       "      <td>0</td>\n",
       "      <td>0</td>\n",
       "      <td>0</td>\n",
       "      <td>...</td>\n",
       "      <td>1</td>\n",
       "      <td>0</td>\n",
       "      <td>0</td>\n",
       "      <td>0</td>\n",
       "      <td>0</td>\n",
       "      <td>0</td>\n",
       "      <td>0</td>\n",
       "      <td>0</td>\n",
       "      <td>0</td>\n",
       "      <td>0</td>\n",
       "    </tr>\n",
       "    <tr>\n",
       "      <th>4</th>\n",
       "      <td>0</td>\n",
       "      <td>Ammonium Acryloyldimethyltaurate/VP Copolymer</td>\n",
       "      <td>1</td>\n",
       "      <td>NaN</td>\n",
       "      <td>0</td>\n",
       "      <td>0</td>\n",
       "      <td>0</td>\n",
       "      <td>0</td>\n",
       "      <td>0</td>\n",
       "      <td>0</td>\n",
       "      <td>...</td>\n",
       "      <td>0</td>\n",
       "      <td>0</td>\n",
       "      <td>0</td>\n",
       "      <td>0</td>\n",
       "      <td>0</td>\n",
       "      <td>0</td>\n",
       "      <td>0</td>\n",
       "      <td>0</td>\n",
       "      <td>0</td>\n",
       "      <td>0</td>\n",
       "    </tr>\n",
       "  </tbody>\n",
       "</table>\n",
       "<p>5 rows × 51 columns</p>\n",
       "</div>"
      ],
      "text/plain": [
       "   id                                     ingredient ewg  cir  func_Abrasive  \\\n",
       "0   0                                          Water   1  NaN              0   \n",
       "1   0                     Hydrogenated Polyisobutene   1    A              0   \n",
       "2   0                                Butylene Glycol   1    A              0   \n",
       "3   0              Sesamum Indicum (Sesame) Seed Oil   1    A              0   \n",
       "4   0  Ammonium Acryloyldimethyltaurate/VP Copolymer   1  NaN              0   \n",
       "\n",
       "   func_Antimicrobial  func_Antioxidant  func_Antistatic Agent  \\\n",
       "0                   0                 0                      0   \n",
       "1                   0                 0                      0   \n",
       "2                   0                 0                      0   \n",
       "3                   0                 0                      0   \n",
       "4                   0                 0                      0   \n",
       "\n",
       "   func_Astringent  func_Binding         ...           \\\n",
       "0                0             0         ...            \n",
       "1                0             0         ...            \n",
       "2                0             0         ...            \n",
       "3                0             0         ...            \n",
       "4                0             0         ...            \n",
       "\n",
       "   notes_Comedogenic Rating (3)  notes_Comedogenic Rating (4)  \\\n",
       "0                             0                             0   \n",
       "1                             0                             0   \n",
       "2                             0                             0   \n",
       "3                             1                             0   \n",
       "4                             0                             0   \n",
       "\n",
       "   notes_Comedogenic Rating (5)  notes_Good for Dry Skin  \\\n",
       "0                             0                        0   \n",
       "1                             0                        0   \n",
       "2                             0                        1   \n",
       "3                             0                        0   \n",
       "4                             0                        0   \n",
       "\n",
       "   notes_Good for Oily Skin  notes_Good for Sensitive Skin  notes_Paraben  \\\n",
       "0                         0                              0              0   \n",
       "1                         0                              0              0   \n",
       "2                         0                              0              0   \n",
       "3                         0                              0              0   \n",
       "4                         0                              0              0   \n",
       "\n",
       "   notes_Promotes Wound Healing  notes_Sulfate  notes_UV Protection  \n",
       "0                             0              0                    0  \n",
       "1                             0              0                    0  \n",
       "2                             0              0                    0  \n",
       "3                             0              0                    0  \n",
       "4                             0              0                    0  \n",
       "\n",
       "[5 rows x 51 columns]"
      ]
     },
     "execution_count": 3,
     "metadata": {},
     "output_type": "execute_result"
    }
   ],
   "source": [
    "#caught a rogue ingredient\n",
    "ings['ingredient'] = ings['ingredient'].replace('Stearic Acid(Masking, Fragrance, Emulsion Stabilising, Emulsifying, Sufactant, Refatting, Surfactantsurfactant-Cleansing Agent Is Included As A Function For The Soap Form Of Stearic Acid.', 'Stearic Acid')\n",
    "ings = ings.drop_duplicates(subset = 'ingredient')\n",
    "print('Number of unique ingredients: ', len(ings))\n",
    "ings.head()"
   ]
  },
  {
   "cell_type": "code",
   "execution_count": 4,
   "metadata": {},
   "outputs": [],
   "source": [
    "ing_uniqueID = ings.loc[:,['ingredient']].reset_index()\n",
    "ing_uniqueID = ing_uniqueID.drop(['index'], axis = 1)\n",
    "ing_uniqueID['uniqueID'] = ing_uniqueID.index\n",
    "#ing_uniqueID"
   ]
  },
  {
   "cell_type": "markdown",
   "metadata": {},
   "source": [
    "### Prods\n",
    "Prods df is a database of all the products with various information including brand, price and rating"
   ]
  },
  {
   "cell_type": "code",
   "execution_count": 5,
   "metadata": {},
   "outputs": [
    {
     "data": {
      "text/html": [
       "<div>\n",
       "<table border=\"1\" class=\"dataframe\">\n",
       "  <thead>\n",
       "    <tr style=\"text-align: right;\">\n",
       "      <th></th>\n",
       "      <th>id</th>\n",
       "      <th>product</th>\n",
       "      <th>brand</th>\n",
       "      <th>price</th>\n",
       "      <th>rating</th>\n",
       "      <th>ratingsCount</th>\n",
       "      <th>cat_Acne&amp;BlemishTreatments</th>\n",
       "      <th>cat_Ampoules</th>\n",
       "      <th>cat_BodySkincare</th>\n",
       "      <th>cat_Cleansers</th>\n",
       "      <th>...</th>\n",
       "      <th>note_AlcoholFree</th>\n",
       "      <th>note_Anti-Aging</th>\n",
       "      <th>note_Brightening</th>\n",
       "      <th>note_ContainsAlcohol</th>\n",
       "      <th>note_ContainsParaben</th>\n",
       "      <th>note_ContainsSulfate</th>\n",
       "      <th>note_ParabenFree</th>\n",
       "      <th>note_PromotesWoundHealing</th>\n",
       "      <th>note_SulfateFree</th>\n",
       "      <th>note_UVProtection</th>\n",
       "    </tr>\n",
       "  </thead>\n",
       "  <tbody>\n",
       "    <tr>\n",
       "      <th>0</th>\n",
       "      <td>0</td>\n",
       "      <td>Naturally Gentle Eye Makeup Remover</td>\n",
       "      <td>Clinique</td>\n",
       "      <td>20.00</td>\n",
       "      <td>5.0</td>\n",
       "      <td>16</td>\n",
       "      <td>0</td>\n",
       "      <td>0</td>\n",
       "      <td>0</td>\n",
       "      <td>0</td>\n",
       "      <td>...</td>\n",
       "      <td>1</td>\n",
       "      <td>0</td>\n",
       "      <td>0</td>\n",
       "      <td>0</td>\n",
       "      <td>1</td>\n",
       "      <td>0</td>\n",
       "      <td>0</td>\n",
       "      <td>0</td>\n",
       "      <td>1</td>\n",
       "      <td>0</td>\n",
       "    </tr>\n",
       "    <tr>\n",
       "      <th>2</th>\n",
       "      <td>2</td>\n",
       "      <td>Foot Cream Norwegian Formula</td>\n",
       "      <td>Neutrogena</td>\n",
       "      <td>23.82</td>\n",
       "      <td>4.9</td>\n",
       "      <td>84</td>\n",
       "      <td>0</td>\n",
       "      <td>0</td>\n",
       "      <td>0</td>\n",
       "      <td>0</td>\n",
       "      <td>...</td>\n",
       "      <td>1</td>\n",
       "      <td>0</td>\n",
       "      <td>1</td>\n",
       "      <td>0</td>\n",
       "      <td>1</td>\n",
       "      <td>0</td>\n",
       "      <td>0</td>\n",
       "      <td>1</td>\n",
       "      <td>1</td>\n",
       "      <td>0</td>\n",
       "    </tr>\n",
       "    <tr>\n",
       "      <th>3</th>\n",
       "      <td>3</td>\n",
       "      <td>Essential Power Skin Refiner_Moisture</td>\n",
       "      <td>Laneige</td>\n",
       "      <td>28.20</td>\n",
       "      <td>5.0</td>\n",
       "      <td>12</td>\n",
       "      <td>0</td>\n",
       "      <td>0</td>\n",
       "      <td>0</td>\n",
       "      <td>0</td>\n",
       "      <td>...</td>\n",
       "      <td>0</td>\n",
       "      <td>0</td>\n",
       "      <td>1</td>\n",
       "      <td>1</td>\n",
       "      <td>0</td>\n",
       "      <td>0</td>\n",
       "      <td>1</td>\n",
       "      <td>1</td>\n",
       "      <td>1</td>\n",
       "      <td>0</td>\n",
       "    </tr>\n",
       "  </tbody>\n",
       "</table>\n",
       "<p>3 rows × 44 columns</p>\n",
       "</div>"
      ],
      "text/plain": [
       "   id                                product       brand  price  rating  \\\n",
       "0   0    Naturally Gentle Eye Makeup Remover    Clinique  20.00     5.0   \n",
       "2   2           Foot Cream Norwegian Formula  Neutrogena  23.82     4.9   \n",
       "3   3  Essential Power Skin Refiner_Moisture     Laneige  28.20     5.0   \n",
       "\n",
       "   ratingsCount  cat_Acne&BlemishTreatments  cat_Ampoules  cat_BodySkincare  \\\n",
       "0            16                           0             0                 0   \n",
       "2            84                           0             0                 0   \n",
       "3            12                           0             0                 0   \n",
       "\n",
       "   cat_Cleansers        ...          note_AlcoholFree  note_Anti-Aging  \\\n",
       "0              0        ...                         1                0   \n",
       "2              0        ...                         1                0   \n",
       "3              0        ...                         0                0   \n",
       "\n",
       "   note_Brightening  note_ContainsAlcohol  note_ContainsParaben  \\\n",
       "0                 0                     0                     1   \n",
       "2                 1                     0                     1   \n",
       "3                 1                     1                     0   \n",
       "\n",
       "   note_ContainsSulfate  note_ParabenFree  note_PromotesWoundHealing  \\\n",
       "0                     0                 0                          0   \n",
       "2                     0                 0                          1   \n",
       "3                     0                 1                          1   \n",
       "\n",
       "   note_SulfateFree  note_UVProtection  \n",
       "0                 1                  0  \n",
       "2                 1                  0  \n",
       "3                 1                  0  \n",
       "\n",
       "[3 rows x 44 columns]"
      ]
     },
     "execution_count": 5,
     "metadata": {},
     "output_type": "execute_result"
    }
   ],
   "source": [
    "prods.head(3)"
   ]
  },
  {
   "cell_type": "markdown",
   "metadata": {},
   "source": [
    "### Prod_ing\n",
    "Prod ing is a database that essentiall links prods and ings. it contains the product id, ingredient and ingredient order."
   ]
  },
  {
   "cell_type": "code",
   "execution_count": 6,
   "metadata": {},
   "outputs": [
    {
     "data": {
      "text/html": [
       "<div>\n",
       "<table border=\"1\" class=\"dataframe\">\n",
       "  <thead>\n",
       "    <tr style=\"text-align: right;\">\n",
       "      <th></th>\n",
       "      <th>id</th>\n",
       "      <th>ingredient</th>\n",
       "      <th>order</th>\n",
       "    </tr>\n",
       "  </thead>\n",
       "  <tbody>\n",
       "    <tr>\n",
       "      <th>0</th>\n",
       "      <td>0</td>\n",
       "      <td>Water</td>\n",
       "      <td>1</td>\n",
       "    </tr>\n",
       "    <tr>\n",
       "      <th>1</th>\n",
       "      <td>0</td>\n",
       "      <td>Hydrogenated Polyisobutene</td>\n",
       "      <td>2</td>\n",
       "    </tr>\n",
       "    <tr>\n",
       "      <th>2</th>\n",
       "      <td>0</td>\n",
       "      <td>Butylene Glycol</td>\n",
       "      <td>3</td>\n",
       "    </tr>\n",
       "  </tbody>\n",
       "</table>\n",
       "</div>"
      ],
      "text/plain": [
       "   id                  ingredient  order\n",
       "0   0                       Water      1\n",
       "1   0  Hydrogenated Polyisobutene      2\n",
       "2   0             Butylene Glycol      3"
      ]
     },
     "execution_count": 6,
     "metadata": {},
     "output_type": "execute_result"
    }
   ],
   "source": [
    "prod_ing.head(3)"
   ]
  },
  {
   "cell_type": "markdown",
   "metadata": {},
   "source": [
    "### Add a column that is a unique ingredient identifier"
   ]
  },
  {
   "cell_type": "code",
   "execution_count": 7,
   "metadata": {},
   "outputs": [
    {
     "data": {
      "text/html": [
       "<div>\n",
       "<table border=\"1\" class=\"dataframe\">\n",
       "  <thead>\n",
       "    <tr style=\"text-align: right;\">\n",
       "      <th></th>\n",
       "      <th>id</th>\n",
       "      <th>ingredient</th>\n",
       "      <th>order</th>\n",
       "      <th>uniqueID</th>\n",
       "    </tr>\n",
       "  </thead>\n",
       "  <tbody>\n",
       "    <tr>\n",
       "      <th>0</th>\n",
       "      <td>0</td>\n",
       "      <td>Water</td>\n",
       "      <td>1</td>\n",
       "      <td>0</td>\n",
       "    </tr>\n",
       "    <tr>\n",
       "      <th>15954</th>\n",
       "      <td>0</td>\n",
       "      <td>Hydrogenated Polyisobutene</td>\n",
       "      <td>2</td>\n",
       "      <td>1</td>\n",
       "    </tr>\n",
       "    <tr>\n",
       "      <th>16617</th>\n",
       "      <td>0</td>\n",
       "      <td>Butylene Glycol</td>\n",
       "      <td>3</td>\n",
       "      <td>2</td>\n",
       "    </tr>\n",
       "    <tr>\n",
       "      <th>24563</th>\n",
       "      <td>0</td>\n",
       "      <td>Sesamum Indicum (Sesame) Seed Oil</td>\n",
       "      <td>4</td>\n",
       "      <td>3</td>\n",
       "    </tr>\n",
       "    <tr>\n",
       "      <th>24889</th>\n",
       "      <td>0</td>\n",
       "      <td>Ammonium Acryloyldimethyltaurate/VP Copolymer</td>\n",
       "      <td>5</td>\n",
       "      <td>4</td>\n",
       "    </tr>\n",
       "  </tbody>\n",
       "</table>\n",
       "</div>"
      ],
      "text/plain": [
       "       id                                     ingredient  order  uniqueID\n",
       "0       0                                          Water      1         0\n",
       "15954   0                     Hydrogenated Polyisobutene      2         1\n",
       "16617   0                                Butylene Glycol      3         2\n",
       "24563   0              Sesamum Indicum (Sesame) Seed Oil      4         3\n",
       "24889   0  Ammonium Acryloyldimethyltaurate/VP Copolymer      5         4"
      ]
     },
     "execution_count": 7,
     "metadata": {},
     "output_type": "execute_result"
    }
   ],
   "source": [
    "#id is product id\n",
    "#uniqueID is ingredient ID\n",
    "prod_ing = pd.merge(prod_ing, ing_uniqueID, on='ingredient')\n",
    "prod_ing = prod_ing.sort_values(['id', 'order'])\n",
    "prod_ing.head()"
   ]
  },
  {
   "cell_type": "code",
   "execution_count": 8,
   "metadata": {},
   "outputs": [],
   "source": [
    "#reset index and drop\n",
    "prod_ing = prod_ing.reset_index(drop=True)"
   ]
  },
  {
   "cell_type": "markdown",
   "metadata": {},
   "source": [
    "## Reformatting Prod_ing\n",
    "Instead of having each ingredient in it's own row, we want to create a list of ingredients for each product while retaining the order."
   ]
  },
  {
   "cell_type": "code",
   "execution_count": 9,
   "metadata": {},
   "outputs": [
    {
     "data": {
      "text/plain": [
       "id\n",
       "0        [Water, Hydrogenated Polyisobutene, Butylene G...\n",
       "1        [Mineral Oil, Glycerin, PEG-12, Cyclopentasilo...\n",
       "2        [Water, Glycerin, Cetearyl Alcohol, Petrolatum...\n",
       "3        [Water, Glycereth-26, Alcohol, Butylene Glycol...\n",
       "4        [Petrolatum, Glycerin, Cocamidopropyl Betaine,...\n",
       "5        [Water, Butylene Glycol, Glycerin, Disodium Su...\n",
       "6        [Mineral Oil, Avena Sativa (Oat) Kernel Flour,...\n",
       "7        [Sodium Palm Kernelate, Water, Sodium Borate, ...\n",
       "8        [Water, Hamamelis Virginiana (Witch Hazel) Wat...\n",
       "9        [Water, Caprylic/Capric Triglyceride, Glycerin...\n",
       "10       [Water, Glycerin, Sodium Laureth Sulfate, PEG-...\n",
       "11       [Water, Tri-C14-15 Alkyl Citrate, Cyclohexasil...\n",
       "12       [Water, Butylene Glycol, Propylene Glycol, Dip...\n",
       "13       [Sodium Palm Kernelate, Water, Petrolatum, Gly...\n",
       "14       [Water, Chamaecyparis Obtusa Water, Glycerin, ...\n",
       "15       [Snail Secretion Filtrate, Water, Butylene Gly...\n",
       "16       [Water, Bentonite, Glycerin, Magnesium Aluminu...\n",
       "17       [Ethylhexyl Salicylate, Benzophenone-3, Water,...\n",
       "18       [Ethylhexyl Salicylate, Water, Dimethicone, Bu...\n",
       "19       [Ethylhexyl Salicylate, Water, Dimethicone, Bu...\n",
       "20       [Water, Hydrogenated Polyisobutene, Butylene G...\n",
       "21       [Mineral Oil, Glycerin, PEG-12, Cyclopentasilo...\n",
       "22       [Water, Glycerin, Cetearyl Alcohol, Petrolatum...\n",
       "23       [Water, Glycereth-26, Alcohol, Butylene Glycol...\n",
       "24       [Petrolatum, Glycerin, Cocamidopropyl Betaine,...\n",
       "25       [Water, Butylene Glycol, Glycerin, Disodium Su...\n",
       "26       [Mineral Oil, Avena Sativa (Oat) Kernel Flour,...\n",
       "27       [Sodium Palm Kernelate, Water, Sodium Borate, ...\n",
       "28       [Water, Hamamelis Virginiana (Witch Hazel) Wat...\n",
       "29       [Water, Caprylic/Capric Triglyceride, Glycerin...\n",
       "                               ...                        \n",
       "19897    [Cocos Nucifera (Coconut) Fruit Juice, Glucose...\n",
       "19898    [Water, Paraffin, Glutathione, Glycerin, Polyg...\n",
       "19899    [Butylene Glycol, Glycerin, Sea Water, Xanthan...\n",
       "19900    [Water, Butylene Glycol, Propylene Glycol, Dip...\n",
       "19901    [Water, Butylene Glycol, Glycerin, PEG-20, Met...\n",
       "19902    [Water, Glycerin, Oleic Acid(Emollient, Fragra...\n",
       "19903    [Water, Homosalate, Dibutyl Adipate, Propanedi...\n",
       "19904    [Dimethicone, Caprylic/Capric Triglyceride, Ce...\n",
       "19905    [Cinoxate, Ethylhexyl Salicylate, Benzophenone...\n",
       "19906    [Water, Acrylates Copolymer, Iron Oxides, Meth...\n",
       "19907    [Talc, Perlite, Titanium Dioxide, Zea Mays (Co...\n",
       "19908    [Water, Butylene Glycol, Dipropylene Glycol, 1...\n",
       "19909    [Water, Dipropylene Glycol, Alcohol Denat., Bu...\n",
       "19910    [Water, Titanium Dioxide, Phenyl Trimethicone,...\n",
       "19911    [Water, Butylene Glycol, Alcohol, Glycerin, Pe...\n",
       "19912    [Water, Glycerin, Cetearyl Alcohol, Sodium Cet...\n",
       "19913    [Benzophenone-3, Homosalate, Ethylhexyl Salicy...\n",
       "19914    [Water, Glycerin, Poly C10-30 Alkyl Acrylate, ...\n",
       "19915    [Water, Glycerin, Dipropylene Glycol, PEG-60 H...\n",
       "19916    [Water, Cocamidopropyl Betaine, Disodium Cocoa...\n",
       "19917    [Zinc Oxide, Ethylhexyl Methoxycinnamate, Octo...\n",
       "19918    [Water, Cyclomethicone, Alcohol Denat., Diprop...\n",
       "19919    [Sodium Acetylated Hyaluronate, Sodium Hyaluro...\n",
       "19920    [Water, Ascorbic Acid (Vitamin C, Alcohol, Nia...\n",
       "19921    [Water, Glycerin, Alcohol, Butylene Glycol, Me...\n",
       "19922    [Water, Dimethicone, Glycerin, Palmitic Acid(E...\n",
       "19923    [Water, Dipropylene Glycol, Caprylic/Capric Tr...\n",
       "19924    [Water, Polyvinyl Alcohol, Ethanolamine, 1,2-H...\n",
       "19925    [Ricinus Communis (Castor) Seed Oil, Lanolin, ...\n",
       "19926    [Water, Ascorbic Acid (Vitamin C, Glycerin, Di...\n",
       "Name: ingredient, dtype: object"
      ]
     },
     "execution_count": 9,
     "metadata": {},
     "output_type": "execute_result"
    }
   ],
   "source": [
    "prod_ing.groupby('id')['ingredient'].apply(list)"
   ]
  },
  {
   "cell_type": "code",
   "execution_count": 10,
   "metadata": {},
   "outputs": [
    {
     "data": {
      "text/plain": [
       "id\n",
       "0    [Water, Hydrogenated Polyisobutene, Butylene G...\n",
       "1    [Mineral Oil, Glycerin, PEG-12, Cyclopentasilo...\n",
       "2    [Water, Glycerin, Cetearyl Alcohol, Petrolatum...\n",
       "3    [Water, Glycereth-26, Alcohol, Butylene Glycol...\n",
       "4    [Petrolatum, Glycerin, Cocamidopropyl Betaine,...\n",
       "Name: ingredient, dtype: object"
      ]
     },
     "execution_count": 10,
     "metadata": {},
     "output_type": "execute_result"
    }
   ],
   "source": [
    "#cleanup of a rogue ingredient here as well\n",
    "prod_ing['ingredient'] = prod_ing['ingredient'].replace('Stearic Acid(Masking, Fragrance, Emulsion Stabilising, Emulsifying, Sufactant, Refatting, Surfactantsurfactant-Cleansing Agent Is Included As A Function For The Soap Form Of Stearic Acid.', 'Stearic Acid')\n",
    "\n",
    "##group and create list\n",
    "prod_ing_lists = prod_ing.groupby('id')['ingredient'].apply(list)\n",
    "prod_ing_ID_lists = prod_ing.groupby('id')['uniqueID'].apply(list)\n",
    "\n",
    "##convert back to dataframe and reset index\n",
    "prod_ing_df = prod_ing_lists.to_frame().reset_index()\n",
    "prod_ing_ID_df = prod_ing_ID_lists.to_frame().reset_index()\n",
    "##check to make sure unique id's are still in tact (id shouldn't be exactly == to index)\n",
    "prod_ing_lists.head()"
   ]
  },
  {
   "cell_type": "code",
   "execution_count": 11,
   "metadata": {},
   "outputs": [
    {
     "data": {
      "text/html": [
       "<div>\n",
       "<table border=\"1\" class=\"dataframe\">\n",
       "  <thead>\n",
       "    <tr style=\"text-align: right;\">\n",
       "      <th></th>\n",
       "      <th>id</th>\n",
       "      <th>ingredient</th>\n",
       "    </tr>\n",
       "  </thead>\n",
       "  <tbody>\n",
       "    <tr>\n",
       "      <th>19858</th>\n",
       "      <td>19922</td>\n",
       "      <td>[Water, Dimethicone, Glycerin, Palmitic Acid(E...</td>\n",
       "    </tr>\n",
       "    <tr>\n",
       "      <th>19859</th>\n",
       "      <td>19923</td>\n",
       "      <td>[Water, Dipropylene Glycol, Caprylic/Capric Tr...</td>\n",
       "    </tr>\n",
       "    <tr>\n",
       "      <th>19860</th>\n",
       "      <td>19924</td>\n",
       "      <td>[Water, Polyvinyl Alcohol, Ethanolamine, 1,2-H...</td>\n",
       "    </tr>\n",
       "    <tr>\n",
       "      <th>19861</th>\n",
       "      <td>19925</td>\n",
       "      <td>[Ricinus Communis (Castor) Seed Oil, Lanolin, ...</td>\n",
       "    </tr>\n",
       "    <tr>\n",
       "      <th>19862</th>\n",
       "      <td>19926</td>\n",
       "      <td>[Water, Ascorbic Acid (Vitamin C, Glycerin, Di...</td>\n",
       "    </tr>\n",
       "  </tbody>\n",
       "</table>\n",
       "</div>"
      ],
      "text/plain": [
       "          id                                         ingredient\n",
       "19858  19922  [Water, Dimethicone, Glycerin, Palmitic Acid(E...\n",
       "19859  19923  [Water, Dipropylene Glycol, Caprylic/Capric Tr...\n",
       "19860  19924  [Water, Polyvinyl Alcohol, Ethanolamine, 1,2-H...\n",
       "19861  19925  [Ricinus Communis (Castor) Seed Oil, Lanolin, ...\n",
       "19862  19926  [Water, Ascorbic Acid (Vitamin C, Glycerin, Di..."
      ]
     },
     "execution_count": 11,
     "metadata": {},
     "output_type": "execute_result"
    }
   ],
   "source": [
    "prod_ing_df.tail()"
   ]
  },
  {
   "cell_type": "code",
   "execution_count": 12,
   "metadata": {},
   "outputs": [
    {
     "data": {
      "text/html": [
       "<div>\n",
       "<table border=\"1\" class=\"dataframe\">\n",
       "  <thead>\n",
       "    <tr style=\"text-align: right;\">\n",
       "      <th></th>\n",
       "      <th>id</th>\n",
       "      <th>ingList</th>\n",
       "      <th>ing#List</th>\n",
       "    </tr>\n",
       "  </thead>\n",
       "  <tbody>\n",
       "    <tr>\n",
       "      <th>0</th>\n",
       "      <td>0</td>\n",
       "      <td>[Water, Hydrogenated Polyisobutene, Butylene G...</td>\n",
       "      <td>[0, 1, 2, 3, 4, 5, 6, 7, 8, 9, 10, 11, 12, 13,...</td>\n",
       "    </tr>\n",
       "    <tr>\n",
       "      <th>1</th>\n",
       "      <td>1</td>\n",
       "      <td>[Mineral Oil, Glycerin, PEG-12, Cyclopentasilo...</td>\n",
       "      <td>[22, 23, 24, 25, 26, 27, 28, 29, 30, 31, 32, 3...</td>\n",
       "    </tr>\n",
       "    <tr>\n",
       "      <th>2</th>\n",
       "      <td>2</td>\n",
       "      <td>[Water, Glycerin, Cetearyl Alcohol, Petrolatum...</td>\n",
       "      <td>[0, 23, 46, 47, 48, 49, 50, 51, 52, 53, 54, 55...</td>\n",
       "    </tr>\n",
       "    <tr>\n",
       "      <th>3</th>\n",
       "      <td>3</td>\n",
       "      <td>[Water, Glycereth-26, Alcohol, Butylene Glycol...</td>\n",
       "      <td>[0, 62, 63, 2, 64, 65, 66, 67, 68, 69, 70, 71,...</td>\n",
       "    </tr>\n",
       "    <tr>\n",
       "      <th>4</th>\n",
       "      <td>4</td>\n",
       "      <td>[Petrolatum, Glycerin, Cocamidopropyl Betaine,...</td>\n",
       "      <td>[47, 23, 92, 93, 94, 2, 95, 96, 97, 98, 99, 16...</td>\n",
       "    </tr>\n",
       "  </tbody>\n",
       "</table>\n",
       "</div>"
      ],
      "text/plain": [
       "   id                                            ingList  \\\n",
       "0   0  [Water, Hydrogenated Polyisobutene, Butylene G...   \n",
       "1   1  [Mineral Oil, Glycerin, PEG-12, Cyclopentasilo...   \n",
       "2   2  [Water, Glycerin, Cetearyl Alcohol, Petrolatum...   \n",
       "3   3  [Water, Glycereth-26, Alcohol, Butylene Glycol...   \n",
       "4   4  [Petrolatum, Glycerin, Cocamidopropyl Betaine,...   \n",
       "\n",
       "                                            ing#List  \n",
       "0  [0, 1, 2, 3, 4, 5, 6, 7, 8, 9, 10, 11, 12, 13,...  \n",
       "1  [22, 23, 24, 25, 26, 27, 28, 29, 30, 31, 32, 3...  \n",
       "2  [0, 23, 46, 47, 48, 49, 50, 51, 52, 53, 54, 55...  \n",
       "3  [0, 62, 63, 2, 64, 65, 66, 67, 68, 69, 70, 71,...  \n",
       "4  [47, 23, 92, 93, 94, 2, 95, 96, 97, 98, 99, 16...  "
      ]
     },
     "execution_count": 12,
     "metadata": {},
     "output_type": "execute_result"
    }
   ],
   "source": [
    "prod_ing_lists = pd.merge(prod_ing_df, prod_ing_ID_df, on='id')\n",
    "prod_ing_lists = prod_ing_lists.rename(columns = {'ingredient': 'ingList', 'uniqueID': 'ing#List' })\n",
    "prod_ing_lists.head()"
   ]
  },
  {
   "cell_type": "markdown",
   "metadata": {},
   "source": [
    "## Merge prod_ings and prods\n",
    "We can now use the list to merge back with the products."
   ]
  },
  {
   "cell_type": "code",
   "execution_count": null,
   "metadata": {},
   "outputs": [],
   "source": []
  },
  {
   "cell_type": "code",
   "execution_count": 13,
   "metadata": {},
   "outputs": [
    {
     "data": {
      "text/plain": [
       "15945"
      ]
     },
     "execution_count": 13,
     "metadata": {},
     "output_type": "execute_result"
    }
   ],
   "source": [
    "products_and_ingredients= pd.merge(prod_ing_lists, prods, on='id')\n",
    "products_and_ingredients.tail(3)\n",
    "len(products_and_ingredients)"
   ]
  },
  {
   "cell_type": "markdown",
   "metadata": {},
   "source": [
    "### Add column for number of ingredients"
   ]
  },
  {
   "cell_type": "code",
   "execution_count": 14,
   "metadata": {},
   "outputs": [
    {
     "data": {
      "text/html": [
       "<div>\n",
       "<table border=\"1\" class=\"dataframe\">\n",
       "  <thead>\n",
       "    <tr style=\"text-align: right;\">\n",
       "      <th></th>\n",
       "      <th>id</th>\n",
       "      <th>ingList</th>\n",
       "      <th>ing#List</th>\n",
       "      <th>product</th>\n",
       "      <th>brand</th>\n",
       "      <th>price</th>\n",
       "      <th>rating</th>\n",
       "      <th>ratingsCount</th>\n",
       "      <th>cat_Acne&amp;BlemishTreatments</th>\n",
       "      <th>cat_Ampoules</th>\n",
       "      <th>...</th>\n",
       "      <th>note_Anti-Aging</th>\n",
       "      <th>note_Brightening</th>\n",
       "      <th>note_ContainsAlcohol</th>\n",
       "      <th>note_ContainsParaben</th>\n",
       "      <th>note_ContainsSulfate</th>\n",
       "      <th>note_ParabenFree</th>\n",
       "      <th>note_PromotesWoundHealing</th>\n",
       "      <th>note_SulfateFree</th>\n",
       "      <th>note_UVProtection</th>\n",
       "      <th>ingCount</th>\n",
       "    </tr>\n",
       "  </thead>\n",
       "  <tbody>\n",
       "    <tr>\n",
       "      <th>0</th>\n",
       "      <td>0</td>\n",
       "      <td>[Water, Hydrogenated Polyisobutene, Butylene G...</td>\n",
       "      <td>[0, 1, 2, 3, 4, 5, 6, 7, 8, 9, 10, 11, 12, 13,...</td>\n",
       "      <td>Naturally Gentle Eye Makeup Remover</td>\n",
       "      <td>Clinique</td>\n",
       "      <td>20.00</td>\n",
       "      <td>5.0</td>\n",
       "      <td>16</td>\n",
       "      <td>0</td>\n",
       "      <td>0</td>\n",
       "      <td>...</td>\n",
       "      <td>0</td>\n",
       "      <td>0</td>\n",
       "      <td>0</td>\n",
       "      <td>1</td>\n",
       "      <td>0</td>\n",
       "      <td>0</td>\n",
       "      <td>0</td>\n",
       "      <td>1</td>\n",
       "      <td>0</td>\n",
       "      <td>22</td>\n",
       "    </tr>\n",
       "    <tr>\n",
       "      <th>1</th>\n",
       "      <td>2</td>\n",
       "      <td>[Water, Glycerin, Cetearyl Alcohol, Petrolatum...</td>\n",
       "      <td>[0, 23, 46, 47, 48, 49, 50, 51, 52, 53, 54, 55...</td>\n",
       "      <td>Foot Cream Norwegian Formula</td>\n",
       "      <td>Neutrogena</td>\n",
       "      <td>23.82</td>\n",
       "      <td>4.9</td>\n",
       "      <td>84</td>\n",
       "      <td>0</td>\n",
       "      <td>0</td>\n",
       "      <td>...</td>\n",
       "      <td>0</td>\n",
       "      <td>1</td>\n",
       "      <td>0</td>\n",
       "      <td>1</td>\n",
       "      <td>0</td>\n",
       "      <td>0</td>\n",
       "      <td>1</td>\n",
       "      <td>1</td>\n",
       "      <td>0</td>\n",
       "      <td>20</td>\n",
       "    </tr>\n",
       "    <tr>\n",
       "      <th>2</th>\n",
       "      <td>3</td>\n",
       "      <td>[Water, Glycereth-26, Alcohol, Butylene Glycol...</td>\n",
       "      <td>[0, 62, 63, 2, 64, 65, 66, 67, 68, 69, 70, 71,...</td>\n",
       "      <td>Essential Power Skin Refiner_Moisture</td>\n",
       "      <td>Laneige</td>\n",
       "      <td>28.20</td>\n",
       "      <td>5.0</td>\n",
       "      <td>12</td>\n",
       "      <td>0</td>\n",
       "      <td>0</td>\n",
       "      <td>...</td>\n",
       "      <td>0</td>\n",
       "      <td>1</td>\n",
       "      <td>1</td>\n",
       "      <td>0</td>\n",
       "      <td>0</td>\n",
       "      <td>1</td>\n",
       "      <td>1</td>\n",
       "      <td>1</td>\n",
       "      <td>0</td>\n",
       "      <td>38</td>\n",
       "    </tr>\n",
       "  </tbody>\n",
       "</table>\n",
       "<p>3 rows × 47 columns</p>\n",
       "</div>"
      ],
      "text/plain": [
       "   id                                            ingList  \\\n",
       "0   0  [Water, Hydrogenated Polyisobutene, Butylene G...   \n",
       "1   2  [Water, Glycerin, Cetearyl Alcohol, Petrolatum...   \n",
       "2   3  [Water, Glycereth-26, Alcohol, Butylene Glycol...   \n",
       "\n",
       "                                            ing#List  \\\n",
       "0  [0, 1, 2, 3, 4, 5, 6, 7, 8, 9, 10, 11, 12, 13,...   \n",
       "1  [0, 23, 46, 47, 48, 49, 50, 51, 52, 53, 54, 55...   \n",
       "2  [0, 62, 63, 2, 64, 65, 66, 67, 68, 69, 70, 71,...   \n",
       "\n",
       "                                 product       brand  price  rating  \\\n",
       "0    Naturally Gentle Eye Makeup Remover    Clinique  20.00     5.0   \n",
       "1           Foot Cream Norwegian Formula  Neutrogena  23.82     4.9   \n",
       "2  Essential Power Skin Refiner_Moisture     Laneige  28.20     5.0   \n",
       "\n",
       "   ratingsCount  cat_Acne&BlemishTreatments  cat_Ampoules    ...     \\\n",
       "0            16                           0             0    ...      \n",
       "1            84                           0             0    ...      \n",
       "2            12                           0             0    ...      \n",
       "\n",
       "   note_Anti-Aging  note_Brightening  note_ContainsAlcohol  \\\n",
       "0                0                 0                     0   \n",
       "1                0                 1                     0   \n",
       "2                0                 1                     1   \n",
       "\n",
       "   note_ContainsParaben  note_ContainsSulfate  note_ParabenFree  \\\n",
       "0                     1                     0                 0   \n",
       "1                     1                     0                 0   \n",
       "2                     0                     0                 1   \n",
       "\n",
       "   note_PromotesWoundHealing  note_SulfateFree  note_UVProtection  ingCount  \n",
       "0                          0                 1                  0        22  \n",
       "1                          1                 1                  0        20  \n",
       "2                          1                 1                  0        38  \n",
       "\n",
       "[3 rows x 47 columns]"
      ]
     },
     "execution_count": 14,
     "metadata": {},
     "output_type": "execute_result"
    }
   ],
   "source": [
    "products_and_ingredients['ingCount'] = products_and_ingredients['ingList'].apply(lambda x: len(x))\n",
    "products_and_ingredients.head(3)"
   ]
  },
  {
   "cell_type": "code",
   "execution_count": 15,
   "metadata": {},
   "outputs": [
    {
     "data": {
      "text/plain": [
       "list"
      ]
     },
     "execution_count": 15,
     "metadata": {},
     "output_type": "execute_result"
    }
   ],
   "source": [
    "type(products_and_ingredients.loc[0]['ing#List'])"
   ]
  },
  {
   "cell_type": "code",
   "execution_count": 16,
   "metadata": {},
   "outputs": [
    {
     "data": {
      "text/plain": [
       "15945"
      ]
     },
     "execution_count": 16,
     "metadata": {},
     "output_type": "execute_result"
    }
   ],
   "source": [
    "#products_and_ingredients['ing#List'] = products_and_ingredients['ing#List'].apply(lambda x: str(x))\n",
    "#products_and_ingredients['ing#List'] = products_and_ingredients['ing#List'].str.replace(',', '')\n",
    "#products_and_ingredients['ing#List'] = products_and_ingredients['ing#List'].str.replace('[', '')\n",
    "#products_and_ingredients['ing#List'] = products_and_ingredients['ing#List'].str.replace(']', '')\n",
    "#products_and_ingredients = products_and_ingredients.drop_duplicates(subset = 'product')\n",
    "\n",
    "len(products_and_ingredients)\n"
   ]
  },
  {
   "cell_type": "code",
   "execution_count": 17,
   "metadata": {},
   "outputs": [],
   "source": [
    "products_and_ingredients.to_csv('recommendations/recommender_products.csv')"
   ]
  },
  {
   "cell_type": "markdown",
   "metadata": {},
   "source": [
    "# GET RECOMMENDATIONS\n"
   ]
  },
  {
   "cell_type": "code",
   "execution_count": 18,
   "metadata": {},
   "outputs": [],
   "source": [
    "df = products_and_ingredients\n",
    "#remove water\n",
    "df['ing#List'] = [list(filter(lambda a: a != 0, i)) for i in df['ing#List']]"
   ]
  },
  {
   "cell_type": "code",
   "execution_count": 27,
   "metadata": {},
   "outputs": [
    {
     "name": "stdout",
     "output_type": "stream",
     "text": [
      "\n"
     ]
    }
   ],
   "source": [
    "product ='Hyaluronic Acid 2% + B5'\n",
    "ingTest = df[df['product'].str.match(product)]\n",
    "ingTest = ingTest['ingList']\n",
    "print(*ingTest, sep='\\n')"
   ]
  },
  {
   "cell_type": "code",
   "execution_count": null,
   "metadata": {},
   "outputs": [],
   "source": []
  },
  {
   "cell_type": "markdown",
   "metadata": {},
   "source": [
    "## Cosine similarity"
   ]
  },
  {
   "cell_type": "code",
   "execution_count": 37,
   "metadata": {},
   "outputs": [
    {
     "name": "stdout",
     "output_type": "stream",
     "text": [
      "Wall time: 26.7 s\n"
     ]
    }
   ],
   "source": [
    "%%time\n",
    "\n",
    "recommended = get_COS_recommendations(df,product)\n",
    "topTen = pd.DataFrame(recommended)\n",
    "commonItems(product, topTen, df)\n",
    "recommended.to_csv('recommendations/COS.csv')"
   ]
  },
  {
   "cell_type": "code",
   "execution_count": 38,
   "metadata": {},
   "outputs": [
    {
     "data": {
      "text/html": [
       "<div>\n",
       "<table border=\"1\" class=\"dataframe\">\n",
       "  <thead>\n",
       "    <tr style=\"text-align: right;\">\n",
       "      <th></th>\n",
       "      <th>product</th>\n",
       "      <th>ingList</th>\n",
       "      <th>commonIng</th>\n",
       "    </tr>\n",
       "  </thead>\n",
       "  <tbody>\n",
       "    <tr>\n",
       "      <th>11290</th>\n",
       "      <td>Booster Low-Molecular HA</td>\n",
       "      <td>[Water, Hydrolyzed Yeast Extract, Pentylene Gl...</td>\n",
       "      <td>15</td>\n",
       "    </tr>\n",
       "    <tr>\n",
       "      <th>1479</th>\n",
       "      <td>Alpha Arbutin 2% + HA</td>\n",
       "      <td>[Water, Alpha-Arbutin, Polyacrylate Crosspolym...</td>\n",
       "      <td>9</td>\n",
       "    </tr>\n",
       "    <tr>\n",
       "      <th>211</th>\n",
       "      <td>Matrixyl 10% + HA</td>\n",
       "      <td>[Water, Glycerin, Butylene Glycol, Palmitoyl T...</td>\n",
       "      <td>10</td>\n",
       "    </tr>\n",
       "    <tr>\n",
       "      <th>11289</th>\n",
       "      <td>Booster Sensitive Fix</td>\n",
       "      <td>[Water, Sodium Hyaluronate Crosspolymer, Sacch...</td>\n",
       "      <td>13</td>\n",
       "    </tr>\n",
       "    <tr>\n",
       "      <th>1888</th>\n",
       "      <td>SubQ Anti Age Advanced Serum</td>\n",
       "      <td>[Water, Glycerin, Hydrolyzed Yeast Extract, Pe...</td>\n",
       "      <td>15</td>\n",
       "    </tr>\n",
       "    <tr>\n",
       "      <th>6646</th>\n",
       "      <td>Hydraluron Moisture Serum</td>\n",
       "      <td>[Water, Propanediol, Sodium Hyaluronate, Carbo...</td>\n",
       "      <td>5</td>\n",
       "    </tr>\n",
       "    <tr>\n",
       "      <th>11022</th>\n",
       "      <td>Inhibitif Face Serum</td>\n",
       "      <td>[Propanediol, Water, Rosa Damascena Flower Wat...</td>\n",
       "      <td>13</td>\n",
       "    </tr>\n",
       "    <tr>\n",
       "      <th>8306</th>\n",
       "      <td>Skin Freshener</td>\n",
       "      <td>[Water, Pentylene Glycol, Saccharide Isomerate...</td>\n",
       "      <td>10</td>\n",
       "    </tr>\n",
       "    <tr>\n",
       "      <th>15478</th>\n",
       "      <td>Lactic Acid 5% + HA 2%</td>\n",
       "      <td>[Water, Lactic Acid, Glycerin, Pentylene Glyco...</td>\n",
       "      <td>9</td>\n",
       "    </tr>\n",
       "    <tr>\n",
       "      <th>15514</th>\n",
       "      <td>Lactic Acid 10% + HA 2%</td>\n",
       "      <td>[Water, Lactic Acid, Glycerin, Pentylene Glyco...</td>\n",
       "      <td>9</td>\n",
       "    </tr>\n",
       "  </tbody>\n",
       "</table>\n",
       "</div>"
      ],
      "text/plain": [
       "                            product  \\\n",
       "11290      Booster Low-Molecular HA   \n",
       "1479          Alpha Arbutin 2% + HA   \n",
       "211               Matrixyl 10% + HA   \n",
       "11289         Booster Sensitive Fix   \n",
       "1888   SubQ Anti Age Advanced Serum   \n",
       "6646      Hydraluron Moisture Serum   \n",
       "11022          Inhibitif Face Serum   \n",
       "8306                 Skin Freshener   \n",
       "15478        Lactic Acid 5% + HA 2%   \n",
       "15514       Lactic Acid 10% + HA 2%   \n",
       "\n",
       "                                                 ingList  commonIng  \n",
       "11290  [Water, Hydrolyzed Yeast Extract, Pentylene Gl...         15  \n",
       "1479   [Water, Alpha-Arbutin, Polyacrylate Crosspolym...          9  \n",
       "211    [Water, Glycerin, Butylene Glycol, Palmitoyl T...         10  \n",
       "11289  [Water, Sodium Hyaluronate Crosspolymer, Sacch...         13  \n",
       "1888   [Water, Glycerin, Hydrolyzed Yeast Extract, Pe...         15  \n",
       "6646   [Water, Propanediol, Sodium Hyaluronate, Carbo...          5  \n",
       "11022  [Propanediol, Water, Rosa Damascena Flower Wat...         13  \n",
       "8306   [Water, Pentylene Glycol, Saccharide Isomerate...         10  \n",
       "15478  [Water, Lactic Acid, Glycerin, Pentylene Glyco...          9  \n",
       "15514  [Water, Lactic Acid, Glycerin, Pentylene Glyco...          9  "
      ]
     },
     "execution_count": 38,
     "metadata": {},
     "output_type": "execute_result"
    }
   ],
   "source": [
    "topTen"
   ]
  },
  {
   "cell_type": "markdown",
   "metadata": {},
   "source": [
    "## Average Overlap"
   ]
  },
  {
   "cell_type": "code",
   "execution_count": 30,
   "metadata": {},
   "outputs": [
    {
     "name": "stdout",
     "output_type": "stream",
     "text": [
      "Wall time: 38.7 s\n"
     ]
    }
   ],
   "source": [
    "%%time\n",
    "\n",
    "recommended = get_A0_recommendations(df,product)\n",
    "topTen = pd.DataFrame(recommended)\n",
    "commonItems(product, topTen, df)\n",
    "recommended.to_csv('recommendations/AO.csv')"
   ]
  },
  {
   "cell_type": "code",
   "execution_count": 31,
   "metadata": {},
   "outputs": [
    {
     "data": {
      "text/html": [
       "<div>\n",
       "<table border=\"1\" class=\"dataframe\">\n",
       "  <thead>\n",
       "    <tr style=\"text-align: right;\">\n",
       "      <th></th>\n",
       "      <th>product</th>\n",
       "      <th>ingList</th>\n",
       "      <th>commonIng</th>\n",
       "    </tr>\n",
       "  </thead>\n",
       "  <tbody>\n",
       "    <tr>\n",
       "      <th>1583</th>\n",
       "      <td>Pure Vitamin C Serum</td>\n",
       "      <td>[Sodium Hyaluronate, Ascorbic Acid (Vitamin C,...</td>\n",
       "      <td>1</td>\n",
       "    </tr>\n",
       "    <tr>\n",
       "      <th>10729</th>\n",
       "      <td>Concentrated Firming Serum</td>\n",
       "      <td>[Water, Sodium Hyaluronate, Vegetable Glycerin...</td>\n",
       "      <td>2</td>\n",
       "    </tr>\n",
       "    <tr>\n",
       "      <th>4273</th>\n",
       "      <td>Youth Eye Complex</td>\n",
       "      <td>[Water, Sodium Hyaluronate, Caprylic/Capric Tr...</td>\n",
       "      <td>5</td>\n",
       "    </tr>\n",
       "    <tr>\n",
       "      <th>12634</th>\n",
       "      <td>Sleeping Pack</td>\n",
       "      <td>[Water, Sodium Hyaluronate, Ascorbyl Tetraisop...</td>\n",
       "      <td>6</td>\n",
       "    </tr>\n",
       "    <tr>\n",
       "      <th>12442</th>\n",
       "      <td>Hyaluronic Lift Serum W/ MDI Complex</td>\n",
       "      <td>[Water, Sodium Hyaluronate, Panthenol, Polysor...</td>\n",
       "      <td>4</td>\n",
       "    </tr>\n",
       "    <tr>\n",
       "      <th>1694</th>\n",
       "      <td>Triple Age Repair Moisturizer with SPF 25</td>\n",
       "      <td>[Benzophenone-2, Homosalate, Octocrylene, Wate...</td>\n",
       "      <td>4</td>\n",
       "    </tr>\n",
       "    <tr>\n",
       "      <th>12159</th>\n",
       "      <td>AmPm Super Triple HA Serum 30ml</td>\n",
       "      <td>[Water, Sodium Hyaluronate, Glycosphingolipids...</td>\n",
       "      <td>5</td>\n",
       "    </tr>\n",
       "    <tr>\n",
       "      <th>8519</th>\n",
       "      <td>Hyaluron Serum</td>\n",
       "      <td>[Water, Sodium Hyaluronate, Citric Acid]</td>\n",
       "      <td>3</td>\n",
       "    </tr>\n",
       "    <tr>\n",
       "      <th>703</th>\n",
       "      <td>Super Volcanic Pore Clay Mask</td>\n",
       "      <td>[Water, Titanium Dioxide, Butylene Glycol, Vol...</td>\n",
       "      <td>4</td>\n",
       "    </tr>\n",
       "    <tr>\n",
       "      <th>3361</th>\n",
       "      <td>C-ESTA Serum</td>\n",
       "      <td>[Water, Sodium Hyaluronate, Ascorbyl Palmitate...</td>\n",
       "      <td>3</td>\n",
       "    </tr>\n",
       "  </tbody>\n",
       "</table>\n",
       "</div>"
      ],
      "text/plain": [
       "                                         product  \\\n",
       "1583                        Pure Vitamin C Serum   \n",
       "10729                 Concentrated Firming Serum   \n",
       "4273                           Youth Eye Complex   \n",
       "12634                              Sleeping Pack   \n",
       "12442       Hyaluronic Lift Serum W/ MDI Complex   \n",
       "1694   Triple Age Repair Moisturizer with SPF 25   \n",
       "12159            AmPm Super Triple HA Serum 30ml   \n",
       "8519                              Hyaluron Serum   \n",
       "703                Super Volcanic Pore Clay Mask   \n",
       "3361                                C-ESTA Serum   \n",
       "\n",
       "                                                 ingList  commonIng  \n",
       "1583   [Sodium Hyaluronate, Ascorbic Acid (Vitamin C,...          1  \n",
       "10729  [Water, Sodium Hyaluronate, Vegetable Glycerin...          2  \n",
       "4273   [Water, Sodium Hyaluronate, Caprylic/Capric Tr...          5  \n",
       "12634  [Water, Sodium Hyaluronate, Ascorbyl Tetraisop...          6  \n",
       "12442  [Water, Sodium Hyaluronate, Panthenol, Polysor...          4  \n",
       "1694   [Benzophenone-2, Homosalate, Octocrylene, Wate...          4  \n",
       "12159  [Water, Sodium Hyaluronate, Glycosphingolipids...          5  \n",
       "8519            [Water, Sodium Hyaluronate, Citric Acid]          3  \n",
       "703    [Water, Titanium Dioxide, Butylene Glycol, Vol...          4  \n",
       "3361   [Water, Sodium Hyaluronate, Ascorbyl Palmitate...          3  "
      ]
     },
     "execution_count": 31,
     "metadata": {},
     "output_type": "execute_result"
    }
   ],
   "source": [
    "topTen"
   ]
  },
  {
   "cell_type": "markdown",
   "metadata": {},
   "source": [
    "## RBO similarity measure\n",
    "\n",
    "Based on code found [here](https://github.com/dlukes/rbo/blob/master/rbo.py)"
   ]
  },
  {
   "cell_type": "code",
   "execution_count": 32,
   "metadata": {},
   "outputs": [
    {
     "name": "stdout",
     "output_type": "stream",
     "text": [
      "Wall time: 48.5 s\n"
     ]
    }
   ],
   "source": [
    "%%time\n",
    "\n",
    "recommended = get_RBO_recommendations(df,product,rbo_min)\n",
    "topTen = pd.DataFrame(recommended)\n",
    "commonItems(product, topTen, df)\n",
    "recommended.to_csv('recommendations/RBO.csv')"
   ]
  },
  {
   "cell_type": "code",
   "execution_count": 33,
   "metadata": {},
   "outputs": [
    {
     "data": {
      "text/html": [
       "<div>\n",
       "<table border=\"1\" class=\"dataframe\">\n",
       "  <thead>\n",
       "    <tr style=\"text-align: right;\">\n",
       "      <th></th>\n",
       "      <th>product</th>\n",
       "      <th>ingList</th>\n",
       "      <th>commonIng</th>\n",
       "    </tr>\n",
       "  </thead>\n",
       "  <tbody>\n",
       "    <tr>\n",
       "      <th>1583</th>\n",
       "      <td>Pure Vitamin C Serum</td>\n",
       "      <td>[Sodium Hyaluronate, Ascorbic Acid (Vitamin C,...</td>\n",
       "      <td>1</td>\n",
       "    </tr>\n",
       "    <tr>\n",
       "      <th>10729</th>\n",
       "      <td>Concentrated Firming Serum</td>\n",
       "      <td>[Water, Sodium Hyaluronate, Vegetable Glycerin...</td>\n",
       "      <td>2</td>\n",
       "    </tr>\n",
       "    <tr>\n",
       "      <th>12634</th>\n",
       "      <td>Sleeping Pack</td>\n",
       "      <td>[Water, Sodium Hyaluronate, Ascorbyl Tetraisop...</td>\n",
       "      <td>6</td>\n",
       "    </tr>\n",
       "    <tr>\n",
       "      <th>4273</th>\n",
       "      <td>Youth Eye Complex</td>\n",
       "      <td>[Water, Sodium Hyaluronate, Caprylic/Capric Tr...</td>\n",
       "      <td>5</td>\n",
       "    </tr>\n",
       "    <tr>\n",
       "      <th>12442</th>\n",
       "      <td>Hyaluronic Lift Serum W/ MDI Complex</td>\n",
       "      <td>[Water, Sodium Hyaluronate, Panthenol, Polysor...</td>\n",
       "      <td>4</td>\n",
       "    </tr>\n",
       "    <tr>\n",
       "      <th>703</th>\n",
       "      <td>Super Volcanic Pore Clay Mask</td>\n",
       "      <td>[Water, Titanium Dioxide, Butylene Glycol, Vol...</td>\n",
       "      <td>4</td>\n",
       "    </tr>\n",
       "    <tr>\n",
       "      <th>12159</th>\n",
       "      <td>AmPm Super Triple HA Serum 30ml</td>\n",
       "      <td>[Water, Sodium Hyaluronate, Glycosphingolipids...</td>\n",
       "      <td>5</td>\n",
       "    </tr>\n",
       "    <tr>\n",
       "      <th>3361</th>\n",
       "      <td>C-ESTA Serum</td>\n",
       "      <td>[Water, Sodium Hyaluronate, Ascorbyl Palmitate...</td>\n",
       "      <td>3</td>\n",
       "    </tr>\n",
       "    <tr>\n",
       "      <th>1694</th>\n",
       "      <td>Triple Age Repair Moisturizer with SPF 25</td>\n",
       "      <td>[Benzophenone-2, Homosalate, Octocrylene, Wate...</td>\n",
       "      <td>4</td>\n",
       "    </tr>\n",
       "    <tr>\n",
       "      <th>5333</th>\n",
       "      <td>Wrinkle Revenge Ultimate Hyaluronic Serum</td>\n",
       "      <td>[Water, Sodium Hyaluronate Crosspolymer, Glyce...</td>\n",
       "      <td>9</td>\n",
       "    </tr>\n",
       "  </tbody>\n",
       "</table>\n",
       "</div>"
      ],
      "text/plain": [
       "                                         product  \\\n",
       "1583                        Pure Vitamin C Serum   \n",
       "10729                 Concentrated Firming Serum   \n",
       "12634                              Sleeping Pack   \n",
       "4273                           Youth Eye Complex   \n",
       "12442       Hyaluronic Lift Serum W/ MDI Complex   \n",
       "703                Super Volcanic Pore Clay Mask   \n",
       "12159            AmPm Super Triple HA Serum 30ml   \n",
       "3361                                C-ESTA Serum   \n",
       "1694   Triple Age Repair Moisturizer with SPF 25   \n",
       "5333   Wrinkle Revenge Ultimate Hyaluronic Serum   \n",
       "\n",
       "                                                 ingList  commonIng  \n",
       "1583   [Sodium Hyaluronate, Ascorbic Acid (Vitamin C,...          1  \n",
       "10729  [Water, Sodium Hyaluronate, Vegetable Glycerin...          2  \n",
       "12634  [Water, Sodium Hyaluronate, Ascorbyl Tetraisop...          6  \n",
       "4273   [Water, Sodium Hyaluronate, Caprylic/Capric Tr...          5  \n",
       "12442  [Water, Sodium Hyaluronate, Panthenol, Polysor...          4  \n",
       "703    [Water, Titanium Dioxide, Butylene Glycol, Vol...          4  \n",
       "12159  [Water, Sodium Hyaluronate, Glycosphingolipids...          5  \n",
       "3361   [Water, Sodium Hyaluronate, Ascorbyl Palmitate...          3  \n",
       "1694   [Benzophenone-2, Homosalate, Octocrylene, Wate...          4  \n",
       "5333   [Water, Sodium Hyaluronate Crosspolymer, Glyce...          9  "
      ]
     },
     "execution_count": 33,
     "metadata": {},
     "output_type": "execute_result"
    }
   ],
   "source": [
    "topTen"
   ]
  },
  {
   "cell_type": "code",
   "execution_count": null,
   "metadata": {},
   "outputs": [],
   "source": []
  },
  {
   "cell_type": "code",
   "execution_count": null,
   "metadata": {},
   "outputs": [],
   "source": []
  }
 ],
 "metadata": {
  "kernelspec": {
   "display_name": "Python 3",
   "language": "python",
   "name": "python3"
  },
  "language_info": {
   "codemirror_mode": {
    "name": "ipython",
    "version": 3
   },
   "file_extension": ".py",
   "mimetype": "text/x-python",
   "name": "python",
   "nbconvert_exporter": "python",
   "pygments_lexer": "ipython3",
   "version": "3.6.0"
  }
 },
 "nbformat": 4,
 "nbformat_minor": 2
}
