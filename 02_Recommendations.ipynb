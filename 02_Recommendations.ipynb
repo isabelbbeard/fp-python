{
 "cells": [
  {
   "cell_type": "code",
   "execution_count": 181,
   "metadata": {},
   "outputs": [],
   "source": [
    "import pandas as pd\n",
    "import numpy as np\n",
    "\n",
    "from RBO import *\n",
    "from getRecommendations import *\n",
    "from dataPrep import *\n",
    "from sklearn.metrics import *\n",
    "from scipy.stats import linregress\n",
    "\n",
    "from sklearn.metrics.pairwise import *"
   ]
  },
  {
   "cell_type": "markdown",
   "metadata": {},
   "source": [
    "# Read csvs"
   ]
  },
  {
   "cell_type": "markdown",
   "metadata": {},
   "source": [
    "These are the csv's we cleaned up and combined in step 01. "
   ]
  },
  {
   "cell_type": "code",
   "execution_count": 156,
   "metadata": {},
   "outputs": [
    {
     "name": "stdout",
     "output_type": "stream",
     "text": [
      "Number of products df:  15945\n",
      "Number of products: df2 15945\n",
      "Number of unique ingredients:  6899\n",
      "Number of total ingredients:  446618\n"
     ]
    }
   ],
   "source": [
    "%%time\n",
    "ings = pd.read_csv('data/ings.csv', encoding = \"ISO-8859-1\", index_col=0)\n",
    "#prods = prods.drop_duplicates(subset = 'product')\n",
    "prods = pd.read_csv('data/prods.csv', encoding = \"ISO-8859-1\", index_col=0)\n",
    "#prods = prods.drop_duplicates(subset = 'product')\n",
    "prod_ing = pd.read_csv('data/prod_ing.csv', encoding = \"ISO-8859-1\", index_col=0)\n",
    "prod_ing = prod_ing.drop(['diff'], axis = 1)\n",
    "#prod_ing = prod_ing.sort_values(['id', 'order'])\n",
    "\n",
    "##Long dataframes\n",
    "df2_A = pd.read_csv('data/prodIng_Wide_01.csv', index_col=0)\n",
    "df2_B = pd.read_csv('data/prodIng_Wide_01.csv', index_col=0)\n",
    "df2_C = pd.read_csv('data/prodIng_Wide_01.csv', index_col=0)\n",
    "frames = [df2_A, df2_B, df2_C]\n",
    "df3 = pd.concat(frames)\n",
    "\n",
    "print('Number of products df: ', len(prods))\n",
    "print('Number of products: df2', len(df3))\n",
    "print('Number of unique ingredients: ', len(ings))\n",
    "print('Number of total ingredients: ', len(prod_ing))"
   ]
  },
  {
   "cell_type": "code",
   "execution_count": 157,
   "metadata": {},
   "outputs": [],
   "source": [
    "##create function for removing water (or other ingredients) from ingredient listings\n",
    "def  remove_values_from_list (the_list, val):\n",
    "   return [value for value in the_list if value != val]\n",
    "\n",
    "df = dataPrep(ings, prods, prod_ing)\n",
    "#df.to_csv('recommendations/recommender_products.csv')"
   ]
  },
  {
   "cell_type": "code",
   "execution_count": 184,
   "metadata": {},
   "outputs": [],
   "source": [
    "df2 = df2.T"
   ]
  },
  {
   "cell_type": "code",
   "execution_count": 4,
   "metadata": {},
   "outputs": [],
   "source": [
    "#df = df[df['ingCount'] > 1]  \n",
    "#df_cos = df\n",
    "#print('Number of products: ', len(df))"
   ]
  },
  {
   "cell_type": "markdown",
   "metadata": {},
   "source": [
    "# GET RECOMMENDATIONS\n"
   ]
  },
  {
   "cell_type": "code",
   "execution_count": 191,
   "metadata": {},
   "outputs": [
    {
     "name": "stdout",
     "output_type": "stream",
     "text": [
      "Product: Glow Tonic\n",
      "Number of ingredients: 24\n",
      "Ingredients ['Water', 'Aloe Barbadensis Leaf Juice', 'Hamamelis Virginiana (Witch Hazel) Leaf Extract', 'Aesculus Hippocastanum (Horse Chestnut) Seed Extract', 'Glycolic Acid', 'Ammonium Glycolate', 'Glycerin', 'Butylene Glycol', 'Hexylene Glycol', 'Fructose', 'Glucose', 'Sucrose', 'Urea', 'Dextrin', 'Alanine', 'Glutamic Acid', 'Aspartic Acid', 'Hexyl Nicotinate', 'Panax Ginseng Root Extract', 'Phenoxyethanol', 'Sodium Benzoate', 'Biotin', 'Polysorbate 20', 'Fragrance']\n"
     ]
    }
   ],
   "source": [
    "prodid =  1778    \n",
    "product ='Glow Tonic'\n",
    "\n",
    "##get indices of all products\n",
    "indices = pd.Series(df.index, index=df['product']).drop_duplicates()\n",
    "##find index of specified product\n",
    "idx = indices[product]\n",
    "\n",
    "print('Product:', df.iloc[prodid]['product'])\n",
    "print('Number of ingredients:', df.iloc[prodid]['ingCount'])\n",
    "print('Ingredients', df.iloc[prodid]['ingList'])"
   ]
  },
  {
   "cell_type": "markdown",
   "metadata": {},
   "source": [
    "### Get other ingredient list"
   ]
  },
  {
   "cell_type": "code",
   "execution_count": 107,
   "metadata": {},
   "outputs": [
    {
     "name": "stdout",
     "output_type": "stream",
     "text": [
      "Product: Glow Tonic To-Go Pads\n",
      "Number of ingredients: 29\n",
      "Ingredients ['Water', 'Glycolic Acid', 'Butylene Glycol', 'Glycerin', 'Sodium Hydroxide', 'Aloe Barbadensis Leaf Juice', 'Hamamelis Virginiana (Witch Hazel) Water', 'Aesculus Hippocastanum (Horse Chestnut) Seed Extract', 'Hexylene Glycol', 'Fructose', 'Glucose', 'Sucrose', 'Urea', 'Dextrin', 'Alanine', 'Glutamic Acid', 'Aspartic Acid', 'Hexyl Nicotinate', 'Panax Ginseng Root Extract', 'Ethylhexylglycerin', 'Disodium EDTA', 'Biotin', 'Panthenol', 'PPG-26-Buteth-26', 'PEG-40 Hydrogenated Castor Oil(Perfuming, Surfactant, Fragrance, Emulsifying, ', 'Phenoxyethanol', 'Fragrance', 'Caramel', 'CI 14700']\n"
     ]
    }
   ],
   "source": [
    "prod_ing_grab = 14768\n",
    "\n",
    "print('Product:', df.iloc[prod_ing_grab]['product'])\n",
    "print('Number of ingredients:', df.iloc[prod_ing_grab]['ingCount'])\n",
    "print('Ingredients', df.iloc[prod_ing_grab]['ingList'])"
   ]
  },
  {
   "cell_type": "markdown",
   "metadata": {},
   "source": [
    "## Cosine similarity"
   ]
  },
  {
   "cell_type": "markdown",
   "metadata": {},
   "source": [
    "Reference [here](https://www.datacamp.com/community/tutorials/recommender-systems-python)"
   ]
  },
  {
   "cell_type": "markdown",
   "metadata": {},
   "source": [
    "### Create dataframe of top ten similar products"
   ]
  },
  {
   "cell_type": "code",
   "execution_count": 64,
   "metadata": {},
   "outputs": [
    {
     "name": "stdout",
     "output_type": "stream",
     "text": [
      "Wall time: 51.6 s\n"
     ]
    }
   ],
   "source": [
    "%%time\n",
    "column = 'product'\n",
    "# Get the index of the product that matches the product name\n",
    "df['ing#List'] = df['ing#List'].astype(str)\n",
    "tfidf = TfidfVectorizer(binary = True, stop_words = None)\n",
    "tfidf_matrix = tfidf.fit_transform(df['ing#List'])\n",
    "cosine_sim = cosine_similarity(tfidf_matrix, tfidf_matrix)\n",
    "\n",
    "indices = pd.Series(df.index, index=df[column]).drop_duplicates()\n",
    "idx = indices[product]\n",
    "\n",
    "# Get the pairwsie similarity scores of all products with that product\n",
    "sim_scores_all = list(enumerate(cosine_sim[idx]))\n",
    "\n",
    "# Sort the products based on the similarity scores\n",
    "sim_scores_sorted = sorted(sim_scores_all, key=lambda x: x[1], reverse=True)\n",
    "\n",
    "# Get the scores of the 10 most similar products\n",
    "sim_scores_ten = sim_scores_sorted[1:11]\n",
    "\n",
    "# Get the product indices\n",
    "product_indices = [i[0] for i in sim_scores_ten]\n",
    "\n",
    "# Return the top 10 most similar products and their ingredients\n",
    "#return df[['product', 'brand','ingList']].iloc[product_indices]\n",
    "\n",
    "recommended = df[['product', 'brand','ingList']].iloc[product_indices]"
   ]
  },
  {
   "cell_type": "markdown",
   "metadata": {},
   "source": [
    "### Show top ten"
   ]
  },
  {
   "cell_type": "code",
   "execution_count": 108,
   "metadata": {},
   "outputs": [
    {
     "data": {
      "text/html": [
       "<div>\n",
       "<table border=\"1\" class=\"dataframe\">\n",
       "  <thead>\n",
       "    <tr style=\"text-align: right;\">\n",
       "      <th></th>\n",
       "      <th>index</th>\n",
       "      <th>product</th>\n",
       "      <th>brand</th>\n",
       "      <th>ingList</th>\n",
       "      <th>commonIng</th>\n",
       "    </tr>\n",
       "  </thead>\n",
       "  <tbody>\n",
       "    <tr>\n",
       "      <th>0</th>\n",
       "      <td>3743</td>\n",
       "      <td>Geranium Face Toner</td>\n",
       "      <td>TheBalm</td>\n",
       "      <td>[Water, Aloe Barbadensis Leaf Juice, Glycolic ...</td>\n",
       "      <td>8</td>\n",
       "    </tr>\n",
       "    <tr>\n",
       "      <th>1</th>\n",
       "      <td>14011</td>\n",
       "      <td>Resilient Stem Cell Regenerating Treatment</td>\n",
       "      <td>Dermelect</td>\n",
       "      <td>[Water, Aloe Barbadensis Leaf Juice, Cyclopent...</td>\n",
       "      <td>6</td>\n",
       "    </tr>\n",
       "    <tr>\n",
       "      <th>2</th>\n",
       "      <td>225</td>\n",
       "      <td>Acne Dote Face &amp; Body Scrub</td>\n",
       "      <td>Alba Botanica</td>\n",
       "      <td>[Water, Aloe Barbadensis Leaf Juice, Sodium La...</td>\n",
       "      <td>4</td>\n",
       "    </tr>\n",
       "    <tr>\n",
       "      <th>3</th>\n",
       "      <td>9960</td>\n",
       "      <td>Ultra-Light Oil Control Lotion</td>\n",
       "      <td>Organic Surge</td>\n",
       "      <td>[Water, Aloe Barbadensis Leaf Juice, Argania S...</td>\n",
       "      <td>3</td>\n",
       "    </tr>\n",
       "    <tr>\n",
       "      <th>4</th>\n",
       "      <td>9958</td>\n",
       "      <td>Radiance Recovery Night Cream</td>\n",
       "      <td>Organic Surge</td>\n",
       "      <td>[Water, Aloe Barbadensis Leaf Juice, Argania S...</td>\n",
       "      <td>3</td>\n",
       "    </tr>\n",
       "    <tr>\n",
       "      <th>5</th>\n",
       "      <td>11876</td>\n",
       "      <td>Jelly Sunscreen SPF50 PA+++</td>\n",
       "      <td>Look At Me</td>\n",
       "      <td>[Water, Aloe Barbadensis Leaf Juice, Orchid Ex...</td>\n",
       "      <td>6</td>\n",
       "    </tr>\n",
       "    <tr>\n",
       "      <th>6</th>\n",
       "      <td>9956</td>\n",
       "      <td>Nourishing Rose Day Cream</td>\n",
       "      <td>Organic Surge</td>\n",
       "      <td>[Water, Aloe Barbadensis Leaf Juice, Argania S...</td>\n",
       "      <td>3</td>\n",
       "    </tr>\n",
       "    <tr>\n",
       "      <th>7</th>\n",
       "      <td>9689</td>\n",
       "      <td>Sea Algae Serum</td>\n",
       "      <td>Evanhealy</td>\n",
       "      <td>[Water, Aloe Barbadensis Leaf Juice, Lavandula...</td>\n",
       "      <td>3</td>\n",
       "    </tr>\n",
       "    <tr>\n",
       "      <th>8</th>\n",
       "      <td>13739</td>\n",
       "      <td>Organic Surge Daily Care Refreshing Face Wash</td>\n",
       "      <td>Organic Surge</td>\n",
       "      <td>[Water, Aloe Barbadensis Leaf Juice, Sodium Co...</td>\n",
       "      <td>4</td>\n",
       "    </tr>\n",
       "    <tr>\n",
       "      <th>9</th>\n",
       "      <td>3363</td>\n",
       "      <td>Moroccan Neroli Shaving Serum</td>\n",
       "      <td>Aesop</td>\n",
       "      <td>[Water, Aloe Barbadensis Leaf Juice, Sodium La...</td>\n",
       "      <td>4</td>\n",
       "    </tr>\n",
       "  </tbody>\n",
       "</table>\n",
       "</div>"
      ],
      "text/plain": [
       "   index                                        product          brand  \\\n",
       "0   3743                            Geranium Face Toner        TheBalm   \n",
       "1  14011     Resilient Stem Cell Regenerating Treatment      Dermelect   \n",
       "2    225                    Acne Dote Face & Body Scrub  Alba Botanica   \n",
       "3   9960                 Ultra-Light Oil Control Lotion  Organic Surge   \n",
       "4   9958                  Radiance Recovery Night Cream  Organic Surge   \n",
       "5  11876                    Jelly Sunscreen SPF50 PA+++     Look At Me   \n",
       "6   9956                      Nourishing Rose Day Cream  Organic Surge   \n",
       "7   9689                                Sea Algae Serum      Evanhealy   \n",
       "8  13739  Organic Surge Daily Care Refreshing Face Wash  Organic Surge   \n",
       "9   3363                  Moroccan Neroli Shaving Serum          Aesop   \n",
       "\n",
       "                                             ingList  commonIng  \n",
       "0  [Water, Aloe Barbadensis Leaf Juice, Glycolic ...          8  \n",
       "1  [Water, Aloe Barbadensis Leaf Juice, Cyclopent...          6  \n",
       "2  [Water, Aloe Barbadensis Leaf Juice, Sodium La...          4  \n",
       "3  [Water, Aloe Barbadensis Leaf Juice, Argania S...          3  \n",
       "4  [Water, Aloe Barbadensis Leaf Juice, Argania S...          3  \n",
       "5  [Water, Aloe Barbadensis Leaf Juice, Orchid Ex...          6  \n",
       "6  [Water, Aloe Barbadensis Leaf Juice, Argania S...          3  \n",
       "7  [Water, Aloe Barbadensis Leaf Juice, Lavandula...          3  \n",
       "8  [Water, Aloe Barbadensis Leaf Juice, Sodium Co...          4  \n",
       "9  [Water, Aloe Barbadensis Leaf Juice, Sodium La...          4  "
      ]
     },
     "execution_count": 108,
     "metadata": {},
     "output_type": "execute_result"
    }
   ],
   "source": [
    "topTen = pd.DataFrame(recommended)\n",
    "commonItems(product, topTen, df)\n",
    "#recommended.to_csv('recommendations/COS.csv')\n",
    "topTen.reset_index()"
   ]
  },
  {
   "cell_type": "markdown",
   "metadata": {},
   "source": [
    "### Find specific product similarity"
   ]
  },
  {
   "cell_type": "code",
   "execution_count": 73,
   "metadata": {},
   "outputs": [
    {
     "data": {
      "text/plain": [
       "[(14768, 0.757428326538646)]"
      ]
     },
     "execution_count": 73,
     "metadata": {},
     "output_type": "execute_result"
    }
   ],
   "source": [
    "prod_search_id = 14768\n",
    "[v for i, v in enumerate(sim_scores_all) if v[0] == prod_search_id]"
   ]
  },
  {
   "cell_type": "markdown",
   "metadata": {},
   "source": [
    "## RBO similarity measure\n",
    "\n",
    "Based on code found [here](https://github.com/dlukes/rbo/blob/master/rbo.py)"
   ]
  },
  {
   "cell_type": "markdown",
   "metadata": {},
   "source": [
    "### Create dataframe of top ten similar products"
   ]
  },
  {
   "cell_type": "code",
   "execution_count": 159,
   "metadata": {},
   "outputs": [
    {
     "name": "stdout",
     "output_type": "stream",
     "text": [
      "Wall time: 3.59 s\n"
     ]
    }
   ],
   "source": [
    "%%time\n",
    "\n",
    "##Set the rbo we want to use\n",
    "rbo = rbo_min\n",
    "\n",
    "#df['ing#List'] = [ast.literal_eval(i) for i in df['ing#List']]\n",
    "indices = pd.Series(df.index, index=df['product']).drop_duplicates()\n",
    "idx = indices[product]\n",
    "\n",
    "itemLookup = df.loc[idx]['ing#List']\n",
    "items = df['ing#List']\n",
    "sim = [rbo(itemLookup,i, .9) for i in items] ##change method here\n",
    "\n",
    "sim_scores_all = list(enumerate(sim))\n",
    "\n",
    "# Sort the products based on the similarity scores\n",
    "sim_scores_sorted = sorted(sim_scores_all, key=lambda x: x[1], reverse=True)\n",
    "\n",
    "# Get the scores of the 10 most similar products\n",
    "sim_scores_ten = sim_scores_sorted[1:11]\n",
    "\n",
    "# Get the product indices\n",
    "product_indices = [i[0] for i in sim_scores_ten]\n",
    "\n",
    "recommended = df[['product', 'brand','ingList']].iloc[product_indices]"
   ]
  },
  {
   "cell_type": "markdown",
   "metadata": {},
   "source": [
    "### Show top ten"
   ]
  },
  {
   "cell_type": "code",
   "execution_count": 160,
   "metadata": {},
   "outputs": [
    {
     "data": {
      "text/html": [
       "<div>\n",
       "<table border=\"1\" class=\"dataframe\">\n",
       "  <thead>\n",
       "    <tr style=\"text-align: right;\">\n",
       "      <th></th>\n",
       "      <th>index</th>\n",
       "      <th>product</th>\n",
       "      <th>brand</th>\n",
       "      <th>ingList</th>\n",
       "      <th>commonIng</th>\n",
       "    </tr>\n",
       "  </thead>\n",
       "  <tbody>\n",
       "    <tr>\n",
       "      <th>0</th>\n",
       "      <td>14768</td>\n",
       "      <td>Glow Tonic To-Go Pads</td>\n",
       "      <td>Pixi</td>\n",
       "      <td>[Water, Glycolic Acid, Butylene Glycol, Glycer...</td>\n",
       "      <td>20</td>\n",
       "    </tr>\n",
       "    <tr>\n",
       "      <th>1</th>\n",
       "      <td>3743</td>\n",
       "      <td>Geranium Face Toner</td>\n",
       "      <td>TheBalm</td>\n",
       "      <td>[Water, Aloe Barbadensis Leaf Juice, Glycolic ...</td>\n",
       "      <td>8</td>\n",
       "    </tr>\n",
       "    <tr>\n",
       "      <th>2</th>\n",
       "      <td>3707</td>\n",
       "      <td>Alcohol-Free Face Toner</td>\n",
       "      <td>TheBalm</td>\n",
       "      <td>[Water, Hamamelis Virginiana (Witch Hazel) Lea...</td>\n",
       "      <td>9</td>\n",
       "    </tr>\n",
       "    <tr>\n",
       "      <th>3</th>\n",
       "      <td>8285</td>\n",
       "      <td>Clear Skin Hydrator Gel</td>\n",
       "      <td>Alpha-H</td>\n",
       "      <td>[Water, Hamamelis Virginiana (Witch Hazel) Lea...</td>\n",
       "      <td>6</td>\n",
       "    </tr>\n",
       "    <tr>\n",
       "      <th>4</th>\n",
       "      <td>694</td>\n",
       "      <td>Seaweed Cleansing Lotion</td>\n",
       "      <td>Mario Badescu</td>\n",
       "      <td>[Water, Aloe Barbadensis Leaf Juice, Propylene...</td>\n",
       "      <td>7</td>\n",
       "    </tr>\n",
       "    <tr>\n",
       "      <th>5</th>\n",
       "      <td>7541</td>\n",
       "      <td>Sensitive Facial Cleansing Towelettes with Cot...</td>\n",
       "      <td>Burt's Bees</td>\n",
       "      <td>[Water, Aloe Barbadensis Leaf Juice, Glycerin,...</td>\n",
       "      <td>8</td>\n",
       "    </tr>\n",
       "    <tr>\n",
       "      <th>6</th>\n",
       "      <td>1372</td>\n",
       "      <td>Facial Radiance Pads</td>\n",
       "      <td>First Aid Beauty</td>\n",
       "      <td>[Water, Aloe Barbadensis Leaf Juice, Glycerin,...</td>\n",
       "      <td>5</td>\n",
       "    </tr>\n",
       "    <tr>\n",
       "      <th>7</th>\n",
       "      <td>11875</td>\n",
       "      <td>Orchid Flower Aqua UV Sun Gel</td>\n",
       "      <td>The Orchid Skin</td>\n",
       "      <td>[Water, Aloe Barbadensis Leaf Juice, Glycerin,...</td>\n",
       "      <td>6</td>\n",
       "    </tr>\n",
       "    <tr>\n",
       "      <th>8</th>\n",
       "      <td>10629</td>\n",
       "      <td>Green Cover Sunscreen SPF50+ PA+++</td>\n",
       "      <td>Cosmo Monster</td>\n",
       "      <td>[Water, Aloe Barbadensis Leaf Juice, Glycerin,...</td>\n",
       "      <td>5</td>\n",
       "    </tr>\n",
       "    <tr>\n",
       "      <th>9</th>\n",
       "      <td>6271</td>\n",
       "      <td>Sensitive Facial Cleansing Towelettes</td>\n",
       "      <td>Burt's Bees</td>\n",
       "      <td>[Water, Aloe Barbadensis Leaf Juice, Glycerin,...</td>\n",
       "      <td>8</td>\n",
       "    </tr>\n",
       "  </tbody>\n",
       "</table>\n",
       "</div>"
      ],
      "text/plain": [
       "   index                                            product             brand  \\\n",
       "0  14768                              Glow Tonic To-Go Pads              Pixi   \n",
       "1   3743                                Geranium Face Toner           TheBalm   \n",
       "2   3707                            Alcohol-Free Face Toner           TheBalm   \n",
       "3   8285                            Clear Skin Hydrator Gel           Alpha-H   \n",
       "4    694                           Seaweed Cleansing Lotion     Mario Badescu   \n",
       "5   7541  Sensitive Facial Cleansing Towelettes with Cot...       Burt's Bees   \n",
       "6   1372                               Facial Radiance Pads  First Aid Beauty   \n",
       "7  11875                      Orchid Flower Aqua UV Sun Gel   The Orchid Skin   \n",
       "8  10629                 Green Cover Sunscreen SPF50+ PA+++     Cosmo Monster   \n",
       "9   6271              Sensitive Facial Cleansing Towelettes       Burt's Bees   \n",
       "\n",
       "                                             ingList  commonIng  \n",
       "0  [Water, Glycolic Acid, Butylene Glycol, Glycer...         20  \n",
       "1  [Water, Aloe Barbadensis Leaf Juice, Glycolic ...          8  \n",
       "2  [Water, Hamamelis Virginiana (Witch Hazel) Lea...          9  \n",
       "3  [Water, Hamamelis Virginiana (Witch Hazel) Lea...          6  \n",
       "4  [Water, Aloe Barbadensis Leaf Juice, Propylene...          7  \n",
       "5  [Water, Aloe Barbadensis Leaf Juice, Glycerin,...          8  \n",
       "6  [Water, Aloe Barbadensis Leaf Juice, Glycerin,...          5  \n",
       "7  [Water, Aloe Barbadensis Leaf Juice, Glycerin,...          6  \n",
       "8  [Water, Aloe Barbadensis Leaf Juice, Glycerin,...          5  \n",
       "9  [Water, Aloe Barbadensis Leaf Juice, Glycerin,...          8  "
      ]
     },
     "execution_count": 160,
     "metadata": {},
     "output_type": "execute_result"
    }
   ],
   "source": [
    "topTen = pd.DataFrame(recommended)\n",
    "commonItems(product, topTen, df)\n",
    "#recommended.to_csv('recommendations/RBO.csv')\n",
    "topTen.reset_index()"
   ]
  },
  {
   "cell_type": "markdown",
   "metadata": {},
   "source": [
    "### Find specific product similarity"
   ]
  },
  {
   "cell_type": "code",
   "execution_count": 161,
   "metadata": {},
   "outputs": [
    {
     "name": "stdout",
     "output_type": "stream",
     "text": [
      "Product: Glow Tonic To-Go Pads\n",
      "Similarity score: [(14768, 0.6488925800314376)]\n",
      "Number of Ingredients 29\n",
      "Ingredients ['Water', 'Glycolic Acid', 'Butylene Glycol', 'Glycerin', 'Sodium Hydroxide', 'Aloe Barbadensis Leaf Juice', 'Hamamelis Virginiana (Witch Hazel) Water', 'Aesculus Hippocastanum (Horse Chestnut) Seed Extract', 'Hexylene Glycol', 'Fructose', 'Glucose', 'Sucrose', 'Urea', 'Dextrin', 'Alanine', 'Glutamic Acid', 'Aspartic Acid', 'Hexyl Nicotinate', 'Panax Ginseng Root Extract', 'Ethylhexylglycerin', 'Disodium EDTA', 'Biotin', 'Panthenol', 'PPG-26-Buteth-26', 'PEG-40 Hydrogenated Castor Oil(Perfuming, Surfactant, Fragrance, Emulsifying, ', 'Phenoxyethanol', 'Fragrance', 'Caramel', 'CI 14700']\n"
     ]
    }
   ],
   "source": [
    "prod_search_id = 14768\n",
    "sims = [v for i, v in enumerate(sim_scores_all) if v[0] == prod_search_id]\n",
    "\n",
    "print('Product:', df.iloc[prod_search_id]['product'])\n",
    "print('Similarity score:', sims)\n",
    "print('Number of Ingredients', df.iloc[prod_search_id]['ingCount'])\n",
    "print('Ingredients', df.iloc[prod_search_id]['ingList'])"
   ]
  },
  {
   "cell_type": "code",
   "execution_count": 162,
   "metadata": {},
   "outputs": [],
   "source": [
    "#list1 = df.iloc[prod_search_id]['ing#List']\n",
    "#list2 = df.iloc[1778]['ing#List']\n",
    "#rbo(list1,list2, .9)"
   ]
  },
  {
   "cell_type": "markdown",
   "metadata": {},
   "source": [
    "## R value\n",
    "Reference [here](https://docs.scipy.org/doc/scipy-0.14.0/reference/generated/scipy.stats.linregress.html)"
   ]
  },
  {
   "cell_type": "code",
   "execution_count": 185,
   "metadata": {},
   "outputs": [
    {
     "name": "stdout",
     "output_type": "stream",
     "text": [
      "Wall time: 44.3 s\n"
     ]
    }
   ],
   "source": [
    "%%time\n",
    "\n",
    "indices = pd.Series(df.index, index=df['product']).drop_duplicates()\n",
    "idx = indices[product]\n",
    "sim = [linregress(df2[idx], df2[i])[2] for i in df2]\n",
    "\n",
    "sim_scores = list(enumerate(sim))\n",
    "\n",
    "# Sort the products based on the similarity scores\n",
    "sim_scores = sorted(sim_scores, key=lambda x: x[1], reverse=True)\n",
    "#df['scores'] = [sim_scores[i][1] for i in sim_scores]\n",
    "\n",
    "# Get the scores of the 10 most similar products\n",
    "sim_scores = sim_scores[1:11]\n",
    "\n",
    "# Get the product indices\n",
    "product_indices = [i[0] for i in sim_scores]\n",
    "\n",
    "recommended = df[['product', 'brand','ingList']].iloc[product_indices]"
   ]
  },
  {
   "cell_type": "markdown",
   "metadata": {},
   "source": [
    "### Return top ten"
   ]
  },
  {
   "cell_type": "code",
   "execution_count": 186,
   "metadata": {},
   "outputs": [
    {
     "data": {
      "text/html": [
       "<div>\n",
       "<table border=\"1\" class=\"dataframe\">\n",
       "  <thead>\n",
       "    <tr style=\"text-align: right;\">\n",
       "      <th></th>\n",
       "      <th>index</th>\n",
       "      <th>product</th>\n",
       "      <th>brand</th>\n",
       "      <th>ingList</th>\n",
       "      <th>commonIng</th>\n",
       "    </tr>\n",
       "  </thead>\n",
       "  <tbody>\n",
       "    <tr>\n",
       "      <th>0</th>\n",
       "      <td>8032</td>\n",
       "      <td>Revitalising Ginseng Toner With Glycolic Acid 5%</td>\n",
       "      <td>Bravura London</td>\n",
       "      <td>[Water, Aloe Barbadensis (Aloe Vera) Gel, Hama...</td>\n",
       "      <td>17</td>\n",
       "    </tr>\n",
       "    <tr>\n",
       "      <th>1</th>\n",
       "      <td>14768</td>\n",
       "      <td>Glow Tonic To-Go Pads</td>\n",
       "      <td>Pixi</td>\n",
       "      <td>[Water, Glycolic Acid, Butylene Glycol, Glycer...</td>\n",
       "      <td>20</td>\n",
       "    </tr>\n",
       "    <tr>\n",
       "      <th>2</th>\n",
       "      <td>13600</td>\n",
       "      <td>Tensage Eye Contour Cream</td>\n",
       "      <td>Biopelle</td>\n",
       "      <td>[Water, Snail Secretion Filtrate, C12-20 Acid ...</td>\n",
       "      <td>14</td>\n",
       "    </tr>\n",
       "    <tr>\n",
       "      <th>3</th>\n",
       "      <td>10534</td>\n",
       "      <td>Rehydrating Toning Essence</td>\n",
       "      <td>Su-Man Skincare</td>\n",
       "      <td>[Water, Rosa Centifolia Flower Water, Hyaluron...</td>\n",
       "      <td>13</td>\n",
       "    </tr>\n",
       "    <tr>\n",
       "      <th>4</th>\n",
       "      <td>812</td>\n",
       "      <td>Glycolic Acid 7% Toning Solution</td>\n",
       "      <td>The Ordinary</td>\n",
       "      <td>[Water, Glycolic Acid, Rosa Damascena Flower W...</td>\n",
       "      <td>16</td>\n",
       "    </tr>\n",
       "    <tr>\n",
       "      <th>5</th>\n",
       "      <td>2962</td>\n",
       "      <td>Cellular 3-Minute Peel</td>\n",
       "      <td>La Prairie</td>\n",
       "      <td>[Water, Hydroxyethyl Acrylate/Sodium Acryloyld...</td>\n",
       "      <td>15</td>\n",
       "    </tr>\n",
       "    <tr>\n",
       "      <th>6</th>\n",
       "      <td>3350</td>\n",
       "      <td>Juniper Oil-Free Face Moisturizer</td>\n",
       "      <td>TheBalm</td>\n",
       "      <td>[Water, Ethylhexyl Methoxycinnamate, Butylene ...</td>\n",
       "      <td>14</td>\n",
       "    </tr>\n",
       "    <tr>\n",
       "      <th>7</th>\n",
       "      <td>1760</td>\n",
       "      <td>Skin Hydrating Masque</td>\n",
       "      <td>Dermalogica</td>\n",
       "      <td>[Water, Glycerin, Butylene Glycol, Squalane, D...</td>\n",
       "      <td>14</td>\n",
       "    </tr>\n",
       "    <tr>\n",
       "      <th>8</th>\n",
       "      <td>9098</td>\n",
       "      <td>Tensage Radiance Eye Cream</td>\n",
       "      <td>Biobelle</td>\n",
       "      <td>[Water, Snail Secretion Filtrate, C12-20 Acid ...</td>\n",
       "      <td>14</td>\n",
       "    </tr>\n",
       "    <tr>\n",
       "      <th>9</th>\n",
       "      <td>2866</td>\n",
       "      <td>Ultra Facial Oil-Free Lotion</td>\n",
       "      <td>Kiehl's</td>\n",
       "      <td>[Water, Glycerin, Alcohol Denat., Isononyl Iso...</td>\n",
       "      <td>13</td>\n",
       "    </tr>\n",
       "  </tbody>\n",
       "</table>\n",
       "</div>"
      ],
      "text/plain": [
       "   index                                           product            brand  \\\n",
       "0   8032  Revitalising Ginseng Toner With Glycolic Acid 5%   Bravura London   \n",
       "1  14768                             Glow Tonic To-Go Pads             Pixi   \n",
       "2  13600                         Tensage Eye Contour Cream         Biopelle   \n",
       "3  10534                        Rehydrating Toning Essence  Su-Man Skincare   \n",
       "4    812                  Glycolic Acid 7% Toning Solution     The Ordinary   \n",
       "5   2962                            Cellular 3-Minute Peel       La Prairie   \n",
       "6   3350                 Juniper Oil-Free Face Moisturizer          TheBalm   \n",
       "7   1760                             Skin Hydrating Masque      Dermalogica   \n",
       "8   9098                        Tensage Radiance Eye Cream         Biobelle   \n",
       "9   2866                      Ultra Facial Oil-Free Lotion          Kiehl's   \n",
       "\n",
       "                                             ingList  commonIng  \n",
       "0  [Water, Aloe Barbadensis (Aloe Vera) Gel, Hama...         17  \n",
       "1  [Water, Glycolic Acid, Butylene Glycol, Glycer...         20  \n",
       "2  [Water, Snail Secretion Filtrate, C12-20 Acid ...         14  \n",
       "3  [Water, Rosa Centifolia Flower Water, Hyaluron...         13  \n",
       "4  [Water, Glycolic Acid, Rosa Damascena Flower W...         16  \n",
       "5  [Water, Hydroxyethyl Acrylate/Sodium Acryloyld...         15  \n",
       "6  [Water, Ethylhexyl Methoxycinnamate, Butylene ...         14  \n",
       "7  [Water, Glycerin, Butylene Glycol, Squalane, D...         14  \n",
       "8  [Water, Snail Secretion Filtrate, C12-20 Acid ...         14  \n",
       "9  [Water, Glycerin, Alcohol Denat., Isononyl Iso...         13  "
      ]
     },
     "execution_count": 186,
     "metadata": {},
     "output_type": "execute_result"
    }
   ],
   "source": [
    "topTen = pd.DataFrame(recommended)\n",
    "commonItems(product, topTen, df)\n",
    "#recommended.to_csv('recommendations/RBO.csv')\n",
    "topTen.reset_index()"
   ]
  },
  {
   "cell_type": "markdown",
   "metadata": {},
   "source": [
    "### Find specific product similarity"
   ]
  },
  {
   "cell_type": "code",
   "execution_count": 192,
   "metadata": {},
   "outputs": [
    {
     "name": "stdout",
     "output_type": "stream",
     "text": [
      "Product: Glow Tonic To-Go Pads\n",
      "Similarity score: [(14768, 0.6488925800314376)]\n",
      "Number of Ingredients 29\n",
      "Ingredients ['Water', 'Glycolic Acid', 'Butylene Glycol', 'Glycerin', 'Sodium Hydroxide', 'Aloe Barbadensis Leaf Juice', 'Hamamelis Virginiana (Witch Hazel) Water', 'Aesculus Hippocastanum (Horse Chestnut) Seed Extract', 'Hexylene Glycol', 'Fructose', 'Glucose', 'Sucrose', 'Urea', 'Dextrin', 'Alanine', 'Glutamic Acid', 'Aspartic Acid', 'Hexyl Nicotinate', 'Panax Ginseng Root Extract', 'Ethylhexylglycerin', 'Disodium EDTA', 'Biotin', 'Panthenol', 'PPG-26-Buteth-26', 'PEG-40 Hydrogenated Castor Oil(Perfuming, Surfactant, Fragrance, Emulsifying, ', 'Phenoxyethanol', 'Fragrance', 'Caramel', 'CI 14700']\n"
     ]
    }
   ],
   "source": [
    "prod_search_id = 14768\n",
    "sims = [v for i, v in enumerate(sim_scores_all) if v[0] == prod_search_id]\n",
    "\n",
    "print('Product:', df.iloc[prod_search_id]['product'])\n",
    "print('Similarity score:', sims)\n",
    "print('Number of Ingredients', df.iloc[prod_search_id]['ingCount'])\n",
    "print('Ingredients', df.iloc[prod_search_id]['ingList'])"
   ]
  },
  {
   "cell_type": "code",
   "execution_count": null,
   "metadata": {},
   "outputs": [],
   "source": []
  }
 ],
 "metadata": {
  "kernelspec": {
   "display_name": "Python 3",
   "language": "python",
   "name": "python3"
  },
  "language_info": {
   "codemirror_mode": {
    "name": "ipython",
    "version": 3
   },
   "file_extension": ".py",
   "mimetype": "text/x-python",
   "name": "python",
   "nbconvert_exporter": "python",
   "pygments_lexer": "ipython3",
   "version": "3.6.0"
  }
 },
 "nbformat": 4,
 "nbformat_minor": 2
}
