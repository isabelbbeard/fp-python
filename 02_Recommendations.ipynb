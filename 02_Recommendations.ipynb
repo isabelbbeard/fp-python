{
 "cells": [
  {
   "cell_type": "code",
   "execution_count": 33,
   "metadata": {},
   "outputs": [],
   "source": [
    "import pandas as pd\n",
    "import numpy as np\n",
    "\n",
    "from RBO import *\n",
    "from getRecommendations import *\n",
    "from dataPrep import *\n",
    "from sklearn.metrics import *\n",
    "from scipy.stats import linregress\n",
    "\n",
    "from sklearn.metrics.pairwise import *"
   ]
  },
  {
   "cell_type": "markdown",
   "metadata": {},
   "source": [
    "# Read csvs"
   ]
  },
  {
   "cell_type": "markdown",
   "metadata": {},
   "source": [
    "These are the csv's we cleaned up and combined in step 01. "
   ]
  },
  {
   "cell_type": "code",
   "execution_count": 34,
   "metadata": {},
   "outputs": [
    {
     "name": "stdout",
     "output_type": "stream",
     "text": [
      "Number of products df:  15945\n",
      "Number of unique ingredients:  6899\n",
      "Number of total ingredients:  446618\n",
      "Wall time: 6.54 s\n"
     ]
    }
   ],
   "source": [
    "%%time\n",
    "ings = pd.read_csv('data/ings.csv', encoding = \"ISO-8859-1\", index_col=0)\n",
    "#prods = prods.drop_duplicates(subset = 'product')\n",
    "prods = pd.read_csv('data/prods.csv', encoding = \"ISO-8859-1\", index_col=0)\n",
    "#prods = prods.drop_duplicates(subset = 'product')\n",
    "prod_ing = pd.read_csv('data/prod_ing.csv', encoding = \"ISO-8859-1\", index_col=0)\n",
    "prod_ing = prod_ing.drop(['diff'], axis = 1)\n",
    "#prod_ing = prod_ing.sort_values(['id', 'order'])\n",
    "df = dataPrep(ings, prods, prod_ing)\n",
    "\n",
    "print('Number of products df: ', len(df))\n",
    "print('Number of unique ingredients: ', len(ings))\n",
    "print('Number of total ingredients: ', len(prod_ing))"
   ]
  },
  {
   "cell_type": "code",
   "execution_count": 35,
   "metadata": {},
   "outputs": [
    {
     "name": "stdout",
     "output_type": "stream",
     "text": [
      "Wall time: 34.2 s\n"
     ]
    }
   ],
   "source": [
    "%%time\n",
    "##Long dataframes\n",
    "df2_A = pd.read_csv('data/prodIng_Wide_01.csv', index_col=0)\n",
    "df2_B = pd.read_csv('data/prodIng_Wide_02.csv', index_col=0)\n",
    "df2_C = pd.read_csv('data/prodIng_Wide_03.csv', index_col=0)\n",
    "frames = [df2_A, df2_B, df2_C]\n",
    "df2 = pd.concat(frames)\n",
    "df2 = df2.T"
   ]
  },
  {
   "cell_type": "markdown",
   "metadata": {},
   "source": [
    "# GET RECOMMENDATIONS\n"
   ]
  },
  {
   "cell_type": "code",
   "execution_count": 36,
   "metadata": {},
   "outputs": [
    {
     "name": "stdout",
     "output_type": "stream",
     "text": [
      "Product: Active Botanical Serum\n",
      "Brand: Vintner's Daughter\n",
      "Id: 8083\n",
      "Number of ingredients: 22\n",
      "Ingredients ['Vitis Vinifera (Grape) Seed Oil', 'Corylus Avellana (Hazel) Seed Oil', 'Citrus Aurantium Bergamia (Bergamot) Peel Oil', 'Persea Gratissima (Avocado) Oil', 'Calendula Officinalis Extract', 'Rosa Damascena (Rose', 'Daucus Carota Sativa (Carrot) Seed Oil', 'Oenothera Biennis (Evening Primrose) Oil', 'Rosa Rubiginosa Seed Oil', 'Citrus Limon (Lemon) Peel', 'Lavandula Intermedia Flower/Leaf/Stem Extract', 'Medicago Sativa (Alfalfa) Leaf Powder', 'Urtica Dioica (Nettle) Leaf', 'Taraxacum Officinale (Dandelion) Leaf Extract', 'Boswellia Carterii Oil', 'Citrus Aurantium Amara (Bitter Orange) Flower Oil', 'Rosmarinus Officinalis (Rosemary) Leaf Extract', 'Hippophae Rhamnoides Fruit Extract', 'Curcuma Longa (Turmeric) Root Oil', 'Cupressus Sempervirens Leaf Oil', 'Jasminum Sambac (Jasmine) Oil', 'Calophyllum Tacamahaca Seed Oil']\n"
     ]
    }
   ],
   "source": [
    "product ='Active Botanical Serum'\n",
    "\n",
    "##get indices of all products\n",
    "indices = pd.Series(df.index, index=df['product'])#.drop_duplicates()\n",
    "##find index of specified product\n",
    "idx = indices[product]\n",
    "\n",
    "print('Product:', df.iloc[idx]['product'])\n",
    "print('Brand:', df.iloc[idx]['brand'])\n",
    "print('Id:', idx)\n",
    "print('Number of ingredients:', df.iloc[idx]['ingCount'])\n",
    "print('Ingredients', df.iloc[idx]['ingList'])"
   ]
  },
  {
   "cell_type": "markdown",
   "metadata": {},
   "source": [
    "#### Find product id with name"
   ]
  },
  {
   "cell_type": "code",
   "execution_count": 15,
   "metadata": {},
   "outputs": [
    {
     "name": "stdout",
     "output_type": "stream",
     "text": [
      "Product: Starting Treatment Essence\n",
      "Brand: SECRET KEY\n",
      "Id: 2458\n",
      "Number of ingredients: 24\n",
      "Ingredients ['Water', 'Glycerin', 'Galactomyces Ferment Filtrate', 'Butylene Glycol', 'Arbutin', 'Aloe Barbadensis Leaf Juice', 'Oligopeptide-91 rh-Oligopeptide-1', 'Dimethicone', 'Chamomilla Recutita (Matricaria) Flower Extract', 'Centella Asiatica Extract', 'Camellia Sinensis Leaf Extract', 'Physalis Alkekengi Fruit Extract', 'Acanthopanax Senticosus (Eleuthero) Root Extract', 'Ganoderma Lucidum (Mushroom) Extract', 'Panax Ginseng Root', 'Velvet Extract', 'Cordyceps Sinensis Extract', 'Hamamelis Virginiana (Witch Hazel) Extract', 'Oryza Sativa (Rice) Bran Extract', 'Portulaca Oleracea Extract', 'Zanthoxylum Piperitum Fruit Extract', 'Adenosine', 'Phenoxyethanol', 'Disodium EDTA']\n"
     ]
    }
   ],
   "source": [
    "product_find = 'Starting Treatment Essence'\n",
    "idx_2 = indices[product_find]\n",
    "#idReturn = row.index.item()\n",
    "\n",
    "print('Product:', df.iloc[idx_2]['product'])\n",
    "print('Brand:', df.iloc[idx_2]['brand'])\n",
    "print('Id:', idx_2)\n",
    "print('Number of ingredients:', df.iloc[idx_2]['ingCount'])\n",
    "print('Ingredients', df.iloc[idx_2]['ingList'])"
   ]
  },
  {
   "cell_type": "code",
   "execution_count": 312,
   "metadata": {},
   "outputs": [
    {
     "data": {
      "text/plain": [
       "4350"
      ]
     },
     "execution_count": 312,
     "metadata": {},
     "output_type": "execute_result"
    }
   ],
   "source": [
    "idx_2"
   ]
  },
  {
   "cell_type": "markdown",
   "metadata": {},
   "source": [
    "## Cosine similarity"
   ]
  },
  {
   "cell_type": "markdown",
   "metadata": {},
   "source": [
    "Reference [here](https://www.datacamp.com/community/tutorials/recommender-systems-python)"
   ]
  },
  {
   "cell_type": "markdown",
   "metadata": {},
   "source": [
    "### Create dataframe of top ten similar products"
   ]
  },
  {
   "cell_type": "code",
   "execution_count": 46,
   "metadata": {},
   "outputs": [
    {
     "name": "stdout",
     "output_type": "stream",
     "text": [
      "Wall time: 29 s\n"
     ]
    }
   ],
   "source": [
    "%%time\n",
    "column = 'product'\n",
    "# Get the index of the product that matches the product name\n",
    "df['ing#List'] = df['ing#List'].astype(str)\n",
    "tfidf = TfidfVectorizer(binary = True, stop_words = None)\n",
    "tfidf_matrix = tfidf.fit_transform(df['ing#List'])\n",
    "cosine_sim = cosine_similarity(tfidf_matrix, tfidf_matrix)\n",
    "\n",
    "indices = pd.Series(df.index, index=df[column]).drop_duplicates()\n",
    "idx = indices[product]\n",
    "\n",
    "# Get the pairwsie similarity scores of all products with that product\n",
    "sim_scores_all = list(enumerate(cosine_sim[idx]))\n",
    "\n",
    "# Sort the products based on the similarity scores\n",
    "sim_scores_sorted = sorted(sim_scores_all, key=lambda x: x[1], reverse=True)\n",
    "\n",
    "# Get the scores of the 10 most similar products\n",
    "sim_scores_ten = sim_scores_sorted[1:11]\n",
    "\n",
    "# Get the product indices\n",
    "product_indices = [i[0] for i in sim_scores_ten]\n",
    "\n",
    "# Return the top 10 most similar products and their ingredients\n",
    "#return df[['product', 'brand','ingList']].iloc[product_indices]\n",
    "\n",
    "recommended = df[['product', 'brand','ingList']].iloc[product_indices]"
   ]
  },
  {
   "cell_type": "markdown",
   "metadata": {},
   "source": [
    "### Show top ten"
   ]
  },
  {
   "cell_type": "code",
   "execution_count": 47,
   "metadata": {},
   "outputs": [
    {
     "data": {
      "text/html": [
       "<div>\n",
       "<table border=\"1\" class=\"dataframe\">\n",
       "  <thead>\n",
       "    <tr style=\"text-align: right;\">\n",
       "      <th></th>\n",
       "      <th>index</th>\n",
       "      <th>product</th>\n",
       "      <th>brand</th>\n",
       "      <th>ingList</th>\n",
       "      <th>commonIng</th>\n",
       "    </tr>\n",
       "  </thead>\n",
       "  <tbody>\n",
       "    <tr>\n",
       "      <th>0</th>\n",
       "      <td>11538</td>\n",
       "      <td>Seriously Soothing Blue Tansy Night Oil</td>\n",
       "      <td>Acure Organics</td>\n",
       "      <td>[Simmondsia Chinensis (Jojoba) Seed Oil, Capry...</td>\n",
       "      <td>2</td>\n",
       "    </tr>\n",
       "    <tr>\n",
       "      <th>1</th>\n",
       "      <td>4004</td>\n",
       "      <td>Rosa Mosqueta Rose Hip Seed Oil</td>\n",
       "      <td>Aubrey Organics</td>\n",
       "      <td>[Rosa Rubiginosa Seed Oil]</td>\n",
       "      <td>1</td>\n",
       "    </tr>\n",
       "    <tr>\n",
       "      <th>2</th>\n",
       "      <td>11141</td>\n",
       "      <td>Bee Beauty Facial Oil</td>\n",
       "      <td>Elaa Skincare</td>\n",
       "      <td>[Hydrogenated Jojoba Oil, Rosa Canina (Rosehip...</td>\n",
       "      <td>2</td>\n",
       "    </tr>\n",
       "    <tr>\n",
       "      <th>3</th>\n",
       "      <td>11181</td>\n",
       "      <td>Organic Wear Bright Booster Oil Elixir</td>\n",
       "      <td>Physicians Formula</td>\n",
       "      <td>[Camellia Oleifera Seed Oil, Helianthus Annuus...</td>\n",
       "      <td>3</td>\n",
       "    </tr>\n",
       "    <tr>\n",
       "      <th>4</th>\n",
       "      <td>250</td>\n",
       "      <td>Polyphenol C15 Overnight Detox Oil</td>\n",
       "      <td>Caudalie Paris</td>\n",
       "      <td>[Caprylic/Capric Triglyceride, Vitis Vinifera ...</td>\n",
       "      <td>4</td>\n",
       "    </tr>\n",
       "    <tr>\n",
       "      <th>5</th>\n",
       "      <td>3589</td>\n",
       "      <td>Superskin Concentrate</td>\n",
       "      <td>Liz Earle Naturally Active Skin Care</td>\n",
       "      <td>[Corylus Avellana (Hazel) Seed Oil, Rosa Rubig...</td>\n",
       "      <td>3</td>\n",
       "    </tr>\n",
       "    <tr>\n",
       "      <th>6</th>\n",
       "      <td>12610</td>\n",
       "      <td>Elixir Botanical Treatment Serum</td>\n",
       "      <td>Namari Skin</td>\n",
       "      <td>[Opuntia Ficus-Indica Seed Oil, Argania Spinos...</td>\n",
       "      <td>5</td>\n",
       "    </tr>\n",
       "    <tr>\n",
       "      <th>7</th>\n",
       "      <td>12329</td>\n",
       "      <td>Konon Cleansing Cream Concentrate</td>\n",
       "      <td>Namari Skin</td>\n",
       "      <td>[Anacardium Occidentale (Cashew) Seed Oil, Arg...</td>\n",
       "      <td>3</td>\n",
       "    </tr>\n",
       "    <tr>\n",
       "      <th>8</th>\n",
       "      <td>7501</td>\n",
       "      <td>Rose Hips Rose Regeneration Face Creme</td>\n",
       "      <td>Shea Terra Organics</td>\n",
       "      <td>[Rosa Damascena (Rose, Rosa Rubiginosa Seed Oi...</td>\n",
       "      <td>2</td>\n",
       "    </tr>\n",
       "    <tr>\n",
       "      <th>9</th>\n",
       "      <td>11294</td>\n",
       "      <td>Lapis Facial Oil</td>\n",
       "      <td>Herbivore Botanicals</td>\n",
       "      <td>[Amaranthus Caudatus Seed Oil, Simmondsia Chin...</td>\n",
       "      <td>2</td>\n",
       "    </tr>\n",
       "  </tbody>\n",
       "</table>\n",
       "</div>"
      ],
      "text/plain": [
       "   index                                  product  \\\n",
       "0  11538  Seriously Soothing Blue Tansy Night Oil   \n",
       "1   4004          Rosa Mosqueta Rose Hip Seed Oil   \n",
       "2  11141                    Bee Beauty Facial Oil   \n",
       "3  11181   Organic Wear Bright Booster Oil Elixir   \n",
       "4    250       Polyphenol C15 Overnight Detox Oil   \n",
       "5   3589                    Superskin Concentrate   \n",
       "6  12610         Elixir Botanical Treatment Serum   \n",
       "7  12329        Konon Cleansing Cream Concentrate   \n",
       "8   7501   Rose Hips Rose Regeneration Face Creme   \n",
       "9  11294                         Lapis Facial Oil   \n",
       "\n",
       "                                  brand  \\\n",
       "0                        Acure Organics   \n",
       "1                       Aubrey Organics   \n",
       "2                         Elaa Skincare   \n",
       "3                    Physicians Formula   \n",
       "4                        Caudalie Paris   \n",
       "5  Liz Earle Naturally Active Skin Care   \n",
       "6                           Namari Skin   \n",
       "7                           Namari Skin   \n",
       "8                   Shea Terra Organics   \n",
       "9                  Herbivore Botanicals   \n",
       "\n",
       "                                             ingList  commonIng  \n",
       "0  [Simmondsia Chinensis (Jojoba) Seed Oil, Capry...          2  \n",
       "1                         [Rosa Rubiginosa Seed Oil]          1  \n",
       "2  [Hydrogenated Jojoba Oil, Rosa Canina (Rosehip...          2  \n",
       "3  [Camellia Oleifera Seed Oil, Helianthus Annuus...          3  \n",
       "4  [Caprylic/Capric Triglyceride, Vitis Vinifera ...          4  \n",
       "5  [Corylus Avellana (Hazel) Seed Oil, Rosa Rubig...          3  \n",
       "6  [Opuntia Ficus-Indica Seed Oil, Argania Spinos...          5  \n",
       "7  [Anacardium Occidentale (Cashew) Seed Oil, Arg...          3  \n",
       "8  [Rosa Damascena (Rose, Rosa Rubiginosa Seed Oi...          2  \n",
       "9  [Amaranthus Caudatus Seed Oil, Simmondsia Chin...          2  "
      ]
     },
     "execution_count": 47,
     "metadata": {},
     "output_type": "execute_result"
    }
   ],
   "source": [
    "topTen = pd.DataFrame(recommended)\n",
    "commonItems(product, topTen, df)\n",
    "#recommended.to_csv('recommendations/COS.csv')\n",
    "topTen.reset_index()"
   ]
  },
  {
   "cell_type": "markdown",
   "metadata": {},
   "source": [
    "### Find specific product similarity"
   ]
  },
  {
   "cell_type": "code",
   "execution_count": 58,
   "metadata": {},
   "outputs": [
    {
     "name": "stdout",
     "output_type": "stream",
     "text": [
      "Cosine Similarity\n",
      "---------------------------------------------------------------\n",
      "Product: Sunshine Oil\n",
      "Brand: Milk Makeup\n",
      "Similarity score: 0.08489910975\n",
      "Rank: 127\n",
      "Number of Ingredients 10\n",
      "Number of Common Ingredients 2\n",
      "Ingredients ['Vitis Vinifera (Grape) Seed Oil', 'Persea Gratissima (Avocado) Oil', 'Citrus Grandis (Grapefruit) Peel Oil', 'Citrus Tangerina (Tangerine) Peel Oil', 'Citrus Nobilis (Mandarin Orange) Peel Oil', 'Citrus Medica Limonum (Lemon) Oil', 'Prunus Armeniaca (Apricot) Kernel Oil', 'Tocopheryl Acetate', 'Lecithin', 'Phenoxyethanol']\n"
     ]
    }
   ],
   "source": [
    "prod_search_id = 12161\n",
    "sims = [v for i, v in enumerate(sim_scores_all) if v[0] == prod_search_id]\n",
    "\n",
    "sim_df = pd.DataFrame(sim_scores_all, columns=['index', 'score']).sort_values(['score'], ascending = False).reset_index().drop(['level_0'], axis = 1)\n",
    "index_return = sim_df[sim_df['index'] == prod_search_id].index.item() \n",
    "\n",
    "list1 = df.loc[idx]['ingList']\n",
    "list2 = df.loc[prod_search_id]['ingList']\n",
    "\n",
    "print('Cosine Similarity')\n",
    "print('---------------------------------------------------------------')\n",
    "print('Product:', df.iloc[prod_search_id]['product'])\n",
    "print('Brand:', df.iloc[prod_search_id]['brand'])\n",
    "print('Similarity score:', sims[0][1])\n",
    "print('Rank:', index_return)\n",
    "print('Number of Ingredients', df.iloc[prod_search_id]['ingCount'])\n",
    "print('Number of Common Ingredients', len(set(list1)&set(list2)))\n",
    "print('Ingredients', df.iloc[prod_search_id]['ingList'])"
   ]
  },
  {
   "cell_type": "markdown",
   "metadata": {},
   "source": [
    "## RBO similarity measure\n",
    "\n",
    "Based on code found [here](https://github.com/dlukes/rbo/blob/master/rbo.py)"
   ]
  },
  {
   "cell_type": "markdown",
   "metadata": {},
   "source": [
    "### Create dataframe of top ten similar products"
   ]
  },
  {
   "cell_type": "code",
   "execution_count": 59,
   "metadata": {},
   "outputs": [
    {
     "name": "stdout",
     "output_type": "stream",
     "text": [
      "Wall time: 14.6 s\n"
     ]
    }
   ],
   "source": [
    "%%time\n",
    "\n",
    "df = dataPrep(ings, prods, prod_ing)\n",
    "##Set the rbo we want to use\n",
    "rbo = rbo_min\n",
    "\n",
    "itemLookup = df.loc[idx]['ing#List']\n",
    "items = df['ing#List']\n",
    "sim = [rbo(itemLookup,i, .9) for i in items] ##change method here\n",
    "\n",
    "sim_scores_all = list(enumerate(sim))\n",
    "\n",
    "# Sort the products based on the similarity scores\n",
    "sim_scores_sorted = sorted(sim_scores_all, key=lambda x: x[1], reverse=True)\n",
    "\n",
    "# Get the scores of the 10 most similar products\n",
    "sim_scores_ten = sim_scores_sorted[1:11]\n",
    "\n",
    "# Get the product indices\n",
    "product_indices = [i[0] for i in sim_scores_ten]\n",
    "\n",
    "recommended = df[['product', 'brand','ingList']].iloc[product_indices]"
   ]
  },
  {
   "cell_type": "markdown",
   "metadata": {},
   "source": [
    "### Show top ten"
   ]
  },
  {
   "cell_type": "code",
   "execution_count": 60,
   "metadata": {},
   "outputs": [
    {
     "data": {
      "text/html": [
       "<div>\n",
       "<table border=\"1\" class=\"dataframe\">\n",
       "  <thead>\n",
       "    <tr style=\"text-align: right;\">\n",
       "      <th></th>\n",
       "      <th>index</th>\n",
       "      <th>product</th>\n",
       "      <th>brand</th>\n",
       "      <th>ingList</th>\n",
       "      <th>commonIng</th>\n",
       "    </tr>\n",
       "  </thead>\n",
       "  <tbody>\n",
       "    <tr>\n",
       "      <th>0</th>\n",
       "      <td>13465</td>\n",
       "      <td>Perfecting Facial Oil</td>\n",
       "      <td>Nuori</td>\n",
       "      <td>[Vitis Vinifera (Grape) Seed Oil, Prunus Armen...</td>\n",
       "      <td>4</td>\n",
       "    </tr>\n",
       "    <tr>\n",
       "      <th>1</th>\n",
       "      <td>12161</td>\n",
       "      <td>Sunshine Oil</td>\n",
       "      <td>Milk Makeup</td>\n",
       "      <td>[Vitis Vinifera (Grape) Seed Oil, Persea Grati...</td>\n",
       "      <td>2</td>\n",
       "    </tr>\n",
       "    <tr>\n",
       "      <th>2</th>\n",
       "      <td>14363</td>\n",
       "      <td>The Oil</td>\n",
       "      <td>Codage</td>\n",
       "      <td>[Vitis Vinifera (Grape) Seed Oil, Macadamia In...</td>\n",
       "      <td>2</td>\n",
       "    </tr>\n",
       "    <tr>\n",
       "      <th>3</th>\n",
       "      <td>11197</td>\n",
       "      <td>Brightening Eye Serum</td>\n",
       "      <td>Three Organics</td>\n",
       "      <td>[Vitis Vinifera (Grape) Seed Oil, Rosa Canina ...</td>\n",
       "      <td>2</td>\n",
       "    </tr>\n",
       "    <tr>\n",
       "      <th>4</th>\n",
       "      <td>11535</td>\n",
       "      <td>Daily Clarifying Treatment Oil</td>\n",
       "      <td>Jouer Cosmetics</td>\n",
       "      <td>[Vitis Vinifera (Grape) Seed Oil, Simmondsia C...</td>\n",
       "      <td>2</td>\n",
       "    </tr>\n",
       "    <tr>\n",
       "      <th>5</th>\n",
       "      <td>3589</td>\n",
       "      <td>Superskin Concentrate</td>\n",
       "      <td>Liz Earle Naturally Active Skin Care</td>\n",
       "      <td>[Corylus Avellana (Hazel) Seed Oil, Rosa Rubig...</td>\n",
       "      <td>3</td>\n",
       "    </tr>\n",
       "    <tr>\n",
       "      <th>6</th>\n",
       "      <td>6673</td>\n",
       "      <td>Seaberry Skin Nutrition Cleansing Oil</td>\n",
       "      <td>fresh</td>\n",
       "      <td>[Vitis Vinifera (Grape) Seed Oil, Hydrogenated...</td>\n",
       "      <td>2</td>\n",
       "    </tr>\n",
       "    <tr>\n",
       "      <th>7</th>\n",
       "      <td>10170</td>\n",
       "      <td>Amazing Face Moringa Cleansing Balm</td>\n",
       "      <td>Emma Hardie</td>\n",
       "      <td>[Vitis Vinifera (Grape) Seed Oil, Prunus Amygd...</td>\n",
       "      <td>2</td>\n",
       "    </tr>\n",
       "    <tr>\n",
       "      <th>8</th>\n",
       "      <td>9787</td>\n",
       "      <td>Rosehip and Argan Antioxidant Serum</td>\n",
       "      <td>White Egret</td>\n",
       "      <td>[Simmondsia Chinensis (Jojoba) Seed Oil, Vitis...</td>\n",
       "      <td>3</td>\n",
       "    </tr>\n",
       "    <tr>\n",
       "      <th>9</th>\n",
       "      <td>402</td>\n",
       "      <td>Love Your Bare Face Hydrating Cleansing Oil</td>\n",
       "      <td>Julep</td>\n",
       "      <td>[Vitis Vinifera (Grape) Seed Oil, Olea Europae...</td>\n",
       "      <td>2</td>\n",
       "    </tr>\n",
       "  </tbody>\n",
       "</table>\n",
       "</div>"
      ],
      "text/plain": [
       "   index                                      product  \\\n",
       "0  13465                        Perfecting Facial Oil   \n",
       "1  12161                                 Sunshine Oil   \n",
       "2  14363                                      The Oil   \n",
       "3  11197                        Brightening Eye Serum   \n",
       "4  11535               Daily Clarifying Treatment Oil   \n",
       "5   3589                        Superskin Concentrate   \n",
       "6   6673        Seaberry Skin Nutrition Cleansing Oil   \n",
       "7  10170          Amazing Face Moringa Cleansing Balm   \n",
       "8   9787          Rosehip and Argan Antioxidant Serum   \n",
       "9    402  Love Your Bare Face Hydrating Cleansing Oil   \n",
       "\n",
       "                                  brand  \\\n",
       "0                                 Nuori   \n",
       "1                           Milk Makeup   \n",
       "2                                Codage   \n",
       "3                        Three Organics   \n",
       "4                       Jouer Cosmetics   \n",
       "5  Liz Earle Naturally Active Skin Care   \n",
       "6                                 fresh   \n",
       "7                           Emma Hardie   \n",
       "8                           White Egret   \n",
       "9                                 Julep   \n",
       "\n",
       "                                             ingList  commonIng  \n",
       "0  [Vitis Vinifera (Grape) Seed Oil, Prunus Armen...          4  \n",
       "1  [Vitis Vinifera (Grape) Seed Oil, Persea Grati...          2  \n",
       "2  [Vitis Vinifera (Grape) Seed Oil, Macadamia In...          2  \n",
       "3  [Vitis Vinifera (Grape) Seed Oil, Rosa Canina ...          2  \n",
       "4  [Vitis Vinifera (Grape) Seed Oil, Simmondsia C...          2  \n",
       "5  [Corylus Avellana (Hazel) Seed Oil, Rosa Rubig...          3  \n",
       "6  [Vitis Vinifera (Grape) Seed Oil, Hydrogenated...          2  \n",
       "7  [Vitis Vinifera (Grape) Seed Oil, Prunus Amygd...          2  \n",
       "8  [Simmondsia Chinensis (Jojoba) Seed Oil, Vitis...          3  \n",
       "9  [Vitis Vinifera (Grape) Seed Oil, Olea Europae...          2  "
      ]
     },
     "execution_count": 60,
     "metadata": {},
     "output_type": "execute_result"
    }
   ],
   "source": [
    "topTen = pd.DataFrame(recommended)\n",
    "commonItems(product, topTen, df)\n",
    "#recommended.to_csv('recommendations/RBO.csv')\n",
    "topTen.reset_index()"
   ]
  },
  {
   "cell_type": "markdown",
   "metadata": {},
   "source": [
    "### Find specific product similarity"
   ]
  },
  {
   "cell_type": "code",
   "execution_count": 67,
   "metadata": {},
   "outputs": [
    {
     "name": "stdout",
     "output_type": "stream",
     "text": [
      "RBO Similarity\n",
      "---------------------------------------------------------------\n",
      "Product: Balancing Face Treatment Oil\n",
      "Similarity score: 0.10199195289490956\n",
      "Rank: 125\n"
     ]
    }
   ],
   "source": [
    "prod_search_id = 8720\n",
    "sims = [v for i, v in enumerate(sim_scores_all) if v[0] == prod_search_id]\n",
    "\n",
    "sim_df = pd.DataFrame(sim_scores_all, columns=['index', 'score']).sort_values(['score'], ascending = False).reset_index().drop(['level_0'], axis = 1)\n",
    "index_return = sim_df[sim_df['index'] == prod_search_id].index.item() \n",
    "\n",
    "list1 = df.loc[idx]['ingList']\n",
    "list2 = df.loc[prod_search_id]['ingList']\n",
    "\n",
    "print('RBO Similarity')\n",
    "print('---------------------------------------------------------------')\n",
    "print('Product:', df.iloc[prod_search_id]['product'])\n",
    "print('Similarity score:', sims[0][1])\n",
    "print('Rank:', index_return)\n",
    "#print('Number of Ingredients', df.iloc[prod_search_id]['ingCount'])\n",
    "#print('Number of Common Ingredients', len(set(list1)&set(list2)))\n",
    "#print('Ingredients', df.iloc[prod_search_id]['ingList'])"
   ]
  },
  {
   "cell_type": "markdown",
   "metadata": {},
   "source": [
    "## R value\n",
    "Reference [here](https://docs.scipy.org/doc/scipy-0.14.0/reference/generated/scipy.stats.linregress.html)"
   ]
  },
  {
   "cell_type": "code",
   "execution_count": 68,
   "metadata": {},
   "outputs": [
    {
     "name": "stdout",
     "output_type": "stream",
     "text": [
      "Wall time: 54.3 s\n"
     ]
    }
   ],
   "source": [
    "%%time\n",
    "#get linregress similarity and return r-value\n",
    "sim = [linregress(df2[idx], df2[i])[2] for i in df2]\n",
    "\n",
    "##collect all similarity scores (r_val)\n",
    "sim_scores_all = list(enumerate(sim))\n",
    "\n",
    "# Sort the products based on the similarity scores\n",
    "sim_scores_sorted = sorted(sim_scores_all, key=lambda x: x[1], reverse=True)\n",
    "#df['scores'] = [sim_scores[i][1] for i in sim_scores]\n",
    "\n",
    "# Get the scores of the 10 most similar products\n",
    "sim_scores_ten = sim_scores_sorted[1:11]\n",
    "\n",
    "# Get the product indices\n",
    "product_indices = [i[0] for i in sim_scores_ten]\n",
    "\n",
    "recommended = df[['product', 'brand','ingList']].iloc[product_indices]"
   ]
  },
  {
   "cell_type": "markdown",
   "metadata": {},
   "source": [
    "### Return top ten"
   ]
  },
  {
   "cell_type": "code",
   "execution_count": 69,
   "metadata": {},
   "outputs": [
    {
     "data": {
      "text/html": [
       "<div>\n",
       "<table border=\"1\" class=\"dataframe\">\n",
       "  <thead>\n",
       "    <tr style=\"text-align: right;\">\n",
       "      <th></th>\n",
       "      <th>index</th>\n",
       "      <th>product</th>\n",
       "      <th>brand</th>\n",
       "      <th>ingList</th>\n",
       "      <th>commonIng</th>\n",
       "    </tr>\n",
       "  </thead>\n",
       "  <tbody>\n",
       "    <tr>\n",
       "      <th>0</th>\n",
       "      <td>8720</td>\n",
       "      <td>Balancing Face Treatment Oil</td>\n",
       "      <td>ESPA</td>\n",
       "      <td>[Cocos Nucifera (Coconut) Oil, Prunus Amygdalu...</td>\n",
       "      <td>5</td>\n",
       "    </tr>\n",
       "    <tr>\n",
       "      <th>1</th>\n",
       "      <td>13465</td>\n",
       "      <td>Perfecting Facial Oil</td>\n",
       "      <td>Nuori</td>\n",
       "      <td>[Vitis Vinifera (Grape) Seed Oil, Prunus Armen...</td>\n",
       "      <td>4</td>\n",
       "    </tr>\n",
       "    <tr>\n",
       "      <th>2</th>\n",
       "      <td>9250</td>\n",
       "      <td>Normal Oily Combo Facial Hydrate</td>\n",
       "      <td>Sensatia Botanicals</td>\n",
       "      <td>[Simmondsia Chinensis (Jojoba) Seed Oil, Prunu...</td>\n",
       "      <td>3</td>\n",
       "    </tr>\n",
       "    <tr>\n",
       "      <th>3</th>\n",
       "      <td>13478</td>\n",
       "      <td>The Super Couple Ultra Luxe Anti-Aging Facial ...</td>\n",
       "      <td>Maya Chia</td>\n",
       "      <td>[Salvia Hispanica Seed Oil, Haematococcus Pluv...</td>\n",
       "      <td>3</td>\n",
       "    </tr>\n",
       "    <tr>\n",
       "      <th>4</th>\n",
       "      <td>11894</td>\n",
       "      <td>Replenishing Face Treatment Oil</td>\n",
       "      <td>ESPA</td>\n",
       "      <td>[Cocos Nucifera (Coconut) Oil, Prunus Amygdalu...</td>\n",
       "      <td>4</td>\n",
       "    </tr>\n",
       "    <tr>\n",
       "      <th>5</th>\n",
       "      <td>9916</td>\n",
       "      <td>Soothing Hydration Organic Facial Oil</td>\n",
       "      <td>Madara Cosmetics</td>\n",
       "      <td>[Geraniol, Persea Gratissima (Avocado) Oil, To...</td>\n",
       "      <td>3</td>\n",
       "    </tr>\n",
       "    <tr>\n",
       "      <th>6</th>\n",
       "      <td>9247</td>\n",
       "      <td>cleopatra?s rose facial hydrate</td>\n",
       "      <td>Sensatia Botanicals</td>\n",
       "      <td>[Simmondsia Chinensis (Jojoba) Seed Oil, Prunu...</td>\n",
       "      <td>3</td>\n",
       "    </tr>\n",
       "    <tr>\n",
       "      <th>7</th>\n",
       "      <td>8742</td>\n",
       "      <td>Regenerating Face Treatment Oil</td>\n",
       "      <td>ESPA</td>\n",
       "      <td>[Simmondsia Chinensis (Jojoba) Seed Oil, Macad...</td>\n",
       "      <td>4</td>\n",
       "    </tr>\n",
       "    <tr>\n",
       "      <th>8</th>\n",
       "      <td>12676</td>\n",
       "      <td>Ageless Skin Serum</td>\n",
       "      <td>Prestige Beaute</td>\n",
       "      <td>[Argania Spinosa (Argan) Oil, Oenothera Bienni...</td>\n",
       "      <td>3</td>\n",
       "    </tr>\n",
       "    <tr>\n",
       "      <th>9</th>\n",
       "      <td>250</td>\n",
       "      <td>Polyphenol C15 Overnight Detox Oil</td>\n",
       "      <td>Caudalie Paris</td>\n",
       "      <td>[Caprylic/Capric Triglyceride, Vitis Vinifera ...</td>\n",
       "      <td>4</td>\n",
       "    </tr>\n",
       "  </tbody>\n",
       "</table>\n",
       "</div>"
      ],
      "text/plain": [
       "   index                                            product  \\\n",
       "0   8720                       Balancing Face Treatment Oil   \n",
       "1  13465                              Perfecting Facial Oil   \n",
       "2   9250                   Normal Oily Combo Facial Hydrate   \n",
       "3  13478  The Super Couple Ultra Luxe Anti-Aging Facial ...   \n",
       "4  11894                    Replenishing Face Treatment Oil   \n",
       "5   9916              Soothing Hydration Organic Facial Oil   \n",
       "6   9247                    cleopatra?s rose facial hydrate   \n",
       "7   8742                    Regenerating Face Treatment Oil   \n",
       "8  12676                                 Ageless Skin Serum   \n",
       "9    250                 Polyphenol C15 Overnight Detox Oil   \n",
       "\n",
       "                 brand                                            ingList  \\\n",
       "0                 ESPA  [Cocos Nucifera (Coconut) Oil, Prunus Amygdalu...   \n",
       "1                Nuori  [Vitis Vinifera (Grape) Seed Oil, Prunus Armen...   \n",
       "2  Sensatia Botanicals  [Simmondsia Chinensis (Jojoba) Seed Oil, Prunu...   \n",
       "3            Maya Chia  [Salvia Hispanica Seed Oil, Haematococcus Pluv...   \n",
       "4                 ESPA  [Cocos Nucifera (Coconut) Oil, Prunus Amygdalu...   \n",
       "5     Madara Cosmetics  [Geraniol, Persea Gratissima (Avocado) Oil, To...   \n",
       "6  Sensatia Botanicals  [Simmondsia Chinensis (Jojoba) Seed Oil, Prunu...   \n",
       "7                 ESPA  [Simmondsia Chinensis (Jojoba) Seed Oil, Macad...   \n",
       "8      Prestige Beaute  [Argania Spinosa (Argan) Oil, Oenothera Bienni...   \n",
       "9       Caudalie Paris  [Caprylic/Capric Triglyceride, Vitis Vinifera ...   \n",
       "\n",
       "   commonIng  \n",
       "0          5  \n",
       "1          4  \n",
       "2          3  \n",
       "3          3  \n",
       "4          4  \n",
       "5          3  \n",
       "6          3  \n",
       "7          4  \n",
       "8          3  \n",
       "9          4  "
      ]
     },
     "execution_count": 69,
     "metadata": {},
     "output_type": "execute_result"
    }
   ],
   "source": [
    "topTen = pd.DataFrame(recommended)\n",
    "commonItems(product, topTen, df)\n",
    "#recommended.to_csv('recommendations/RBO.csv')\n",
    "topTen.reset_index()"
   ]
  },
  {
   "cell_type": "markdown",
   "metadata": {},
   "source": [
    "### Find specific product similarity"
   ]
  },
  {
   "cell_type": "code",
   "execution_count": 76,
   "metadata": {},
   "outputs": [
    {
     "name": "stdout",
     "output_type": "stream",
     "text": [
      "RVal Similarity\n",
      "---------------------------------------------------------------\n",
      "Product: Balancing Face Treatment Oil\n",
      "Similarity score: 0.198884203579\n",
      "Rank: 1\n"
     ]
    }
   ],
   "source": [
    "prod_search_id = 8720\n",
    "sims = [v for i, v in enumerate(sim_scores_all) if v[0] == prod_search_id]\n",
    "\n",
    "sim_df = pd.DataFrame(sim_scores_all, columns=['index', 'score']).sort_values(['score'], ascending = False).reset_index().drop(['level_0'], axis = 1)\n",
    "index_return = sim_df[sim_df['index'] == prod_search_id].index.item() \n",
    "\n",
    "list1 = df.loc[idx]['ingList']\n",
    "list2 = df.loc[prod_search_id]['ingList']\n",
    "\n",
    "print('RVal Similarity')\n",
    "print('---------------------------------------------------------------')\n",
    "print('Product:', df.iloc[prod_search_id]['product'])\n",
    "print('Similarity score:', sims[0][1])\n",
    "print('Rank:', index_return)\n",
    "#print('Number of Ingredients', df.iloc[prod_search_id]['ingCount'])\n",
    "#print('Number of Common Ingredients', len(set(list1)&set(list2)))\n",
    "#print('Ingredients', df.iloc[prod_search_id]['ingList'])"
   ]
  },
  {
   "cell_type": "code",
   "execution_count": null,
   "metadata": {},
   "outputs": [],
   "source": []
  }
 ],
 "metadata": {
  "kernelspec": {
   "display_name": "Python 3",
   "language": "python",
   "name": "python3"
  },
  "language_info": {
   "codemirror_mode": {
    "name": "ipython",
    "version": 3
   },
   "file_extension": ".py",
   "mimetype": "text/x-python",
   "name": "python",
   "nbconvert_exporter": "python",
   "pygments_lexer": "ipython3",
   "version": "3.6.0"
  }
 },
 "nbformat": 4,
 "nbformat_minor": 2
}
