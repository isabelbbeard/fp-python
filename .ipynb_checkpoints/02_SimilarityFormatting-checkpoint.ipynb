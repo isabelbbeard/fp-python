{
 "cells": [
  {
   "cell_type": "code",
   "execution_count": 1,
   "metadata": {},
   "outputs": [],
   "source": [
    "import pandas as pd\n",
    "import numpy as np\n",
    "\n",
    "from RBO import *\n",
    "from getRecommendations import *\n",
    "from dataPrep import *"
   ]
  },
  {
   "cell_type": "markdown",
   "metadata": {},
   "source": [
    "# Read csvs"
   ]
  },
  {
   "cell_type": "markdown",
   "metadata": {},
   "source": [
    "These are the csv's we cleaned up and combined in step 01. "
   ]
  },
  {
   "cell_type": "code",
   "execution_count": 2,
   "metadata": {},
   "outputs": [
    {
     "name": "stdout",
     "output_type": "stream",
     "text": [
      "Number of products:  15945\n",
      "Number of unique ingredients:  6899\n",
      "Number of total ingredients:  446618\n"
     ]
    }
   ],
   "source": [
    "ings = pd.read_csv('data/ings.csv', encoding = \"ISO-8859-1\", index_col=0)\n",
    "#prods = prods.drop_duplicates(subset = 'product')\n",
    "prods = pd.read_csv('data/prods.csv', encoding = \"ISO-8859-1\", index_col=0)\n",
    "#prods = prods.drop_duplicates(subset = 'product')\n",
    "prod_ing = pd.read_csv('data/prod_ing.csv', encoding = \"ISO-8859-1\", index_col=0)\n",
    "prod_ing = prod_ing.drop(['diff'], axis = 1)\n",
    "#prod_ing = prod_ing.sort_values(['id', 'order'])\n",
    "\n",
    "print('Number of products: ', len(prods))\n",
    "print('Number of unique ingredients: ', len(ings))\n",
    "print('Number of total ingredients: ', len(prod_ing))"
   ]
  },
  {
   "cell_type": "code",
   "execution_count": 3,
   "metadata": {},
   "outputs": [],
   "source": [
    "df = dataPrep(ings, prods, prod_ing)\n",
    "#df.to_csv('recommendations/recommender_products.csv')"
   ]
  },
  {
   "cell_type": "markdown",
   "metadata": {},
   "source": [
    "## Test Product"
   ]
  },
  {
   "cell_type": "code",
   "execution_count": 4,
   "metadata": {},
   "outputs": [
    {
     "data": {
      "text/plain": [
       "'Ultra Correction Line Repair Intensive Anti-Wrinkle Concentrate'"
      ]
     },
     "execution_count": 4,
     "metadata": {},
     "output_type": "execute_result"
    }
   ],
   "source": [
    "product = 'Ultra Correction Line Repair Intensive Anti-Wrinkle Concentrate'\n",
    "indices = pd.Series(prods.index, index=prods['product'])\n",
    "idx = indices[product]\n",
    "prods.loc[idx]['product']\n",
    "#idx\n",
    "#df.loc[14450]['product']"
   ]
  },
  {
   "cell_type": "markdown",
   "metadata": {},
   "source": [
    "# GET RECOMMENDATIONS\n"
   ]
  },
  {
   "cell_type": "code",
   "execution_count": 5,
   "metadata": {},
   "outputs": [
    {
     "data": {
      "text/html": [
       "<div>\n",
       "<table border=\"1\" class=\"dataframe\">\n",
       "  <thead>\n",
       "    <tr style=\"text-align: right;\">\n",
       "      <th></th>\n",
       "      <th>ingList</th>\n",
       "      <th>ing#List</th>\n",
       "      <th>product</th>\n",
       "      <th>brand</th>\n",
       "      <th>price</th>\n",
       "      <th>rating</th>\n",
       "      <th>ratingsCount</th>\n",
       "      <th>cat_Acne&amp;BlemishTreatments</th>\n",
       "      <th>cat_Ampoules</th>\n",
       "      <th>cat_BodySkincare</th>\n",
       "      <th>...</th>\n",
       "      <th>note_Brightening</th>\n",
       "      <th>note_ContainsAlcohol</th>\n",
       "      <th>note_ContainsParaben</th>\n",
       "      <th>note_ContainsSulfate</th>\n",
       "      <th>note_ParabenFree</th>\n",
       "      <th>note_PromotesWoundHealing</th>\n",
       "      <th>note_SulfateFree</th>\n",
       "      <th>note_UVProtection</th>\n",
       "      <th>ingCount</th>\n",
       "      <th>id2</th>\n",
       "    </tr>\n",
       "  </thead>\n",
       "  <tbody>\n",
       "    <tr>\n",
       "      <th>0</th>\n",
       "      <td>[Water, Hydrogenated Polyisobutene, Butylene G...</td>\n",
       "      <td>[0, 1, 2, 3, 4, 5, 6, 7, 8, 9, 10, 11, 12, 13,...</td>\n",
       "      <td>Naturally Gentle Eye Makeup Remover</td>\n",
       "      <td>Clinique</td>\n",
       "      <td>20.0</td>\n",
       "      <td>5.0</td>\n",
       "      <td>16</td>\n",
       "      <td>0</td>\n",
       "      <td>0</td>\n",
       "      <td>0</td>\n",
       "      <td>...</td>\n",
       "      <td>0</td>\n",
       "      <td>0</td>\n",
       "      <td>1</td>\n",
       "      <td>0</td>\n",
       "      <td>0</td>\n",
       "      <td>0</td>\n",
       "      <td>1</td>\n",
       "      <td>0</td>\n",
       "      <td>22</td>\n",
       "      <td>0</td>\n",
       "    </tr>\n",
       "  </tbody>\n",
       "</table>\n",
       "<p>1 rows × 47 columns</p>\n",
       "</div>"
      ],
      "text/plain": [
       "                                             ingList  \\\n",
       "0  [Water, Hydrogenated Polyisobutene, Butylene G...   \n",
       "\n",
       "                                            ing#List  \\\n",
       "0  [0, 1, 2, 3, 4, 5, 6, 7, 8, 9, 10, 11, 12, 13,...   \n",
       "\n",
       "                               product     brand  price  rating  ratingsCount  \\\n",
       "0  Naturally Gentle Eye Makeup Remover  Clinique   20.0     5.0            16   \n",
       "\n",
       "   cat_Acne&BlemishTreatments  cat_Ampoules  cat_BodySkincare ...   \\\n",
       "0                           0             0                 0 ...    \n",
       "\n",
       "   note_Brightening  note_ContainsAlcohol  note_ContainsParaben  \\\n",
       "0                 0                     0                     1   \n",
       "\n",
       "   note_ContainsSulfate  note_ParabenFree  note_PromotesWoundHealing  \\\n",
       "0                     0                 0                          0   \n",
       "\n",
       "   note_SulfateFree  note_UVProtection  ingCount  id2  \n",
       "0                 1                  0        22    0  \n",
       "\n",
       "[1 rows x 47 columns]"
      ]
     },
     "execution_count": 5,
     "metadata": {},
     "output_type": "execute_result"
    }
   ],
   "source": [
    "df.head(1)"
   ]
  },
  {
   "cell_type": "code",
   "execution_count": 287,
   "metadata": {},
   "outputs": [],
   "source": [
    "def remove_values_from_list(the_list, val):\n",
    "   return [value for value in the_list if value != val]\n",
    "\n",
    "#remove water\n",
    "df['ing#List'] = [remove_values_from_list(i,0) for i in df['ing#List']]"
   ]
  },
  {
   "cell_type": "code",
   "execution_count": 7,
   "metadata": {},
   "outputs": [
    {
     "data": {
      "text/html": [
       "<div>\n",
       "<table border=\"1\" class=\"dataframe\">\n",
       "  <thead>\n",
       "    <tr style=\"text-align: right;\">\n",
       "      <th></th>\n",
       "      <th>ingList</th>\n",
       "      <th>ing#List</th>\n",
       "      <th>product</th>\n",
       "      <th>brand</th>\n",
       "      <th>price</th>\n",
       "      <th>rating</th>\n",
       "      <th>ratingsCount</th>\n",
       "      <th>cat_Acne&amp;BlemishTreatments</th>\n",
       "      <th>cat_Ampoules</th>\n",
       "      <th>cat_BodySkincare</th>\n",
       "      <th>...</th>\n",
       "      <th>note_Brightening</th>\n",
       "      <th>note_ContainsAlcohol</th>\n",
       "      <th>note_ContainsParaben</th>\n",
       "      <th>note_ContainsSulfate</th>\n",
       "      <th>note_ParabenFree</th>\n",
       "      <th>note_PromotesWoundHealing</th>\n",
       "      <th>note_SulfateFree</th>\n",
       "      <th>note_UVProtection</th>\n",
       "      <th>ingCount</th>\n",
       "      <th>id2</th>\n",
       "    </tr>\n",
       "  </thead>\n",
       "  <tbody>\n",
       "    <tr>\n",
       "      <th>0</th>\n",
       "      <td>[Water, Hydrogenated Polyisobutene, Butylene G...</td>\n",
       "      <td>[0, 1, 2, 3, 4, 5, 6, 7, 8, 9, 10, 11, 12, 13,...</td>\n",
       "      <td>Naturally Gentle Eye Makeup Remover</td>\n",
       "      <td>Clinique</td>\n",
       "      <td>20.00</td>\n",
       "      <td>5.0</td>\n",
       "      <td>16</td>\n",
       "      <td>0</td>\n",
       "      <td>0</td>\n",
       "      <td>0</td>\n",
       "      <td>...</td>\n",
       "      <td>0</td>\n",
       "      <td>0</td>\n",
       "      <td>1</td>\n",
       "      <td>0</td>\n",
       "      <td>0</td>\n",
       "      <td>0</td>\n",
       "      <td>1</td>\n",
       "      <td>0</td>\n",
       "      <td>22</td>\n",
       "      <td>0</td>\n",
       "    </tr>\n",
       "    <tr>\n",
       "      <th>1</th>\n",
       "      <td>[Water, Glycerin, Cetearyl Alcohol, Petrolatum...</td>\n",
       "      <td>[0, 22, 23, 24, 25, 26, 27, 28, 29, 30, 31, 32...</td>\n",
       "      <td>Foot Cream Norwegian Formula</td>\n",
       "      <td>Neutrogena</td>\n",
       "      <td>23.82</td>\n",
       "      <td>4.9</td>\n",
       "      <td>84</td>\n",
       "      <td>0</td>\n",
       "      <td>0</td>\n",
       "      <td>0</td>\n",
       "      <td>...</td>\n",
       "      <td>1</td>\n",
       "      <td>0</td>\n",
       "      <td>1</td>\n",
       "      <td>0</td>\n",
       "      <td>0</td>\n",
       "      <td>1</td>\n",
       "      <td>1</td>\n",
       "      <td>0</td>\n",
       "      <td>21</td>\n",
       "      <td>2</td>\n",
       "    </tr>\n",
       "    <tr>\n",
       "      <th>2</th>\n",
       "      <td>[Water, Glycereth-26, Alcohol, Butylene Glycol...</td>\n",
       "      <td>[0, 39, 40, 2, 41, 42, 43, 44, 45, 46, 47, 48,...</td>\n",
       "      <td>Essential Power Skin Refiner_Moisture</td>\n",
       "      <td>Laneige</td>\n",
       "      <td>28.20</td>\n",
       "      <td>5.0</td>\n",
       "      <td>12</td>\n",
       "      <td>0</td>\n",
       "      <td>0</td>\n",
       "      <td>0</td>\n",
       "      <td>...</td>\n",
       "      <td>1</td>\n",
       "      <td>1</td>\n",
       "      <td>0</td>\n",
       "      <td>0</td>\n",
       "      <td>1</td>\n",
       "      <td>1</td>\n",
       "      <td>1</td>\n",
       "      <td>0</td>\n",
       "      <td>38</td>\n",
       "      <td>3</td>\n",
       "    </tr>\n",
       "  </tbody>\n",
       "</table>\n",
       "<p>3 rows × 47 columns</p>\n",
       "</div>"
      ],
      "text/plain": [
       "                                             ingList  \\\n",
       "0  [Water, Hydrogenated Polyisobutene, Butylene G...   \n",
       "1  [Water, Glycerin, Cetearyl Alcohol, Petrolatum...   \n",
       "2  [Water, Glycereth-26, Alcohol, Butylene Glycol...   \n",
       "\n",
       "                                            ing#List  \\\n",
       "0  [0, 1, 2, 3, 4, 5, 6, 7, 8, 9, 10, 11, 12, 13,...   \n",
       "1  [0, 22, 23, 24, 25, 26, 27, 28, 29, 30, 31, 32...   \n",
       "2  [0, 39, 40, 2, 41, 42, 43, 44, 45, 46, 47, 48,...   \n",
       "\n",
       "                                 product       brand  price  rating  \\\n",
       "0    Naturally Gentle Eye Makeup Remover    Clinique  20.00     5.0   \n",
       "1           Foot Cream Norwegian Formula  Neutrogena  23.82     4.9   \n",
       "2  Essential Power Skin Refiner_Moisture     Laneige  28.20     5.0   \n",
       "\n",
       "   ratingsCount  cat_Acne&BlemishTreatments  cat_Ampoules  cat_BodySkincare  \\\n",
       "0            16                           0             0                 0   \n",
       "1            84                           0             0                 0   \n",
       "2            12                           0             0                 0   \n",
       "\n",
       "  ...   note_Brightening  note_ContainsAlcohol  note_ContainsParaben  \\\n",
       "0 ...                  0                     0                     1   \n",
       "1 ...                  1                     0                     1   \n",
       "2 ...                  1                     1                     0   \n",
       "\n",
       "   note_ContainsSulfate  note_ParabenFree  note_PromotesWoundHealing  \\\n",
       "0                     0                 0                          0   \n",
       "1                     0                 0                          1   \n",
       "2                     0                 1                          1   \n",
       "\n",
       "   note_SulfateFree  note_UVProtection  ingCount  id2  \n",
       "0                 1                  0        22    0  \n",
       "1                 1                  0        21    2  \n",
       "2                 1                  0        38    3  \n",
       "\n",
       "[3 rows x 47 columns]"
      ]
     },
     "execution_count": 7,
     "metadata": {},
     "output_type": "execute_result"
    }
   ],
   "source": [
    "#df.loc[df['id'] == idx]\n",
    "df['id2'] = df['id']\n",
    "#df = df.reset_index()\n",
    "df = df.drop(['id'], axis = 1)\n",
    "df = df.rename(columns={'index': 'id'})\n",
    "df.head(3)"
   ]
  },
  {
   "cell_type": "code",
   "execution_count": null,
   "metadata": {},
   "outputs": [],
   "source": []
  },
  {
   "cell_type": "code",
   "execution_count": 18,
   "metadata": {},
   "outputs": [
    {
     "name": "stdout",
     "output_type": "stream",
     "text": [
      "['Saccharomyces Ferment Filtrate', 'Butylene Glycol', 'Pentylene Glycol', 'Water', 'Sodium Benzoate', 'Methylparaben', 'Sorbic Acid']\n"
     ]
    }
   ],
   "source": [
    "#id: 1961\n",
    "product ='Facial Treatment Essence'\n",
    "ingTest = df[df['product'].str.match(product)]\n",
    "ingTest = ingTest['ingList']\n",
    "print(*ingTest, sep='\\n')"
   ]
  },
  {
   "cell_type": "code",
   "execution_count": null,
   "metadata": {},
   "outputs": [],
   "source": []
  },
  {
   "cell_type": "markdown",
   "metadata": {},
   "source": [
    "## Cosine similarity"
   ]
  },
  {
   "cell_type": "markdown",
   "metadata": {},
   "source": [
    "Reference [here](https://www.datacamp.com/community/tutorials/recommender-systems-python)"
   ]
  },
  {
   "cell_type": "code",
   "execution_count": 19,
   "metadata": {},
   "outputs": [
    {
     "name": "stdout",
     "output_type": "stream",
     "text": [
      "Wall time: 33.8 s\n"
     ]
    }
   ],
   "source": [
    "%%time\n",
    "\n",
    "recommended = get_COS_recommendations(df,product)\n",
    "topTen = pd.DataFrame(recommended)\n",
    "commonItems(product, topTen, df)\n",
    "recommended.to_csv('recommendations/COS.csv')"
   ]
  },
  {
   "cell_type": "code",
   "execution_count": 20,
   "metadata": {},
   "outputs": [
    {
     "data": {
      "text/html": [
       "<div>\n",
       "<table border=\"1\" class=\"dataframe\">\n",
       "  <thead>\n",
       "    <tr style=\"text-align: right;\">\n",
       "      <th></th>\n",
       "      <th>product</th>\n",
       "      <th>ingList</th>\n",
       "      <th>commonIng</th>\n",
       "    </tr>\n",
       "  </thead>\n",
       "  <tbody>\n",
       "    <tr>\n",
       "      <th>14839</th>\n",
       "      <td>Facial Treatment Repair C</td>\n",
       "      <td>[Saccharomyces Ferment Filtrate, Water, Glycer...</td>\n",
       "      <td>6</td>\n",
       "    </tr>\n",
       "    <tr>\n",
       "      <th>14515</th>\n",
       "      <td>Facial Treatment Mask</td>\n",
       "      <td>[Water, Saccharomyces Ferment Filtrate, Butyle...</td>\n",
       "      <td>4</td>\n",
       "    </tr>\n",
       "    <tr>\n",
       "      <th>3873</th>\n",
       "      <td>Advanced Eye Treatment Film</td>\n",
       "      <td>[Saccharomyces Ferment Filtrate, Water, Glycer...</td>\n",
       "      <td>6</td>\n",
       "    </tr>\n",
       "    <tr>\n",
       "      <th>3473</th>\n",
       "      <td>Ultimate Revival Serum</td>\n",
       "      <td>[Water, Saccharomyces Ferment Filtrate, Butyle...</td>\n",
       "      <td>6</td>\n",
       "    </tr>\n",
       "    <tr>\n",
       "      <th>14951</th>\n",
       "      <td>LXP Ultimate Serum</td>\n",
       "      <td>[Water, Saccharomyces Ferment Filtrate, Butyle...</td>\n",
       "      <td>6</td>\n",
       "    </tr>\n",
       "    <tr>\n",
       "      <th>14629</th>\n",
       "      <td>Facial Treatment Clear Lotion</td>\n",
       "      <td>[Water, Saccharomyces Ferment Filtrate, Butyle...</td>\n",
       "      <td>5</td>\n",
       "    </tr>\n",
       "    <tr>\n",
       "      <th>15103</th>\n",
       "      <td>Pitera Mid-Day Essence</td>\n",
       "      <td>[Galactomyces Ferment Filtrate, Butylene Glyco...</td>\n",
       "      <td>6</td>\n",
       "    </tr>\n",
       "    <tr>\n",
       "      <th>15180</th>\n",
       "      <td>Whitening Source Clear Lotion</td>\n",
       "      <td>[Water, Dipropylene Glycol, Saccharomyces Ferm...</td>\n",
       "      <td>5</td>\n",
       "    </tr>\n",
       "    <tr>\n",
       "      <th>14876</th>\n",
       "      <td>Skin Signature Mask 3-D Redefining Mask</td>\n",
       "      <td>[Water, Saccharomyces Ferment Filtrate, Glycer...</td>\n",
       "      <td>5</td>\n",
       "    </tr>\n",
       "    <tr>\n",
       "      <th>4463</th>\n",
       "      <td>Fresh ?n Fair Skin Refresher</td>\n",
       "      <td>[Water, Alcohol Denat., Propylene Glycol, Glyc...</td>\n",
       "      <td>3</td>\n",
       "    </tr>\n",
       "  </tbody>\n",
       "</table>\n",
       "</div>"
      ],
      "text/plain": [
       "                                       product  \\\n",
       "14839                Facial Treatment Repair C   \n",
       "14515                    Facial Treatment Mask   \n",
       "3873               Advanced Eye Treatment Film   \n",
       "3473                    Ultimate Revival Serum   \n",
       "14951                       LXP Ultimate Serum   \n",
       "14629            Facial Treatment Clear Lotion   \n",
       "15103                   Pitera Mid-Day Essence   \n",
       "15180            Whitening Source Clear Lotion   \n",
       "14876  Skin Signature Mask 3-D Redefining Mask   \n",
       "4463              Fresh ?n Fair Skin Refresher   \n",
       "\n",
       "                                                 ingList  commonIng  \n",
       "14839  [Saccharomyces Ferment Filtrate, Water, Glycer...          6  \n",
       "14515  [Water, Saccharomyces Ferment Filtrate, Butyle...          4  \n",
       "3873   [Saccharomyces Ferment Filtrate, Water, Glycer...          6  \n",
       "3473   [Water, Saccharomyces Ferment Filtrate, Butyle...          6  \n",
       "14951  [Water, Saccharomyces Ferment Filtrate, Butyle...          6  \n",
       "14629  [Water, Saccharomyces Ferment Filtrate, Butyle...          5  \n",
       "15103  [Galactomyces Ferment Filtrate, Butylene Glyco...          6  \n",
       "15180  [Water, Dipropylene Glycol, Saccharomyces Ferm...          5  \n",
       "14876  [Water, Saccharomyces Ferment Filtrate, Glycer...          5  \n",
       "4463   [Water, Alcohol Denat., Propylene Glycol, Glyc...          3  "
      ]
     },
     "execution_count": 20,
     "metadata": {},
     "output_type": "execute_result"
    }
   ],
   "source": [
    "topTen"
   ]
  },
  {
   "cell_type": "markdown",
   "metadata": {},
   "source": [
    "## Average Overlap"
   ]
  },
  {
   "cell_type": "code",
   "execution_count": 34,
   "metadata": {},
   "outputs": [],
   "source": [
    "#df['ing#List'] = [ast.literal_eval(i) for i in df['ing#List']]\n",
    "indices = pd.Series(df.index, index=df['product']).drop_duplicates()\n",
    "idx = indices[product]\n",
    "\n",
    "itemLookup = df.loc[idx]['ing#List']\n",
    "items = df['ing#List']\n",
    "sim = [average_overlap(itemLookup,i) for i in items] ##change method here\n",
    "sim_scores = list(enumerate(sim))\n",
    "\n",
    "# Sort the products based on the similarity scores\n",
    "sim_scores = sorted(sim_scores, key=lambda x: x[1], reverse=True)\n",
    "\n",
    "# Get the scores of the 10 most similar products\n",
    "sim_scores = sim_scores[1:11]\n",
    "\n",
    "# Get the product indices\n",
    "product_indices = [i[0] for i in sim_scores]\n",
    "\n",
    "recommended = df[['product', 'ingList']].iloc[product_indices]\n",
    "\n",
    "topTen = pd.DataFrame(recommended)\n",
    "commonItems(product, topTen, df)\n",
    "recommended.to_csv('recommendations/AO.csv')"
   ]
  },
  {
   "cell_type": "code",
   "execution_count": 35,
   "metadata": {},
   "outputs": [
    {
     "data": {
      "text/html": [
       "<div>\n",
       "<table border=\"1\" class=\"dataframe\">\n",
       "  <thead>\n",
       "    <tr style=\"text-align: right;\">\n",
       "      <th></th>\n",
       "      <th>product</th>\n",
       "      <th>ingList</th>\n",
       "      <th>commonIng</th>\n",
       "    </tr>\n",
       "  </thead>\n",
       "  <tbody>\n",
       "    <tr>\n",
       "      <th>14839</th>\n",
       "      <td>Facial Treatment Repair C</td>\n",
       "      <td>[Saccharomyces Ferment Filtrate, Water, Glycer...</td>\n",
       "      <td>6</td>\n",
       "    </tr>\n",
       "    <tr>\n",
       "      <th>3873</th>\n",
       "      <td>Advanced Eye Treatment Film</td>\n",
       "      <td>[Saccharomyces Ferment Filtrate, Water, Glycer...</td>\n",
       "      <td>6</td>\n",
       "    </tr>\n",
       "    <tr>\n",
       "      <th>3473</th>\n",
       "      <td>Ultimate Revival Serum</td>\n",
       "      <td>[Water, Saccharomyces Ferment Filtrate, Butyle...</td>\n",
       "      <td>6</td>\n",
       "    </tr>\n",
       "    <tr>\n",
       "      <th>14951</th>\n",
       "      <td>LXP Ultimate Serum</td>\n",
       "      <td>[Water, Saccharomyces Ferment Filtrate, Butyle...</td>\n",
       "      <td>6</td>\n",
       "    </tr>\n",
       "    <tr>\n",
       "      <th>14515</th>\n",
       "      <td>Facial Treatment Mask</td>\n",
       "      <td>[Water, Saccharomyces Ferment Filtrate, Butyle...</td>\n",
       "      <td>4</td>\n",
       "    </tr>\n",
       "    <tr>\n",
       "      <th>7649</th>\n",
       "      <td>Sake Hydrating and Brightening Essence</td>\n",
       "      <td>[Saccharomyces Ferment Filtrate, Methyl Glucet...</td>\n",
       "      <td>4</td>\n",
       "    </tr>\n",
       "    <tr>\n",
       "      <th>1040</th>\n",
       "      <td>Cleanance Cleansing Water</td>\n",
       "      <td>[Water, Butylene Glycol, Pentylene Glycol, PEG...</td>\n",
       "      <td>3</td>\n",
       "    </tr>\n",
       "    <tr>\n",
       "      <th>2611</th>\n",
       "      <td>Instant Eye Makeup Remover</td>\n",
       "      <td>[Water, Butylene Glycol, Pentylene Glycol, PEG...</td>\n",
       "      <td>3</td>\n",
       "    </tr>\n",
       "    <tr>\n",
       "      <th>2640</th>\n",
       "      <td>Pore Milk</td>\n",
       "      <td>[Water, Butylene Glycol, Pentylene Glycol, Gly...</td>\n",
       "      <td>3</td>\n",
       "    </tr>\n",
       "    <tr>\n",
       "      <th>2711</th>\n",
       "      <td>Pore Lotion</td>\n",
       "      <td>[Water, Butylene Glycol, Pentylene Glycol, Gly...</td>\n",
       "      <td>3</td>\n",
       "    </tr>\n",
       "  </tbody>\n",
       "</table>\n",
       "</div>"
      ],
      "text/plain": [
       "                                      product  \\\n",
       "14839               Facial Treatment Repair C   \n",
       "3873              Advanced Eye Treatment Film   \n",
       "3473                   Ultimate Revival Serum   \n",
       "14951                      LXP Ultimate Serum   \n",
       "14515                   Facial Treatment Mask   \n",
       "7649   Sake Hydrating and Brightening Essence   \n",
       "1040                Cleanance Cleansing Water   \n",
       "2611               Instant Eye Makeup Remover   \n",
       "2640                                Pore Milk   \n",
       "2711                              Pore Lotion   \n",
       "\n",
       "                                                 ingList  commonIng  \n",
       "14839  [Saccharomyces Ferment Filtrate, Water, Glycer...          6  \n",
       "3873   [Saccharomyces Ferment Filtrate, Water, Glycer...          6  \n",
       "3473   [Water, Saccharomyces Ferment Filtrate, Butyle...          6  \n",
       "14951  [Water, Saccharomyces Ferment Filtrate, Butyle...          6  \n",
       "14515  [Water, Saccharomyces Ferment Filtrate, Butyle...          4  \n",
       "7649   [Saccharomyces Ferment Filtrate, Methyl Glucet...          4  \n",
       "1040   [Water, Butylene Glycol, Pentylene Glycol, PEG...          3  \n",
       "2611   [Water, Butylene Glycol, Pentylene Glycol, PEG...          3  \n",
       "2640   [Water, Butylene Glycol, Pentylene Glycol, Gly...          3  \n",
       "2711   [Water, Butylene Glycol, Pentylene Glycol, Gly...          3  "
      ]
     },
     "execution_count": 35,
     "metadata": {},
     "output_type": "execute_result"
    }
   ],
   "source": [
    "topTen"
   ]
  },
  {
   "cell_type": "markdown",
   "metadata": {},
   "source": [
    "## RBO similarity measure\n",
    "\n",
    "Based on code found [here](https://github.com/dlukes/rbo/blob/master/rbo.py)"
   ]
  },
  {
   "cell_type": "code",
   "execution_count": null,
   "metadata": {},
   "outputs": [],
   "source": [
    "df"
   ]
  },
  {
   "cell_type": "code",
   "execution_count": 23,
   "metadata": {},
   "outputs": [],
   "source": [
    "#%%time\n",
    "\n",
    "recommended = get_RBO_recommendations(df, product, rbo_min)\n",
    "topTen = pd.DataFrame(recommended)\n",
    "commonItems(product, topTen, df)\n",
    "recommended.to_csv('recommendations/RBO.csv')"
   ]
  },
  {
   "cell_type": "code",
   "execution_count": 24,
   "metadata": {},
   "outputs": [
    {
     "data": {
      "text/html": [
       "<div>\n",
       "<table border=\"1\" class=\"dataframe\">\n",
       "  <thead>\n",
       "    <tr style=\"text-align: right;\">\n",
       "      <th></th>\n",
       "      <th>product</th>\n",
       "      <th>ingList</th>\n",
       "      <th>commonIng</th>\n",
       "    </tr>\n",
       "  </thead>\n",
       "  <tbody>\n",
       "    <tr>\n",
       "      <th>2296</th>\n",
       "      <td>Time Revolution The First Treatment Essence In...</td>\n",
       "      <td>[Saccharomyces Ferment Filtrate, Bifida Fermen...</td>\n",
       "      <td>2</td>\n",
       "    </tr>\n",
       "    <tr>\n",
       "      <th>14839</th>\n",
       "      <td>Facial Treatment Repair C</td>\n",
       "      <td>[Saccharomyces Ferment Filtrate, Water, Glycer...</td>\n",
       "      <td>6</td>\n",
       "    </tr>\n",
       "    <tr>\n",
       "      <th>3873</th>\n",
       "      <td>Advanced Eye Treatment Film</td>\n",
       "      <td>[Saccharomyces Ferment Filtrate, Water, Glycer...</td>\n",
       "      <td>6</td>\n",
       "    </tr>\n",
       "    <tr>\n",
       "      <th>911</th>\n",
       "      <td>Time Revolution First Treatment Essence</td>\n",
       "      <td>[Saccharomyces Ferment Filtrate, Bifida Fermen...</td>\n",
       "      <td>4</td>\n",
       "    </tr>\n",
       "    <tr>\n",
       "      <th>2494</th>\n",
       "      <td>Time Revolution The First Treatment Essence (I...</td>\n",
       "      <td>[Saccharomyces Ferment Filtrate, Bifida Fermen...</td>\n",
       "      <td>4</td>\n",
       "    </tr>\n",
       "    <tr>\n",
       "      <th>7649</th>\n",
       "      <td>Sake Hydrating and Brightening Essence</td>\n",
       "      <td>[Saccharomyces Ferment Filtrate, Methyl Glucet...</td>\n",
       "      <td>4</td>\n",
       "    </tr>\n",
       "    <tr>\n",
       "      <th>14660</th>\n",
       "      <td>First Treatment Essence Mask</td>\n",
       "      <td>[Saccharomyces Ferment Filtrate, Water, Propan...</td>\n",
       "      <td>3</td>\n",
       "    </tr>\n",
       "    <tr>\n",
       "      <th>7846</th>\n",
       "      <td>Original Tube</td>\n",
       "      <td>[Petrolatum, Lanolin, Cetyl Esters, Theobroma ...</td>\n",
       "      <td>0</td>\n",
       "    </tr>\n",
       "    <tr>\n",
       "      <th>10949</th>\n",
       "      <td>Saemmul Kiss Lip Balm</td>\n",
       "      <td>[Petrolatum, Ceresin, Hydrogenated Polyisobute...</td>\n",
       "      <td>2</td>\n",
       "    </tr>\n",
       "    <tr>\n",
       "      <th>2465</th>\n",
       "      <td>Bio Essence Intensive Conditioning</td>\n",
       "      <td>[Saccharomyces Ferment Filtrate, Niacinamide, ...</td>\n",
       "      <td>2</td>\n",
       "    </tr>\n",
       "  </tbody>\n",
       "</table>\n",
       "</div>"
      ],
      "text/plain": [
       "                                                 product  \\\n",
       "2296   Time Revolution The First Treatment Essence In...   \n",
       "14839                          Facial Treatment Repair C   \n",
       "3873                         Advanced Eye Treatment Film   \n",
       "911              Time Revolution First Treatment Essence   \n",
       "2494   Time Revolution The First Treatment Essence (I...   \n",
       "7649              Sake Hydrating and Brightening Essence   \n",
       "14660                       First Treatment Essence Mask   \n",
       "7846                                       Original Tube   \n",
       "10949                              Saemmul Kiss Lip Balm   \n",
       "2465                  Bio Essence Intensive Conditioning   \n",
       "\n",
       "                                                 ingList  commonIng  \n",
       "2296   [Saccharomyces Ferment Filtrate, Bifida Fermen...          2  \n",
       "14839  [Saccharomyces Ferment Filtrate, Water, Glycer...          6  \n",
       "3873   [Saccharomyces Ferment Filtrate, Water, Glycer...          6  \n",
       "911    [Saccharomyces Ferment Filtrate, Bifida Fermen...          4  \n",
       "2494   [Saccharomyces Ferment Filtrate, Bifida Fermen...          4  \n",
       "7649   [Saccharomyces Ferment Filtrate, Methyl Glucet...          4  \n",
       "14660  [Saccharomyces Ferment Filtrate, Water, Propan...          3  \n",
       "7846   [Petrolatum, Lanolin, Cetyl Esters, Theobroma ...          0  \n",
       "10949  [Petrolatum, Ceresin, Hydrogenated Polyisobute...          2  \n",
       "2465   [Saccharomyces Ferment Filtrate, Niacinamide, ...          2  "
      ]
     },
     "execution_count": 24,
     "metadata": {},
     "output_type": "execute_result"
    }
   ],
   "source": [
    "topTen"
   ]
  },
  {
   "cell_type": "code",
   "execution_count": null,
   "metadata": {},
   "outputs": [],
   "source": []
  }
 ],
 "metadata": {
  "kernelspec": {
   "display_name": "Python 3",
   "language": "python",
   "name": "python3"
  },
  "language_info": {
   "codemirror_mode": {
    "name": "ipython",
    "version": 3
   },
   "file_extension": ".py",
   "mimetype": "text/x-python",
   "name": "python",
   "nbconvert_exporter": "python",
   "pygments_lexer": "ipython3",
   "version": "3.6.0"
  }
 },
 "nbformat": 4,
 "nbformat_minor": 2
}
