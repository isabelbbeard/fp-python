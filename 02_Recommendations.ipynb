{
 "cells": [
  {
   "cell_type": "code",
   "execution_count": 428,
   "metadata": {},
   "outputs": [],
   "source": [
    "import pandas as pd\n",
    "import numpy as np\n",
    "\n",
    "from RBO import *\n",
    "from getRecommendations import *\n",
    "from dataPrep import *\n",
    "from sklearn.metrics import *\n",
    "from scipy.stats impo9rt linregress\n",
    "\n",
    "from sklearn.metrics.pairwise import *"
   ]
  },
  {
   "cell_type": "markdown",
   "metadata": {},
   "source": [
    "# Read csvs"
   ]
  },
  {
   "cell_type": "markdown",
   "metadata": {},
   "source": [
    "These are the csv's we cleaned up and combined in step 01. "
   ]
  },
  {
   "cell_type": "code",
   "execution_count": 429,
   "metadata": {},
   "outputs": [
    {
     "name": "stdout",
     "output_type": "stream",
     "text": [
      "Number of products df:  15945\n",
      "Number of unique ingredients:  6899\n",
      "Number of total ingredients:  446618\n",
      "Wall time: 7.23 s\n"
     ]
    }
   ],
   "source": [
    "%%time\n",
    "ings = pd.read_csv('data/ings.csv', encoding = \"ISO-8859-1\", index_col=0)\n",
    "#prods = prods.drop_duplicates(subset = 'product')\n",
    "prods = pd.read_csv('data/prods.csv', encoding = \"ISO-8859-1\", index_col=0)\n",
    "#prods = prods.drop_duplicates(subset = 'product')\n",
    "prod_ing = pd.read_csv('data/prod_ing.csv', encoding = \"ISO-8859-1\", index_col=0)\n",
    "prod_ing = prod_ing.drop(['diff'], axis = 1)\n",
    "#prod_ing = prod_ing.sort_values(['id', 'order'])\n",
    "df = dataPrep(ings, prods, prod_ing)\n",
    "\n",
    "print('Number of products df: ', len(df))\n",
    "print('Number of unique ingredients: ', len(ings))\n",
    "print('Number of total ingredients: ', len(prod_ing))"
   ]
  },
  {
   "cell_type": "code",
   "execution_count": 364,
   "metadata": {},
   "outputs": [
    {
     "name": "stdout",
     "output_type": "stream",
     "text": [
      "Wall time: 21.8 s\n"
     ]
    }
   ],
   "source": [
    "%%time\n",
    "##Long dataframes\n",
    "df2_A = pd.read_csv('data/prodIng_Wide_01.csv', index_col=0)\n",
    "df2_B = pd.read_csv('data/prodIng_Wide_02.csv', index_col=0)\n",
    "df2_C = pd.read_csv('data/prodIng_Wide_03.csv', index_col=0)\n",
    "frames = [df2_A, df2_B, df2_C]\n",
    "df2 = pd.concat(frames)\n",
    "df2 = df2.T"
   ]
  },
  {
   "cell_type": "markdown",
   "metadata": {},
   "source": [
    "# GET RECOMMENDATIONS\n"
   ]
  },
  {
   "cell_type": "code",
   "execution_count": 486,
   "metadata": {},
   "outputs": [
    {
     "name": "stdout",
     "output_type": "stream",
     "text": [
      "Product: Facial Treatment Essence\n",
      "Brand: SK-II\n",
      "Id: 1961\n",
      "Number of ingredients: 7\n",
      "Ingredients ['Saccharomyces Ferment Filtrate', 'Butylene Glycol', 'Pentylene Glycol', 'Water', 'Sodium Benzoate', 'Methylparaben', 'Sorbic Acid']\n"
     ]
    }
   ],
   "source": [
    "product ='Facial Treatment Essence'\n",
    "\n",
    "##get indices of all products\n",
    "indices = pd.Series(df.index, index=df['product'])#.drop_duplicates()\n",
    "##find index of specified product\n",
    "idx = indices[product]\n",
    "\n",
    "print('Product:', df.iloc[idx]['product'])\n",
    "print('Brand:', df.iloc[idx]['brand'])\n",
    "print('Id:', idx)\n",
    "print('Number of ingredients:', df.iloc[idx]['ingCount'])\n",
    "print('Ingredients', df.iloc[idx]['ingList'])"
   ]
  },
  {
   "cell_type": "markdown",
   "metadata": {},
   "source": [
    "#### Find product id with name"
   ]
  },
  {
   "cell_type": "code",
   "execution_count": 440,
   "metadata": {},
   "outputs": [
    {
     "name": "stdout",
     "output_type": "stream",
     "text": [
      "Product: Intensive Healing Cream Daily Fragrance-Free Cream\n",
      "Brand: Curel\n",
      "Id: 3671\n",
      "Number of ingredients: 21\n",
      "Ingredients ['Water', 'Mineral Oil', 'Petrolatum', 'Glycerin', 'Microcrystalline Wax', 'Cetyl PEG/PPG-10/1 Dimethicone', 'Hydrogenated Castor Oil', 'Glyceryl Dilaurate', 'Paraffin', 'Dimethicone', 'Cetyl-PG Hydroxyethyl Palmitamide', 'Magnesium Stearate', 'Isopropyl Myristate', 'Magnesium Sulfate', 'Glyceryl Oleate', 'Ethoxydiglycol', 'DMDM Hydantoin', 'Methylparaben', 'Butylene Glycol', 'Eucalyptus Globulus Leaf Extract', 'Propylparaben']\n"
     ]
    }
   ],
   "source": [
    "product_find = 'Intensive Healing Cream Daily Fragrance-Free Cream'\n",
    "idx_2 = indices[product_find]\n",
    "#idReturn = row.index.item()\n",
    "\n",
    "print('Product:', df.iloc[idx_2]['product'])\n",
    "print('Brand:', df.iloc[idx_2]['brand'])\n",
    "print('Id:', idx_2)\n",
    "print('Number of ingredients:', df.iloc[idx_2]['ingCount'])\n",
    "print('Ingredients', df.iloc[idx_2]['ingList'])"
   ]
  },
  {
   "cell_type": "code",
   "execution_count": 312,
   "metadata": {},
   "outputs": [
    {
     "data": {
      "text/plain": [
       "4350"
      ]
     },
     "execution_count": 312,
     "metadata": {},
     "output_type": "execute_result"
    }
   ],
   "source": [
    "idx_2"
   ]
  },
  {
   "cell_type": "markdown",
   "metadata": {},
   "source": [
    "## Cosine similarity"
   ]
  },
  {
   "cell_type": "markdown",
   "metadata": {},
   "source": [
    "Reference [here](https://www.datacamp.com/community/tutorials/recommender-systems-python)"
   ]
  },
  {
   "cell_type": "markdown",
   "metadata": {},
   "source": [
    "### Create dataframe of top ten similar products"
   ]
  },
  {
   "cell_type": "code",
   "execution_count": 450,
   "metadata": {},
   "outputs": [
    {
     "name": "stdout",
     "output_type": "stream",
     "text": [
      "Wall time: 33.6 s\n"
     ]
    }
   ],
   "source": [
    "%%time\n",
    "column = 'product'\n",
    "# Get the index of the product that matches the product name\n",
    "df['ing#List'] = df['ing#List'].astype(str)\n",
    "tfidf = TfidfVectorizer(binary = True, stop_words = None)\n",
    "tfidf_matrix = tfidf.fit_transform(df['ing#List'])\n",
    "cosine_sim = cosine_similarity(tfidf_matrix, tfidf_matrix)\n",
    "\n",
    "indices = pd.Series(df.index, index=df[column]).drop_duplicates()\n",
    "idx = indices[product]\n",
    "\n",
    "# Get the pairwsie similarity scores of all products with that product\n",
    "sim_scores_all = list(enumerate(cosine_sim[idx]))\n",
    "\n",
    "# Sort the products based on the similarity scores\n",
    "sim_scores_sorted = sorted(sim_scores_all, key=lambda x: x[1], reverse=True)\n",
    "\n",
    "# Get the scores of the 10 most similar products\n",
    "sim_scores_ten = sim_scores_sorted[1:11]\n",
    "\n",
    "# Get the product indices\n",
    "product_indices = [i[0] for i in sim_scores_ten]\n",
    "\n",
    "# Return the top 10 most similar products and their ingredients\n",
    "#return df[['product', 'brand','ingList']].iloc[product_indices]\n",
    "\n",
    "recommended = df[['product', 'brand','ingList']].iloc[product_indices]"
   ]
  },
  {
   "cell_type": "markdown",
   "metadata": {},
   "source": [
    "### Show top ten"
   ]
  },
  {
   "cell_type": "code",
   "execution_count": 451,
   "metadata": {},
   "outputs": [
    {
     "data": {
      "text/html": [
       "<div>\n",
       "<table border=\"1\" class=\"dataframe\">\n",
       "  <thead>\n",
       "    <tr style=\"text-align: right;\">\n",
       "      <th></th>\n",
       "      <th>index</th>\n",
       "      <th>product</th>\n",
       "      <th>brand</th>\n",
       "      <th>ingList</th>\n",
       "      <th>commonIng</th>\n",
       "    </tr>\n",
       "  </thead>\n",
       "  <tbody>\n",
       "    <tr>\n",
       "      <th>0</th>\n",
       "      <td>2927</td>\n",
       "      <td>The Oil Absorbing Lotion</td>\n",
       "      <td>La Mer</td>\n",
       "      <td>[Algae Extract, Butylene Glycol, Squalane, Pro...</td>\n",
       "      <td>24</td>\n",
       "    </tr>\n",
       "    <tr>\n",
       "      <th>1</th>\n",
       "      <td>4427</td>\n",
       "      <td>The Moisturizing Gel Cream</td>\n",
       "      <td>La Mer</td>\n",
       "      <td>[Algae Extract, Cyclopentasiloxane, Butylene G...</td>\n",
       "      <td>22</td>\n",
       "    </tr>\n",
       "    <tr>\n",
       "      <th>2</th>\n",
       "      <td>2843</td>\n",
       "      <td>The Mist</td>\n",
       "      <td>La Mer</td>\n",
       "      <td>[Water, Butylene Glycol, Glycerin, Sucrose, Al...</td>\n",
       "      <td>19</td>\n",
       "    </tr>\n",
       "    <tr>\n",
       "      <th>3</th>\n",
       "      <td>2703</td>\n",
       "      <td>The Moisturizing Lotion</td>\n",
       "      <td>La Mer</td>\n",
       "      <td>[Algae Extract, Cyclopentasiloxane, Glyceryl D...</td>\n",
       "      <td>25</td>\n",
       "    </tr>\n",
       "    <tr>\n",
       "      <th>4</th>\n",
       "      <td>3947</td>\n",
       "      <td>The Brightening Infusion Intense</td>\n",
       "      <td>La Mer</td>\n",
       "      <td>[Water, Alcohol Denat., Yeast Extract, Methyl ...</td>\n",
       "      <td>24</td>\n",
       "    </tr>\n",
       "    <tr>\n",
       "      <th>5</th>\n",
       "      <td>270</td>\n",
       "      <td>Creme</td>\n",
       "      <td>Nivea</td>\n",
       "      <td>[Water, Mineral Oil, Petrolatum, Glycerin, Mic...</td>\n",
       "      <td>15</td>\n",
       "    </tr>\n",
       "    <tr>\n",
       "      <th>6</th>\n",
       "      <td>4217</td>\n",
       "      <td>The Brightening Lotion Intense</td>\n",
       "      <td>La Mer</td>\n",
       "      <td>[Water, Yeast Extract, Isopentyldiol, Ascorbyl...</td>\n",
       "      <td>22</td>\n",
       "    </tr>\n",
       "    <tr>\n",
       "      <th>7</th>\n",
       "      <td>4380</td>\n",
       "      <td>The Brightening Essence Intense</td>\n",
       "      <td>La Mer</td>\n",
       "      <td>[Water, Dimethicone, Trisiloxane, Yeast Extrac...</td>\n",
       "      <td>22</td>\n",
       "    </tr>\n",
       "    <tr>\n",
       "      <th>8</th>\n",
       "      <td>12571</td>\n",
       "      <td>Brilliance Brightening Lotion Intense</td>\n",
       "      <td>La Mer</td>\n",
       "      <td>[Water, Yeast Extract, Isopentyldiol, Ascorbyl...</td>\n",
       "      <td>21</td>\n",
       "    </tr>\n",
       "    <tr>\n",
       "      <th>9</th>\n",
       "      <td>4534</td>\n",
       "      <td>The Concentrate</td>\n",
       "      <td>La Mer</td>\n",
       "      <td>[Cyclopentasiloxane, Algae Extract, Glycerin, ...</td>\n",
       "      <td>17</td>\n",
       "    </tr>\n",
       "  </tbody>\n",
       "</table>\n",
       "</div>"
      ],
      "text/plain": [
       "   index                                product   brand  \\\n",
       "0   2927               The Oil Absorbing Lotion  La Mer   \n",
       "1   4427             The Moisturizing Gel Cream  La Mer   \n",
       "2   2843                               The Mist  La Mer   \n",
       "3   2703                The Moisturizing Lotion  La Mer   \n",
       "4   3947       The Brightening Infusion Intense  La Mer   \n",
       "5    270                                  Creme   Nivea   \n",
       "6   4217         The Brightening Lotion Intense  La Mer   \n",
       "7   4380        The Brightening Essence Intense  La Mer   \n",
       "8  12571  Brilliance Brightening Lotion Intense  La Mer   \n",
       "9   4534                        The Concentrate  La Mer   \n",
       "\n",
       "                                             ingList  commonIng  \n",
       "0  [Algae Extract, Butylene Glycol, Squalane, Pro...         24  \n",
       "1  [Algae Extract, Cyclopentasiloxane, Butylene G...         22  \n",
       "2  [Water, Butylene Glycol, Glycerin, Sucrose, Al...         19  \n",
       "3  [Algae Extract, Cyclopentasiloxane, Glyceryl D...         25  \n",
       "4  [Water, Alcohol Denat., Yeast Extract, Methyl ...         24  \n",
       "5  [Water, Mineral Oil, Petrolatum, Glycerin, Mic...         15  \n",
       "6  [Water, Yeast Extract, Isopentyldiol, Ascorbyl...         22  \n",
       "7  [Water, Dimethicone, Trisiloxane, Yeast Extrac...         22  \n",
       "8  [Water, Yeast Extract, Isopentyldiol, Ascorbyl...         21  \n",
       "9  [Cyclopentasiloxane, Algae Extract, Glycerin, ...         17  "
      ]
     },
     "execution_count": 451,
     "metadata": {},
     "output_type": "execute_result"
    }
   ],
   "source": [
    "topTen = pd.DataFrame(recommended)\n",
    "commonItems(product, topTen, df)\n",
    "#recommended.to_csv('recommendations/COS.csv')\n",
    "topTen.reset_index()"
   ]
  },
  {
   "cell_type": "markdown",
   "metadata": {},
   "source": [
    "### Find specific product similarity"
   ]
  },
  {
   "cell_type": "code",
   "execution_count": 461,
   "metadata": {},
   "outputs": [
    {
     "name": "stdout",
     "output_type": "stream",
     "text": [
      "Cosine Similarity\n",
      "---------------------------------------------------------------\n",
      "Product: Black Sea Deep Hydration Cream\n",
      "Similarity score: 0.312170192438\n",
      "Rank: 18\n",
      "Number of Ingredients 46\n",
      "Number of Common Ingredients 20\n",
      "Ingredients ['Mineral Oil', 'Hydrogenated Vegetable Oil', 'Isohexadecane', 'Microcrystalline Wax', 'Glycerin', 'Cocoglycerides', 'Fragrance', 'Paraffin', 'Cetearyl Alcohol', 'Aluminum Tristearate', 'Panthenol', 'Corylus Avellana (Hazel) Seed Oil', 'Magnesium Aspartate', 'Zinc Gluconate', 'Copper Gluconate', 'Phospholipids', 'Retinyl Palmitate (Vitamin A', 'Tocopherol (Vitamin E', 'Ascorbyl Palmitate', 'Beta-Carotene', 'Magnesium Sulfate', 'Lamium Album Extract', 'Tripleurospermum Maritima Extract', 'Hydrolyzed Pea Protein', 'Lecithin', 'Olea Europaea (Olive) Fruit Oil', 'Phytosterols', 'Squalane', 'Butyrospermum Parkii (Shea) Butter', 'Ceramide 3', 'SD Alcohol 40', 'Polysorbate 60', 'Propylene Glycol', 'Water', 'Benzyl Benzoate', 'Benzyl Salicylate', 'Citral', 'Citronellol', 'Geraniol', 'Hydroxycitronellal', 'Hydroxyisohexyl 3-Cyclohexene Carboxaldehyde', 'Limonene', 'Linalool', 'Methylchloroisothiazolinone', 'Methylisothiazolinone', 'Titanium Dioxide']\n"
     ]
    }
   ],
   "source": [
    "prod_search_id = 13566\n",
    "sims = [v for i, v in enumerate(sim_scores_all) if v[0] == prod_search_id]\n",
    "\n",
    "sim_df = pd.DataFrame(sim_scores_all, columns=['index', 'score']).sort_values(['score'], ascending = False).reset_index().drop(['level_0'], axis = 1)\n",
    "index_return = sim_df[sim_df['index'] == prod_search_id].index.item() \n",
    "\n",
    "list1 = df.loc[idx]['ingList']\n",
    "list2 = df.loc[prod_search_id]['ingList']\n",
    "\n",
    "print('Cosine Similarity')\n",
    "print('---------------------------------------------------------------')\n",
    "print('Product:', df.iloc[prod_search_id]['product'])\n",
    "print('Similarity score:', sims[0][1])\n",
    "print('Rank:', index_return)\n",
    "print('Number of Ingredients', df.iloc[prod_search_id]['ingCount'])\n",
    "print('Number of Common Ingredients', len(set(list1)&set(list2)))\n",
    "print('Ingredients', df.iloc[prod_search_id]['ingList'])"
   ]
  },
  {
   "cell_type": "markdown",
   "metadata": {},
   "source": [
    "## RBO similarity measure\n",
    "\n",
    "Based on code found [here](https://github.com/dlukes/rbo/blob/master/rbo.py)"
   ]
  },
  {
   "cell_type": "markdown",
   "metadata": {},
   "source": [
    "### Create dataframe of top ten similar products"
   ]
  },
  {
   "cell_type": "code",
   "execution_count": 462,
   "metadata": {},
   "outputs": [
    {
     "name": "stdout",
     "output_type": "stream",
     "text": [
      "Wall time: 21.9 s\n"
     ]
    }
   ],
   "source": [
    "%%time\n",
    "\n",
    "df = dataPrep(ings, prods, prod_ing)\n",
    "##Set the rbo we want to use\n",
    "rbo = rbo_min\n",
    "\n",
    "itemLookup = df.loc[idx]['ing#List']\n",
    "items = df['ing#List']\n",
    "sim = [rbo(itemLookup,i, .9) for i in items] ##change method here\n",
    "\n",
    "sim_scores_all = list(enumerate(sim))\n",
    "\n",
    "# Sort the products based on the similarity scores\n",
    "sim_scores_sorted = sorted(sim_scores_all, key=lambda x: x[1], reverse=True)\n",
    "\n",
    "# Get the scores of the 10 most similar products\n",
    "sim_scores_ten = sim_scores_sorted[1:11]\n",
    "\n",
    "# Get the product indices\n",
    "product_indices = [i[0] for i in sim_scores_ten]\n",
    "\n",
    "recommended = df[['product', 'brand','ingList']].iloc[product_indices]"
   ]
  },
  {
   "cell_type": "markdown",
   "metadata": {},
   "source": [
    "### Show top ten"
   ]
  },
  {
   "cell_type": "code",
   "execution_count": 463,
   "metadata": {},
   "outputs": [
    {
     "data": {
      "text/html": [
       "<div>\n",
       "<table border=\"1\" class=\"dataframe\">\n",
       "  <thead>\n",
       "    <tr style=\"text-align: right;\">\n",
       "      <th></th>\n",
       "      <th>index</th>\n",
       "      <th>product</th>\n",
       "      <th>brand</th>\n",
       "      <th>ingList</th>\n",
       "      <th>commonIng</th>\n",
       "    </tr>\n",
       "  </thead>\n",
       "  <tbody>\n",
       "    <tr>\n",
       "      <th>0</th>\n",
       "      <td>4427</td>\n",
       "      <td>The Moisturizing Gel Cream</td>\n",
       "      <td>La Mer</td>\n",
       "      <td>[Algae Extract, Cyclopentasiloxane, Butylene G...</td>\n",
       "      <td>22</td>\n",
       "    </tr>\n",
       "    <tr>\n",
       "      <th>1</th>\n",
       "      <td>2763</td>\n",
       "      <td>Intense Moisturizing Cream</td>\n",
       "      <td>Mary Kay</td>\n",
       "      <td>[Water, Mineral Oil, Glycerin, Petrolatum, Iso...</td>\n",
       "      <td>10</td>\n",
       "    </tr>\n",
       "    <tr>\n",
       "      <th>2</th>\n",
       "      <td>270</td>\n",
       "      <td>Creme</td>\n",
       "      <td>Nivea</td>\n",
       "      <td>[Water, Mineral Oil, Petrolatum, Glycerin, Mic...</td>\n",
       "      <td>15</td>\n",
       "    </tr>\n",
       "    <tr>\n",
       "      <th>3</th>\n",
       "      <td>3581</td>\n",
       "      <td>The Moisturizing Soft Cream</td>\n",
       "      <td>La Mer</td>\n",
       "      <td>[Algae Extract, Cyclopentasiloxane, Petrolatum...</td>\n",
       "      <td>23</td>\n",
       "    </tr>\n",
       "    <tr>\n",
       "      <th>4</th>\n",
       "      <td>3671</td>\n",
       "      <td>Intensive Healing Cream Daily Fragrance-Free C...</td>\n",
       "      <td>Curel</td>\n",
       "      <td>[Water, Mineral Oil, Petrolatum, Glycerin, Mic...</td>\n",
       "      <td>7</td>\n",
       "    </tr>\n",
       "    <tr>\n",
       "      <th>5</th>\n",
       "      <td>855</td>\n",
       "      <td>Dramatically Different Moisturizing Lotion+ wi...</td>\n",
       "      <td>Clinique</td>\n",
       "      <td>[Water, Mineral Oil, Glycerin, Petrolatum, Ste...</td>\n",
       "      <td>6</td>\n",
       "    </tr>\n",
       "    <tr>\n",
       "      <th>6</th>\n",
       "      <td>2927</td>\n",
       "      <td>The Oil Absorbing Lotion</td>\n",
       "      <td>La Mer</td>\n",
       "      <td>[Algae Extract, Butylene Glycol, Squalane, Pro...</td>\n",
       "      <td>24</td>\n",
       "    </tr>\n",
       "    <tr>\n",
       "      <th>7</th>\n",
       "      <td>2735</td>\n",
       "      <td>The Eye Concentrate</td>\n",
       "      <td>La Mer</td>\n",
       "      <td>[Algae Extract, Cyclopentasiloxane, Glycerin, ...</td>\n",
       "      <td>17</td>\n",
       "    </tr>\n",
       "    <tr>\n",
       "      <th>8</th>\n",
       "      <td>2703</td>\n",
       "      <td>The Moisturizing Lotion</td>\n",
       "      <td>La Mer</td>\n",
       "      <td>[Algae Extract, Cyclopentasiloxane, Glyceryl D...</td>\n",
       "      <td>25</td>\n",
       "    </tr>\n",
       "    <tr>\n",
       "      <th>9</th>\n",
       "      <td>13566</td>\n",
       "      <td>Black Sea Deep Hydration Cream</td>\n",
       "      <td>Edward Bess</td>\n",
       "      <td>[Mineral Oil, Hydrogenated Vegetable Oil, Isoh...</td>\n",
       "      <td>20</td>\n",
       "    </tr>\n",
       "  </tbody>\n",
       "</table>\n",
       "</div>"
      ],
      "text/plain": [
       "   index                                            product        brand  \\\n",
       "0   4427                         The Moisturizing Gel Cream       La Mer   \n",
       "1   2763                         Intense Moisturizing Cream     Mary Kay   \n",
       "2    270                                              Creme        Nivea   \n",
       "3   3581                        The Moisturizing Soft Cream       La Mer   \n",
       "4   3671  Intensive Healing Cream Daily Fragrance-Free C...        Curel   \n",
       "5    855  Dramatically Different Moisturizing Lotion+ wi...     Clinique   \n",
       "6   2927                           The Oil Absorbing Lotion       La Mer   \n",
       "7   2735                                The Eye Concentrate       La Mer   \n",
       "8   2703                            The Moisturizing Lotion       La Mer   \n",
       "9  13566                     Black Sea Deep Hydration Cream  Edward Bess   \n",
       "\n",
       "                                             ingList  commonIng  \n",
       "0  [Algae Extract, Cyclopentasiloxane, Butylene G...         22  \n",
       "1  [Water, Mineral Oil, Glycerin, Petrolatum, Iso...         10  \n",
       "2  [Water, Mineral Oil, Petrolatum, Glycerin, Mic...         15  \n",
       "3  [Algae Extract, Cyclopentasiloxane, Petrolatum...         23  \n",
       "4  [Water, Mineral Oil, Petrolatum, Glycerin, Mic...          7  \n",
       "5  [Water, Mineral Oil, Glycerin, Petrolatum, Ste...          6  \n",
       "6  [Algae Extract, Butylene Glycol, Squalane, Pro...         24  \n",
       "7  [Algae Extract, Cyclopentasiloxane, Glycerin, ...         17  \n",
       "8  [Algae Extract, Cyclopentasiloxane, Glyceryl D...         25  \n",
       "9  [Mineral Oil, Hydrogenated Vegetable Oil, Isoh...         20  "
      ]
     },
     "execution_count": 463,
     "metadata": {},
     "output_type": "execute_result"
    }
   ],
   "source": [
    "topTen = pd.DataFrame(recommended)\n",
    "commonItems(product, topTen, df)\n",
    "#recommended.to_csv('recommendations/RBO.csv')\n",
    "topTen.reset_index()"
   ]
  },
  {
   "cell_type": "markdown",
   "metadata": {},
   "source": [
    "### Find specific product similarity"
   ]
  },
  {
   "cell_type": "code",
   "execution_count": 470,
   "metadata": {},
   "outputs": [
    {
     "name": "stdout",
     "output_type": "stream",
     "text": [
      "RBO Similarity\n",
      "---------------------------------------------------------------\n",
      "Product: Black Sea Deep Hydration Cream\n",
      "Similarity score: 0.3551992038899179\n",
      "Rank: 10\n"
     ]
    }
   ],
   "source": [
    "prod_search_id = 13566\n",
    "sims = [v for i, v in enumerate(sim_scores_all) if v[0] == prod_search_id]\n",
    "\n",
    "sim_df = pd.DataFrame(sim_scores_all, columns=['index', 'score']).sort_values(['score'], ascending = False).reset_index().drop(['level_0'], axis = 1)\n",
    "index_return = sim_df[sim_df['index'] == prod_search_id].index.item() \n",
    "\n",
    "list1 = df.loc[idx]['ingList']\n",
    "list2 = df.loc[prod_search_id]['ingList']\n",
    "\n",
    "print('RBO Similarity')\n",
    "print('---------------------------------------------------------------')\n",
    "print('Product:', df.iloc[prod_search_id]['product'])\n",
    "print('Similarity score:', sims[0][1])\n",
    "print('Rank:', index_return)\n",
    "#print('Number of Ingredients', df.iloc[prod_search_id]['ingCount'])\n",
    "#print('Number of Common Ingredients', len(set(list1)&set(list2)))\n",
    "#print('Ingredients', df.iloc[prod_search_id]['ingList'])"
   ]
  },
  {
   "cell_type": "markdown",
   "metadata": {},
   "source": [
    "## R value\n",
    "Reference [here](https://docs.scipy.org/doc/scipy-0.14.0/reference/generated/scipy.stats.linregress.html)"
   ]
  },
  {
   "cell_type": "code",
   "execution_count": 471,
   "metadata": {},
   "outputs": [
    {
     "name": "stdout",
     "output_type": "stream",
     "text": [
      "Wall time: 1min 1s\n"
     ]
    }
   ],
   "source": [
    "%%time\n",
    "#get linregress similarity and return r-value\n",
    "sim = [linregress(df2[idx], df2[i])[2] for i in df2]\n",
    "\n",
    "##collect all similarity scores (r_val)\n",
    "sim_scores_all = list(enumerate(sim))\n",
    "\n",
    "# Sort the products based on the similarity scores\n",
    "sim_scores_sorted = sorted(sim_scores_all, key=lambda x: x[1], reverse=True)\n",
    "#df['scores'] = [sim_scores[i][1] for i in sim_scores]\n",
    "\n",
    "# Get the scores of the 10 most similar products\n",
    "sim_scores_ten = sim_scores_sorted[1:11]\n",
    "\n",
    "# Get the product indices\n",
    "product_indices = [i[0] for i in sim_scores_ten]\n",
    "\n",
    "recommended = df[['product', 'brand','ingList']].iloc[product_indices]"
   ]
  },
  {
   "cell_type": "markdown",
   "metadata": {},
   "source": [
    "### Return top ten"
   ]
  },
  {
   "cell_type": "code",
   "execution_count": 472,
   "metadata": {},
   "outputs": [
    {
     "data": {
      "text/html": [
       "<div>\n",
       "<table border=\"1\" class=\"dataframe\">\n",
       "  <thead>\n",
       "    <tr style=\"text-align: right;\">\n",
       "      <th></th>\n",
       "      <th>index</th>\n",
       "      <th>product</th>\n",
       "      <th>brand</th>\n",
       "      <th>ingList</th>\n",
       "      <th>commonIng</th>\n",
       "    </tr>\n",
       "  </thead>\n",
       "  <tbody>\n",
       "    <tr>\n",
       "      <th>0</th>\n",
       "      <td>270</td>\n",
       "      <td>Creme</td>\n",
       "      <td>Nivea</td>\n",
       "      <td>[Water, Mineral Oil, Petrolatum, Glycerin, Mic...</td>\n",
       "      <td>15</td>\n",
       "    </tr>\n",
       "    <tr>\n",
       "      <th>1</th>\n",
       "      <td>2927</td>\n",
       "      <td>The Oil Absorbing Lotion</td>\n",
       "      <td>La Mer</td>\n",
       "      <td>[Algae Extract, Butylene Glycol, Squalane, Pro...</td>\n",
       "      <td>24</td>\n",
       "    </tr>\n",
       "    <tr>\n",
       "      <th>2</th>\n",
       "      <td>4427</td>\n",
       "      <td>The Moisturizing Gel Cream</td>\n",
       "      <td>La Mer</td>\n",
       "      <td>[Algae Extract, Cyclopentasiloxane, Butylene G...</td>\n",
       "      <td>22</td>\n",
       "    </tr>\n",
       "    <tr>\n",
       "      <th>3</th>\n",
       "      <td>2703</td>\n",
       "      <td>The Moisturizing Lotion</td>\n",
       "      <td>La Mer</td>\n",
       "      <td>[Algae Extract, Cyclopentasiloxane, Glyceryl D...</td>\n",
       "      <td>25</td>\n",
       "    </tr>\n",
       "    <tr>\n",
       "      <th>4</th>\n",
       "      <td>2843</td>\n",
       "      <td>The Mist</td>\n",
       "      <td>La Mer</td>\n",
       "      <td>[Water, Butylene Glycol, Glycerin, Sucrose, Al...</td>\n",
       "      <td>19</td>\n",
       "    </tr>\n",
       "    <tr>\n",
       "      <th>5</th>\n",
       "      <td>3947</td>\n",
       "      <td>The Brightening Infusion Intense</td>\n",
       "      <td>La Mer</td>\n",
       "      <td>[Water, Alcohol Denat., Yeast Extract, Methyl ...</td>\n",
       "      <td>24</td>\n",
       "    </tr>\n",
       "    <tr>\n",
       "      <th>6</th>\n",
       "      <td>4217</td>\n",
       "      <td>The Brightening Lotion Intense</td>\n",
       "      <td>La Mer</td>\n",
       "      <td>[Water, Yeast Extract, Isopentyldiol, Ascorbyl...</td>\n",
       "      <td>22</td>\n",
       "    </tr>\n",
       "    <tr>\n",
       "      <th>7</th>\n",
       "      <td>12571</td>\n",
       "      <td>Brilliance Brightening Lotion Intense</td>\n",
       "      <td>La Mer</td>\n",
       "      <td>[Water, Yeast Extract, Isopentyldiol, Ascorbyl...</td>\n",
       "      <td>21</td>\n",
       "    </tr>\n",
       "    <tr>\n",
       "      <th>8</th>\n",
       "      <td>13566</td>\n",
       "      <td>Black Sea Deep Hydration Cream</td>\n",
       "      <td>Edward Bess</td>\n",
       "      <td>[Mineral Oil, Hydrogenated Vegetable Oil, Isoh...</td>\n",
       "      <td>20</td>\n",
       "    </tr>\n",
       "    <tr>\n",
       "      <th>9</th>\n",
       "      <td>2922</td>\n",
       "      <td>The Cleansing Gel</td>\n",
       "      <td>La Mer</td>\n",
       "      <td>[Cocamidopropyl Hydroxysultaine, Sodium Cocoyl...</td>\n",
       "      <td>18</td>\n",
       "    </tr>\n",
       "  </tbody>\n",
       "</table>\n",
       "</div>"
      ],
      "text/plain": [
       "   index                                product        brand  \\\n",
       "0    270                                  Creme        Nivea   \n",
       "1   2927               The Oil Absorbing Lotion       La Mer   \n",
       "2   4427             The Moisturizing Gel Cream       La Mer   \n",
       "3   2703                The Moisturizing Lotion       La Mer   \n",
       "4   2843                               The Mist       La Mer   \n",
       "5   3947       The Brightening Infusion Intense       La Mer   \n",
       "6   4217         The Brightening Lotion Intense       La Mer   \n",
       "7  12571  Brilliance Brightening Lotion Intense       La Mer   \n",
       "8  13566         Black Sea Deep Hydration Cream  Edward Bess   \n",
       "9   2922                      The Cleansing Gel       La Mer   \n",
       "\n",
       "                                             ingList  commonIng  \n",
       "0  [Water, Mineral Oil, Petrolatum, Glycerin, Mic...         15  \n",
       "1  [Algae Extract, Butylene Glycol, Squalane, Pro...         24  \n",
       "2  [Algae Extract, Cyclopentasiloxane, Butylene G...         22  \n",
       "3  [Algae Extract, Cyclopentasiloxane, Glyceryl D...         25  \n",
       "4  [Water, Butylene Glycol, Glycerin, Sucrose, Al...         19  \n",
       "5  [Water, Alcohol Denat., Yeast Extract, Methyl ...         24  \n",
       "6  [Water, Yeast Extract, Isopentyldiol, Ascorbyl...         22  \n",
       "7  [Water, Yeast Extract, Isopentyldiol, Ascorbyl...         21  \n",
       "8  [Mineral Oil, Hydrogenated Vegetable Oil, Isoh...         20  \n",
       "9  [Cocamidopropyl Hydroxysultaine, Sodium Cocoyl...         18  "
      ]
     },
     "execution_count": 472,
     "metadata": {},
     "output_type": "execute_result"
    }
   ],
   "source": [
    "topTen = pd.DataFrame(recommended)\n",
    "commonItems(product, topTen, df)\n",
    "#recommended.to_csv('recommendations/RBO.csv')\n",
    "topTen.reset_index()"
   ]
  },
  {
   "cell_type": "markdown",
   "metadata": {},
   "source": [
    "### Find specific product similarity"
   ]
  },
  {
   "cell_type": "code",
   "execution_count": 481,
   "metadata": {},
   "outputs": [
    {
     "name": "stdout",
     "output_type": "stream",
     "text": [
      "RVal Similarity\n",
      "---------------------------------------------------------------\n",
      "Product: Black Sea Deep Hydration Cream\n",
      "Similarity score: 0.42389064933\n",
      "Rank: 9\n"
     ]
    }
   ],
   "source": [
    "prod_search_id = 13566\n",
    "sims = [v for i, v in enumerate(sim_scores_all) if v[0] == prod_search_id]\n",
    "\n",
    "sim_df = pd.DataFrame(sim_scores_all, columns=['index', 'score']).sort_values(['score'], ascending = False).reset_index().drop(['level_0'], axis = 1)\n",
    "index_return = sim_df[sim_df['index'] == prod_search_id].index.item() \n",
    "\n",
    "list1 = df.loc[idx]['ingList']\n",
    "list2 = df.loc[prod_search_id]['ingList']\n",
    "\n",
    "print('RVal Similarity')\n",
    "print('---------------------------------------------------------------')\n",
    "print('Product:', df.iloc[prod_search_id]['product'])\n",
    "print('Similarity score:', sims[0][1])\n",
    "print('Rank:', index_return)\n",
    "#print('Number of Ingredients', df.iloc[prod_search_id]['ingCount'])\n",
    "#print('Number of Common Ingredients', len(set(list1)&set(list2)))\n",
    "#print('Ingredients', df.iloc[prod_search_id]['ingList'])"
   ]
  },
  {
   "cell_type": "code",
   "execution_count": null,
   "metadata": {},
   "outputs": [],
   "source": []
  }
 ],
 "metadata": {
  "kernelspec": {
   "display_name": "Python 3",
   "language": "python",
   "name": "python3"
  },
  "language_info": {
   "codemirror_mode": {
    "name": "ipython",
    "version": 3
   },
   "file_extension": ".py",
   "mimetype": "text/x-python",
   "name": "python",
   "nbconvert_exporter": "python",
   "pygments_lexer": "ipython3",
   "version": "3.6.0"
  }
 },
 "nbformat": 4,
 "nbformat_minor": 2
}
