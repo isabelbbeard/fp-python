{
 "cells": [
  {
   "cell_type": "code",
   "execution_count": 60,
   "metadata": {},
   "outputs": [],
   "source": [
    "import pandas as pd\n",
    "import numpy as np\n",
    "\n",
    "from RBO import *\n",
    "from getRecommendations import *\n",
    "from dataPrep import *\n",
    "from sklearn.metrics import *\n",
    "\n",
    "from sklearn.metrics.pairwise import *"
   ]
  },
  {
   "cell_type": "markdown",
   "metadata": {},
   "source": [
    "# Read csvs"
   ]
  },
  {
   "cell_type": "markdown",
   "metadata": {},
   "source": [
    "These are the csv's we cleaned up and combined in step 01. "
   ]
  },
  {
   "cell_type": "code",
   "execution_count": 56,
   "metadata": {},
   "outputs": [
    {
     "name": "stdout",
     "output_type": "stream",
     "text": [
      "Number of products df:  15945\n",
      "Number of products: df2 15945\n",
      "Number of unique ingredients:  6899\n",
      "Number of total ingredients:  446618\n"
     ]
    }
   ],
   "source": [
    "ings = pd.read_csv('data/ings.csv', encoding = \"ISO-8859-1\", index_col=0)\n",
    "#prods = prods.drop_duplicates(subset = 'product')\n",
    "prods = pd.read_csv('data/prods.csv', encoding = \"ISO-8859-1\", index_col=0)\n",
    "#prods = prods.drop_duplicates(subset = 'product')\n",
    "prod_ing = pd.read_csv('data/prod_ing.csv', encoding = \"ISO-8859-1\", index_col=0)\n",
    "prod_ing = prod_ing.drop(['diff'], axis = 1)\n",
    "#prod_ing = prod_ing.sort_values(['id', 'order'])\n",
    "\n",
    "##Long dataframes\n",
    "df2_A = pd.read_csv('data/prodIng_Wide_01.csv', index_col=0)\n",
    "df2_B = pd.read_csv('data/prodIng_Wide_01.csv', index_col=0)\n",
    "df2_C = pd.read_csv('data/prodIng_Wide_01.csv', index_col=0)\n",
    "frames = [df2_A, df2_B, df2_C]\n",
    "df3 = pd.concat(frames)\n",
    "\n",
    "print('Number of products df: ', len(prods))\n",
    "print('Number of products: df2', len(df3))\n",
    "print('Number of unique ingredients: ', len(ings))\n",
    "print('Number of total ingredients: ', len(prod_ing))"
   ]
  },
  {
   "cell_type": "code",
   "execution_count": 52,
   "metadata": {},
   "outputs": [
    {
     "data": {
      "text/plain": [
       "15945"
      ]
     },
     "execution_count": 52,
     "metadata": {},
     "output_type": "execute_result"
    }
   ],
   "source": [
    "df = dataPrep(ings, prods, prod_ing)\n",
    "#df.to_csv('recommendations/recommender_products.csv')"
   ]
  },
  {
   "cell_type": "code",
   "execution_count": 4,
   "metadata": {},
   "outputs": [],
   "source": [
    "#df = df[df['ingCount'] > 1]  \n",
    "#df_cos = df\n",
    "#print('Number of products: ', len(df))"
   ]
  },
  {
   "cell_type": "markdown",
   "metadata": {},
   "source": [
    "# GET RECOMMENDATIONS\n"
   ]
  },
  {
   "cell_type": "code",
   "execution_count": 58,
   "metadata": {},
   "outputs": [
    {
     "name": "stdout",
     "output_type": "stream",
     "text": [
      "Number of ingredients: 24\n",
      "Ingredients ['Water', 'Aloe Barbadensis Leaf Juice', 'Hamamelis Virginiana (Witch Hazel) Leaf Extract', 'Aesculus Hippocastanum (Horse Chestnut) Seed Extract', 'Glycolic Acid', 'Ammonium Glycolate', 'Glycerin', 'Butylene Glycol', 'Hexylene Glycol', 'Fructose', 'Glucose', 'Sucrose', 'Urea', 'Dextrin', 'Alanine', 'Glutamic Acid', 'Aspartic Acid', 'Hexyl Nicotinate', 'Panax Ginseng Root Extract', 'Phenoxyethanol', 'Sodium Benzoate', 'Biotin', 'Polysorbate 20', 'Fragrance']\n"
     ]
    }
   ],
   "source": [
    "prodid =  1778    \n",
    "product ='Glow Tonic'\n",
    "ingTest = df.iloc[prodid]['ingList']\n",
    "ingCount = df.iloc[prodid]['ingCount']\n",
    "\n",
    "\n",
    "print('Number of ingredients:', ingCount)\n",
    "print('Ingredients', ingTest)"
   ]
  },
  {
   "cell_type": "markdown",
   "metadata": {},
   "source": [
    "## Cosine similarity"
   ]
  },
  {
   "cell_type": "markdown",
   "metadata": {},
   "source": [
    "Reference [here](https://www.datacamp.com/community/tutorials/recommender-systems-python)"
   ]
  },
  {
   "cell_type": "markdown",
   "metadata": {},
   "source": [
    "### Create dataframe of top ten similar products"
   ]
  },
  {
   "cell_type": "code",
   "execution_count": null,
   "metadata": {},
   "outputs": [],
   "source": [
    "%%time\n",
    "column = 'product'\n",
    "# Get the index of the product that matches the product name\n",
    "df['ing#List'] = df['ing#List'].astype(str)\n",
    "tfidf = TfidfVectorizer(binary = True, stop_words = None)\n",
    "tfidf_matrix = tfidf.fit_transform(df['ing#List'])\n",
    "cosine_sim = cosine_similarity(tfidf_matrix, tfidf_matrix)\n",
    "\n",
    "indices = pd.Series(df.index, index=df[column]).drop_duplicates()\n",
    "idx = indices[product]\n",
    "\n",
    "# Get the pairwsie similarity scores of all products with that product\n",
    "sim_scores_all = list(enumerate(cosine_sim[idx]))\n",
    "\n",
    "# Sort the products based on the similarity scores\n",
    "sim_scores_sorted = sorted(sim_scores_all, key=lambda x: x[1], reverse=True)\n",
    "\n",
    "# Get the scores of the 10 most similar products\n",
    "sim_scores_ten = sim_scores_sorted[1:11]\n",
    "\n",
    "# Get the product indices\n",
    "product_indices = [i[0] for i in sim_scores_ten]\n",
    "\n",
    "# Return the top 10 most similar products and their ingredients\n",
    "#return df[['product', 'brand','ingList']].iloc[product_indices]\n",
    "\n",
    "recommended = df[['product', 'brand','ingList']].iloc[product_indices]"
   ]
  },
  {
   "cell_type": "markdown",
   "metadata": {},
   "source": [
    "topTen = pd.DataFrame(recommended)\n",
    "commonItems(product, topTen, df)\n",
    "#recommended.to_csv('recommendations/COS.csv')\n",
    "topTen"
   ]
  },
  {
   "cell_type": "code",
   "execution_count": 118,
   "metadata": {},
   "outputs": [],
   "source": [
    "column = 'product'\n",
    "\n",
    "# Get the index of the product that matches the product name\n",
    "df['ing#List'] = df['ing#List'].astype(str)\n",
    "tfidf = TfidfVectorizer(stop_words=[0])\n",
    "tfidf_matrix = tfidf.fit_transform(df['ing#List'])\n",
    "cosine_sim = linear_kernel(tfidf_matrix, tfidf_matrix)\n",
    "\n",
    "indices = pd.Series(df.index, index=df[column]).drop_duplicates()\n",
    "idx = indices[product]\n",
    "\n",
    "# Get the pairwsie similarity scores of all products with that product\n",
    "sim_scores = list(enumerate(cosine_sim[idx]))\n",
    "\n",
    "df['scores'] = [sim_scores[i][1] for i in sim_scores]"
   ]
  },
  {
   "cell_type": "code",
   "execution_count": 149,
   "metadata": {},
   "outputs": [
    {
     "name": "stderr",
     "output_type": "stream",
     "text": [
      "c:\\users\\isabelbeard\\anaconda3\\lib\\site-packages\\ipykernel\\__main__.py:3: SettingWithCopyWarning: \n",
      "A value is trying to be set on a copy of a slice from a DataFrame\n",
      "\n",
      "See the caveats in the documentation: http://pandas.pydata.org/pandas-docs/stable/indexing.html#indexing-view-versus-copy\n",
      "  app.launch_new_instance()\n"
     ]
    }
   ],
   "source": [
    "df['scores'] = 0\n",
    "for i in range(0,10):\n",
    "    df.loc[i]['scores'] = sim_scores2[i]"
   ]
  },
  {
   "cell_type": "code",
   "execution_count": 152,
   "metadata": {},
   "outputs": [
    {
     "ename": "TypeError",
     "evalue": "list indices must be integers or slices, not numpy.float64",
     "output_type": "error",
     "traceback": [
      "\u001b[0;31m---------------------------------------------------------------------------\u001b[0m",
      "\u001b[0;31mTypeError\u001b[0m                                 Traceback (most recent call last)",
      "\u001b[0;32m<ipython-input-152-790608935186>\u001b[0m in \u001b[0;36m<module>\u001b[0;34m()\u001b[0m\n\u001b[1;32m      1\u001b[0m \u001b[0msim_scores2\u001b[0m \u001b[1;33m=\u001b[0m \u001b[1;33m[\u001b[0m\u001b[0mi\u001b[0m\u001b[1;33m[\u001b[0m\u001b[1;36m1\u001b[0m\u001b[1;33m]\u001b[0m \u001b[1;32mfor\u001b[0m \u001b[0mi\u001b[0m \u001b[1;32min\u001b[0m \u001b[0msim_scores\u001b[0m\u001b[1;33m]\u001b[0m\u001b[1;33m\u001b[0m\u001b[0m\n\u001b[0;32m----> 2\u001b[0;31m \u001b[0mdf\u001b[0m\u001b[1;33m[\u001b[0m\u001b[1;34m'scores'\u001b[0m\u001b[1;33m]\u001b[0m \u001b[1;33m=\u001b[0m \u001b[1;33m[\u001b[0m\u001b[0msim_scores2\u001b[0m\u001b[1;33m[\u001b[0m\u001b[0mi\u001b[0m\u001b[1;33m]\u001b[0m \u001b[1;32mfor\u001b[0m \u001b[0mi\u001b[0m \u001b[1;32min\u001b[0m \u001b[0msim_scores2\u001b[0m\u001b[1;33m]\u001b[0m\u001b[1;33m\u001b[0m\u001b[0m\n\u001b[0m",
      "\u001b[0;32m<ipython-input-152-790608935186>\u001b[0m in \u001b[0;36m<listcomp>\u001b[0;34m(.0)\u001b[0m\n\u001b[1;32m      1\u001b[0m \u001b[0msim_scores2\u001b[0m \u001b[1;33m=\u001b[0m \u001b[1;33m[\u001b[0m\u001b[0mi\u001b[0m\u001b[1;33m[\u001b[0m\u001b[1;36m1\u001b[0m\u001b[1;33m]\u001b[0m \u001b[1;32mfor\u001b[0m \u001b[0mi\u001b[0m \u001b[1;32min\u001b[0m \u001b[0msim_scores\u001b[0m\u001b[1;33m]\u001b[0m\u001b[1;33m\u001b[0m\u001b[0m\n\u001b[0;32m----> 2\u001b[0;31m \u001b[0mdf\u001b[0m\u001b[1;33m[\u001b[0m\u001b[1;34m'scores'\u001b[0m\u001b[1;33m]\u001b[0m \u001b[1;33m=\u001b[0m \u001b[1;33m[\u001b[0m\u001b[0msim_scores2\u001b[0m\u001b[1;33m[\u001b[0m\u001b[0mi\u001b[0m\u001b[1;33m]\u001b[0m \u001b[1;32mfor\u001b[0m \u001b[0mi\u001b[0m \u001b[1;32min\u001b[0m \u001b[0msim_scores2\u001b[0m\u001b[1;33m]\u001b[0m\u001b[1;33m\u001b[0m\u001b[0m\n\u001b[0m",
      "\u001b[0;31mTypeError\u001b[0m: list indices must be integers or slices, not numpy.float64"
     ]
    }
   ],
   "source": [
    "sim_scores2 = [i[1] for i in sim_scores]\n",
    "df['scores'] = [sim_scores2[i] for i in sim_scores2]"
   ]
  },
  {
   "cell_type": "code",
   "execution_count": 154,
   "metadata": {},
   "outputs": [
    {
     "ename": "TypeError",
     "evalue": "list indices must be integers or slices, not numpy.float64",
     "output_type": "error",
     "traceback": [
      "\u001b[0;31m---------------------------------------------------------------------------\u001b[0m",
      "\u001b[0;31mTypeError\u001b[0m                                 Traceback (most recent call last)",
      "\u001b[0;32m<ipython-input-154-4f662f3e26ce>\u001b[0m in \u001b[0;36m<module>\u001b[0;34m()\u001b[0m\n\u001b[0;32m----> 1\u001b[0;31m \u001b[1;33m[\u001b[0m\u001b[0mprint\u001b[0m\u001b[1;33m(\u001b[0m\u001b[0msim_scores2\u001b[0m\u001b[1;33m[\u001b[0m\u001b[0mi\u001b[0m\u001b[1;33m]\u001b[0m\u001b[1;33m)\u001b[0m \u001b[1;32mfor\u001b[0m \u001b[0mi\u001b[0m \u001b[1;32min\u001b[0m \u001b[0msim_scores2\u001b[0m\u001b[1;33m]\u001b[0m\u001b[1;33m\u001b[0m\u001b[0m\n\u001b[0m",
      "\u001b[0;32m<ipython-input-154-4f662f3e26ce>\u001b[0m in \u001b[0;36m<listcomp>\u001b[0;34m(.0)\u001b[0m\n\u001b[0;32m----> 1\u001b[0;31m \u001b[1;33m[\u001b[0m\u001b[0mprint\u001b[0m\u001b[1;33m(\u001b[0m\u001b[0msim_scores2\u001b[0m\u001b[1;33m[\u001b[0m\u001b[0mi\u001b[0m\u001b[1;33m]\u001b[0m\u001b[1;33m)\u001b[0m \u001b[1;32mfor\u001b[0m \u001b[0mi\u001b[0m \u001b[1;32min\u001b[0m \u001b[0msim_scores2\u001b[0m\u001b[1;33m]\u001b[0m\u001b[1;33m\u001b[0m\u001b[0m\n\u001b[0m",
      "\u001b[0;31mTypeError\u001b[0m: list indices must be integers or slices, not numpy.float64"
     ]
    }
   ],
   "source": [
    "[print(sim_scores2[i]) for i in sim_scores2]"
   ]
  },
  {
   "cell_type": "code",
   "execution_count": 129,
   "metadata": {},
   "outputs": [
    {
     "ename": "TypeError",
     "evalue": "list indices must be integers or slices, not str",
     "output_type": "error",
     "traceback": [
      "\u001b[0;31m---------------------------------------------------------------------------\u001b[0m",
      "\u001b[0;31mTypeError\u001b[0m                                 Traceback (most recent call last)",
      "\u001b[0;32m<ipython-input-129-22045643d204>\u001b[0m in \u001b[0;36m<module>\u001b[0;34m()\u001b[0m\n\u001b[1;32m      1\u001b[0m \u001b[1;32mfor\u001b[0m \u001b[0mi\u001b[0m \u001b[1;32min\u001b[0m \u001b[0mdf\u001b[0m\u001b[1;33m:\u001b[0m\u001b[1;33m\u001b[0m\u001b[0m\n\u001b[0;32m----> 2\u001b[0;31m     \u001b[0mdf\u001b[0m\u001b[1;33m.\u001b[0m\u001b[0miloc\u001b[0m\u001b[1;33m[\u001b[0m\u001b[0mi\u001b[0m\u001b[1;33m]\u001b[0m\u001b[1;33m[\u001b[0m\u001b[1;34m'scores'\u001b[0m\u001b[1;33m]\u001b[0m \u001b[1;33m=\u001b[0m \u001b[0msim_scores\u001b[0m\u001b[1;33m[\u001b[0m\u001b[0mi\u001b[0m\u001b[1;33m]\u001b[0m\u001b[1;33m[\u001b[0m\u001b[1;36m1\u001b[0m\u001b[1;33m]\u001b[0m\u001b[1;33m\u001b[0m\u001b[0m\n\u001b[0m",
      "\u001b[0;31mTypeError\u001b[0m: list indices must be integers or slices, not str"
     ]
    }
   ],
   "source": [
    "for i in df:\n",
    "    df.iloc[i]['scores'] = sim_scores[i][1]"
   ]
  },
  {
   "cell_type": "code",
   "execution_count": 34,
   "metadata": {},
   "outputs": [
    {
     "name": "stdout",
     "output_type": "stream",
     "text": [
      "                                                product            brand  \\\n",
      "14768                             Glow Tonic To-Go Pads             Pixi   \n",
      "8032   Revitalising Ginseng Toner With Glycolic Acid 5%   Bravura London   \n",
      "13600                         Tensage Eye Contour Cream         Biopelle   \n",
      "3350                  Juniper Oil-Free Face Moisturizer          TheBalm   \n",
      "812                    Glycolic Acid 7% Toning Solution     The Ordinary   \n",
      "9098                         Tensage Radiance Eye Cream         Biobelle   \n",
      "2866                       Ultra Facial Oil-Free Lotion          Kiehl's   \n",
      "10534                        Rehydrating Toning Essence  Su-Man Skincare   \n",
      "2962                             Cellular 3-Minute Peel       La Prairie   \n",
      "1760                              Skin Hydrating Masque      Dermalogica   \n",
      "\n",
      "                                                 ingList  \n",
      "14768  [Water, Glycolic Acid, Butylene Glycol, Glycer...  \n",
      "8032   [Water, Aloe Barbadensis (Aloe Vera) Gel, Hama...  \n",
      "13600  [Water, Snail Secretion Filtrate, C12-20 Acid ...  \n",
      "3350   [Water, Ethylhexyl Methoxycinnamate, Butylene ...  \n",
      "812    [Water, Glycolic Acid, Rosa Damascena Flower W...  \n",
      "9098   [Water, Snail Secretion Filtrate, C12-20 Acid ...  \n",
      "2866   [Water, Glycerin, Alcohol Denat., Isononyl Iso...  \n",
      "10534  [Water, Rosa Centifolia Flower Water, Hyaluron...  \n",
      "2962   [Water, Hydroxyethyl Acrylate/Sodium Acryloyld...  \n",
      "1760   [Water, Glycerin, Butylene Glycol, Squalane, D...  \n"
     ]
    }
   ],
   "source": [
    "column = 'product'\n",
    "\n",
    "# Get the index of the product that matches the product name\n",
    "df['ing#List'] = df['ing#List'].astype(str)\n",
    "tfidf = TfidfVectorizer(stop_words=[0])\n",
    "tfidf_matrix = tfidf.fit_transform(df['ing#List'])\n",
    "cosine_sim = linear_kernel(tfidf_matrix, tfidf_matrix)\n",
    "\n",
    "indices = pd.Series(df.index, index=df[column]).drop_duplicates()\n",
    "idx = indices[product]\n",
    "\n",
    "# Get the pairwsie similarity scores of all products with that product\n",
    "sim_scores = list(enumerate(cosine_sim[idx]))\n",
    "\n",
    "# Sort the products based on the similarity scores\n",
    "sim_scores = sorted(sim_scores, key=lambda x: x[1], reverse=True)\n",
    "\n",
    "# Get the scores of the 10 most similar products\n",
    "sim_scores = sim_scores[1:11]\n",
    "\n",
    "# Get the product indices\n",
    "product_indices = [i[0] for i in sim_scores]\n",
    "\n",
    "# Return the top 10 most similar products and their ingredients\n",
    "print(df[['product', 'brand','ingList']].iloc[product_indices])"
   ]
  },
  {
   "cell_type": "code",
   "execution_count": 42,
   "metadata": {},
   "outputs": [
    {
     "data": {
      "text/plain": [
       "0.9840813914260008"
      ]
     },
     "execution_count": 42,
     "metadata": {},
     "output_type": "execute_result"
    }
   ],
   "source": [
    "sim_scores[0][1]"
   ]
  },
  {
   "cell_type": "markdown",
   "metadata": {},
   "source": [
    "## RBO similarity measure\n",
    "\n",
    "Based on code found [here](https://github.com/dlukes/rbo/blob/master/rbo.py)"
   ]
  },
  {
   "cell_type": "code",
   "execution_count": 89,
   "metadata": {},
   "outputs": [],
   "source": [
    "#%%time\n",
    "\n",
    "recommended = get_RBO_recommendations(df, product, rbo_min)\n",
    "topTen = pd.DataFrame(recommended)\n",
    "commonItems(product, topTen, df)\n",
    "recommended.to_csv('recommendations/RBO.csv')"
   ]
  },
  {
   "cell_type": "code",
   "execution_count": 90,
   "metadata": {},
   "outputs": [
    {
     "data": {
      "text/html": [
       "<div>\n",
       "<table border=\"1\" class=\"dataframe\">\n",
       "  <thead>\n",
       "    <tr style=\"text-align: right;\">\n",
       "      <th></th>\n",
       "      <th>product</th>\n",
       "      <th>brand</th>\n",
       "      <th>ingList</th>\n",
       "      <th>commonIng</th>\n",
       "    </tr>\n",
       "  </thead>\n",
       "  <tbody>\n",
       "    <tr>\n",
       "      <th>14768</th>\n",
       "      <td>Glow Tonic To-Go Pads</td>\n",
       "      <td>Pixi</td>\n",
       "      <td>[Water, Glycolic Acid, Butylene Glycol, Glycer...</td>\n",
       "      <td>20</td>\n",
       "    </tr>\n",
       "    <tr>\n",
       "      <th>3743</th>\n",
       "      <td>Geranium Face Toner</td>\n",
       "      <td>TheBalm</td>\n",
       "      <td>[Water, Aloe Barbadensis Leaf Juice, Glycolic ...</td>\n",
       "      <td>8</td>\n",
       "    </tr>\n",
       "    <tr>\n",
       "      <th>3707</th>\n",
       "      <td>Alcohol-Free Face Toner</td>\n",
       "      <td>TheBalm</td>\n",
       "      <td>[Water, Hamamelis Virginiana (Witch Hazel) Lea...</td>\n",
       "      <td>9</td>\n",
       "    </tr>\n",
       "    <tr>\n",
       "      <th>8285</th>\n",
       "      <td>Clear Skin Hydrator Gel</td>\n",
       "      <td>Alpha-H</td>\n",
       "      <td>[Water, Hamamelis Virginiana (Witch Hazel) Lea...</td>\n",
       "      <td>6</td>\n",
       "    </tr>\n",
       "    <tr>\n",
       "      <th>694</th>\n",
       "      <td>Seaweed Cleansing Lotion</td>\n",
       "      <td>Mario Badescu</td>\n",
       "      <td>[Water, Aloe Barbadensis Leaf Juice, Propylene...</td>\n",
       "      <td>7</td>\n",
       "    </tr>\n",
       "    <tr>\n",
       "      <th>7541</th>\n",
       "      <td>Sensitive Facial Cleansing Towelettes with Cot...</td>\n",
       "      <td>Burt's Bees</td>\n",
       "      <td>[Water, Aloe Barbadensis Leaf Juice, Glycerin,...</td>\n",
       "      <td>8</td>\n",
       "    </tr>\n",
       "    <tr>\n",
       "      <th>1372</th>\n",
       "      <td>Facial Radiance Pads</td>\n",
       "      <td>First Aid Beauty</td>\n",
       "      <td>[Water, Aloe Barbadensis Leaf Juice, Glycerin,...</td>\n",
       "      <td>5</td>\n",
       "    </tr>\n",
       "    <tr>\n",
       "      <th>11875</th>\n",
       "      <td>Orchid Flower Aqua UV Sun Gel</td>\n",
       "      <td>The Orchid Skin</td>\n",
       "      <td>[Water, Aloe Barbadensis Leaf Juice, Glycerin,...</td>\n",
       "      <td>6</td>\n",
       "    </tr>\n",
       "    <tr>\n",
       "      <th>10629</th>\n",
       "      <td>Green Cover Sunscreen SPF50+ PA+++</td>\n",
       "      <td>Cosmo Monster</td>\n",
       "      <td>[Water, Aloe Barbadensis Leaf Juice, Glycerin,...</td>\n",
       "      <td>5</td>\n",
       "    </tr>\n",
       "    <tr>\n",
       "      <th>6271</th>\n",
       "      <td>Sensitive Facial Cleansing Towelettes</td>\n",
       "      <td>Burt's Bees</td>\n",
       "      <td>[Water, Aloe Barbadensis Leaf Juice, Glycerin,...</td>\n",
       "      <td>8</td>\n",
       "    </tr>\n",
       "  </tbody>\n",
       "</table>\n",
       "</div>"
      ],
      "text/plain": [
       "                                                 product             brand  \\\n",
       "14768                              Glow Tonic To-Go Pads              Pixi   \n",
       "3743                                 Geranium Face Toner           TheBalm   \n",
       "3707                             Alcohol-Free Face Toner           TheBalm   \n",
       "8285                             Clear Skin Hydrator Gel           Alpha-H   \n",
       "694                             Seaweed Cleansing Lotion     Mario Badescu   \n",
       "7541   Sensitive Facial Cleansing Towelettes with Cot...       Burt's Bees   \n",
       "1372                                Facial Radiance Pads  First Aid Beauty   \n",
       "11875                      Orchid Flower Aqua UV Sun Gel   The Orchid Skin   \n",
       "10629                 Green Cover Sunscreen SPF50+ PA+++     Cosmo Monster   \n",
       "6271               Sensitive Facial Cleansing Towelettes       Burt's Bees   \n",
       "\n",
       "                                                 ingList  commonIng  \n",
       "14768  [Water, Glycolic Acid, Butylene Glycol, Glycer...         20  \n",
       "3743   [Water, Aloe Barbadensis Leaf Juice, Glycolic ...          8  \n",
       "3707   [Water, Hamamelis Virginiana (Witch Hazel) Lea...          9  \n",
       "8285   [Water, Hamamelis Virginiana (Witch Hazel) Lea...          6  \n",
       "694    [Water, Aloe Barbadensis Leaf Juice, Propylene...          7  \n",
       "7541   [Water, Aloe Barbadensis Leaf Juice, Glycerin,...          8  \n",
       "1372   [Water, Aloe Barbadensis Leaf Juice, Glycerin,...          5  \n",
       "11875  [Water, Aloe Barbadensis Leaf Juice, Glycerin,...          6  \n",
       "10629  [Water, Aloe Barbadensis Leaf Juice, Glycerin,...          5  \n",
       "6271   [Water, Aloe Barbadensis Leaf Juice, Glycerin,...          8  "
      ]
     },
     "execution_count": 90,
     "metadata": {},
     "output_type": "execute_result"
    }
   ],
   "source": [
    "topTen"
   ]
  },
  {
   "cell_type": "code",
   "execution_count": null,
   "metadata": {},
   "outputs": [],
   "source": []
  },
  {
   "cell_type": "code",
   "execution_count": 3,
   "metadata": {},
   "outputs": [
    {
     "data": {
      "text/html": [
       "<div>\n",
       "<table border=\"1\" class=\"dataframe\">\n",
       "  <thead>\n",
       "    <tr style=\"text-align: right;\">\n",
       "      <th></th>\n",
       "      <th>cat_Acne&amp;BlemishTreatments</th>\n",
       "      <th>cat_Ampoules</th>\n",
       "      <th>cat_BodySkincare</th>\n",
       "      <th>cat_Cleansers</th>\n",
       "      <th>cat_CleansingOil&amp;Balms</th>\n",
       "      <th>cat_CleansingWater</th>\n",
       "      <th>cat_CleansingWipes</th>\n",
       "      <th>cat_Emulsion</th>\n",
       "      <th>cat_Essence</th>\n",
       "      <th>cat_ExfoliatingScrubs&amp;PeelingGel</th>\n",
       "      <th>...</th>\n",
       "      <th>ing_Zea Mays (Corn) Oil'</th>\n",
       "      <th>ing_Zea Mays (Corn) Seed Flour'</th>\n",
       "      <th>ing_Zea Mays (Corn) Starch'</th>\n",
       "      <th>ing_Zeolite'</th>\n",
       "      <th>ing_Zinc Oxide'</th>\n",
       "      <th>ing_Zinc Pyrithione'</th>\n",
       "      <th>ing_Zingiber Officinale (Ginger) Water'</th>\n",
       "      <th>ing_a</th>\n",
       "      <th>ing_o-Cymen-5-ol'</th>\n",
       "      <th>ing_sh-Polypeptide-11'</th>\n",
       "    </tr>\n",
       "  </thead>\n",
       "  <tbody>\n",
       "    <tr>\n",
       "      <th>0</th>\n",
       "      <td>0</td>\n",
       "      <td>0</td>\n",
       "      <td>0</td>\n",
       "      <td>0</td>\n",
       "      <td>0</td>\n",
       "      <td>0</td>\n",
       "      <td>0</td>\n",
       "      <td>0</td>\n",
       "      <td>0</td>\n",
       "      <td>0</td>\n",
       "      <td>...</td>\n",
       "      <td>0</td>\n",
       "      <td>0</td>\n",
       "      <td>0</td>\n",
       "      <td>0</td>\n",
       "      <td>0</td>\n",
       "      <td>0</td>\n",
       "      <td>0</td>\n",
       "      <td>0</td>\n",
       "      <td>0</td>\n",
       "      <td>0</td>\n",
       "    </tr>\n",
       "    <tr>\n",
       "      <th>1</th>\n",
       "      <td>0</td>\n",
       "      <td>0</td>\n",
       "      <td>0</td>\n",
       "      <td>0</td>\n",
       "      <td>0</td>\n",
       "      <td>0</td>\n",
       "      <td>0</td>\n",
       "      <td>0</td>\n",
       "      <td>0</td>\n",
       "      <td>0</td>\n",
       "      <td>...</td>\n",
       "      <td>0</td>\n",
       "      <td>0</td>\n",
       "      <td>0</td>\n",
       "      <td>0</td>\n",
       "      <td>0</td>\n",
       "      <td>0</td>\n",
       "      <td>0</td>\n",
       "      <td>0</td>\n",
       "      <td>0</td>\n",
       "      <td>0</td>\n",
       "    </tr>\n",
       "    <tr>\n",
       "      <th>2</th>\n",
       "      <td>0</td>\n",
       "      <td>0</td>\n",
       "      <td>0</td>\n",
       "      <td>0</td>\n",
       "      <td>0</td>\n",
       "      <td>0</td>\n",
       "      <td>0</td>\n",
       "      <td>0</td>\n",
       "      <td>0</td>\n",
       "      <td>0</td>\n",
       "      <td>...</td>\n",
       "      <td>0</td>\n",
       "      <td>0</td>\n",
       "      <td>0</td>\n",
       "      <td>0</td>\n",
       "      <td>0</td>\n",
       "      <td>0</td>\n",
       "      <td>0</td>\n",
       "      <td>0</td>\n",
       "      <td>0</td>\n",
       "      <td>0</td>\n",
       "    </tr>\n",
       "    <tr>\n",
       "      <th>3</th>\n",
       "      <td>0</td>\n",
       "      <td>0</td>\n",
       "      <td>0</td>\n",
       "      <td>1</td>\n",
       "      <td>0</td>\n",
       "      <td>0</td>\n",
       "      <td>1</td>\n",
       "      <td>0</td>\n",
       "      <td>0</td>\n",
       "      <td>0</td>\n",
       "      <td>...</td>\n",
       "      <td>0</td>\n",
       "      <td>0</td>\n",
       "      <td>0</td>\n",
       "      <td>0</td>\n",
       "      <td>0</td>\n",
       "      <td>0</td>\n",
       "      <td>0</td>\n",
       "      <td>0</td>\n",
       "      <td>0</td>\n",
       "      <td>0</td>\n",
       "    </tr>\n",
       "    <tr>\n",
       "      <th>4</th>\n",
       "      <td>0</td>\n",
       "      <td>0</td>\n",
       "      <td>0</td>\n",
       "      <td>0</td>\n",
       "      <td>0</td>\n",
       "      <td>0</td>\n",
       "      <td>0</td>\n",
       "      <td>0</td>\n",
       "      <td>0</td>\n",
       "      <td>0</td>\n",
       "      <td>...</td>\n",
       "      <td>0</td>\n",
       "      <td>0</td>\n",
       "      <td>0</td>\n",
       "      <td>0</td>\n",
       "      <td>0</td>\n",
       "      <td>0</td>\n",
       "      <td>0</td>\n",
       "      <td>0</td>\n",
       "      <td>0</td>\n",
       "      <td>0</td>\n",
       "    </tr>\n",
       "  </tbody>\n",
       "</table>\n",
       "<p>5 rows × 9315 columns</p>\n",
       "</div>"
      ],
      "text/plain": [
       "   cat_Acne&BlemishTreatments  cat_Ampoules  cat_BodySkincare  cat_Cleansers  \\\n",
       "0                           0             0                 0              0   \n",
       "1                           0             0                 0              0   \n",
       "2                           0             0                 0              0   \n",
       "3                           0             0                 0              1   \n",
       "4                           0             0                 0              0   \n",
       "\n",
       "   cat_CleansingOil&Balms  cat_CleansingWater  cat_CleansingWipes  \\\n",
       "0                       0                   0                   0   \n",
       "1                       0                   0                   0   \n",
       "2                       0                   0                   0   \n",
       "3                       0                   0                   1   \n",
       "4                       0                   0                   0   \n",
       "\n",
       "   cat_Emulsion  cat_Essence  cat_ExfoliatingScrubs&PeelingGel  \\\n",
       "0             0            0                                 0   \n",
       "1             0            0                                 0   \n",
       "2             0            0                                 0   \n",
       "3             0            0                                 0   \n",
       "4             0            0                                 0   \n",
       "\n",
       "            ...            ing_Zea Mays (Corn) Oil'  \\\n",
       "0           ...                                   0   \n",
       "1           ...                                   0   \n",
       "2           ...                                   0   \n",
       "3           ...                                   0   \n",
       "4           ...                                   0   \n",
       "\n",
       "   ing_Zea Mays (Corn) Seed Flour'  ing_Zea Mays (Corn) Starch'  ing_Zeolite'  \\\n",
       "0                                0                            0             0   \n",
       "1                                0                            0             0   \n",
       "2                                0                            0             0   \n",
       "3                                0                            0             0   \n",
       "4                                0                            0             0   \n",
       "\n",
       "   ing_Zinc Oxide'  ing_Zinc Pyrithione'  \\\n",
       "0                0                     0   \n",
       "1                0                     0   \n",
       "2                0                     0   \n",
       "3                0                     0   \n",
       "4                0                     0   \n",
       "\n",
       "   ing_Zingiber Officinale (Ginger) Water'  ing_a  ing_o-Cymen-5-ol'  \\\n",
       "0                                        0      0                  0   \n",
       "1                                        0      0                  0   \n",
       "2                                        0      0                  0   \n",
       "3                                        0      0                  0   \n",
       "4                                        0      0                  0   \n",
       "\n",
       "   ing_sh-Polypeptide-11'  \n",
       "0                       0  \n",
       "1                       0  \n",
       "2                       0  \n",
       "3                       0  \n",
       "4                       0  \n",
       "\n",
       "[5 rows x 9315 columns]"
      ]
     },
     "execution_count": 3,
     "metadata": {},
     "output_type": "execute_result"
    }
   ],
   "source": []
  },
  {
   "cell_type": "markdown",
   "metadata": {},
   "source": [
    "## Correlation coefficient\n",
    "Reference [here](https://docs.scipy.org/doc/scipy-0.14.0/reference/generated/scipy.stats.linregress.html)"
   ]
  },
  {
   "cell_type": "code",
   "execution_count": 107,
   "metadata": {},
   "outputs": [
    {
     "name": "stdout",
     "output_type": "stream",
     "text": [
      "Wall time: 31.7 s\n"
     ]
    }
   ],
   "source": [
    "%%time\n",
    "\n",
    "#%%time\n",
    "\n",
    "recommended = get_SIM_recommendations(df, df2, product)\n",
    "topTen = pd.DataFrame(recommended)\n",
    "commonItems(product, topTen, df)"
   ]
  },
  {
   "cell_type": "code",
   "execution_count": 108,
   "metadata": {},
   "outputs": [
    {
     "data": {
      "text/html": [
       "<div>\n",
       "<table border=\"1\" class=\"dataframe\">\n",
       "  <thead>\n",
       "    <tr style=\"text-align: right;\">\n",
       "      <th></th>\n",
       "      <th>product</th>\n",
       "      <th>brand</th>\n",
       "      <th>ingList</th>\n",
       "      <th>commonIng</th>\n",
       "    </tr>\n",
       "  </thead>\n",
       "  <tbody>\n",
       "    <tr>\n",
       "      <th>8032</th>\n",
       "      <td>Revitalising Ginseng Toner With Glycolic Acid 5%</td>\n",
       "      <td>Bravura London</td>\n",
       "      <td>[Water, Aloe Barbadensis (Aloe Vera) Gel, Hama...</td>\n",
       "      <td>17</td>\n",
       "    </tr>\n",
       "    <tr>\n",
       "      <th>14768</th>\n",
       "      <td>Glow Tonic To-Go Pads</td>\n",
       "      <td>Pixi</td>\n",
       "      <td>[Water, Glycolic Acid, Butylene Glycol, Glycer...</td>\n",
       "      <td>20</td>\n",
       "    </tr>\n",
       "    <tr>\n",
       "      <th>13600</th>\n",
       "      <td>Tensage Eye Contour Cream</td>\n",
       "      <td>Biopelle</td>\n",
       "      <td>[Water, Snail Secretion Filtrate, C12-20 Acid ...</td>\n",
       "      <td>14</td>\n",
       "    </tr>\n",
       "    <tr>\n",
       "      <th>10534</th>\n",
       "      <td>Rehydrating Toning Essence</td>\n",
       "      <td>Su-Man Skincare</td>\n",
       "      <td>[Water, Rosa Centifolia Flower Water, Hyaluron...</td>\n",
       "      <td>13</td>\n",
       "    </tr>\n",
       "    <tr>\n",
       "      <th>812</th>\n",
       "      <td>Glycolic Acid 7% Toning Solution</td>\n",
       "      <td>The Ordinary</td>\n",
       "      <td>[Water, Glycolic Acid, Rosa Damascena Flower W...</td>\n",
       "      <td>16</td>\n",
       "    </tr>\n",
       "    <tr>\n",
       "      <th>2962</th>\n",
       "      <td>Cellular 3-Minute Peel</td>\n",
       "      <td>La Prairie</td>\n",
       "      <td>[Water, Hydroxyethyl Acrylate/Sodium Acryloyld...</td>\n",
       "      <td>15</td>\n",
       "    </tr>\n",
       "    <tr>\n",
       "      <th>3350</th>\n",
       "      <td>Juniper Oil-Free Face Moisturizer</td>\n",
       "      <td>TheBalm</td>\n",
       "      <td>[Water, Ethylhexyl Methoxycinnamate, Butylene ...</td>\n",
       "      <td>14</td>\n",
       "    </tr>\n",
       "    <tr>\n",
       "      <th>1760</th>\n",
       "      <td>Skin Hydrating Masque</td>\n",
       "      <td>Dermalogica</td>\n",
       "      <td>[Water, Glycerin, Butylene Glycol, Squalane, D...</td>\n",
       "      <td>14</td>\n",
       "    </tr>\n",
       "    <tr>\n",
       "      <th>9098</th>\n",
       "      <td>Tensage Radiance Eye Cream</td>\n",
       "      <td>Biobelle</td>\n",
       "      <td>[Water, Snail Secretion Filtrate, C12-20 Acid ...</td>\n",
       "      <td>14</td>\n",
       "    </tr>\n",
       "    <tr>\n",
       "      <th>2866</th>\n",
       "      <td>Ultra Facial Oil-Free Lotion</td>\n",
       "      <td>Kiehl's</td>\n",
       "      <td>[Water, Glycerin, Alcohol Denat., Isononyl Iso...</td>\n",
       "      <td>13</td>\n",
       "    </tr>\n",
       "  </tbody>\n",
       "</table>\n",
       "</div>"
      ],
      "text/plain": [
       "                                                product            brand  \\\n",
       "8032   Revitalising Ginseng Toner With Glycolic Acid 5%   Bravura London   \n",
       "14768                             Glow Tonic To-Go Pads             Pixi   \n",
       "13600                         Tensage Eye Contour Cream         Biopelle   \n",
       "10534                        Rehydrating Toning Essence  Su-Man Skincare   \n",
       "812                    Glycolic Acid 7% Toning Solution     The Ordinary   \n",
       "2962                             Cellular 3-Minute Peel       La Prairie   \n",
       "3350                  Juniper Oil-Free Face Moisturizer          TheBalm   \n",
       "1760                              Skin Hydrating Masque      Dermalogica   \n",
       "9098                         Tensage Radiance Eye Cream         Biobelle   \n",
       "2866                       Ultra Facial Oil-Free Lotion          Kiehl's   \n",
       "\n",
       "                                                 ingList  commonIng  \n",
       "8032   [Water, Aloe Barbadensis (Aloe Vera) Gel, Hama...         17  \n",
       "14768  [Water, Glycolic Acid, Butylene Glycol, Glycer...         20  \n",
       "13600  [Water, Snail Secretion Filtrate, C12-20 Acid ...         14  \n",
       "10534  [Water, Rosa Centifolia Flower Water, Hyaluron...         13  \n",
       "812    [Water, Glycolic Acid, Rosa Damascena Flower W...         16  \n",
       "2962   [Water, Hydroxyethyl Acrylate/Sodium Acryloyld...         15  \n",
       "3350   [Water, Ethylhexyl Methoxycinnamate, Butylene ...         14  \n",
       "1760   [Water, Glycerin, Butylene Glycol, Squalane, D...         14  \n",
       "9098   [Water, Snail Secretion Filtrate, C12-20 Acid ...         14  \n",
       "2866   [Water, Glycerin, Alcohol Denat., Isononyl Iso...         13  "
      ]
     },
     "execution_count": 108,
     "metadata": {},
     "output_type": "execute_result"
    }
   ],
   "source": [
    "topTen"
   ]
  },
  {
   "cell_type": "code",
   "execution_count": 59,
   "metadata": {},
   "outputs": [],
   "source": [
    "A = df2[idx]\n",
    "B = df2[14768]\n",
    "C = df2[10688]"
   ]
  },
  {
   "cell_type": "code",
   "execution_count": 103,
   "metadata": {},
   "outputs": [
    {
     "data": {
      "text/plain": [
       "0.40721480938074389"
      ]
     },
     "execution_count": 103,
     "metadata": {},
     "output_type": "execute_result"
    }
   ],
   "source": [
    "from scipy.stats import linregress\n",
    "linregress(A, C)[2]"
   ]
  },
  {
   "cell_type": "code",
   "execution_count": 104,
   "metadata": {},
   "outputs": [
    {
     "name": "stdout",
     "output_type": "stream",
     "text": [
      "\n",
      "Distance measurements A and B\n",
      "-------------------------------------------------\n",
      "\n",
      "Euclidean distance is 4.12310562562\n",
      "Manhattan distance is 17\n",
      "Canberra distance is 17.0\n",
      "Cosine distance is 0.289330945481\n",
      "R Value distance is 0.709643306148\n"
     ]
    }
   ],
   "source": [
    "import scipy.spatial.distance as dist\n",
    "from scipy.stats.stats import pearsonr\n",
    "# Perform distance measurements \n",
    "print('\\nDistance measurements A and B')\n",
    "print('-------------------------------------------------')\n",
    "print('\\nEuclidean distance is', dist.euclidean(A, B))\n",
    "print('Manhattan distance is', dist.cityblock(A, B))\n",
    "print('Canberra distance is', dist.canberra(A, B))\n",
    "print('Cosine distance is', dist.cosine(A, B))\n",
    "print('R Value distance is', linregress(A, B)[2])"
   ]
  },
  {
   "cell_type": "code",
   "execution_count": 105,
   "metadata": {},
   "outputs": [
    {
     "name": "stdout",
     "output_type": "stream",
     "text": [
      "\n",
      "Distance measurements A and C\n",
      "-------------------------------------------------\n",
      "\n",
      "Euclidean distance is 4.58257569496\n",
      "Manhattan distance is 21\n",
      "Canberra distance is 21.0\n",
      "Cosine distance is 0.591751709536\n",
      "R Value distance is 0.407214809381\n"
     ]
    }
   ],
   "source": [
    "import scipy.spatial.distance as dist\n",
    "from scipy.stats.stats import pearsonr\n",
    "# Perform distance measurements \n",
    "print('\\nDistance measurements A and C')\n",
    "print('-------------------------------------------------')\n",
    "print('\\nEuclidean distance is', dist.euclidean(A, C))\n",
    "print('Manhattan distance is', dist.cityblock(A, C))\n",
    "print('Canberra distance is', dist.canberra(A, C))\n",
    "print('Cosine distance is', dist.cosine(A, C))\n",
    "slope, intercept, r_value, p_value, std_err = linregress(A, C)\n",
    "print('R Value distance is', linregress(A, C)[2])"
   ]
  },
  {
   "cell_type": "code",
   "execution_count": 106,
   "metadata": {},
   "outputs": [],
   "source": [
    "def get_RVal_recommendations(df, df2, product):\n",
    "    indices = pd.Series(df.index, index=df['product']).drop_duplicates()\n",
    "    idx = indices[product]\n",
    "    sim = [linregress(df2[idx], df2[i])[2] for i in df2]\n",
    "\n",
    "    sim_scores = list(enumerate(sim))\n",
    "\n",
    "    # Sort the products based on the similarity scores\n",
    "    sim_scores = sorted(sim_scores, key=lambda x: x[1], reverse=True)\n",
    "    #df['scores'] = [sim_scores[i][1] for i in sim_scores]\n",
    "\n",
    "    # Get the scores of the 10 most similar products\n",
    "    sim_scores = sim_scores[1:11]\n",
    "\n",
    "    # Get the product indices\n",
    "    product_indices = [i[0] for i in sim_scores]\n",
    "    \n",
    "    \n",
    "\n",
    "    return(df[['product', 'brand','ingList']].iloc[product_indices])"
   ]
  },
  {
   "cell_type": "code",
   "execution_count": 56,
   "metadata": {},
   "outputs": [],
   "source": [
    "def get_JAC_recommendations(df, df2, product):\n",
    "    indices = pd.Series(df.index, index=df['product']).drop_duplicates()\n",
    "    idx = indices[product]\n",
    "    sim = [jaccard_similarity_score(df2[idx], df2[i]) for i in df2]\n",
    "\n",
    "    sim_scores = list(enumerate(sim))\n",
    "\n",
    "    # Sort the products based on the similarity scores\n",
    "    sim_scores = sorted(sim_scores, key=lambda x: x[1], reverse=True)\n",
    "    #df['scores'] = [sim_scores[i][1] for i in sim_scores]\n",
    "\n",
    "    # Get the scores of the 10 most similar products\n",
    "    sim_scores = sim_scores[1:11]\n",
    "\n",
    "    # Get the product indices\n",
    "    product_indices = [i[0] for i in sim_scores]\n",
    "    \n",
    "    \n",
    "\n",
    "    return(df[['product', 'brand','ingList']].iloc[product_indices])"
   ]
  },
  {
   "cell_type": "code",
   "execution_count": 106,
   "metadata": {},
   "outputs": [],
   "source": []
  },
  {
   "cell_type": "code",
   "execution_count": null,
   "metadata": {},
   "outputs": [],
   "source": []
  }
 ],
 "metadata": {
  "kernelspec": {
   "display_name": "Python 3",
   "language": "python",
   "name": "python3"
  },
  "language_info": {
   "codemirror_mode": {
    "name": "ipython",
    "version": 3
   },
   "file_extension": ".py",
   "mimetype": "text/x-python",
   "name": "python",
   "nbconvert_exporter": "python",
   "pygments_lexer": "ipython3",
   "version": "3.6.0"
  }
 },
 "nbformat": 4,
 "nbformat_minor": 2
}
