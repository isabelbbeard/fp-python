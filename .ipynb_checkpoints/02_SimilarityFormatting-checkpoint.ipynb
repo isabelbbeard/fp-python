{
 "cells": [
  {
   "cell_type": "code",
   "execution_count": 133,
   "metadata": {},
   "outputs": [],
   "source": [
    "import pandas as pd\n",
    "import numpy as np\n",
    "\n",
    "from RBO import *\n",
    "from getRecommendations import *\n",
    "from dataPrep import *"
   ]
  },
  {
   "cell_type": "markdown",
   "metadata": {},
   "source": [
    "# Read csvs"
   ]
  },
  {
   "cell_type": "markdown",
   "metadata": {},
   "source": [
    "These are the csv's we cleaned up and combined in step 01. "
   ]
  },
  {
   "cell_type": "code",
   "execution_count": 134,
   "metadata": {},
   "outputs": [
    {
     "name": "stdout",
     "output_type": "stream",
     "text": [
      "Number of products:  15945\n",
      "Number of unique ingredients:  6899\n",
      "Number of total ingredients:  446618\n"
     ]
    }
   ],
   "source": [
    "ings = pd.read_csv('data/ings.csv', encoding = \"ISO-8859-1\", index_col=0)\n",
    "#prods = prods.drop_duplicates(subset = 'product')\n",
    "prods = pd.read_csv('data/prods.csv', encoding = \"ISO-8859-1\", index_col=0)\n",
    "#prods = prods.drop_duplicates(subset = 'product')\n",
    "prod_ing = pd.read_csv('data/prod_ing.csv', encoding = \"ISO-8859-1\", index_col=0)\n",
    "prod_ing = prod_ing.drop(['diff'], axis = 1)\n",
    "#prod_ing = prod_ing.sort_values(['id', 'order'])\n",
    "\n",
    "print('Number of products: ', len(prods))\n",
    "print('Number of unique ingredients: ', len(ings))\n",
    "print('Number of total ingredients: ', len(prod_ing))"
   ]
  },
  {
   "cell_type": "code",
   "execution_count": 135,
   "metadata": {},
   "outputs": [],
   "source": [
    "df = dataPrep(ings, prods, prod_ing)\n",
    "#df.to_csv('recommendations/recommender_products.csv')"
   ]
  },
  {
   "cell_type": "code",
   "execution_count": 136,
   "metadata": {},
   "outputs": [
    {
     "name": "stdout",
     "output_type": "stream",
     "text": [
      "Number of products:  15882\n"
     ]
    }
   ],
   "source": [
    "df = df[df['ingCount'] > 1]  \n",
    "#df_cos = df\n",
    "print('Number of products: ', len(df))"
   ]
  },
  {
   "cell_type": "code",
   "execution_count": 126,
   "metadata": {},
   "outputs": [],
   "source": [
    "def remove_values_from_list(the_list, val):\n",
    "   return [value for value in the_list if value != val]\n",
    "\n",
    "#remove water\n",
    "df['ing#List'] = [remove_values_from_list(i,0) for i in df['ing#List']]"
   ]
  },
  {
   "cell_type": "code",
   "execution_count": 127,
   "metadata": {},
   "outputs": [
    {
     "data": {
      "text/html": [
       "<div>\n",
       "<table border=\"1\" class=\"dataframe\">\n",
       "  <thead>\n",
       "    <tr style=\"text-align: right;\">\n",
       "      <th></th>\n",
       "      <th>ingList</th>\n",
       "      <th>ing#List</th>\n",
       "      <th>product</th>\n",
       "      <th>brand</th>\n",
       "      <th>price</th>\n",
       "      <th>rating</th>\n",
       "      <th>ratingsCount</th>\n",
       "      <th>cat_Acne&amp;BlemishTreatments</th>\n",
       "      <th>cat_Ampoules</th>\n",
       "      <th>cat_BodySkincare</th>\n",
       "      <th>...</th>\n",
       "      <th>note_Brightening</th>\n",
       "      <th>note_ContainsAlcohol</th>\n",
       "      <th>note_ContainsParaben</th>\n",
       "      <th>note_ContainsSulfate</th>\n",
       "      <th>note_ParabenFree</th>\n",
       "      <th>note_PromotesWoundHealing</th>\n",
       "      <th>note_SulfateFree</th>\n",
       "      <th>note_UVProtection</th>\n",
       "      <th>ingCount</th>\n",
       "      <th>id2</th>\n",
       "    </tr>\n",
       "  </thead>\n",
       "  <tbody>\n",
       "    <tr>\n",
       "      <th>13891</th>\n",
       "      <td>[Rosa Canina Fruit Oil, Prunus Amygdalus Dulci...</td>\n",
       "      <td>[713, 139]</td>\n",
       "      <td>100% Natural Rose Hip Oil Serum</td>\n",
       "      <td>Olivia Care</td>\n",
       "      <td>NaN</td>\n",
       "      <td>0.0</td>\n",
       "      <td>0</td>\n",
       "      <td>0</td>\n",
       "      <td>1</td>\n",
       "      <td>0</td>\n",
       "      <td>...</td>\n",
       "      <td>0</td>\n",
       "      <td>0</td>\n",
       "      <td>0</td>\n",
       "      <td>0</td>\n",
       "      <td>1</td>\n",
       "      <td>0</td>\n",
       "      <td>1</td>\n",
       "      <td>0</td>\n",
       "      <td>2</td>\n",
       "      <td>17476</td>\n",
       "    </tr>\n",
       "    <tr>\n",
       "      <th>12070</th>\n",
       "      <td>[Panax Ginseng Extract, Hyaluronic Acid]</td>\n",
       "      <td>[950, 604]</td>\n",
       "      <td>Wild Ginseng Ampoule</td>\n",
       "      <td>Eclado</td>\n",
       "      <td>NaN</td>\n",
       "      <td>0.0</td>\n",
       "      <td>0</td>\n",
       "      <td>0</td>\n",
       "      <td>1</td>\n",
       "      <td>0</td>\n",
       "      <td>...</td>\n",
       "      <td>0</td>\n",
       "      <td>0</td>\n",
       "      <td>0</td>\n",
       "      <td>0</td>\n",
       "      <td>1</td>\n",
       "      <td>1</td>\n",
       "      <td>1</td>\n",
       "      <td>0</td>\n",
       "      <td>2</td>\n",
       "      <td>14490</td>\n",
       "    </tr>\n",
       "    <tr>\n",
       "      <th>12080</th>\n",
       "      <td>[Panthenol, Carica Papaya (Papaya) Fruit Extract]</td>\n",
       "      <td>[26, 223]</td>\n",
       "      <td>Professional Formula Vitamin Ampoule</td>\n",
       "      <td>Eclado</td>\n",
       "      <td>NaN</td>\n",
       "      <td>0.0</td>\n",
       "      <td>0</td>\n",
       "      <td>0</td>\n",
       "      <td>1</td>\n",
       "      <td>0</td>\n",
       "      <td>...</td>\n",
       "      <td>0</td>\n",
       "      <td>0</td>\n",
       "      <td>0</td>\n",
       "      <td>0</td>\n",
       "      <td>1</td>\n",
       "      <td>1</td>\n",
       "      <td>1</td>\n",
       "      <td>0</td>\n",
       "      <td>2</td>\n",
       "      <td>14501</td>\n",
       "    </tr>\n",
       "  </tbody>\n",
       "</table>\n",
       "<p>3 rows × 47 columns</p>\n",
       "</div>"
      ],
      "text/plain": [
       "                                                 ingList    ing#List  \\\n",
       "13891  [Rosa Canina Fruit Oil, Prunus Amygdalus Dulci...  [713, 139]   \n",
       "12070           [Panax Ginseng Extract, Hyaluronic Acid]  [950, 604]   \n",
       "12080  [Panthenol, Carica Papaya (Papaya) Fruit Extract]   [26, 223]   \n",
       "\n",
       "                                    product        brand  price  rating  \\\n",
       "13891       100% Natural Rose Hip Oil Serum  Olivia Care    NaN     0.0   \n",
       "12070                  Wild Ginseng Ampoule       Eclado    NaN     0.0   \n",
       "12080  Professional Formula Vitamin Ampoule       Eclado    NaN     0.0   \n",
       "\n",
       "       ratingsCount  cat_Acne&BlemishTreatments  cat_Ampoules  \\\n",
       "13891             0                           0             1   \n",
       "12070             0                           0             1   \n",
       "12080             0                           0             1   \n",
       "\n",
       "       cat_BodySkincare  ...    note_Brightening  note_ContainsAlcohol  \\\n",
       "13891                 0  ...                   0                     0   \n",
       "12070                 0  ...                   0                     0   \n",
       "12080                 0  ...                   0                     0   \n",
       "\n",
       "       note_ContainsParaben  note_ContainsSulfate  note_ParabenFree  \\\n",
       "13891                     0                     0                 1   \n",
       "12070                     0                     0                 1   \n",
       "12080                     0                     0                 1   \n",
       "\n",
       "       note_PromotesWoundHealing  note_SulfateFree  note_UVProtection  \\\n",
       "13891                          0                 1                  0   \n",
       "12070                          1                 1                  0   \n",
       "12080                          1                 1                  0   \n",
       "\n",
       "       ingCount    id2  \n",
       "13891         2  17476  \n",
       "12070         2  14490  \n",
       "12080         2  14501  \n",
       "\n",
       "[3 rows x 47 columns]"
      ]
     },
     "execution_count": 127,
     "metadata": {},
     "output_type": "execute_result"
    }
   ],
   "source": [
    "df.sort_values(by='ingCount', ascending=True).head(3)"
   ]
  },
  {
   "cell_type": "markdown",
   "metadata": {},
   "source": [
    "# GET RECOMMENDATIONS\n"
   ]
  },
  {
   "cell_type": "code",
   "execution_count": null,
   "metadata": {},
   "outputs": [],
   "source": []
  },
  {
   "cell_type": "code",
   "execution_count": 128,
   "metadata": {},
   "outputs": [
    {
     "name": "stdout",
     "output_type": "stream",
     "text": [
      "['Water', 'Aloe Barbadensis Leaf Juice', 'Hamamelis Virginiana (Witch Hazel) Leaf Extract', 'Aesculus Hippocastanum (Horse Chestnut) Seed Extract', 'Glycolic Acid', 'Ammonium Glycolate', 'Glycerin', 'Butylene Glycol', 'Hexylene Glycol', 'Fructose', 'Glucose', 'Sucrose', 'Urea', 'Dextrin', 'Alanine', 'Glutamic Acid', 'Aspartic Acid', 'Hexyl Nicotinate', 'Panax Ginseng Root Extract', 'Phenoxyethanol', 'Sodium Benzoate', 'Biotin', 'Polysorbate 20', 'Fragrance']\n",
      "['Water', 'Glycolic Acid', 'Butylene Glycol', 'Glycerin', 'Sodium Hydroxide', 'Aloe Barbadensis Leaf Juice', 'Hamamelis Virginiana (Witch Hazel) Water', 'Aesculus Hippocastanum (Horse Chestnut) Seed Extract', 'Hexylene Glycol', 'Fructose', 'Glucose', 'Sucrose', 'Urea', 'Dextrin', 'Alanine', 'Glutamic Acid', 'Aspartic Acid', 'Hexyl Nicotinate', 'Panax Ginseng Root Extract', 'Ethylhexylglycerin', 'Disodium EDTA', 'Biotin', 'Panthenol', 'PPG-26-Buteth-26', 'PEG-40 Hydrogenated Castor Oil(Perfuming, Surfactant, Fragrance, Emulsifying, ', 'Phenoxyethanol', 'Fragrance', 'Caramel', 'CI 14700']\n"
     ]
    }
   ],
   "source": [
    "#id: 4350    \n",
    "product ='Glow Tonic'\n",
    "ingTest = df[df['product'].str.match(product)]\n",
    "ingTest = ingTest['ingList']\n",
    "print(*ingTest, sep='\\n')"
   ]
  },
  {
   "cell_type": "code",
   "execution_count": null,
   "metadata": {},
   "outputs": [],
   "source": []
  },
  {
   "cell_type": "markdown",
   "metadata": {},
   "source": [
    "## Cosine similarity"
   ]
  },
  {
   "cell_type": "markdown",
   "metadata": {},
   "source": [
    "Reference [here](https://www.datacamp.com/community/tutorials/recommender-systems-python)"
   ]
  },
  {
   "cell_type": "code",
   "execution_count": 116,
   "metadata": {},
   "outputs": [
    {
     "name": "stdout",
     "output_type": "stream",
     "text": [
      "Wall time: 23.5 s\n"
     ]
    }
   ],
   "source": [
    "%%time\n",
    "\n",
    "recommended = get_COS_recommendations(df,product)\n",
    "topTen = pd.DataFrame(recommended)\n",
    "commonItems(product, topTen, df)\n",
    "recommended.to_csv('recommendations/COS.csv')"
   ]
  },
  {
   "cell_type": "code",
   "execution_count": 117,
   "metadata": {},
   "outputs": [
    {
     "data": {
      "text/html": [
       "<div>\n",
       "<table border=\"1\" class=\"dataframe\">\n",
       "  <thead>\n",
       "    <tr style=\"text-align: right;\">\n",
       "      <th></th>\n",
       "      <th>product</th>\n",
       "      <th>brand</th>\n",
       "      <th>ingList</th>\n",
       "      <th>commonIng</th>\n",
       "    </tr>\n",
       "  </thead>\n",
       "  <tbody>\n",
       "    <tr>\n",
       "      <th>14768</th>\n",
       "      <td>Glow Tonic To-Go Pads</td>\n",
       "      <td>Pixi</td>\n",
       "      <td>[Water, Glycolic Acid, Butylene Glycol, Glycer...</td>\n",
       "      <td>20</td>\n",
       "    </tr>\n",
       "    <tr>\n",
       "      <th>8032</th>\n",
       "      <td>Revitalising Ginseng Toner With Glycolic Acid 5%</td>\n",
       "      <td>Bravura London</td>\n",
       "      <td>[Water, Aloe Barbadensis (Aloe Vera) Gel, Hama...</td>\n",
       "      <td>17</td>\n",
       "    </tr>\n",
       "    <tr>\n",
       "      <th>13600</th>\n",
       "      <td>Tensage Eye Contour Cream</td>\n",
       "      <td>Biopelle</td>\n",
       "      <td>[Water, Snail Secretion Filtrate, C12-20 Acid ...</td>\n",
       "      <td>14</td>\n",
       "    </tr>\n",
       "    <tr>\n",
       "      <th>3350</th>\n",
       "      <td>Juniper Oil-Free Face Moisturizer</td>\n",
       "      <td>TheBalm</td>\n",
       "      <td>[Water, Ethylhexyl Methoxycinnamate, Butylene ...</td>\n",
       "      <td>14</td>\n",
       "    </tr>\n",
       "    <tr>\n",
       "      <th>812</th>\n",
       "      <td>Glycolic Acid 7% Toning Solution</td>\n",
       "      <td>The Ordinary</td>\n",
       "      <td>[Water, Glycolic Acid, Rosa Damascena Flower W...</td>\n",
       "      <td>16</td>\n",
       "    </tr>\n",
       "    <tr>\n",
       "      <th>9098</th>\n",
       "      <td>Tensage Radiance Eye Cream</td>\n",
       "      <td>Biobelle</td>\n",
       "      <td>[Water, Snail Secretion Filtrate, C12-20 Acid ...</td>\n",
       "      <td>14</td>\n",
       "    </tr>\n",
       "    <tr>\n",
       "      <th>2866</th>\n",
       "      <td>Ultra Facial Oil-Free Lotion</td>\n",
       "      <td>Kiehl's</td>\n",
       "      <td>[Water, Glycerin, Alcohol Denat., Isononyl Iso...</td>\n",
       "      <td>13</td>\n",
       "    </tr>\n",
       "    <tr>\n",
       "      <th>10534</th>\n",
       "      <td>Rehydrating Toning Essence</td>\n",
       "      <td>Su-Man Skincare</td>\n",
       "      <td>[Water, Rosa Centifolia Flower Water, Hyaluron...</td>\n",
       "      <td>13</td>\n",
       "    </tr>\n",
       "    <tr>\n",
       "      <th>2962</th>\n",
       "      <td>Cellular 3-Minute Peel</td>\n",
       "      <td>La Prairie</td>\n",
       "      <td>[Water, Hydroxyethyl Acrylate/Sodium Acryloyld...</td>\n",
       "      <td>15</td>\n",
       "    </tr>\n",
       "    <tr>\n",
       "      <th>1760</th>\n",
       "      <td>Skin Hydrating Masque</td>\n",
       "      <td>Dermalogica</td>\n",
       "      <td>[Water, Glycerin, Butylene Glycol, Squalane, D...</td>\n",
       "      <td>14</td>\n",
       "    </tr>\n",
       "  </tbody>\n",
       "</table>\n",
       "</div>"
      ],
      "text/plain": [
       "                                                product            brand  \\\n",
       "14768                             Glow Tonic To-Go Pads             Pixi   \n",
       "8032   Revitalising Ginseng Toner With Glycolic Acid 5%   Bravura London   \n",
       "13600                         Tensage Eye Contour Cream         Biopelle   \n",
       "3350                  Juniper Oil-Free Face Moisturizer          TheBalm   \n",
       "812                    Glycolic Acid 7% Toning Solution     The Ordinary   \n",
       "9098                         Tensage Radiance Eye Cream         Biobelle   \n",
       "2866                       Ultra Facial Oil-Free Lotion          Kiehl's   \n",
       "10534                        Rehydrating Toning Essence  Su-Man Skincare   \n",
       "2962                             Cellular 3-Minute Peel       La Prairie   \n",
       "1760                              Skin Hydrating Masque      Dermalogica   \n",
       "\n",
       "                                                 ingList  commonIng  \n",
       "14768  [Water, Glycolic Acid, Butylene Glycol, Glycer...         20  \n",
       "8032   [Water, Aloe Barbadensis (Aloe Vera) Gel, Hama...         17  \n",
       "13600  [Water, Snail Secretion Filtrate, C12-20 Acid ...         14  \n",
       "3350   [Water, Ethylhexyl Methoxycinnamate, Butylene ...         14  \n",
       "812    [Water, Glycolic Acid, Rosa Damascena Flower W...         16  \n",
       "9098   [Water, Snail Secretion Filtrate, C12-20 Acid ...         14  \n",
       "2866   [Water, Glycerin, Alcohol Denat., Isononyl Iso...         13  \n",
       "10534  [Water, Rosa Centifolia Flower Water, Hyaluron...         13  \n",
       "2962   [Water, Hydroxyethyl Acrylate/Sodium Acryloyld...         15  \n",
       "1760   [Water, Glycerin, Butylene Glycol, Squalane, D...         14  "
      ]
     },
     "execution_count": 117,
     "metadata": {},
     "output_type": "execute_result"
    }
   ],
   "source": [
    "topTen"
   ]
  },
  {
   "cell_type": "code",
   "execution_count": null,
   "metadata": {},
   "outputs": [],
   "source": []
  },
  {
   "cell_type": "code",
   "execution_count": 92,
   "metadata": {},
   "outputs": [],
   "source": [
    "l1 = df.iloc[4350]['ing#List']\n",
    "l2 = df.iloc[449]['ing#List']"
   ]
  },
  {
   "cell_type": "markdown",
   "metadata": {},
   "source": [
    "## Average Overlap"
   ]
  },
  {
   "cell_type": "code",
   "execution_count": 137,
   "metadata": {},
   "outputs": [],
   "source": [
    "#df['ing#List'] = [ast.literal_eval(i) for i in df['ing#List']]\n",
    "indices = pd.Series(df.index, index=df['product']).drop_duplicates()\n",
    "idx = indices[product]\n",
    "\n",
    "itemLookup = df.loc[idx]['ing#List']\n",
    "items = df['ing#List']\n",
    "sim = [average_overlap(itemLookup,i) for i in items] ##change method here\n",
    "sim_scores = list(enumerate(sim))\n",
    "\n",
    "# Sort the products based on the similarity scores\n",
    "sim_scores = sorted(sim_scores, key=lambda x: x[1], reverse=True)\n",
    "\n",
    "# Get the scores of the 10 most similar products\n",
    "sim_scores = sim_scores[1:11]\n",
    "\n",
    "# Get the product indices\n",
    "product_indices = [i[0] for i in sim_scores]\n",
    "\n",
    "recommended = df[['product', 'brand','ingList']].iloc[product_indices]\n",
    "\n",
    "topTen = pd.DataFrame(recommended)\n",
    "commonItems(product, topTen, df)\n",
    "recommended.to_csv('recommendations/AO.csv')"
   ]
  },
  {
   "cell_type": "code",
   "execution_count": 138,
   "metadata": {},
   "outputs": [
    {
     "data": {
      "text/html": [
       "<div>\n",
       "<table border=\"1\" class=\"dataframe\">\n",
       "  <thead>\n",
       "    <tr style=\"text-align: right;\">\n",
       "      <th></th>\n",
       "      <th>product</th>\n",
       "      <th>brand</th>\n",
       "      <th>ingList</th>\n",
       "      <th>commonIng</th>\n",
       "    </tr>\n",
       "  </thead>\n",
       "  <tbody>\n",
       "    <tr>\n",
       "      <th>829</th>\n",
       "      <td>Thermal Spring Water</td>\n",
       "      <td>Avene</td>\n",
       "      <td>[Water, Nitrogen]</td>\n",
       "      <td>1</td>\n",
       "    </tr>\n",
       "    <tr>\n",
       "      <th>4666</th>\n",
       "      <td>Lathering Tube Soap</td>\n",
       "      <td>Bobbi Brown</td>\n",
       "      <td>[Water, nan]</td>\n",
       "      <td>1</td>\n",
       "    </tr>\n",
       "    <tr>\n",
       "      <th>6210</th>\n",
       "      <td>Thermal Spa Water</td>\n",
       "      <td>Vichy</td>\n",
       "      <td>[Water, Carbon Dioxide]</td>\n",
       "      <td>1</td>\n",
       "    </tr>\n",
       "    <tr>\n",
       "      <th>7536</th>\n",
       "      <td>3 to Go Thermal Spring Water Set</td>\n",
       "      <td>Avene</td>\n",
       "      <td>[Water, Nitrogen]</td>\n",
       "      <td>1</td>\n",
       "    </tr>\n",
       "    <tr>\n",
       "      <th>13786</th>\n",
       "      <td>Roman Chamomile Flower Waters</td>\n",
       "      <td>Starwest</td>\n",
       "      <td>[Water, Anthemis Nobilis Flower Oil]</td>\n",
       "      <td>1</td>\n",
       "    </tr>\n",
       "    <tr>\n",
       "      <th>15810</th>\n",
       "      <td>Mineral Spray Natural Mineral Water Facial Spray</td>\n",
       "      <td>Evian</td>\n",
       "      <td>[Water, Nitrogen]</td>\n",
       "      <td>1</td>\n",
       "    </tr>\n",
       "    <tr>\n",
       "      <th>14768</th>\n",
       "      <td>Glow Tonic To-Go Pads</td>\n",
       "      <td>Pixi</td>\n",
       "      <td>[Water, Glycolic Acid, Butylene Glycol, Glycer...</td>\n",
       "      <td>20</td>\n",
       "    </tr>\n",
       "    <tr>\n",
       "      <th>1622</th>\n",
       "      <td>Aloe Vera Toner</td>\n",
       "      <td>Mario Badescu</td>\n",
       "      <td>[Water, Algae Extract, Methylparaben]</td>\n",
       "      <td>1</td>\n",
       "    </tr>\n",
       "    <tr>\n",
       "      <th>2051</th>\n",
       "      <td>Serozinc</td>\n",
       "      <td>La Roche-Posay</td>\n",
       "      <td>[Water, Sodium Chloride, Zinc Sulfate]</td>\n",
       "      <td>1</td>\n",
       "    </tr>\n",
       "    <tr>\n",
       "      <th>3076</th>\n",
       "      <td>Acerola 100</td>\n",
       "      <td>DHC</td>\n",
       "      <td>[Water, Butylene Glycol, Malpighia Glabra (Ace...</td>\n",
       "      <td>2</td>\n",
       "    </tr>\n",
       "  </tbody>\n",
       "</table>\n",
       "</div>"
      ],
      "text/plain": [
       "                                                product           brand  \\\n",
       "829                                Thermal Spring Water           Avene   \n",
       "4666                                Lathering Tube Soap     Bobbi Brown   \n",
       "6210                                  Thermal Spa Water           Vichy   \n",
       "7536                   3 to Go Thermal Spring Water Set           Avene   \n",
       "13786                     Roman Chamomile Flower Waters        Starwest   \n",
       "15810  Mineral Spray Natural Mineral Water Facial Spray           Evian   \n",
       "14768                             Glow Tonic To-Go Pads            Pixi   \n",
       "1622                                    Aloe Vera Toner   Mario Badescu   \n",
       "2051                                           Serozinc  La Roche-Posay   \n",
       "3076                                        Acerola 100             DHC   \n",
       "\n",
       "                                                 ingList  commonIng  \n",
       "829                                    [Water, Nitrogen]          1  \n",
       "4666                                        [Water, nan]          1  \n",
       "6210                             [Water, Carbon Dioxide]          1  \n",
       "7536                                   [Water, Nitrogen]          1  \n",
       "13786               [Water, Anthemis Nobilis Flower Oil]          1  \n",
       "15810                                  [Water, Nitrogen]          1  \n",
       "14768  [Water, Glycolic Acid, Butylene Glycol, Glycer...         20  \n",
       "1622               [Water, Algae Extract, Methylparaben]          1  \n",
       "2051              [Water, Sodium Chloride, Zinc Sulfate]          1  \n",
       "3076   [Water, Butylene Glycol, Malpighia Glabra (Ace...          2  "
      ]
     },
     "execution_count": 138,
     "metadata": {},
     "output_type": "execute_result"
    }
   ],
   "source": [
    "topTen"
   ]
  },
  {
   "cell_type": "markdown",
   "metadata": {},
   "source": [
    "## RBO similarity measure\n",
    "\n",
    "Based on code found [here](https://github.com/dlukes/rbo/blob/master/rbo.py)"
   ]
  },
  {
   "cell_type": "code",
   "execution_count": 139,
   "metadata": {},
   "outputs": [],
   "source": [
    "#%%time\n",
    "\n",
    "recommended = get_RBO_recommendations(df, product, rbo_min)\n",
    "topTen = pd.DataFrame(recommended)\n",
    "commonItems(product, topTen, df)\n",
    "recommended.to_csv('recommendations/RBO.csv')"
   ]
  },
  {
   "cell_type": "code",
   "execution_count": 140,
   "metadata": {},
   "outputs": [
    {
     "data": {
      "text/html": [
       "<div>\n",
       "<table border=\"1\" class=\"dataframe\">\n",
       "  <thead>\n",
       "    <tr style=\"text-align: right;\">\n",
       "      <th></th>\n",
       "      <th>product</th>\n",
       "      <th>brand</th>\n",
       "      <th>ingList</th>\n",
       "      <th>commonIng</th>\n",
       "    </tr>\n",
       "  </thead>\n",
       "  <tbody>\n",
       "    <tr>\n",
       "      <th>14768</th>\n",
       "      <td>Glow Tonic To-Go Pads</td>\n",
       "      <td>Pixi</td>\n",
       "      <td>[Water, Glycolic Acid, Butylene Glycol, Glycer...</td>\n",
       "      <td>20</td>\n",
       "    </tr>\n",
       "    <tr>\n",
       "      <th>3743</th>\n",
       "      <td>Geranium Face Toner</td>\n",
       "      <td>TheBalm</td>\n",
       "      <td>[Water, Aloe Barbadensis Leaf Juice, Glycolic ...</td>\n",
       "      <td>8</td>\n",
       "    </tr>\n",
       "    <tr>\n",
       "      <th>3707</th>\n",
       "      <td>Alcohol-Free Face Toner</td>\n",
       "      <td>TheBalm</td>\n",
       "      <td>[Water, Hamamelis Virginiana (Witch Hazel) Lea...</td>\n",
       "      <td>9</td>\n",
       "    </tr>\n",
       "    <tr>\n",
       "      <th>8285</th>\n",
       "      <td>Clear Skin Hydrator Gel</td>\n",
       "      <td>Alpha-H</td>\n",
       "      <td>[Water, Hamamelis Virginiana (Witch Hazel) Lea...</td>\n",
       "      <td>6</td>\n",
       "    </tr>\n",
       "    <tr>\n",
       "      <th>694</th>\n",
       "      <td>Seaweed Cleansing Lotion</td>\n",
       "      <td>Mario Badescu</td>\n",
       "      <td>[Water, Aloe Barbadensis Leaf Juice, Propylene...</td>\n",
       "      <td>7</td>\n",
       "    </tr>\n",
       "    <tr>\n",
       "      <th>7541</th>\n",
       "      <td>Sensitive Facial Cleansing Towelettes with Cot...</td>\n",
       "      <td>Burt's Bees</td>\n",
       "      <td>[Water, Aloe Barbadensis Leaf Juice, Glycerin,...</td>\n",
       "      <td>8</td>\n",
       "    </tr>\n",
       "    <tr>\n",
       "      <th>1372</th>\n",
       "      <td>Facial Radiance Pads</td>\n",
       "      <td>First Aid Beauty</td>\n",
       "      <td>[Water, Aloe Barbadensis Leaf Juice, Glycerin,...</td>\n",
       "      <td>5</td>\n",
       "    </tr>\n",
       "    <tr>\n",
       "      <th>11875</th>\n",
       "      <td>Orchid Flower Aqua UV Sun Gel</td>\n",
       "      <td>The Orchid Skin</td>\n",
       "      <td>[Water, Aloe Barbadensis Leaf Juice, Glycerin,...</td>\n",
       "      <td>6</td>\n",
       "    </tr>\n",
       "    <tr>\n",
       "      <th>10629</th>\n",
       "      <td>Green Cover Sunscreen SPF50+ PA+++</td>\n",
       "      <td>Cosmo Monster</td>\n",
       "      <td>[Water, Aloe Barbadensis Leaf Juice, Glycerin,...</td>\n",
       "      <td>5</td>\n",
       "    </tr>\n",
       "    <tr>\n",
       "      <th>6271</th>\n",
       "      <td>Sensitive Facial Cleansing Towelettes</td>\n",
       "      <td>Burt's Bees</td>\n",
       "      <td>[Water, Aloe Barbadensis Leaf Juice, Glycerin,...</td>\n",
       "      <td>8</td>\n",
       "    </tr>\n",
       "  </tbody>\n",
       "</table>\n",
       "</div>"
      ],
      "text/plain": [
       "                                                 product             brand  \\\n",
       "14768                              Glow Tonic To-Go Pads              Pixi   \n",
       "3743                                 Geranium Face Toner           TheBalm   \n",
       "3707                             Alcohol-Free Face Toner           TheBalm   \n",
       "8285                             Clear Skin Hydrator Gel           Alpha-H   \n",
       "694                             Seaweed Cleansing Lotion     Mario Badescu   \n",
       "7541   Sensitive Facial Cleansing Towelettes with Cot...       Burt's Bees   \n",
       "1372                                Facial Radiance Pads  First Aid Beauty   \n",
       "11875                      Orchid Flower Aqua UV Sun Gel   The Orchid Skin   \n",
       "10629                 Green Cover Sunscreen SPF50+ PA+++     Cosmo Monster   \n",
       "6271               Sensitive Facial Cleansing Towelettes       Burt's Bees   \n",
       "\n",
       "                                                 ingList  commonIng  \n",
       "14768  [Water, Glycolic Acid, Butylene Glycol, Glycer...         20  \n",
       "3743   [Water, Aloe Barbadensis Leaf Juice, Glycolic ...          8  \n",
       "3707   [Water, Hamamelis Virginiana (Witch Hazel) Lea...          9  \n",
       "8285   [Water, Hamamelis Virginiana (Witch Hazel) Lea...          6  \n",
       "694    [Water, Aloe Barbadensis Leaf Juice, Propylene...          7  \n",
       "7541   [Water, Aloe Barbadensis Leaf Juice, Glycerin,...          8  \n",
       "1372   [Water, Aloe Barbadensis Leaf Juice, Glycerin,...          5  \n",
       "11875  [Water, Aloe Barbadensis Leaf Juice, Glycerin,...          6  \n",
       "10629  [Water, Aloe Barbadensis Leaf Juice, Glycerin,...          5  \n",
       "6271   [Water, Aloe Barbadensis Leaf Juice, Glycerin,...          8  "
      ]
     },
     "execution_count": 140,
     "metadata": {},
     "output_type": "execute_result"
    }
   ],
   "source": [
    "topTen"
   ]
  },
  {
   "cell_type": "code",
   "execution_count": null,
   "metadata": {},
   "outputs": [],
   "source": []
  }
 ],
 "metadata": {
  "kernelspec": {
   "display_name": "Python 3",
   "language": "python",
   "name": "python3"
  },
  "language_info": {
   "codemirror_mode": {
    "name": "ipython",
    "version": 3
   },
   "file_extension": ".py",
   "mimetype": "text/x-python",
   "name": "python",
   "nbconvert_exporter": "python",
   "pygments_lexer": "ipython3",
   "version": "3.6.0"
  }
 },
 "nbformat": 4,
 "nbformat_minor": 2
}
